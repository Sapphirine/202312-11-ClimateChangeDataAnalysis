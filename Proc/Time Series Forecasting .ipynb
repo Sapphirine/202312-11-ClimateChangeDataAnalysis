{
 "cells": [
  {
   "cell_type": "code",
   "execution_count": 1,
   "id": "2dc5be29",
   "metadata": {},
   "outputs": [],
   "source": [
    "import time\n",
    "import pandas as pd\n",
    "import numpy as np\n",
    "import matplotlib.pyplot as plt\n",
    "import seaborn as sns\n",
    "np.set_printoptions(precision=3, suppress=True)"
   ]
  },
  {
   "cell_type": "code",
   "execution_count": 2,
   "id": "595066c8",
   "metadata": {},
   "outputs": [
    {
     "data": {
      "text/html": [
       "        <script type=\"text/javascript\">\n",
       "        window.PlotlyConfig = {MathJaxConfig: 'local'};\n",
       "        if (window.MathJax && window.MathJax.Hub && window.MathJax.Hub.Config) {window.MathJax.Hub.Config({SVG: {font: \"STIX-Web\"}});}\n",
       "        if (typeof require !== 'undefined') {\n",
       "        require.undef(\"plotly\");\n",
       "        requirejs.config({\n",
       "            paths: {\n",
       "                'plotly': ['https://cdn.plot.ly/plotly-2.12.1.min']\n",
       "            }\n",
       "        });\n",
       "        require(['plotly'], function(Plotly) {\n",
       "            window._Plotly = Plotly;\n",
       "        });\n",
       "        }\n",
       "        </script>\n",
       "        "
      ]
     },
     "metadata": {},
     "output_type": "display_data"
    }
   ],
   "source": [
    "import plotly.express as px\n",
    "import plotly.offline as py\n",
    "from plotly.offline import iplot, init_notebook_mode\n",
    "init_notebook_mode(connected=True)\n",
    "import warnings\n",
    "warnings.filterwarnings(\"ignore\")"
   ]
  },
  {
   "cell_type": "code",
   "execution_count": 3,
   "id": "7afb5886",
   "metadata": {},
   "outputs": [],
   "source": [
    "import tensorflow as tf\n",
    "import tensorflow.keras as keras\n",
    "import keras.layers as layers\n",
    "\n",
    "from sklearn.model_selection import train_test_split\n",
    "from sklearn.preprocessing import MinMaxScaler"
   ]
  },
  {
   "cell_type": "code",
   "execution_count": 4,
   "id": "53146927",
   "metadata": {},
   "outputs": [],
   "source": [
    "import gc\n"
   ]
  },
  {
   "cell_type": "code",
   "execution_count": 5,
   "id": "22b6f579",
   "metadata": {},
   "outputs": [],
   "source": [
    "paths = ['/Users/ritwikgoel/Documents/Columbia/BigData/Project/archive/NW_Ground_Stations/NW_Ground_Stations/NW_Ground_Stations_2016.csv',\n",
    "         '/Users/ritwikgoel/Documents/Columbia/BigData/Project/archive/NW_Ground_Stations/NW_Ground_Stations/NW_Ground_Stations_2017.csv',\n",
    "         '/Users/ritwikgoel/Documents/Columbia/BigData/Project/archive/NW_Ground_Stations/NW_Ground_Stations/NW_Ground_Stations_2018.csv']"
   ]
  },
  {
   "cell_type": "code",
   "execution_count": 6,
   "id": "85f58e98",
   "metadata": {},
   "outputs": [],
   "source": [
    "num_cols = ['height_sta','dd', 'ff', 'precip','hu', 'td', 't', 'psl']\n",
    "dtype = dict([(k,'float32') for k in num_cols])"
   ]
  },
  {
   "cell_type": "code",
   "execution_count": 7,
   "id": "49e773a8",
   "metadata": {},
   "outputs": [],
   "source": [
    "def open_csv(path:str):\n",
    "    df =  pd.read_csv(\n",
    "      path,\n",
    "      header = 0,\n",
    "      dtype = dtype\n",
    "  )\n",
    "    return df"
   ]
  },
  {
   "cell_type": "code",
   "execution_count": 8,
   "id": "e49169e2",
   "metadata": {},
   "outputs": [],
   "source": [
    "weather_data = pd.concat((open_csv(_) for _ in paths))\n"
   ]
  },
  {
   "cell_type": "code",
   "execution_count": 9,
   "id": "57703fb1",
   "metadata": {},
   "outputs": [],
   "source": [
    "weather_data = weather_data.loc[weather_data['lat']>48.4]\n",
    "weather_data = weather_data.loc[weather_data['lon']>-1.6]\n"
   ]
  },
  {
   "cell_type": "code",
   "execution_count": 10,
   "id": "32233269",
   "metadata": {},
   "outputs": [],
   "source": [
    "weather_data['date'] = pd.to_datetime(weather_data['date'])\n"
   ]
  },
  {
   "cell_type": "code",
   "execution_count": 11,
   "id": "e12f28d4",
   "metadata": {},
   "outputs": [],
   "source": [
    "values = {_:np.mean(weather_data[_]) for _ in num_cols}\n",
    "weather_data = weather_data.fillna(value = values)\n"
   ]
  },
  {
   "cell_type": "code",
   "execution_count": 12,
   "id": "3484b7a3",
   "metadata": {},
   "outputs": [
    {
     "name": "stdout",
     "output_type": "stream",
     "text": [
      "<class 'pandas.core.frame.DataFrame'>\n",
      "Index: 19316894 entries, 0 to 22034570\n",
      "Data columns (total 12 columns):\n",
      " #   Column      Dtype         \n",
      "---  ------      -----         \n",
      " 0   number_sta  int64         \n",
      " 1   lat         float64       \n",
      " 2   lon         float64       \n",
      " 3   height_sta  float32       \n",
      " 4   date        datetime64[ns]\n",
      " 5   dd          float32       \n",
      " 6   ff          float32       \n",
      " 7   precip      float32       \n",
      " 8   hu          float32       \n",
      " 9   td          float32       \n",
      " 10  t           float32       \n",
      " 11  psl         float32       \n",
      "dtypes: datetime64[ns](1), float32(8), float64(2), int64(1)\n",
      "memory usage: 1.3 GB\n"
     ]
    }
   ],
   "source": [
    "weather_data.info()\n"
   ]
  },
  {
   "cell_type": "code",
   "execution_count": 13,
   "id": "5cfcc831",
   "metadata": {},
   "outputs": [
    {
     "data": {
      "text/html": [
       "<div>\n",
       "<style scoped>\n",
       "    .dataframe tbody tr th:only-of-type {\n",
       "        vertical-align: middle;\n",
       "    }\n",
       "\n",
       "    .dataframe tbody tr th {\n",
       "        vertical-align: top;\n",
       "    }\n",
       "\n",
       "    .dataframe thead th {\n",
       "        text-align: right;\n",
       "    }\n",
       "</style>\n",
       "<table border=\"1\" class=\"dataframe\">\n",
       "  <thead>\n",
       "    <tr style=\"text-align: right;\">\n",
       "      <th></th>\n",
       "      <th>number_sta</th>\n",
       "      <th>lat</th>\n",
       "      <th>lon</th>\n",
       "      <th>height_sta</th>\n",
       "      <th>date</th>\n",
       "      <th>dd</th>\n",
       "      <th>ff</th>\n",
       "      <th>precip</th>\n",
       "      <th>hu</th>\n",
       "      <th>td</th>\n",
       "      <th>t</th>\n",
       "      <th>psl</th>\n",
       "    </tr>\n",
       "  </thead>\n",
       "  <tbody>\n",
       "    <tr>\n",
       "      <th>0</th>\n",
       "      <td>14066001</td>\n",
       "      <td>49.33</td>\n",
       "      <td>-0.43</td>\n",
       "      <td>2.0</td>\n",
       "      <td>2016-01-01</td>\n",
       "      <td>210.000000</td>\n",
       "      <td>4.400000</td>\n",
       "      <td>0.0</td>\n",
       "      <td>91.000000</td>\n",
       "      <td>278.450012</td>\n",
       "      <td>279.850006</td>\n",
       "      <td>101700.804688</td>\n",
       "    </tr>\n",
       "    <tr>\n",
       "      <th>1</th>\n",
       "      <td>14126001</td>\n",
       "      <td>49.15</td>\n",
       "      <td>0.04</td>\n",
       "      <td>125.0</td>\n",
       "      <td>2016-01-01</td>\n",
       "      <td>189.464035</td>\n",
       "      <td>3.816443</td>\n",
       "      <td>0.0</td>\n",
       "      <td>99.000000</td>\n",
       "      <td>278.350006</td>\n",
       "      <td>278.450012</td>\n",
       "      <td>101700.804688</td>\n",
       "    </tr>\n",
       "    <tr>\n",
       "      <th>2</th>\n",
       "      <td>14137001</td>\n",
       "      <td>49.18</td>\n",
       "      <td>-0.46</td>\n",
       "      <td>67.0</td>\n",
       "      <td>2016-01-01</td>\n",
       "      <td>220.000000</td>\n",
       "      <td>0.600000</td>\n",
       "      <td>0.0</td>\n",
       "      <td>92.000000</td>\n",
       "      <td>276.450012</td>\n",
       "      <td>277.649994</td>\n",
       "      <td>102360.000000</td>\n",
       "    </tr>\n",
       "    <tr>\n",
       "      <th>3</th>\n",
       "      <td>14216001</td>\n",
       "      <td>48.93</td>\n",
       "      <td>-0.15</td>\n",
       "      <td>155.0</td>\n",
       "      <td>2016-01-01</td>\n",
       "      <td>220.000000</td>\n",
       "      <td>1.900000</td>\n",
       "      <td>0.0</td>\n",
       "      <td>95.000000</td>\n",
       "      <td>278.250000</td>\n",
       "      <td>278.950012</td>\n",
       "      <td>101700.804688</td>\n",
       "    </tr>\n",
       "    <tr>\n",
       "      <th>4</th>\n",
       "      <td>14296001</td>\n",
       "      <td>48.80</td>\n",
       "      <td>-1.03</td>\n",
       "      <td>339.0</td>\n",
       "      <td>2016-01-01</td>\n",
       "      <td>189.464035</td>\n",
       "      <td>3.816443</td>\n",
       "      <td>0.0</td>\n",
       "      <td>80.991806</td>\n",
       "      <td>280.882233</td>\n",
       "      <td>278.350006</td>\n",
       "      <td>101700.804688</td>\n",
       "    </tr>\n",
       "  </tbody>\n",
       "</table>\n",
       "</div>"
      ],
      "text/plain": [
       "   number_sta    lat   lon  height_sta       date          dd        ff  \\\n",
       "0    14066001  49.33 -0.43         2.0 2016-01-01  210.000000  4.400000   \n",
       "1    14126001  49.15  0.04       125.0 2016-01-01  189.464035  3.816443   \n",
       "2    14137001  49.18 -0.46        67.0 2016-01-01  220.000000  0.600000   \n",
       "3    14216001  48.93 -0.15       155.0 2016-01-01  220.000000  1.900000   \n",
       "4    14296001  48.80 -1.03       339.0 2016-01-01  189.464035  3.816443   \n",
       "\n",
       "   precip         hu          td           t            psl  \n",
       "0     0.0  91.000000  278.450012  279.850006  101700.804688  \n",
       "1     0.0  99.000000  278.350006  278.450012  101700.804688  \n",
       "2     0.0  92.000000  276.450012  277.649994  102360.000000  \n",
       "3     0.0  95.000000  278.250000  278.950012  101700.804688  \n",
       "4     0.0  80.991806  280.882233  278.350006  101700.804688  "
      ]
     },
     "execution_count": 13,
     "metadata": {},
     "output_type": "execute_result"
    }
   ],
   "source": [
    "weather_data.head()\n"
   ]
  },
  {
   "cell_type": "code",
   "execution_count": 14,
   "id": "bf548ba5",
   "metadata": {},
   "outputs": [],
   "source": [
    "loc = weather_data['number_sta'].sample(1).values[0]\n"
   ]
  },
  {
   "cell_type": "code",
   "execution_count": 15,
   "id": "7c8ecb04",
   "metadata": {},
   "outputs": [],
   "source": [
    "station_id = np.unique(weather_data['number_sta'])\n",
    "coordinates = [\n",
    "    [\n",
    "        np.mean(weather_data.loc[weather_data['number_sta'] == k,'lat']),\n",
    "        np.mean(weather_data.loc[weather_data['number_sta'] == k,'lon'])\n",
    "    ]\n",
    "                for k in station_id\n",
    "]\n",
    "stations = {k:v for k,v in zip(station_id,coordinates)}"
   ]
  },
  {
   "cell_type": "code",
   "execution_count": 16,
   "id": "4a4219fb",
   "metadata": {},
   "outputs": [],
   "source": [
    "annual_rainfall = weather_data.groupby([weather_data['date'].dt.year,'number_sta'])['precip'].sum()\n",
    "annual_rainfall = annual_rainfall.reset_index(1).groupby('number_sta')['precip'].mean()"
   ]
  },
  {
   "cell_type": "code",
   "execution_count": 17,
   "id": "1eac3cf4",
   "metadata": {},
   "outputs": [
    {
     "name": "stdout",
     "output_type": "stream",
     "text": [
      "Average annual precipitation in mm\n"
     ]
    },
    {
     "data": {
      "application/vnd.plotly.v1+json": {
       "config": {
        "plotlyServerURL": "https://plot.ly"
       },
       "data": [
        {
         "hovertemplate": "lat=%{lat}<br>lon=%{lon}<br>precip=%{marker.color}<extra></extra>",
         "lat": [
          49.33102091483373,
          49.148704868893084,
          49.18000000000001,
          48.929109486940426,
          48.7974538669353,
          48.92896711736321,
          49.168723618415534,
          49.10200000000001,
          48.89000000000003,
          49.349750570886705,
          49.27999999999998,
          49.36101723604561,
          48.98974422424636,
          49.05999999999997,
          48.85025558675718,
          49.10024642551917,
          49.36026463977289,
          49.02872265468873,
          49.223553514416594,
          48.80025463297962,
          48.46025562473551,
          48.72600000000001,
          48.70700000000003,
          48.48025611433287,
          48.65026201505615,
          48.40897707416507,
          48.47900000000003,
          49.036713720974895,
          49.05100000000001,
          49.69923299167279,
          49.650768250732575,
          48.860510822412,
          48.578723322909795,
          48.561035056268146,
          49.401016747386905,
          48.75811366468372,
          49.51948823112291,
          48.40806456133933,
          48.452,
          49.30897130395918,
          49.62076734903935,
          48.448976721126414,
          48.71950045432068,
          48.75,
          48.72051698463507,
          48.75896253264364,
          48.710256716338016,
          48.724000000000004,
          48.50098599370354,
          48.55799391348897,
          48.91077316939239,
          48.58871996230865,
          50.86999999999997,
          50.75025122526774,
          50.73076749878003,
          50.96000000000003,
          50.51102288134621,
          49.38076667199928,
          49.73299999999996,
          49.53948942433865,
          49.50948929613582,
          49.93051169546057,
          49.65000000000002,
          49.49102125554974,
          49.53076824437266,
          49.509743493315604,
          49.84000000000002,
          49.81500000000002,
          48.96115985099338,
          48.8402694166379,
          48.961988117604456,
          48.859849752586584,
          48.868000000000016,
          48.707000000000036,
          50.13897802649611,
          50.18851313153707,
          49.95924190375947,
          48.52669971230617,
          49.10799999999997
         ],
         "legendgroup": "",
         "lon": [
          -0.4302552287084249,
          0.040518052442762006,
          -0.45897794022463356,
          -0.14955474347023798,
          -1.0337513775050746,
          -0.6907746619775755,
          0.22923417104932697,
          -0.7650000000000005,
          -0.38898463004975864,
          -0.7707482873398611,
          -0.5611247592038822,
          0.169237072965799,
          -0.009744224246350854,
          -0.23102578018995937,
          -0.899744413242853,
          0.5592607234425891,
          0.3907939193185852,
          1.2205109381245123,
          1.2800000000000005,
          1.4907638989389655,
          1.500255624735491,
          1.3870000000000002,
          1.1730000000000007,
          1.0107683429986019,
          1.3699999999999999,
          1.5587213427063684,
          -1.1299999999999994,
          -1.2983568604874316,
          -1.0399999999999996,
          -1.2687216527878968,
          -1.4610243343101033,
          -1.5707662336179733,
          -1.469999999999999,
          -1.0992237077988922,
          -1.169491626306544,
          -0.844147022174024,
          -1.5092323466843565,
          -0.440483859665159,
          -0.18299999999999988,
          1.8797428259897973,
          1.7902557830131127,
          0.11,
          0.010249772839676574,
          -0.59,
          -0.261033969270117,
          0.6610374673563777,
          0.2997432836620105,
          -0.73,
          -0.7007394952776667,
          0.5294984783722406,
          0.2487113843459963,
          0.669231977385181,
          1.5822082966894295,
          1.9092463241967677,
          1.600000000000001,
          1.9589776950115592,
          1.6207671610096663,
          1.180511114666179,
          1.502,
          1.4399999999999997,
          1.718978592271608,
          1.089744152269712,
          0.817802829185443,
          0.770255313887441,
          0.0905121629151306,
          0.07025650668440005,
          1.1670000000000003,
          0.5679999999999997,
          1.9214498137417222,
          1.9799845918191228,
          1.6719881176044666,
          1.6908407557354932,
          1.6730000000000005,
          1.7460000000000002,
          1.8310219735038826,
          1.5204956228209678,
          1.7700000000000011,
          1.9943994246122687,
          1.8310000000000006
         ],
         "marker": {
          "color": [
           686.7333374023438,
           559.1666870117188,
           677.0794067382812,
           704.8866577148438,
           1139.4390869140625,
           872.6171264648438,
           822.1666870117188,
           848.465576171875,
           698.566650390625,
           736.69921875,
           744.6980590820312,
           930.5432739257812,
           651.1666870117188,
           601.433349609375,
           828.6389770507812,
           712.4866333007812,
           766.3059692382812,
           586.8388671875,
           585.9703979492188,
           594.86669921875,
           655.24658203125,
           652.17138671875,
           580.6948852539062,
           691.3533325195312,
           632.1091918945312,
           605.1110229492188,
           910.0618286132812,
           952.2604370117188,
           380.11712646484375,
           747.4800415039062,
           841.3158569335938,
           739.7361450195312,
           695.8333129882812,
           810.2666625976562,
           800.05224609375,
           797.74365234375,
           1051.066650390625,
           812.6780395507812,
           764.2341918945312,
           628.19287109375,
           847.9598999023438,
           675.5862426757812,
           654.5667114257812,
           732.9323120117188,
           708.1666870117188,
           643.3215942382812,
           754.8333129882812,
           99.70000457763672,
           748.4723510742188,
           674.7645874023438,
           776.105712890625,
           673.2717895507812,
           692.1857299804688,
           1013.82666015625,
           783.4003295898438,
           708.6912231445312,
           805.3395385742188,
           794.6309204101562,
           768.6103515625,
           827.0029296875,
           727.2999877929688,
           740.8961791992188,
           697.0206909179688,
           732.2666625976562,
           746.367431640625,
           710.3395385742188,
           132,
           551.8008422851562,
           543.6419067382812,
           660.8251953125,
           699.1284790039062,
           466.4447326660156,
           196.01710510253906,
           730.6322631835938,
           807.9910278320312,
           680.560791015625,
           775.2666625976562,
           681.0805053710938,
           457.9704284667969
          ],
          "coloraxis": "coloraxis",
          "size": 12
         },
         "mode": "markers",
         "name": "",
         "showlegend": false,
         "subplot": "mapbox",
         "type": "scattermapbox"
        }
       ],
       "layout": {
        "coloraxis": {
         "colorbar": {
          "title": {
           "text": "precip"
          }
         },
         "colorscale": [
          [
           0,
           "rgb(255,255,217)"
          ],
          [
           0.125,
           "rgb(237,248,177)"
          ],
          [
           0.25,
           "rgb(199,233,180)"
          ],
          [
           0.375,
           "rgb(127,205,187)"
          ],
          [
           0.5,
           "rgb(65,182,196)"
          ],
          [
           0.625,
           "rgb(29,145,192)"
          ],
          [
           0.75,
           "rgb(34,94,168)"
          ],
          [
           0.875,
           "rgb(37,52,148)"
          ],
          [
           1,
           "rgb(8,29,88)"
          ]
         ]
        },
        "legend": {
         "tracegroupgap": 0
        },
        "mapbox": {
         "center": {
          "lat": 49.176710939948485,
          "lon": 0.4447983335920745
         },
         "domain": {
          "x": [
           0,
           1
          ],
          "y": [
           0,
           1
          ]
         },
         "style": "carto-darkmatter",
         "zoom": 6
        },
        "margin": {
         "b": 0,
         "l": 0,
         "r": 0,
         "t": 0
        },
        "template": {
         "data": {
          "bar": [
           {
            "error_x": {
             "color": "#2a3f5f"
            },
            "error_y": {
             "color": "#2a3f5f"
            },
            "marker": {
             "line": {
              "color": "#E5ECF6",
              "width": 0.5
             },
             "pattern": {
              "fillmode": "overlay",
              "size": 10,
              "solidity": 0.2
             }
            },
            "type": "bar"
           }
          ],
          "barpolar": [
           {
            "marker": {
             "line": {
              "color": "#E5ECF6",
              "width": 0.5
             },
             "pattern": {
              "fillmode": "overlay",
              "size": 10,
              "solidity": 0.2
             }
            },
            "type": "barpolar"
           }
          ],
          "carpet": [
           {
            "aaxis": {
             "endlinecolor": "#2a3f5f",
             "gridcolor": "white",
             "linecolor": "white",
             "minorgridcolor": "white",
             "startlinecolor": "#2a3f5f"
            },
            "baxis": {
             "endlinecolor": "#2a3f5f",
             "gridcolor": "white",
             "linecolor": "white",
             "minorgridcolor": "white",
             "startlinecolor": "#2a3f5f"
            },
            "type": "carpet"
           }
          ],
          "choropleth": [
           {
            "colorbar": {
             "outlinewidth": 0,
             "ticks": ""
            },
            "type": "choropleth"
           }
          ],
          "contour": [
           {
            "colorbar": {
             "outlinewidth": 0,
             "ticks": ""
            },
            "colorscale": [
             [
              0,
              "#0d0887"
             ],
             [
              0.1111111111111111,
              "#46039f"
             ],
             [
              0.2222222222222222,
              "#7201a8"
             ],
             [
              0.3333333333333333,
              "#9c179e"
             ],
             [
              0.4444444444444444,
              "#bd3786"
             ],
             [
              0.5555555555555556,
              "#d8576b"
             ],
             [
              0.6666666666666666,
              "#ed7953"
             ],
             [
              0.7777777777777778,
              "#fb9f3a"
             ],
             [
              0.8888888888888888,
              "#fdca26"
             ],
             [
              1,
              "#f0f921"
             ]
            ],
            "type": "contour"
           }
          ],
          "contourcarpet": [
           {
            "colorbar": {
             "outlinewidth": 0,
             "ticks": ""
            },
            "type": "contourcarpet"
           }
          ],
          "heatmap": [
           {
            "colorbar": {
             "outlinewidth": 0,
             "ticks": ""
            },
            "colorscale": [
             [
              0,
              "#0d0887"
             ],
             [
              0.1111111111111111,
              "#46039f"
             ],
             [
              0.2222222222222222,
              "#7201a8"
             ],
             [
              0.3333333333333333,
              "#9c179e"
             ],
             [
              0.4444444444444444,
              "#bd3786"
             ],
             [
              0.5555555555555556,
              "#d8576b"
             ],
             [
              0.6666666666666666,
              "#ed7953"
             ],
             [
              0.7777777777777778,
              "#fb9f3a"
             ],
             [
              0.8888888888888888,
              "#fdca26"
             ],
             [
              1,
              "#f0f921"
             ]
            ],
            "type": "heatmap"
           }
          ],
          "heatmapgl": [
           {
            "colorbar": {
             "outlinewidth": 0,
             "ticks": ""
            },
            "colorscale": [
             [
              0,
              "#0d0887"
             ],
             [
              0.1111111111111111,
              "#46039f"
             ],
             [
              0.2222222222222222,
              "#7201a8"
             ],
             [
              0.3333333333333333,
              "#9c179e"
             ],
             [
              0.4444444444444444,
              "#bd3786"
             ],
             [
              0.5555555555555556,
              "#d8576b"
             ],
             [
              0.6666666666666666,
              "#ed7953"
             ],
             [
              0.7777777777777778,
              "#fb9f3a"
             ],
             [
              0.8888888888888888,
              "#fdca26"
             ],
             [
              1,
              "#f0f921"
             ]
            ],
            "type": "heatmapgl"
           }
          ],
          "histogram": [
           {
            "marker": {
             "pattern": {
              "fillmode": "overlay",
              "size": 10,
              "solidity": 0.2
             }
            },
            "type": "histogram"
           }
          ],
          "histogram2d": [
           {
            "colorbar": {
             "outlinewidth": 0,
             "ticks": ""
            },
            "colorscale": [
             [
              0,
              "#0d0887"
             ],
             [
              0.1111111111111111,
              "#46039f"
             ],
             [
              0.2222222222222222,
              "#7201a8"
             ],
             [
              0.3333333333333333,
              "#9c179e"
             ],
             [
              0.4444444444444444,
              "#bd3786"
             ],
             [
              0.5555555555555556,
              "#d8576b"
             ],
             [
              0.6666666666666666,
              "#ed7953"
             ],
             [
              0.7777777777777778,
              "#fb9f3a"
             ],
             [
              0.8888888888888888,
              "#fdca26"
             ],
             [
              1,
              "#f0f921"
             ]
            ],
            "type": "histogram2d"
           }
          ],
          "histogram2dcontour": [
           {
            "colorbar": {
             "outlinewidth": 0,
             "ticks": ""
            },
            "colorscale": [
             [
              0,
              "#0d0887"
             ],
             [
              0.1111111111111111,
              "#46039f"
             ],
             [
              0.2222222222222222,
              "#7201a8"
             ],
             [
              0.3333333333333333,
              "#9c179e"
             ],
             [
              0.4444444444444444,
              "#bd3786"
             ],
             [
              0.5555555555555556,
              "#d8576b"
             ],
             [
              0.6666666666666666,
              "#ed7953"
             ],
             [
              0.7777777777777778,
              "#fb9f3a"
             ],
             [
              0.8888888888888888,
              "#fdca26"
             ],
             [
              1,
              "#f0f921"
             ]
            ],
            "type": "histogram2dcontour"
           }
          ],
          "mesh3d": [
           {
            "colorbar": {
             "outlinewidth": 0,
             "ticks": ""
            },
            "type": "mesh3d"
           }
          ],
          "parcoords": [
           {
            "line": {
             "colorbar": {
              "outlinewidth": 0,
              "ticks": ""
             }
            },
            "type": "parcoords"
           }
          ],
          "pie": [
           {
            "automargin": true,
            "type": "pie"
           }
          ],
          "scatter": [
           {
            "fillpattern": {
             "fillmode": "overlay",
             "size": 10,
             "solidity": 0.2
            },
            "type": "scatter"
           }
          ],
          "scatter3d": [
           {
            "line": {
             "colorbar": {
              "outlinewidth": 0,
              "ticks": ""
             }
            },
            "marker": {
             "colorbar": {
              "outlinewidth": 0,
              "ticks": ""
             }
            },
            "type": "scatter3d"
           }
          ],
          "scattercarpet": [
           {
            "marker": {
             "colorbar": {
              "outlinewidth": 0,
              "ticks": ""
             }
            },
            "type": "scattercarpet"
           }
          ],
          "scattergeo": [
           {
            "marker": {
             "colorbar": {
              "outlinewidth": 0,
              "ticks": ""
             }
            },
            "type": "scattergeo"
           }
          ],
          "scattergl": [
           {
            "marker": {
             "colorbar": {
              "outlinewidth": 0,
              "ticks": ""
             }
            },
            "type": "scattergl"
           }
          ],
          "scattermapbox": [
           {
            "marker": {
             "colorbar": {
              "outlinewidth": 0,
              "ticks": ""
             }
            },
            "type": "scattermapbox"
           }
          ],
          "scatterpolar": [
           {
            "marker": {
             "colorbar": {
              "outlinewidth": 0,
              "ticks": ""
             }
            },
            "type": "scatterpolar"
           }
          ],
          "scatterpolargl": [
           {
            "marker": {
             "colorbar": {
              "outlinewidth": 0,
              "ticks": ""
             }
            },
            "type": "scatterpolargl"
           }
          ],
          "scatterternary": [
           {
            "marker": {
             "colorbar": {
              "outlinewidth": 0,
              "ticks": ""
             }
            },
            "type": "scatterternary"
           }
          ],
          "surface": [
           {
            "colorbar": {
             "outlinewidth": 0,
             "ticks": ""
            },
            "colorscale": [
             [
              0,
              "#0d0887"
             ],
             [
              0.1111111111111111,
              "#46039f"
             ],
             [
              0.2222222222222222,
              "#7201a8"
             ],
             [
              0.3333333333333333,
              "#9c179e"
             ],
             [
              0.4444444444444444,
              "#bd3786"
             ],
             [
              0.5555555555555556,
              "#d8576b"
             ],
             [
              0.6666666666666666,
              "#ed7953"
             ],
             [
              0.7777777777777778,
              "#fb9f3a"
             ],
             [
              0.8888888888888888,
              "#fdca26"
             ],
             [
              1,
              "#f0f921"
             ]
            ],
            "type": "surface"
           }
          ],
          "table": [
           {
            "cells": {
             "fill": {
              "color": "#EBF0F8"
             },
             "line": {
              "color": "white"
             }
            },
            "header": {
             "fill": {
              "color": "#C8D4E3"
             },
             "line": {
              "color": "white"
             }
            },
            "type": "table"
           }
          ]
         },
         "layout": {
          "annotationdefaults": {
           "arrowcolor": "#2a3f5f",
           "arrowhead": 0,
           "arrowwidth": 1
          },
          "autotypenumbers": "strict",
          "coloraxis": {
           "colorbar": {
            "outlinewidth": 0,
            "ticks": ""
           }
          },
          "colorscale": {
           "diverging": [
            [
             0,
             "#8e0152"
            ],
            [
             0.1,
             "#c51b7d"
            ],
            [
             0.2,
             "#de77ae"
            ],
            [
             0.3,
             "#f1b6da"
            ],
            [
             0.4,
             "#fde0ef"
            ],
            [
             0.5,
             "#f7f7f7"
            ],
            [
             0.6,
             "#e6f5d0"
            ],
            [
             0.7,
             "#b8e186"
            ],
            [
             0.8,
             "#7fbc41"
            ],
            [
             0.9,
             "#4d9221"
            ],
            [
             1,
             "#276419"
            ]
           ],
           "sequential": [
            [
             0,
             "#0d0887"
            ],
            [
             0.1111111111111111,
             "#46039f"
            ],
            [
             0.2222222222222222,
             "#7201a8"
            ],
            [
             0.3333333333333333,
             "#9c179e"
            ],
            [
             0.4444444444444444,
             "#bd3786"
            ],
            [
             0.5555555555555556,
             "#d8576b"
            ],
            [
             0.6666666666666666,
             "#ed7953"
            ],
            [
             0.7777777777777778,
             "#fb9f3a"
            ],
            [
             0.8888888888888888,
             "#fdca26"
            ],
            [
             1,
             "#f0f921"
            ]
           ],
           "sequentialminus": [
            [
             0,
             "#0d0887"
            ],
            [
             0.1111111111111111,
             "#46039f"
            ],
            [
             0.2222222222222222,
             "#7201a8"
            ],
            [
             0.3333333333333333,
             "#9c179e"
            ],
            [
             0.4444444444444444,
             "#bd3786"
            ],
            [
             0.5555555555555556,
             "#d8576b"
            ],
            [
             0.6666666666666666,
             "#ed7953"
            ],
            [
             0.7777777777777778,
             "#fb9f3a"
            ],
            [
             0.8888888888888888,
             "#fdca26"
            ],
            [
             1,
             "#f0f921"
            ]
           ]
          },
          "colorway": [
           "#636efa",
           "#EF553B",
           "#00cc96",
           "#ab63fa",
           "#FFA15A",
           "#19d3f3",
           "#FF6692",
           "#B6E880",
           "#FF97FF",
           "#FECB52"
          ],
          "font": {
           "color": "#2a3f5f"
          },
          "geo": {
           "bgcolor": "white",
           "lakecolor": "white",
           "landcolor": "#E5ECF6",
           "showlakes": true,
           "showland": true,
           "subunitcolor": "white"
          },
          "hoverlabel": {
           "align": "left"
          },
          "hovermode": "closest",
          "mapbox": {
           "style": "light"
          },
          "paper_bgcolor": "white",
          "plot_bgcolor": "#E5ECF6",
          "polar": {
           "angularaxis": {
            "gridcolor": "white",
            "linecolor": "white",
            "ticks": ""
           },
           "bgcolor": "#E5ECF6",
           "radialaxis": {
            "gridcolor": "white",
            "linecolor": "white",
            "ticks": ""
           }
          },
          "scene": {
           "xaxis": {
            "backgroundcolor": "#E5ECF6",
            "gridcolor": "white",
            "gridwidth": 2,
            "linecolor": "white",
            "showbackground": true,
            "ticks": "",
            "zerolinecolor": "white"
           },
           "yaxis": {
            "backgroundcolor": "#E5ECF6",
            "gridcolor": "white",
            "gridwidth": 2,
            "linecolor": "white",
            "showbackground": true,
            "ticks": "",
            "zerolinecolor": "white"
           },
           "zaxis": {
            "backgroundcolor": "#E5ECF6",
            "gridcolor": "white",
            "gridwidth": 2,
            "linecolor": "white",
            "showbackground": true,
            "ticks": "",
            "zerolinecolor": "white"
           }
          },
          "shapedefaults": {
           "line": {
            "color": "#2a3f5f"
           }
          },
          "ternary": {
           "aaxis": {
            "gridcolor": "white",
            "linecolor": "white",
            "ticks": ""
           },
           "baxis": {
            "gridcolor": "white",
            "linecolor": "white",
            "ticks": ""
           },
           "bgcolor": "#E5ECF6",
           "caxis": {
            "gridcolor": "white",
            "linecolor": "white",
            "ticks": ""
           }
          },
          "title": {
           "x": 0.05
          },
          "xaxis": {
           "automargin": true,
           "gridcolor": "white",
           "linecolor": "white",
           "ticks": "",
           "title": {
            "standoff": 15
           },
           "zerolinecolor": "white",
           "zerolinewidth": 2
          },
          "yaxis": {
           "automargin": true,
           "gridcolor": "white",
           "linecolor": "white",
           "ticks": "",
           "title": {
            "standoff": 15
           },
           "zerolinecolor": "white",
           "zerolinewidth": 2
          }
         }
        }
       }
      },
      "text/html": [
       "<div>                            <div id=\"ebc68fa9-5236-4d2f-a45e-6374c7a8b1e0\" class=\"plotly-graph-div\" style=\"height:525px; width:100%;\"></div>            <script type=\"text/javascript\">                require([\"plotly\"], function(Plotly) {                    window.PLOTLYENV=window.PLOTLYENV || {};                                    if (document.getElementById(\"ebc68fa9-5236-4d2f-a45e-6374c7a8b1e0\")) {                    Plotly.newPlot(                        \"ebc68fa9-5236-4d2f-a45e-6374c7a8b1e0\",                        [{\"hovertemplate\":\"lat=%{lat}<br>lon=%{lon}<br>precip=%{marker.color}<extra></extra>\",\"lat\":[49.33102091483373,49.148704868893084,49.18000000000001,48.929109486940426,48.7974538669353,48.92896711736321,49.168723618415534,49.10200000000001,48.89000000000003,49.349750570886705,49.27999999999998,49.36101723604561,48.98974422424636,49.05999999999997,48.85025558675718,49.10024642551917,49.36026463977289,49.02872265468873,49.223553514416594,48.80025463297962,48.46025562473551,48.72600000000001,48.70700000000003,48.48025611433287,48.65026201505615,48.40897707416507,48.47900000000003,49.036713720974895,49.05100000000001,49.69923299167279,49.650768250732575,48.860510822412,48.578723322909795,48.561035056268146,49.401016747386905,48.75811366468372,49.51948823112291,48.40806456133933,48.452,49.30897130395918,49.62076734903935,48.448976721126414,48.71950045432068,48.75,48.72051698463507,48.75896253264364,48.710256716338016,48.724000000000004,48.50098599370354,48.55799391348897,48.91077316939239,48.58871996230865,50.86999999999997,50.75025122526774,50.73076749878003,50.96000000000003,50.51102288134621,49.38076667199928,49.73299999999996,49.53948942433865,49.50948929613582,49.93051169546057,49.65000000000002,49.49102125554974,49.53076824437266,49.509743493315604,49.84000000000002,49.81500000000002,48.96115985099338,48.8402694166379,48.961988117604456,48.859849752586584,48.868000000000016,48.707000000000036,50.13897802649611,50.18851313153707,49.95924190375947,48.52669971230617,49.10799999999997],\"legendgroup\":\"\",\"lon\":[-0.4302552287084249,0.040518052442762006,-0.45897794022463356,-0.14955474347023798,-1.0337513775050746,-0.6907746619775755,0.22923417104932697,-0.7650000000000005,-0.38898463004975864,-0.7707482873398611,-0.5611247592038822,0.169237072965799,-0.009744224246350854,-0.23102578018995937,-0.899744413242853,0.5592607234425891,0.3907939193185852,1.2205109381245123,1.2800000000000005,1.4907638989389655,1.500255624735491,1.3870000000000002,1.1730000000000007,1.0107683429986019,1.3699999999999999,1.5587213427063684,-1.1299999999999994,-1.2983568604874316,-1.0399999999999996,-1.2687216527878968,-1.4610243343101033,-1.5707662336179733,-1.469999999999999,-1.0992237077988922,-1.169491626306544,-0.844147022174024,-1.5092323466843565,-0.440483859665159,-0.18299999999999988,1.8797428259897973,1.7902557830131127,0.11,0.010249772839676574,-0.59,-0.261033969270117,0.6610374673563777,0.2997432836620105,-0.73,-0.7007394952776667,0.5294984783722406,0.2487113843459963,0.669231977385181,1.5822082966894295,1.9092463241967677,1.600000000000001,1.9589776950115592,1.6207671610096663,1.180511114666179,1.502,1.4399999999999997,1.718978592271608,1.089744152269712,0.817802829185443,0.770255313887441,0.0905121629151306,0.07025650668440005,1.1670000000000003,0.5679999999999997,1.9214498137417222,1.9799845918191228,1.6719881176044666,1.6908407557354932,1.6730000000000005,1.7460000000000002,1.8310219735038826,1.5204956228209678,1.7700000000000011,1.9943994246122687,1.8310000000000006],\"marker\":{\"color\":[686.7333374023438,559.1666870117188,677.0794067382812,704.8866577148438,1139.4390869140625,872.6171264648438,822.1666870117188,848.465576171875,698.566650390625,736.69921875,744.6980590820312,930.5432739257812,651.1666870117188,601.433349609375,828.6389770507812,712.4866333007812,766.3059692382812,586.8388671875,585.9703979492188,594.86669921875,655.24658203125,652.17138671875,580.6948852539062,691.3533325195312,632.1091918945312,605.1110229492188,910.0618286132812,952.2604370117188,380.11712646484375,747.4800415039062,841.3158569335938,739.7361450195312,695.8333129882812,810.2666625976562,800.05224609375,797.74365234375,1051.066650390625,812.6780395507812,764.2341918945312,628.19287109375,847.9598999023438,675.5862426757812,654.5667114257812,732.9323120117188,708.1666870117188,643.3215942382812,754.8333129882812,99.70000457763672,748.4723510742188,674.7645874023438,776.105712890625,673.2717895507812,692.1857299804688,1013.82666015625,783.4003295898438,708.6912231445312,805.3395385742188,794.6309204101562,768.6103515625,827.0029296875,727.2999877929688,740.8961791992188,697.0206909179688,732.2666625976562,746.367431640625,710.3395385742188,132.0,551.8008422851562,543.6419067382812,660.8251953125,699.1284790039062,466.4447326660156,196.01710510253906,730.6322631835938,807.9910278320312,680.560791015625,775.2666625976562,681.0805053710938,457.9704284667969],\"coloraxis\":\"coloraxis\",\"size\":12},\"mode\":\"markers\",\"name\":\"\",\"showlegend\":false,\"subplot\":\"mapbox\",\"type\":\"scattermapbox\"}],                        {\"template\":{\"data\":{\"histogram2dcontour\":[{\"type\":\"histogram2dcontour\",\"colorbar\":{\"outlinewidth\":0,\"ticks\":\"\"},\"colorscale\":[[0.0,\"#0d0887\"],[0.1111111111111111,\"#46039f\"],[0.2222222222222222,\"#7201a8\"],[0.3333333333333333,\"#9c179e\"],[0.4444444444444444,\"#bd3786\"],[0.5555555555555556,\"#d8576b\"],[0.6666666666666666,\"#ed7953\"],[0.7777777777777778,\"#fb9f3a\"],[0.8888888888888888,\"#fdca26\"],[1.0,\"#f0f921\"]]}],\"choropleth\":[{\"type\":\"choropleth\",\"colorbar\":{\"outlinewidth\":0,\"ticks\":\"\"}}],\"histogram2d\":[{\"type\":\"histogram2d\",\"colorbar\":{\"outlinewidth\":0,\"ticks\":\"\"},\"colorscale\":[[0.0,\"#0d0887\"],[0.1111111111111111,\"#46039f\"],[0.2222222222222222,\"#7201a8\"],[0.3333333333333333,\"#9c179e\"],[0.4444444444444444,\"#bd3786\"],[0.5555555555555556,\"#d8576b\"],[0.6666666666666666,\"#ed7953\"],[0.7777777777777778,\"#fb9f3a\"],[0.8888888888888888,\"#fdca26\"],[1.0,\"#f0f921\"]]}],\"heatmap\":[{\"type\":\"heatmap\",\"colorbar\":{\"outlinewidth\":0,\"ticks\":\"\"},\"colorscale\":[[0.0,\"#0d0887\"],[0.1111111111111111,\"#46039f\"],[0.2222222222222222,\"#7201a8\"],[0.3333333333333333,\"#9c179e\"],[0.4444444444444444,\"#bd3786\"],[0.5555555555555556,\"#d8576b\"],[0.6666666666666666,\"#ed7953\"],[0.7777777777777778,\"#fb9f3a\"],[0.8888888888888888,\"#fdca26\"],[1.0,\"#f0f921\"]]}],\"heatmapgl\":[{\"type\":\"heatmapgl\",\"colorbar\":{\"outlinewidth\":0,\"ticks\":\"\"},\"colorscale\":[[0.0,\"#0d0887\"],[0.1111111111111111,\"#46039f\"],[0.2222222222222222,\"#7201a8\"],[0.3333333333333333,\"#9c179e\"],[0.4444444444444444,\"#bd3786\"],[0.5555555555555556,\"#d8576b\"],[0.6666666666666666,\"#ed7953\"],[0.7777777777777778,\"#fb9f3a\"],[0.8888888888888888,\"#fdca26\"],[1.0,\"#f0f921\"]]}],\"contourcarpet\":[{\"type\":\"contourcarpet\",\"colorbar\":{\"outlinewidth\":0,\"ticks\":\"\"}}],\"contour\":[{\"type\":\"contour\",\"colorbar\":{\"outlinewidth\":0,\"ticks\":\"\"},\"colorscale\":[[0.0,\"#0d0887\"],[0.1111111111111111,\"#46039f\"],[0.2222222222222222,\"#7201a8\"],[0.3333333333333333,\"#9c179e\"],[0.4444444444444444,\"#bd3786\"],[0.5555555555555556,\"#d8576b\"],[0.6666666666666666,\"#ed7953\"],[0.7777777777777778,\"#fb9f3a\"],[0.8888888888888888,\"#fdca26\"],[1.0,\"#f0f921\"]]}],\"surface\":[{\"type\":\"surface\",\"colorbar\":{\"outlinewidth\":0,\"ticks\":\"\"},\"colorscale\":[[0.0,\"#0d0887\"],[0.1111111111111111,\"#46039f\"],[0.2222222222222222,\"#7201a8\"],[0.3333333333333333,\"#9c179e\"],[0.4444444444444444,\"#bd3786\"],[0.5555555555555556,\"#d8576b\"],[0.6666666666666666,\"#ed7953\"],[0.7777777777777778,\"#fb9f3a\"],[0.8888888888888888,\"#fdca26\"],[1.0,\"#f0f921\"]]}],\"mesh3d\":[{\"type\":\"mesh3d\",\"colorbar\":{\"outlinewidth\":0,\"ticks\":\"\"}}],\"scatter\":[{\"fillpattern\":{\"fillmode\":\"overlay\",\"size\":10,\"solidity\":0.2},\"type\":\"scatter\"}],\"parcoords\":[{\"type\":\"parcoords\",\"line\":{\"colorbar\":{\"outlinewidth\":0,\"ticks\":\"\"}}}],\"scatterpolargl\":[{\"type\":\"scatterpolargl\",\"marker\":{\"colorbar\":{\"outlinewidth\":0,\"ticks\":\"\"}}}],\"bar\":[{\"error_x\":{\"color\":\"#2a3f5f\"},\"error_y\":{\"color\":\"#2a3f5f\"},\"marker\":{\"line\":{\"color\":\"#E5ECF6\",\"width\":0.5},\"pattern\":{\"fillmode\":\"overlay\",\"size\":10,\"solidity\":0.2}},\"type\":\"bar\"}],\"scattergeo\":[{\"type\":\"scattergeo\",\"marker\":{\"colorbar\":{\"outlinewidth\":0,\"ticks\":\"\"}}}],\"scatterpolar\":[{\"type\":\"scatterpolar\",\"marker\":{\"colorbar\":{\"outlinewidth\":0,\"ticks\":\"\"}}}],\"histogram\":[{\"marker\":{\"pattern\":{\"fillmode\":\"overlay\",\"size\":10,\"solidity\":0.2}},\"type\":\"histogram\"}],\"scattergl\":[{\"type\":\"scattergl\",\"marker\":{\"colorbar\":{\"outlinewidth\":0,\"ticks\":\"\"}}}],\"scatter3d\":[{\"type\":\"scatter3d\",\"line\":{\"colorbar\":{\"outlinewidth\":0,\"ticks\":\"\"}},\"marker\":{\"colorbar\":{\"outlinewidth\":0,\"ticks\":\"\"}}}],\"scattermapbox\":[{\"type\":\"scattermapbox\",\"marker\":{\"colorbar\":{\"outlinewidth\":0,\"ticks\":\"\"}}}],\"scatterternary\":[{\"type\":\"scatterternary\",\"marker\":{\"colorbar\":{\"outlinewidth\":0,\"ticks\":\"\"}}}],\"scattercarpet\":[{\"type\":\"scattercarpet\",\"marker\":{\"colorbar\":{\"outlinewidth\":0,\"ticks\":\"\"}}}],\"carpet\":[{\"aaxis\":{\"endlinecolor\":\"#2a3f5f\",\"gridcolor\":\"white\",\"linecolor\":\"white\",\"minorgridcolor\":\"white\",\"startlinecolor\":\"#2a3f5f\"},\"baxis\":{\"endlinecolor\":\"#2a3f5f\",\"gridcolor\":\"white\",\"linecolor\":\"white\",\"minorgridcolor\":\"white\",\"startlinecolor\":\"#2a3f5f\"},\"type\":\"carpet\"}],\"table\":[{\"cells\":{\"fill\":{\"color\":\"#EBF0F8\"},\"line\":{\"color\":\"white\"}},\"header\":{\"fill\":{\"color\":\"#C8D4E3\"},\"line\":{\"color\":\"white\"}},\"type\":\"table\"}],\"barpolar\":[{\"marker\":{\"line\":{\"color\":\"#E5ECF6\",\"width\":0.5},\"pattern\":{\"fillmode\":\"overlay\",\"size\":10,\"solidity\":0.2}},\"type\":\"barpolar\"}],\"pie\":[{\"automargin\":true,\"type\":\"pie\"}]},\"layout\":{\"autotypenumbers\":\"strict\",\"colorway\":[\"#636efa\",\"#EF553B\",\"#00cc96\",\"#ab63fa\",\"#FFA15A\",\"#19d3f3\",\"#FF6692\",\"#B6E880\",\"#FF97FF\",\"#FECB52\"],\"font\":{\"color\":\"#2a3f5f\"},\"hovermode\":\"closest\",\"hoverlabel\":{\"align\":\"left\"},\"paper_bgcolor\":\"white\",\"plot_bgcolor\":\"#E5ECF6\",\"polar\":{\"bgcolor\":\"#E5ECF6\",\"angularaxis\":{\"gridcolor\":\"white\",\"linecolor\":\"white\",\"ticks\":\"\"},\"radialaxis\":{\"gridcolor\":\"white\",\"linecolor\":\"white\",\"ticks\":\"\"}},\"ternary\":{\"bgcolor\":\"#E5ECF6\",\"aaxis\":{\"gridcolor\":\"white\",\"linecolor\":\"white\",\"ticks\":\"\"},\"baxis\":{\"gridcolor\":\"white\",\"linecolor\":\"white\",\"ticks\":\"\"},\"caxis\":{\"gridcolor\":\"white\",\"linecolor\":\"white\",\"ticks\":\"\"}},\"coloraxis\":{\"colorbar\":{\"outlinewidth\":0,\"ticks\":\"\"}},\"colorscale\":{\"sequential\":[[0.0,\"#0d0887\"],[0.1111111111111111,\"#46039f\"],[0.2222222222222222,\"#7201a8\"],[0.3333333333333333,\"#9c179e\"],[0.4444444444444444,\"#bd3786\"],[0.5555555555555556,\"#d8576b\"],[0.6666666666666666,\"#ed7953\"],[0.7777777777777778,\"#fb9f3a\"],[0.8888888888888888,\"#fdca26\"],[1.0,\"#f0f921\"]],\"sequentialminus\":[[0.0,\"#0d0887\"],[0.1111111111111111,\"#46039f\"],[0.2222222222222222,\"#7201a8\"],[0.3333333333333333,\"#9c179e\"],[0.4444444444444444,\"#bd3786\"],[0.5555555555555556,\"#d8576b\"],[0.6666666666666666,\"#ed7953\"],[0.7777777777777778,\"#fb9f3a\"],[0.8888888888888888,\"#fdca26\"],[1.0,\"#f0f921\"]],\"diverging\":[[0,\"#8e0152\"],[0.1,\"#c51b7d\"],[0.2,\"#de77ae\"],[0.3,\"#f1b6da\"],[0.4,\"#fde0ef\"],[0.5,\"#f7f7f7\"],[0.6,\"#e6f5d0\"],[0.7,\"#b8e186\"],[0.8,\"#7fbc41\"],[0.9,\"#4d9221\"],[1,\"#276419\"]]},\"xaxis\":{\"gridcolor\":\"white\",\"linecolor\":\"white\",\"ticks\":\"\",\"title\":{\"standoff\":15},\"zerolinecolor\":\"white\",\"automargin\":true,\"zerolinewidth\":2},\"yaxis\":{\"gridcolor\":\"white\",\"linecolor\":\"white\",\"ticks\":\"\",\"title\":{\"standoff\":15},\"zerolinecolor\":\"white\",\"automargin\":true,\"zerolinewidth\":2},\"scene\":{\"xaxis\":{\"backgroundcolor\":\"#E5ECF6\",\"gridcolor\":\"white\",\"linecolor\":\"white\",\"showbackground\":true,\"ticks\":\"\",\"zerolinecolor\":\"white\",\"gridwidth\":2},\"yaxis\":{\"backgroundcolor\":\"#E5ECF6\",\"gridcolor\":\"white\",\"linecolor\":\"white\",\"showbackground\":true,\"ticks\":\"\",\"zerolinecolor\":\"white\",\"gridwidth\":2},\"zaxis\":{\"backgroundcolor\":\"#E5ECF6\",\"gridcolor\":\"white\",\"linecolor\":\"white\",\"showbackground\":true,\"ticks\":\"\",\"zerolinecolor\":\"white\",\"gridwidth\":2}},\"shapedefaults\":{\"line\":{\"color\":\"#2a3f5f\"}},\"annotationdefaults\":{\"arrowcolor\":\"#2a3f5f\",\"arrowhead\":0,\"arrowwidth\":1},\"geo\":{\"bgcolor\":\"white\",\"landcolor\":\"#E5ECF6\",\"subunitcolor\":\"white\",\"showland\":true,\"showlakes\":true,\"lakecolor\":\"white\"},\"title\":{\"x\":0.05},\"mapbox\":{\"style\":\"light\"}}},\"mapbox\":{\"domain\":{\"x\":[0.0,1.0],\"y\":[0.0,1.0]},\"center\":{\"lat\":49.176710939948485,\"lon\":0.4447983335920745},\"zoom\":6,\"style\":\"carto-darkmatter\"},\"coloraxis\":{\"colorbar\":{\"title\":{\"text\":\"precip\"}},\"colorscale\":[[0.0,\"rgb(255,255,217)\"],[0.125,\"rgb(237,248,177)\"],[0.25,\"rgb(199,233,180)\"],[0.375,\"rgb(127,205,187)\"],[0.5,\"rgb(65,182,196)\"],[0.625,\"rgb(29,145,192)\"],[0.75,\"rgb(34,94,168)\"],[0.875,\"rgb(37,52,148)\"],[1.0,\"rgb(8,29,88)\"]]},\"legend\":{\"tracegroupgap\":0},\"margin\":{\"t\":0,\"r\":0,\"l\":0,\"b\":0}},                        {\"responsive\": true}                    ).then(function(){\n",
       "                            \n",
       "var gd = document.getElementById('ebc68fa9-5236-4d2f-a45e-6374c7a8b1e0');\n",
       "var x = new MutationObserver(function (mutations, observer) {{\n",
       "        var display = window.getComputedStyle(gd).display;\n",
       "        if (!display || display === 'none') {{\n",
       "            console.log([gd, 'removed!']);\n",
       "            Plotly.purge(gd);\n",
       "            observer.disconnect();\n",
       "        }}\n",
       "}});\n",
       "\n",
       "// Listen for the removal of the full notebook cells\n",
       "var notebookContainer = gd.closest('#notebook-container');\n",
       "if (notebookContainer) {{\n",
       "    x.observe(notebookContainer, {childList: true});\n",
       "}}\n",
       "\n",
       "// Listen for the clearing of the current output cell\n",
       "var outputEl = gd.closest('.output');\n",
       "if (outputEl) {{\n",
       "    x.observe(outputEl, {childList: true});\n",
       "}}\n",
       "\n",
       "                        })                };                });            </script>        </div>"
      ]
     },
     "metadata": {},
     "output_type": "display_data"
    }
   ],
   "source": [
    "df = pd.DataFrame(annual_rainfall)\n",
    "df['lat'] = [stations[_][0] for _ in df.index]\n",
    "df['lon'] = [stations[_][1] for _ in df.index]\n",
    "fig = px.scatter_mapbox(\n",
    "    df, lat='lat', lon='lon',\n",
    "    zoom = 6,\n",
    "    color = 'precip',\n",
    "    color_continuous_scale=px.colors.sequential.YlGnBu\n",
    ")\n",
    "\n",
    "print('Average annual precipitation in mm')\n",
    "fig.update_layout(mapbox_style=\"carto-darkmatter\")\n",
    "fig.update_layout(margin={\"r\":0,\"t\":0,\"l\":0,\"b\":0})\n",
    "fig.update_traces(marker_size=12)\n",
    "fig.show()"
   ]
  },
  {
   "cell_type": "code",
   "execution_count": 18,
   "id": "c81c800f",
   "metadata": {},
   "outputs": [],
   "source": [
    "df = df.reset_index(0)\n",
    "df['height_sta'] = [weather_data.loc[weather_data['number_sta'] == _,'height_sta'].values[0] for _ in df['number_sta']]\n",
    "df['Atm. pressure'] = [weather_data.loc[weather_data['number_sta'] == _,'psl'].values[0] for _ in df['number_sta']]\n",
    "df['ff'] = weather_data.groupby([weather_data['date'].dt.year,'number_sta'])['ff'].mean().groupby('number_sta').mean().values\n",
    "features = ['height_sta','Atm. pressure', 'ff']"
   ]
  },
  {
   "cell_type": "code",
   "execution_count": 19,
   "id": "fd024cb2",
   "metadata": {},
   "outputs": [
    {
     "data": {
      "image/png": "[encoded data removed]",
      "text/plain": [
       "<Figure size 800x800 with 3 Axes>"
      ]
     },
     "metadata": {},
     "output_type": "display_data"
    }
   ],
   "source": [
    "fig, axs = plt.subplots(2,2, sharey = True, figsize = [8,8])\n",
    "for ax,i in zip(axs.flatten(),features) :\n",
    "    sns.scatterplot(df, x = i, y = 'precip', ax = ax)\n",
    "plt.delaxes(axs[1,1])"
   ]
  },
  {
   "cell_type": "code",
   "execution_count": 20,
   "id": "4559c9be",
   "metadata": {},
   "outputs": [
    {
     "data": {
      "text/html": [
       "<style type=\"text/css\">\n",
       "#T_1aa02_row0_col0, #T_1aa02_row0_col2, #T_1aa02_row0_col3, #T_1aa02_row1_col1, #T_1aa02_row2_col0, #T_1aa02_row2_col2, #T_1aa02_row2_col3, #T_1aa02_row3_col0, #T_1aa02_row3_col2, #T_1aa02_row3_col3 {\n",
       "  color: black;\n",
       "}\n",
       "#T_1aa02_row0_col1, #T_1aa02_row1_col0, #T_1aa02_row1_col2, #T_1aa02_row1_col3, #T_1aa02_row2_col1, #T_1aa02_row3_col1 {\n",
       "  color: red;\n",
       "}\n",
       "</style>\n",
       "<table id=\"T_1aa02\">\n",
       "  <thead>\n",
       "    <tr>\n",
       "      <th class=\"blank level0\" >&nbsp;</th>\n",
       "      <th id=\"T_1aa02_level0_col0\" class=\"col_heading level0 col0\" >precip</th>\n",
       "      <th id=\"T_1aa02_level0_col1\" class=\"col_heading level0 col1\" >height_sta</th>\n",
       "      <th id=\"T_1aa02_level0_col2\" class=\"col_heading level0 col2\" >Atm. pressure</th>\n",
       "      <th id=\"T_1aa02_level0_col3\" class=\"col_heading level0 col3\" >ff</th>\n",
       "    </tr>\n",
       "  </thead>\n",
       "  <tbody>\n",
       "    <tr>\n",
       "      <th id=\"T_1aa02_level0_row0\" class=\"row_heading level0 row0\" >precip</th>\n",
       "      <td id=\"T_1aa02_row0_col0\" class=\"data row0 col0\" >1.000000</td>\n",
       "      <td id=\"T_1aa02_row0_col1\" class=\"data row0 col1\" >0.132454</td>\n",
       "      <td id=\"T_1aa02_row0_col2\" class=\"data row0 col2\" >0.090589</td>\n",
       "      <td id=\"T_1aa02_row0_col3\" class=\"data row0 col3\" >0.017994</td>\n",
       "    </tr>\n",
       "    <tr>\n",
       "      <th id=\"T_1aa02_level0_row1\" class=\"row_heading level0 row1\" >height_sta</th>\n",
       "      <td id=\"T_1aa02_row1_col0\" class=\"data row1 col0\" >0.132454</td>\n",
       "      <td id=\"T_1aa02_row1_col1\" class=\"data row1 col1\" >1.000000</td>\n",
       "      <td id=\"T_1aa02_row1_col2\" class=\"data row1 col2\" >-0.128935</td>\n",
       "      <td id=\"T_1aa02_row1_col3\" class=\"data row1 col3\" >-0.227999</td>\n",
       "    </tr>\n",
       "    <tr>\n",
       "      <th id=\"T_1aa02_level0_row2\" class=\"row_heading level0 row2\" >Atm. pressure</th>\n",
       "      <td id=\"T_1aa02_row2_col0\" class=\"data row2 col0\" >0.090589</td>\n",
       "      <td id=\"T_1aa02_row2_col1\" class=\"data row2 col1\" >-0.128935</td>\n",
       "      <td id=\"T_1aa02_row2_col2\" class=\"data row2 col2\" >1.000000</td>\n",
       "      <td id=\"T_1aa02_row2_col3\" class=\"data row2 col3\" >0.076491</td>\n",
       "    </tr>\n",
       "    <tr>\n",
       "      <th id=\"T_1aa02_level0_row3\" class=\"row_heading level0 row3\" >ff</th>\n",
       "      <td id=\"T_1aa02_row3_col0\" class=\"data row3 col0\" >0.017994</td>\n",
       "      <td id=\"T_1aa02_row3_col1\" class=\"data row3 col1\" >-0.227999</td>\n",
       "      <td id=\"T_1aa02_row3_col2\" class=\"data row3 col2\" >0.076491</td>\n",
       "      <td id=\"T_1aa02_row3_col3\" class=\"data row3 col3\" >1.000000</td>\n",
       "    </tr>\n",
       "  </tbody>\n",
       "</table>\n"
      ],
      "text/plain": [
       "<pandas.io.formats.style.Styler at 0x2858c4e50>"
      ]
     },
     "execution_count": 20,
     "metadata": {},
     "output_type": "execute_result"
    }
   ],
   "source": [
    "def color_strong_corr(val):\n",
    "    color = 'red' if (abs(val) > 0.1) & (abs(val) <1.0) else 'black'\n",
    "    return 'color: %s' % color\n",
    "df[['precip','height_sta','Atm. pressure','ff']].corr().\\\n",
    "    style.applymap(color_strong_corr)"
   ]
  },
  {
   "cell_type": "code",
   "execution_count": 21,
   "id": "20eaa9ec",
   "metadata": {},
   "outputs": [],
   "source": [
    "df = weather_data.set_index('date')\n",
    "df['t'] = df['t'] - 273.5"
   ]
  },
  {
   "cell_type": "code",
   "execution_count": 22,
   "id": "792867b5",
   "metadata": {},
   "outputs": [
    {
     "data": {
      "application/vnd.plotly.v1+json": {
       "config": {
        "plotlyServerURL": "https://plot.ly"
       },
       "data": [
        {
         "hovertemplate": "variable=t<br>date=%{x}<br>value=%{y}<extra></extra>",
         "legendgroup": "t",
         "line": {
          "color": "#636efa",
          "dash": "solid"
         },
         "marker": {
          "symbol": "circle"
         },
         "mode": "lines",
         "name": "t",
         "showlegend": true,
         "type": "scattergl",
         "x": [
          "2016-01-01T00:00:00",
          "2016-01-02T00:00:00",
          "2016-01-03T00:00:00",
          "2016-01-04T00:00:00",
          "2016-01-05T00:00:00",
          "2016-01-06T00:00:00",
          "2016-01-07T00:00:00",
          "2016-01-08T00:00:00",
          "2016-01-09T00:00:00",
          "2016-01-10T00:00:00",
          "2016-01-11T00:00:00",
          "2016-01-12T00:00:00",
          "2016-01-13T00:00:00",
          "2016-01-14T00:00:00",
          "2016-01-15T00:00:00",
          "2016-01-16T00:00:00",
          "2016-01-17T00:00:00",
          "2016-01-18T00:00:00",
          "2016-01-19T00:00:00",
          "2016-01-20T00:00:00",
          "2016-01-21T00:00:00",
          "2016-01-22T00:00:00",
          "2016-01-23T00:00:00",
          "2016-01-24T00:00:00",
          "2016-01-25T00:00:00",
          "2016-01-26T00:00:00",
          "2016-01-27T00:00:00",
          "2016-01-28T00:00:00",
          "2016-01-29T00:00:00",
          "2016-01-30T00:00:00",
          "2016-01-31T00:00:00",
          "2016-02-01T00:00:00",
          "2016-02-02T00:00:00",
          "2016-02-03T00:00:00",
          "2016-02-04T00:00:00",
          "2016-02-05T00:00:00",
          "2016-02-06T00:00:00",
          "2016-02-07T00:00:00",
          "2016-02-08T00:00:00",
          "2016-02-09T00:00:00",
          "2016-02-10T00:00:00",
          "2016-02-11T00:00:00",
          "2016-02-12T00:00:00",
          "2016-02-13T00:00:00",
          "2016-02-14T00:00:00",
          "2016-02-15T00:00:00",
          "2016-02-16T00:00:00",
          "2016-02-17T00:00:00",
          "2016-02-18T00:00:00",
          "2016-02-19T00:00:00",
          "2016-02-20T00:00:00",
          "2016-02-21T00:00:00",
          "2016-02-22T00:00:00",
          "2016-02-23T00:00:00",
          "2016-02-24T00:00:00",
          "2016-02-25T00:00:00",
          "2016-02-26T00:00:00",
          "2016-02-27T00:00:00",
          "2016-02-28T00:00:00",
          "2016-02-29T00:00:00",
          "2016-03-01T00:00:00",
          "2016-03-02T00:00:00",
          "2016-03-03T00:00:00",
          "2016-03-04T00:00:00",
          "2016-03-05T00:00:00",
          "2016-03-06T00:00:00",
          "2016-03-07T00:00:00",
          "2016-03-08T00:00:00",
          "2016-03-09T00:00:00",
          "2016-03-10T00:00:00",
          "2016-03-11T00:00:00",
          "2016-03-12T00:00:00",
          "2016-03-13T00:00:00",
          "2016-03-14T00:00:00",
          "2016-03-15T00:00:00",
          "2016-03-16T00:00:00",
          "2016-03-17T00:00:00",
          "2016-03-18T00:00:00",
          "2016-03-19T00:00:00",
          "2016-03-20T00:00:00",
          "2016-03-21T00:00:00",
          "2016-03-22T00:00:00",
          "2016-03-23T00:00:00",
          "2016-03-24T00:00:00",
          "2016-03-25T00:00:00",
          "2016-03-26T00:00:00",
          "2016-03-27T00:00:00",
          "2016-03-28T00:00:00",
          "2016-03-29T00:00:00",
          "2016-03-30T00:00:00",
          "2016-03-31T00:00:00",
          "2016-04-01T00:00:00",
          "2016-04-02T00:00:00",
          "2016-04-03T00:00:00",
          "2016-04-04T00:00:00",
          "2016-04-05T00:00:00",
          "2016-04-06T00:00:00",
          "2016-04-07T00:00:00",
          "2016-04-08T00:00:00",
          "2016-04-09T00:00:00",
          "2016-04-10T00:00:00",
          "2016-04-11T00:00:00",
          "2016-04-12T00:00:00",
          "2016-04-13T00:00:00",
          "2016-04-14T00:00:00",
          "2016-04-15T00:00:00",
          "2016-04-16T00:00:00",
          "2016-04-17T00:00:00",
          "2016-04-18T00:00:00",
          "2016-04-19T00:00:00",
          "2016-04-20T00:00:00",
          "2016-04-21T00:00:00",
          "2016-04-22T00:00:00",
          "2016-04-23T00:00:00",
          "2016-04-24T00:00:00",
          "2016-04-25T00:00:00",
          "2016-04-26T00:00:00",
          "2016-04-27T00:00:00",
          "2016-04-28T00:00:00",
          "2016-04-29T00:00:00",
          "2016-04-30T00:00:00",
          "2016-05-01T00:00:00",
          "2016-05-02T00:00:00",
          "2016-05-03T00:00:00",
          "2016-05-04T00:00:00",
          "2016-05-05T00:00:00",
          "2016-05-06T00:00:00",
          "2016-05-07T00:00:00",
          "2016-05-08T00:00:00",
          "2016-05-09T00:00:00",
          "2016-05-10T00:00:00",
          "2016-05-11T00:00:00",
          "2016-05-12T00:00:00",
          "2016-05-13T00:00:00",
          "2016-05-14T00:00:00",
          "2016-05-15T00:00:00",
          "2016-05-16T00:00:00",
          "2016-05-17T00:00:00",
          "2016-05-18T00:00:00",
          "2016-05-19T00:00:00",
          "2016-05-20T00:00:00",
          "2016-05-21T00:00:00",
          "2016-05-22T00:00:00",
          "2016-05-23T00:00:00",
          "2016-05-24T00:00:00",
          "2016-05-25T00:00:00",
          "2016-05-26T00:00:00",
          "2016-05-27T00:00:00",
          "2016-05-28T00:00:00",
          "2016-05-29T00:00:00",
          "2016-05-30T00:00:00",
          "2016-05-31T00:00:00",
          "2016-06-01T00:00:00",
          "2016-06-02T00:00:00",
          "2016-06-03T00:00:00",
          "2016-06-04T00:00:00",
          "2016-06-05T00:00:00",
          "2016-06-06T00:00:00",
          "2016-06-07T00:00:00",
          "2016-06-08T00:00:00",
          "2016-06-09T00:00:00",
          "2016-06-10T00:00:00",
          "2016-06-11T00:00:00",
          "2016-06-12T00:00:00",
          "2016-06-13T00:00:00",
          "2016-06-14T00:00:00",
          "2016-06-15T00:00:00",
          "2016-06-16T00:00:00",
          "2016-06-17T00:00:00",
          "2016-06-18T00:00:00",
          "2016-06-19T00:00:00",
          "2016-06-20T00:00:00",
          "2016-06-21T00:00:00",
          "2016-06-22T00:00:00",
          "2016-06-23T00:00:00",
          "2016-06-24T00:00:00",
          "2016-06-25T00:00:00",
          "2016-06-26T00:00:00",
          "2016-06-27T00:00:00",
          "2016-06-28T00:00:00",
          "2016-06-29T00:00:00",
          "2016-06-30T00:00:00",
          "2016-07-01T00:00:00",
          "2016-07-02T00:00:00",
          "2016-07-03T00:00:00",
          "2016-07-04T00:00:00",
          "2016-07-05T00:00:00",
          "2016-07-06T00:00:00",
          "2016-07-07T00:00:00",
          "2016-07-08T00:00:00",
          "2016-07-09T00:00:00",
          "2016-07-10T00:00:00",
          "2016-07-11T00:00:00",
          "2016-07-12T00:00:00",
          "2016-07-13T00:00:00",
          "2016-07-14T00:00:00",
          "2016-07-15T00:00:00",
          "2016-07-16T00:00:00",
          "2016-07-17T00:00:00",
          "2016-07-18T00:00:00",
          "2016-07-19T00:00:00",
          "2016-07-20T00:00:00",
          "2016-07-21T00:00:00",
          "2016-07-22T00:00:00",
          "2016-07-23T00:00:00",
          "2016-07-24T00:00:00",
          "2016-07-25T00:00:00",
          "2016-07-26T00:00:00",
          "2016-07-27T00:00:00",
          "2016-07-28T00:00:00",
          "2016-07-29T00:00:00",
          "2016-07-30T00:00:00",
          "2016-07-31T00:00:00",
          "2016-08-01T00:00:00",
          "2016-08-02T00:00:00",
          "2016-08-03T00:00:00",
          "2016-08-04T00:00:00",
          "2016-08-05T00:00:00",
          "2016-08-06T00:00:00",
          "2016-08-07T00:00:00",
          "2016-08-08T00:00:00",
          "2016-08-09T00:00:00",
          "2016-08-10T00:00:00",
          "2016-08-11T00:00:00",
          "2016-08-12T00:00:00",
          "2016-08-13T00:00:00",
          "2016-08-14T00:00:00",
          "2016-08-15T00:00:00",
          "2016-08-16T00:00:00",
          "2016-08-17T00:00:00",
          "2016-08-18T00:00:00",
          "2016-08-19T00:00:00",
          "2016-08-20T00:00:00",
          "2016-08-21T00:00:00",
          "2016-08-22T00:00:00",
          "2016-08-23T00:00:00",
          "2016-08-24T00:00:00",
          "2016-08-25T00:00:00",
          "2016-08-26T00:00:00",
          "2016-08-27T00:00:00",
          "2016-08-28T00:00:00",
          "2016-08-29T00:00:00",
          "2016-08-30T00:00:00",
          "2016-08-31T00:00:00",
          "2016-09-01T00:00:00",
          "2016-09-02T00:00:00",
          "2016-09-03T00:00:00",
          "2016-09-04T00:00:00",
          "2016-09-05T00:00:00",
          "2016-09-06T00:00:00",
          "2016-09-07T00:00:00",
          "2016-09-08T00:00:00",
          "2016-09-09T00:00:00",
          "2016-09-10T00:00:00",
          "2016-09-11T00:00:00",
          "2016-09-12T00:00:00",
          "2016-09-13T00:00:00",
          "2016-09-14T00:00:00",
          "2016-09-15T00:00:00",
          "2016-09-16T00:00:00",
          "2016-09-17T00:00:00",
          "2016-09-18T00:00:00",
          "2016-09-19T00:00:00",
          "2016-09-20T00:00:00",
          "2016-09-21T00:00:00",
          "2016-09-22T00:00:00",
          "2016-09-23T00:00:00",
          "2016-09-24T00:00:00",
          "2016-09-25T00:00:00",
          "2016-09-26T00:00:00",
          "2016-09-27T00:00:00",
          "2016-09-28T00:00:00",
          "2016-09-29T00:00:00",
          "2016-09-30T00:00:00",
          "2016-10-01T00:00:00",
          "2016-10-02T00:00:00",
          "2016-10-03T00:00:00",
          "2016-10-04T00:00:00",
          "2016-10-05T00:00:00",
          "2016-10-06T00:00:00",
          "2016-10-07T00:00:00",
          "2016-10-08T00:00:00",
          "2016-10-09T00:00:00",
          "2016-10-10T00:00:00",
          "2016-10-11T00:00:00",
          "2016-10-12T00:00:00",
          "2016-10-13T00:00:00",
          "2016-10-14T00:00:00",
          "2016-10-15T00:00:00",
          "2016-10-16T00:00:00",
          "2016-10-17T00:00:00",
          "2016-10-18T00:00:00",
          "2016-10-19T00:00:00",
          "2016-10-20T00:00:00",
          "2016-10-21T00:00:00",
          "2016-10-22T00:00:00",
          "2016-10-23T00:00:00",
          "2016-10-24T00:00:00",
          "2016-10-25T00:00:00",
          "2016-10-26T00:00:00",
          "2016-10-27T00:00:00",
          "2016-10-28T00:00:00",
          "2016-10-29T00:00:00",
          "2016-10-30T00:00:00",
          "2016-10-31T00:00:00",
          "2016-11-01T00:00:00",
          "2016-11-02T00:00:00",
          "2016-11-03T00:00:00",
          "2016-11-04T00:00:00",
          "2016-11-05T00:00:00",
          "2016-11-06T00:00:00",
          "2016-11-07T00:00:00",
          "2016-11-08T00:00:00",
          "2016-11-09T00:00:00",
          "2016-11-10T00:00:00",
          "2016-11-11T00:00:00",
          "2016-11-12T00:00:00",
          "2016-11-13T00:00:00",
          "2016-11-14T00:00:00",
          "2016-11-15T00:00:00",
          "2016-11-16T00:00:00",
          "2016-11-17T00:00:00",
          "2016-11-18T00:00:00",
          "2016-11-19T00:00:00",
          "2016-11-20T00:00:00",
          "2016-11-21T00:00:00",
          "2016-11-22T00:00:00",
          "2016-11-23T00:00:00",
          "2016-11-24T00:00:00",
          "2016-11-25T00:00:00",
          "2016-11-26T00:00:00",
          "2016-11-27T00:00:00",
          "2016-11-28T00:00:00",
          "2016-11-29T00:00:00",
          "2016-11-30T00:00:00",
          "2016-12-01T00:00:00",
          "2016-12-02T00:00:00",
          "2016-12-03T00:00:00",
          "2016-12-04T00:00:00",
          "2016-12-05T00:00:00",
          "2016-12-06T00:00:00",
          "2016-12-07T00:00:00",
          "2016-12-08T00:00:00",
          "2016-12-09T00:00:00",
          "2016-12-10T00:00:00",
          "2016-12-11T00:00:00",
          "2016-12-12T00:00:00",
          "2016-12-13T00:00:00",
          "2016-12-14T00:00:00",
          "2016-12-15T00:00:00",
          "2016-12-16T00:00:00",
          "2016-12-17T00:00:00",
          "2016-12-18T00:00:00",
          "2016-12-19T00:00:00",
          "2016-12-20T00:00:00",
          "2016-12-21T00:00:00",
          "2016-12-22T00:00:00",
          "2016-12-23T00:00:00",
          "2016-12-24T00:00:00",
          "2016-12-25T00:00:00",
          "2016-12-26T00:00:00",
          "2016-12-27T00:00:00",
          "2016-12-28T00:00:00",
          "2016-12-29T00:00:00",
          "2016-12-30T00:00:00",
          "2016-12-31T00:00:00",
          "2017-01-01T00:00:00",
          "2017-01-02T00:00:00",
          "2017-01-03T00:00:00",
          "2017-01-04T00:00:00",
          "2017-01-05T00:00:00",
          "2017-01-06T00:00:00",
          "2017-01-07T00:00:00",
          "2017-01-08T00:00:00",
          "2017-01-09T00:00:00",
          "2017-01-10T00:00:00",
          "2017-01-11T00:00:00",
          "2017-01-12T00:00:00",
          "2017-01-13T00:00:00",
          "2017-01-14T00:00:00",
          "2017-01-15T00:00:00",
          "2017-01-16T00:00:00",
          "2017-01-17T00:00:00",
          "2017-01-18T00:00:00",
          "2017-01-19T00:00:00",
          "2017-01-20T00:00:00",
          "2017-01-21T00:00:00",
          "2017-01-22T00:00:00",
          "2017-01-23T00:00:00",
          "2017-01-24T00:00:00",
          "2017-01-25T00:00:00",
          "2017-01-26T00:00:00",
          "2017-01-27T00:00:00",
          "2017-01-28T00:00:00",
          "2017-01-29T00:00:00",
          "2017-01-30T00:00:00",
          "2017-01-31T00:00:00",
          "2017-02-01T00:00:00",
          "2017-02-02T00:00:00",
          "2017-02-03T00:00:00",
          "2017-02-04T00:00:00",
          "2017-02-05T00:00:00",
          "2017-02-06T00:00:00",
          "2017-02-07T00:00:00",
          "2017-02-08T00:00:00",
          "2017-02-09T00:00:00",
          "2017-02-10T00:00:00",
          "2017-02-11T00:00:00",
          "2017-02-12T00:00:00",
          "2017-02-13T00:00:00",
          "2017-02-14T00:00:00",
          "2017-02-15T00:00:00",
          "2017-02-16T00:00:00",
          "2017-02-17T00:00:00",
          "2017-02-18T00:00:00",
          "2017-02-19T00:00:00",
          "2017-02-20T00:00:00",
          "2017-02-21T00:00:00",
          "2017-02-22T00:00:00",
          "2017-02-23T00:00:00",
          "2017-02-24T00:00:00",
          "2017-02-25T00:00:00",
          "2017-02-26T00:00:00",
          "2017-02-27T00:00:00",
          "2017-02-28T00:00:00",
          "2017-03-01T00:00:00",
          "2017-03-02T00:00:00",
          "2017-03-03T00:00:00",
          "2017-03-04T00:00:00",
          "2017-03-05T00:00:00",
          "2017-03-06T00:00:00",
          "2017-03-07T00:00:00",
          "2017-03-08T00:00:00",
          "2017-03-09T00:00:00",
          "2017-03-10T00:00:00",
          "2017-03-11T00:00:00",
          "2017-03-12T00:00:00",
          "2017-03-13T00:00:00",
          "2017-03-14T00:00:00",
          "2017-03-15T00:00:00",
          "2017-03-16T00:00:00",
          "2017-03-17T00:00:00",
          "2017-03-18T00:00:00",
          "2017-03-19T00:00:00",
          "2017-03-20T00:00:00",
          "2017-03-21T00:00:00",
          "2017-03-22T00:00:00",
          "2017-03-23T00:00:00",
          "2017-03-24T00:00:00",
          "2017-03-25T00:00:00",
          "2017-03-26T00:00:00",
          "2017-03-27T00:00:00",
          "2017-03-28T00:00:00",
          "2017-03-29T00:00:00",
          "2017-03-30T00:00:00",
          "2017-03-31T00:00:00",
          "2017-04-01T00:00:00",
          "2017-04-02T00:00:00",
          "2017-04-03T00:00:00",
          "2017-04-04T00:00:00",
          "2017-04-05T00:00:00",
          "2017-04-06T00:00:00",
          "2017-04-07T00:00:00",
          "2017-04-08T00:00:00",
          "2017-04-09T00:00:00",
          "2017-04-10T00:00:00",
          "2017-04-11T00:00:00",
          "2017-04-12T00:00:00",
          "2017-04-13T00:00:00",
          "2017-04-14T00:00:00",
          "2017-04-15T00:00:00",
          "2017-04-16T00:00:00",
          "2017-04-17T00:00:00",
          "2017-04-18T00:00:00",
          "2017-04-19T00:00:00",
          "2017-04-20T00:00:00",
          "2017-04-21T00:00:00",
          "2017-04-22T00:00:00",
          "2017-04-23T00:00:00",
          "2017-04-24T00:00:00",
          "2017-04-25T00:00:00",
          "2017-04-26T00:00:00",
          "2017-04-27T00:00:00",
          "2017-04-28T00:00:00",
          "2017-04-29T00:00:00",
          "2017-04-30T00:00:00",
          "2017-05-01T00:00:00",
          "2017-05-02T00:00:00",
          "2017-05-03T00:00:00",
          "2017-05-04T00:00:00",
          "2017-05-05T00:00:00",
          "2017-05-06T00:00:00",
          "2017-05-07T00:00:00",
          "2017-05-08T00:00:00",
          "2017-05-09T00:00:00",
          "2017-05-10T00:00:00",
          "2017-05-11T00:00:00",
          "2017-05-12T00:00:00",
          "2017-05-13T00:00:00",
          "2017-05-14T00:00:00",
          "2017-05-15T00:00:00",
          "2017-05-16T00:00:00",
          "2017-05-17T00:00:00",
          "2017-05-18T00:00:00",
          "2017-05-19T00:00:00",
          "2017-05-20T00:00:00",
          "2017-05-21T00:00:00",
          "2017-05-22T00:00:00",
          "2017-05-23T00:00:00",
          "2017-05-24T00:00:00",
          "2017-05-25T00:00:00",
          "2017-05-26T00:00:00",
          "2017-05-27T00:00:00",
          "2017-05-28T00:00:00",
          "2017-05-29T00:00:00",
          "2017-05-30T00:00:00",
          "2017-05-31T00:00:00",
          "2017-06-01T00:00:00",
          "2017-06-02T00:00:00",
          "2017-06-03T00:00:00",
          "2017-06-04T00:00:00",
          "2017-06-05T00:00:00",
          "2017-06-06T00:00:00",
          "2017-06-07T00:00:00",
          "2017-06-08T00:00:00",
          "2017-06-09T00:00:00",
          "2017-06-10T00:00:00",
          "2017-06-11T00:00:00",
          "2017-06-12T00:00:00",
          "2017-06-13T00:00:00",
          "2017-06-14T00:00:00",
          "2017-06-15T00:00:00",
          "2017-06-16T00:00:00",
          "2017-06-17T00:00:00",
          "2017-06-18T00:00:00",
          "2017-06-19T00:00:00",
          "2017-06-20T00:00:00",
          "2017-06-21T00:00:00",
          "2017-06-22T00:00:00",
          "2017-06-23T00:00:00",
          "2017-06-24T00:00:00",
          "2017-06-25T00:00:00",
          "2017-06-26T00:00:00",
          "2017-06-27T00:00:00",
          "2017-06-28T00:00:00",
          "2017-06-29T00:00:00",
          "2017-06-30T00:00:00",
          "2017-07-01T00:00:00",
          "2017-07-02T00:00:00",
          "2017-07-03T00:00:00",
          "2017-07-04T00:00:00",
          "2017-07-05T00:00:00",
          "2017-07-06T00:00:00",
          "2017-07-07T00:00:00",
          "2017-07-08T00:00:00",
          "2017-07-09T00:00:00",
          "2017-07-10T00:00:00",
          "2017-07-11T00:00:00",
          "2017-07-12T00:00:00",
          "2017-07-13T00:00:00",
          "2017-07-14T00:00:00",
          "2017-07-15T00:00:00",
          "2017-07-16T00:00:00",
          "2017-07-17T00:00:00",
          "2017-07-18T00:00:00",
          "2017-07-19T00:00:00",
          "2017-07-20T00:00:00",
          "2017-07-21T00:00:00",
          "2017-07-22T00:00:00",
          "2017-07-23T00:00:00",
          "2017-07-24T00:00:00",
          "2017-07-25T00:00:00",
          "2017-07-26T00:00:00",
          "2017-07-27T00:00:00",
          "2017-07-28T00:00:00",
          "2017-07-29T00:00:00",
          "2017-07-30T00:00:00",
          "2017-07-31T00:00:00",
          "2017-08-01T00:00:00",
          "2017-08-02T00:00:00",
          "2017-08-03T00:00:00",
          "2017-08-04T00:00:00",
          "2017-08-05T00:00:00",
          "2017-08-06T00:00:00",
          "2017-08-07T00:00:00",
          "2017-08-08T00:00:00",
          "2017-08-09T00:00:00",
          "2017-08-10T00:00:00",
          "2017-08-11T00:00:00",
          "2017-08-12T00:00:00",
          "2017-08-13T00:00:00",
          "2017-08-14T00:00:00",
          "2017-08-15T00:00:00",
          "2017-08-16T00:00:00",
          "2017-08-17T00:00:00",
          "2017-08-18T00:00:00",
          "2017-08-19T00:00:00",
          "2017-08-20T00:00:00",
          "2017-08-21T00:00:00",
          "2017-08-22T00:00:00",
          "2017-08-23T00:00:00",
          "2017-08-24T00:00:00",
          "2017-08-25T00:00:00",
          "2017-08-26T00:00:00",
          "2017-08-27T00:00:00",
          "2017-08-28T00:00:00",
          "2017-08-29T00:00:00",
          "2017-08-30T00:00:00",
          "2017-08-31T00:00:00",
          "2017-09-01T00:00:00",
          "2017-09-02T00:00:00",
          "2017-09-03T00:00:00",
          "2017-09-04T00:00:00",
          "2017-09-05T00:00:00",
          "2017-09-06T00:00:00",
          "2017-09-07T00:00:00",
          "2017-09-08T00:00:00",
          "2017-09-09T00:00:00",
          "2017-09-10T00:00:00",
          "2017-09-11T00:00:00",
          "2017-09-12T00:00:00",
          "2017-09-13T00:00:00",
          "2017-09-14T00:00:00",
          "2017-09-15T00:00:00",
          "2017-09-16T00:00:00",
          "2017-09-17T00:00:00",
          "2017-09-18T00:00:00",
          "2017-09-19T00:00:00",
          "2017-09-20T00:00:00",
          "2017-09-21T00:00:00",
          "2017-09-22T00:00:00",
          "2017-09-23T00:00:00",
          "2017-09-24T00:00:00",
          "2017-09-25T00:00:00",
          "2017-09-26T00:00:00",
          "2017-09-27T00:00:00",
          "2017-09-28T00:00:00",
          "2017-09-29T00:00:00",
          "2017-09-30T00:00:00",
          "2017-10-01T00:00:00",
          "2017-10-02T00:00:00",
          "2017-10-03T00:00:00",
          "2017-10-04T00:00:00",
          "2017-10-05T00:00:00",
          "2017-10-06T00:00:00",
          "2017-10-07T00:00:00",
          "2017-10-08T00:00:00",
          "2017-10-09T00:00:00",
          "2017-10-10T00:00:00",
          "2017-10-11T00:00:00",
          "2017-10-12T00:00:00",
          "2017-10-13T00:00:00",
          "2017-10-14T00:00:00",
          "2017-10-15T00:00:00",
          "2017-10-16T00:00:00",
          "2017-10-17T00:00:00",
          "2017-10-18T00:00:00",
          "2017-10-19T00:00:00",
          "2017-10-20T00:00:00",
          "2017-10-21T00:00:00",
          "2017-10-22T00:00:00",
          "2017-10-23T00:00:00",
          "2017-10-24T00:00:00",
          "2017-10-25T00:00:00",
          "2017-10-26T00:00:00",
          "2017-10-27T00:00:00",
          "2017-10-28T00:00:00",
          "2017-10-29T00:00:00",
          "2017-10-30T00:00:00",
          "2017-10-31T00:00:00",
          "2017-11-01T00:00:00",
          "2017-11-02T00:00:00",
          "2017-11-03T00:00:00",
          "2017-11-04T00:00:00",
          "2017-11-05T00:00:00",
          "2017-11-06T00:00:00",
          "2017-11-07T00:00:00",
          "2017-11-08T00:00:00",
          "2017-11-09T00:00:00",
          "2017-11-10T00:00:00",
          "2017-11-11T00:00:00",
          "2017-11-12T00:00:00",
          "2017-11-13T00:00:00",
          "2017-11-14T00:00:00",
          "2017-11-15T00:00:00",
          "2017-11-16T00:00:00",
          "2017-11-17T00:00:00",
          "2017-11-18T00:00:00",
          "2017-11-19T00:00:00",
          "2017-11-20T00:00:00",
          "2017-11-21T00:00:00",
          "2017-11-22T00:00:00",
          "2017-11-23T00:00:00",
          "2017-11-24T00:00:00",
          "2017-11-25T00:00:00",
          "2017-11-26T00:00:00",
          "2017-11-27T00:00:00",
          "2017-11-28T00:00:00",
          "2017-11-29T00:00:00",
          "2017-11-30T00:00:00",
          "2017-12-01T00:00:00",
          "2017-12-02T00:00:00",
          "2017-12-03T00:00:00",
          "2017-12-04T00:00:00",
          "2017-12-05T00:00:00",
          "2017-12-06T00:00:00",
          "2017-12-07T00:00:00",
          "2017-12-08T00:00:00",
          "2017-12-09T00:00:00",
          "2017-12-10T00:00:00",
          "2017-12-11T00:00:00",
          "2017-12-12T00:00:00",
          "2017-12-13T00:00:00",
          "2017-12-14T00:00:00",
          "2017-12-15T00:00:00",
          "2017-12-16T00:00:00",
          "2017-12-17T00:00:00",
          "2017-12-18T00:00:00",
          "2017-12-19T00:00:00",
          "2017-12-20T00:00:00",
          "2017-12-21T00:00:00",
          "2017-12-22T00:00:00",
          "2017-12-23T00:00:00",
          "2017-12-24T00:00:00",
          "2017-12-25T00:00:00",
          "2017-12-26T00:00:00",
          "2017-12-27T00:00:00",
          "2017-12-28T00:00:00",
          "2017-12-29T00:00:00",
          "2017-12-30T00:00:00",
          "2017-12-31T00:00:00",
          "2018-01-01T00:00:00",
          "2018-01-02T00:00:00",
          "2018-01-03T00:00:00",
          "2018-01-04T00:00:00",
          "2018-01-05T00:00:00",
          "2018-01-06T00:00:00",
          "2018-01-07T00:00:00",
          "2018-01-08T00:00:00",
          "2018-01-09T00:00:00",
          "2018-01-10T00:00:00",
          "2018-01-11T00:00:00",
          "2018-01-12T00:00:00",
          "2018-01-13T00:00:00",
          "2018-01-14T00:00:00",
          "2018-01-15T00:00:00",
          "2018-01-16T00:00:00",
          "2018-01-17T00:00:00",
          "2018-01-18T00:00:00",
          "2018-01-19T00:00:00",
          "2018-01-20T00:00:00",
          "2018-01-21T00:00:00",
          "2018-01-22T00:00:00",
          "2018-01-23T00:00:00",
          "2018-01-24T00:00:00",
          "2018-01-25T00:00:00",
          "2018-01-26T00:00:00",
          "2018-01-27T00:00:00",
          "2018-01-28T00:00:00",
          "2018-01-29T00:00:00",
          "2018-01-30T00:00:00",
          "2018-01-31T00:00:00",
          "2018-02-01T00:00:00",
          "2018-02-02T00:00:00",
          "2018-02-03T00:00:00",
          "2018-02-04T00:00:00",
          "2018-02-05T00:00:00",
          "2018-02-06T00:00:00",
          "2018-02-07T00:00:00",
          "2018-02-08T00:00:00",
          "2018-02-09T00:00:00",
          "2018-02-10T00:00:00",
          "2018-02-11T00:00:00",
          "2018-02-12T00:00:00",
          "2018-02-13T00:00:00",
          "2018-02-14T00:00:00",
          "2018-02-15T00:00:00",
          "2018-02-16T00:00:00",
          "2018-02-17T00:00:00",
          "2018-02-18T00:00:00",
          "2018-02-19T00:00:00",
          "2018-02-20T00:00:00",
          "2018-02-21T00:00:00",
          "2018-02-22T00:00:00",
          "2018-02-23T00:00:00",
          "2018-02-24T00:00:00",
          "2018-02-25T00:00:00",
          "2018-02-26T00:00:00",
          "2018-02-27T00:00:00",
          "2018-02-28T00:00:00",
          "2018-03-01T00:00:00",
          "2018-03-02T00:00:00",
          "2018-03-03T00:00:00",
          "2018-03-04T00:00:00",
          "2018-03-05T00:00:00",
          "2018-03-06T00:00:00",
          "2018-03-07T00:00:00",
          "2018-03-08T00:00:00",
          "2018-03-09T00:00:00",
          "2018-03-10T00:00:00",
          "2018-03-11T00:00:00",
          "2018-03-12T00:00:00",
          "2018-03-13T00:00:00",
          "2018-03-14T00:00:00",
          "2018-03-15T00:00:00",
          "2018-03-16T00:00:00",
          "2018-03-17T00:00:00",
          "2018-03-18T00:00:00",
          "2018-03-19T00:00:00",
          "2018-03-20T00:00:00",
          "2018-03-21T00:00:00",
          "2018-03-22T00:00:00",
          "2018-03-23T00:00:00",
          "2018-03-24T00:00:00",
          "2018-03-25T00:00:00",
          "2018-03-26T00:00:00",
          "2018-03-27T00:00:00",
          "2018-03-28T00:00:00",
          "2018-03-29T00:00:00",
          "2018-03-30T00:00:00",
          "2018-03-31T00:00:00",
          "2018-04-01T00:00:00",
          "2018-04-02T00:00:00",
          "2018-04-03T00:00:00",
          "2018-04-04T00:00:00",
          "2018-04-05T00:00:00",
          "2018-04-06T00:00:00",
          "2018-04-07T00:00:00",
          "2018-04-08T00:00:00",
          "2018-04-09T00:00:00",
          "2018-04-10T00:00:00",
          "2018-04-11T00:00:00",
          "2018-04-12T00:00:00",
          "2018-04-13T00:00:00",
          "2018-04-14T00:00:00",
          "2018-04-15T00:00:00",
          "2018-04-16T00:00:00",
          "2018-04-17T00:00:00",
          "2018-04-18T00:00:00",
          "2018-04-19T00:00:00",
          "2018-04-20T00:00:00",
          "2018-04-21T00:00:00",
          "2018-04-22T00:00:00",
          "2018-04-23T00:00:00",
          "2018-04-24T00:00:00",
          "2018-04-25T00:00:00",
          "2018-04-26T00:00:00",
          "2018-04-27T00:00:00",
          "2018-04-28T00:00:00",
          "2018-04-29T00:00:00",
          "2018-04-30T00:00:00",
          "2018-05-01T00:00:00",
          "2018-05-02T00:00:00",
          "2018-05-03T00:00:00",
          "2018-05-04T00:00:00",
          "2018-05-05T00:00:00",
          "2018-05-06T00:00:00",
          "2018-05-07T00:00:00",
          "2018-05-08T00:00:00",
          "2018-05-09T00:00:00",
          "2018-05-10T00:00:00",
          "2018-05-11T00:00:00",
          "2018-05-12T00:00:00",
          "2018-05-13T00:00:00",
          "2018-05-14T00:00:00",
          "2018-05-15T00:00:00",
          "2018-05-16T00:00:00",
          "2018-05-17T00:00:00",
          "2018-05-18T00:00:00",
          "2018-05-19T00:00:00",
          "2018-05-20T00:00:00",
          "2018-05-21T00:00:00",
          "2018-05-22T00:00:00",
          "2018-05-23T00:00:00",
          "2018-05-24T00:00:00",
          "2018-05-25T00:00:00",
          "2018-05-26T00:00:00",
          "2018-05-27T00:00:00",
          "2018-05-28T00:00:00",
          "2018-05-29T00:00:00",
          "2018-05-30T00:00:00",
          "2018-05-31T00:00:00",
          "2018-06-01T00:00:00",
          "2018-06-02T00:00:00",
          "2018-06-03T00:00:00",
          "2018-06-04T00:00:00",
          "2018-06-05T00:00:00",
          "2018-06-06T00:00:00",
          "2018-06-07T00:00:00",
          "2018-06-08T00:00:00",
          "2018-06-09T00:00:00",
          "2018-06-10T00:00:00",
          "2018-06-11T00:00:00",
          "2018-06-12T00:00:00",
          "2018-06-13T00:00:00",
          "2018-06-14T00:00:00",
          "2018-06-15T00:00:00",
          "2018-06-16T00:00:00",
          "2018-06-17T00:00:00",
          "2018-06-18T00:00:00",
          "2018-06-19T00:00:00",
          "2018-06-20T00:00:00",
          "2018-06-21T00:00:00",
          "2018-06-22T00:00:00",
          "2018-06-23T00:00:00",
          "2018-06-24T00:00:00",
          "2018-06-25T00:00:00",
          "2018-06-26T00:00:00",
          "2018-06-27T00:00:00",
          "2018-06-28T00:00:00",
          "2018-06-29T00:00:00",
          "2018-06-30T00:00:00",
          "2018-07-01T00:00:00",
          "2018-07-02T00:00:00",
          "2018-07-03T00:00:00",
          "2018-07-04T00:00:00",
          "2018-07-05T00:00:00",
          "2018-07-06T00:00:00",
          "2018-07-07T00:00:00",
          "2018-07-08T00:00:00",
          "2018-07-09T00:00:00",
          "2018-07-10T00:00:00",
          "2018-07-11T00:00:00",
          "2018-07-12T00:00:00",
          "2018-07-13T00:00:00",
          "2018-07-14T00:00:00",
          "2018-07-15T00:00:00",
          "2018-07-16T00:00:00",
          "2018-07-17T00:00:00",
          "2018-07-18T00:00:00",
          "2018-07-19T00:00:00",
          "2018-07-20T00:00:00",
          "2018-07-21T00:00:00",
          "2018-07-22T00:00:00",
          "2018-07-23T00:00:00",
          "2018-07-24T00:00:00",
          "2018-07-25T00:00:00",
          "2018-07-26T00:00:00",
          "2018-07-27T00:00:00",
          "2018-07-28T00:00:00",
          "2018-07-29T00:00:00",
          "2018-07-30T00:00:00",
          "2018-07-31T00:00:00",
          "2018-08-01T00:00:00",
          "2018-08-02T00:00:00",
          "2018-08-03T00:00:00",
          "2018-08-04T00:00:00",
          "2018-08-05T00:00:00",
          "2018-08-06T00:00:00",
          "2018-08-07T00:00:00",
          "2018-08-08T00:00:00",
          "2018-08-09T00:00:00",
          "2018-08-10T00:00:00",
          "2018-08-11T00:00:00",
          "2018-08-12T00:00:00",
          "2018-08-13T00:00:00",
          "2018-08-14T00:00:00",
          "2018-08-15T00:00:00",
          "2018-08-16T00:00:00",
          "2018-08-17T00:00:00",
          "2018-08-18T00:00:00",
          "2018-08-19T00:00:00",
          "2018-08-20T00:00:00",
          "2018-08-21T00:00:00",
          "2018-08-22T00:00:00",
          "2018-08-23T00:00:00",
          "2018-08-24T00:00:00",
          "2018-08-25T00:00:00",
          "2018-08-26T00:00:00",
          "2018-08-27T00:00:00",
          "2018-08-28T00:00:00",
          "2018-08-29T00:00:00",
          "2018-08-30T00:00:00",
          "2018-08-31T00:00:00",
          "2018-09-01T00:00:00",
          "2018-09-02T00:00:00",
          "2018-09-03T00:00:00",
          "2018-09-04T00:00:00",
          "2018-09-05T00:00:00",
          "2018-09-06T00:00:00",
          "2018-09-07T00:00:00",
          "2018-09-08T00:00:00",
          "2018-09-09T00:00:00",
          "2018-09-10T00:00:00",
          "2018-09-11T00:00:00",
          "2018-09-12T00:00:00",
          "2018-09-13T00:00:00",
          "2018-09-14T00:00:00",
          "2018-09-15T00:00:00",
          "2018-09-16T00:00:00",
          "2018-09-17T00:00:00",
          "2018-09-18T00:00:00",
          "2018-09-19T00:00:00",
          "2018-09-20T00:00:00",
          "2018-09-21T00:00:00",
          "2018-09-22T00:00:00",
          "2018-09-23T00:00:00",
          "2018-09-24T00:00:00",
          "2018-09-25T00:00:00",
          "2018-09-26T00:00:00",
          "2018-09-27T00:00:00",
          "2018-09-28T00:00:00",
          "2018-09-29T00:00:00",
          "2018-09-30T00:00:00",
          "2018-10-01T00:00:00",
          "2018-10-02T00:00:00",
          "2018-10-03T00:00:00",
          "2018-10-04T00:00:00",
          "2018-10-05T00:00:00",
          "2018-10-06T00:00:00",
          "2018-10-07T00:00:00",
          "2018-10-08T00:00:00",
          "2018-10-09T00:00:00",
          "2018-10-10T00:00:00",
          "2018-10-11T00:00:00",
          "2018-10-12T00:00:00",
          "2018-10-13T00:00:00",
          "2018-10-14T00:00:00",
          "2018-10-15T00:00:00",
          "2018-10-16T00:00:00",
          "2018-10-17T00:00:00",
          "2018-10-18T00:00:00",
          "2018-10-19T00:00:00",
          "2018-10-20T00:00:00",
          "2018-10-21T00:00:00",
          "2018-10-22T00:00:00",
          "2018-10-23T00:00:00",
          "2018-10-24T00:00:00",
          "2018-10-25T00:00:00",
          "2018-10-26T00:00:00",
          "2018-10-27T00:00:00",
          "2018-10-28T00:00:00",
          "2018-10-29T00:00:00",
          "2018-10-30T00:00:00",
          "2018-10-31T00:00:00",
          "2018-11-01T00:00:00",
          "2018-11-02T00:00:00",
          "2018-11-03T00:00:00",
          "2018-11-04T00:00:00",
          "2018-11-05T00:00:00",
          "2018-11-06T00:00:00",
          "2018-11-07T00:00:00",
          "2018-11-08T00:00:00",
          "2018-11-09T00:00:00",
          "2018-11-10T00:00:00",
          "2018-11-11T00:00:00",
          "2018-11-12T00:00:00",
          "2018-11-13T00:00:00",
          "2018-11-14T00:00:00",
          "2018-11-15T00:00:00",
          "2018-11-16T00:00:00",
          "2018-11-17T00:00:00",
          "2018-11-18T00:00:00",
          "2018-11-19T00:00:00",
          "2018-11-20T00:00:00",
          "2018-11-21T00:00:00",
          "2018-11-22T00:00:00",
          "2018-11-23T00:00:00",
          "2018-11-24T00:00:00",
          "2018-11-25T00:00:00",
          "2018-11-26T00:00:00",
          "2018-11-27T00:00:00",
          "2018-11-28T00:00:00",
          "2018-11-29T00:00:00",
          "2018-11-30T00:00:00",
          "2018-12-01T00:00:00",
          "2018-12-02T00:00:00",
          "2018-12-03T00:00:00",
          "2018-12-04T00:00:00",
          "2018-12-05T00:00:00",
          "2018-12-06T00:00:00",
          "2018-12-07T00:00:00",
          "2018-12-08T00:00:00",
          "2018-12-09T00:00:00",
          "2018-12-10T00:00:00",
          "2018-12-11T00:00:00",
          "2018-12-12T00:00:00",
          "2018-12-13T00:00:00",
          "2018-12-14T00:00:00",
          "2018-12-15T00:00:00",
          "2018-12-16T00:00:00",
          "2018-12-17T00:00:00",
          "2018-12-18T00:00:00",
          "2018-12-19T00:00:00",
          "2018-12-20T00:00:00",
          "2018-12-21T00:00:00",
          "2018-12-22T00:00:00",
          "2018-12-23T00:00:00",
          "2018-12-24T00:00:00",
          "2018-12-25T00:00:00",
          "2018-12-26T00:00:00",
          "2018-12-27T00:00:00",
          "2018-12-28T00:00:00",
          "2018-12-29T00:00:00",
          "2018-12-30T00:00:00"
         ],
         "xaxis": "x",
         "y": [
          6.417787092340142,
          8.4776579324187,
          7.037626574362702,
          7.00769665069884,
          7.160065879367999,
          7.095649219002064,
          7.137384181236824,
          5.189991401371795,
          7.928216381809975,
          5.986984926296898,
          6.270107049561635,
          5.971374640691848,
          4.659181237576104,
          4.742167549106304,
          2.9393687590113227,
          2.6723127742354222,
          2.319118840249413,
          0.6820081514434329,
          -1.1230229383757253,
          -0.8334768397234905,
          0.047892135231169426,
          4.515657051007327,
          6.340152860516721,
          9.130941251340357,
          9.074569454023104,
          9.109354002738113,
          10.289824026910432,
          6.081732816838249,
          7.403031826963746,
          7.867186892458091,
          9.479017159150349,
          10.611550877595565,
          8.715908046234393,
          5.851001103494338,
          7.661869493101589,
          8.881239648118646,
          9.635203346466907,
          7.392976495470057,
          8.174335245785173,
          5.469343401194401,
          4.5053070449806505,
          3.774362778500941,
          3.8259781811682245,
          5.829309770238001,
          4.995441560199463,
          3.392515236913694,
          2.2888228555822137,
          0.778120332457023,
          2.5674973338124834,
          4.833744843640378,
          9.71248198657146,
          9.989603569306306,
          9.240952443603977,
          5.577684240172084,
          3.66875090293882,
          3.2282363625692847,
          3.5461491943623438,
          3.238126582360507,
          3.526998123146137,
          3.6646098145056816,
          6.132988030812241,
          6.637586055494509,
          6.3815956024330776,
          5.1295176870380335,
          3.584257568768394,
          3.813882666018545,
          3.1693974033126175,
          4.277777265477692,
          5.9812483412137185,
          5.905579604135407,
          5.664528935264357,
          4.834906203084271,
          4.904590671253828,
          5.092565448937907,
          5.80026420662367,
          5.670443657279184,
          5.9594362047490055,
          4.561247040502507,
          5.329718797671999,
          5.520869759242764,
          6.3369581612278445,
          6.618625639276555,
          5.9516758506926335,
          6.782701600648239,
          8.33082950637232,
          9.351342185710351,
          8.395805966828423,
          8.274966612460014,
          8.497082658074417,
          7.593569843563822,
          6.608091778402969,
          6.744324771214205,
          6.458580237054442,
          11.4336481122324,
          9.953098965570703,
          8.885220698980774,
          8.130924792826592,
          6.943191156725296,
          7.565869781584163,
          6.367103996035861,
          8.531705718484645,
          9.610127272083146,
          10.051641051313847,
          10.53361272305403,
          9.629312354915054,
          10.739341046574214,
          8.064949840205509,
          5.586345543365314,
          6.645560347376396,
          8.860492126593106,
          11.054534910282303,
          13.0486208610845,
          11.065786401766124,
          7.1672737580219295,
          5.240872969269393,
          7.177236924613938,
          5.626296962719958,
          5.285221787779305,
          6.250141156623231,
          7.267507984169014,
          7.061713031397254,
          8.142948213970602,
          10.218459341254952,
          9.310086837232847,
          10.350332234534322,
          12.656044203479285,
          14.722097514610184,
          15.998786747595187,
          17.462942873355768,
          15.682338152647159,
          14.843908927378065,
          13.70066744330691,
          13.346612053176376,
          13.094523808751875,
          8.952498014966693,
          9.908168608713732,
          10.410554446746213,
          11.268908852214,
          10.951414143985282,
          11.734683482653406,
          14.397315462850365,
          15.966008957339005,
          12.06398937258449,
          11.340550967015423,
          10.206138538663392,
          11.726200913744933,
          14.25247971264019,
          15.298824740830554,
          14.523041583564401,
          13.408410480854432,
          12.505222606896265,
          11.723472162529275,
          12.334469176019862,
          11.38077627214406,
          11.016169877291311,
          12.669669317022228,
          14.273501979654586,
          16.829597620265393,
          16.63083681336637,
          15.899374721668385,
          15.806535256350482,
          16.254314959490742,
          15.724944796369849,
          14.627852664170442,
          13.946811879682071,
          13.314048118962747,
          13.328619510156138,
          13.57299746937222,
          13.880769335782086,
          13.614050448382342,
          14.942195032261036,
          14.92479985675708,
          16.53329840279354,
          20.062179549535117,
          19.730935135812334,
          16.250184779443956,
          14.508168602885215,
          14.518444578860286,
          15.381927346656026,
          15.51910009585088,
          14.750467523894276,
          16.266164385256197,
          15.347024804149331,
          14.004999596984298,
          13.897030579242072,
          15.91810734713519,
          15.318432557964497,
          14.846893328603546,
          17.11149323815572,
          17.40936433326555,
          18.838662581824362,
          18.37755382830729,
          16.68788230505849,
          14.91769480195991,
          13.58090661398056,
          13.798415389996718,
          15.114547574726783,
          17.767548346790544,
          19.2220306105633,
          21.54389775908451,
          25.49651656586477,
          21.507808550290783,
          17.19905797957708,
          17.67142079338596,
          17.529732303739706,
          18.135827276441788,
          17.820732903967606,
          15.589464771812034,
          16.665458335165816,
          17.752967314459422,
          17.519307776008993,
          16.49707910083589,
          16.673235806056432,
          15.49583975009951,
          17.048244689838313,
          17.59299597615162,
          15.891661714345839,
          15.672749156683263,
          16.691094231045863,
          18.585738210668584,
          16.327716754842573,
          14.530819282168604,
          13.252962484941795,
          14.92007551362693,
          16.99599714338793,
          17.17876515583905,
          17.753405676236326,
          18.450801349319555,
          18.975789783619067,
          19.90864857920894,
          17.942119183742847,
          16.061812378572647,
          16.337005020070958,
          15.745639228820801,
          18.714997219207337,
          22.471991480343924,
          23.01220655477669,
          22.486615780269712,
          20.728096437168126,
          22.63113014587229,
          19.072716661735818,
          16.973100721658394,
          17.2407744722766,
          17.46077181008037,
          16.760433528839876,
          17.024711864539213,
          18.666565162164193,
          17.423647453252066,
          17.656690652156737,
          18.851516619278048,
          19.863094703789244,
          16.74958580560469,
          16.858618417270517,
          17.76172147150393,
          17.492157736574654,
          20.29582223896629,
          22.66968051319702,
          18.762076897147974,
          16.3314741640034,
          14.601619301411906,
          13.653226477747397,
          15.217271260861997,
          15.141837247212727,
          14.754426154383907,
          14.637324438780102,
          14.76302874151916,
          14.775567605649405,
          16.14860640564089,
          14.497841457318208,
          13.434089647802669,
          15.594775094406717,
          16.42098052693998,
          14.99219999697366,
          13.274549732502637,
          12.05095041368443,
          11.373534830315503,
          10.996889238400554,
          12.626291355699415,
          11.689991375626137,
          9.204081569366098,
          10.18359709993711,
          11.445562212870001,
          10.028062156781758,
          8.059672998995214,
          7.164928537586181,
          7.908003008889361,
          8.200311829702882,
          9.645305097048686,
          11.123445825262385,
          12.751942974664313,
          12.227632386834173,
          9.993600159650967,
          9.360634427036329,
          9.880916760055863,
          9.339019223052189,
          8.14526186629842,
          7.386124587942053,
          10.514936384064507,
          10.816191736413282,
          9.974661683850375,
          10.395503467241651,
          10.3178233377238,
          10.757344593838502,
          10.773918630025106,
          11.469570377186953,
          9.562744497411131,
          8.028662013924713,
          5.220875320846389,
          6.769054700773026,
          7.000039395026949,
          4.699715747739073,
          5.4017361966668505,
          4.862046412621853,
          7.878925365925327,
          8.50271316873921,
          6.259283446217391,
          5.785086232824872,
          8.679928733438876,
          8.110051731238894,
          11.556716394160633,
          11.41060599478098,
          10.496608806154958,
          6.862085118082954,
          6.235258335842584,
          10.24669909304035,
          11.094306453256369,
          8.35250988639217,
          8.425382023498928,
          9.47104822556867,
          6.764077529013655,
          7.194802512052776,
          6.724762833798835,
          4.087012432214114,
          0.29111488182702805,
          0.7203601340328765,
          2.1463440169365193,
          4.072147825782234,
          4.383041395399306,
          1.4117748311360676,
          4.473788928699207,
          6.167067254548144,
          7.60549853131547,
          6.875286810980903,
          6.9294812554253475,
          6.9258696866522085,
          6.170044306165116,
          5.438492255316841,
          7.96112008327908,
          5.898036955091689,
          5.474567484969576,
          6.164094237872783,
          4.166701395876773,
          3.2963748515619535,
          3.827973280261392,
          3.026514714387211,
          4.985921525004668,
          6.765164772028172,
          4.737815806261162,
          7.590642178005642,
          9.302256436392733,
          7.827751529284476,
          2.3949910767311433,
          2.9363848855448653,
          0.37584411345384405,
          -1.307191264704082,
          -2.804364546887068,
          -0.8254738257018579,
          1.974719948741573,
          0.299560866186801,
          3.613583783061418,
          1.91504371962124,
          -0.2985354085566799,
          1.954820218487073,
          6.463057384914822,
          6.956770452633653,
          6.02496726820204,
          7.876410558814803,
          5.675041202563693,
          3.3208929677277665,
          3.277251890309157,
          3.976474583301466,
          3.0905384791246218,
          -0.7200193057032306,
          -1.4718706154024408,
          -1.4161903894653671,
          -2.5182109302703233,
          -2.7384507497151693,
          -0.320690492246042,
          -0.20413870619218025,
          0.5476162383390207,
          -1.0003726137986304,
          -0.9616545899846681,
          3.6088557269403845,
          6.305773235028356,
          5.421944254557292,
          9.052441993296366,
          9.854762143991078,
          9.222406814656246,
          9.332100044696034,
          6.985605454032928,
          5.540063906884258,
          5.837305055189837,
          5.419022793635747,
          6.793587492575266,
          4.7593540288579455,
          2.821856480339099,
          1.6266438721804097,
          0.6549667246643927,
          2.336790949575624,
          6.8651281812517375,
          8.035911326405449,
          9.00821314902944,
          6.315566404554579,
          5.512823020454935,
          5.164799544106246,
          5.702364439222547,
          8.964552951297843,
          9.370266644545005,
          9.57134024926469,
          8.478080418622069,
          4.942300814524639,
          5.703609674287971,
          9.051231539425604,
          7.394475128489632,
          5.182120986680543,
          7.635118021968206,
          7.227457706594051,
          9.256644624042156,
          7.666936476124056,
          6.489914615207248,
          5.933433913757392,
          6.609438401957909,
          9.97028902496599,
          10.778421663770489,
          9.757452793420189,
          9.77057119764032,
          8.964812045363379,
          8.830541309233977,
          7.659994377039139,
          9.671674248229499,
          9.810766576479088,
          8.439841405542188,
          9.613450713712794,
          10.253964645385743,
          9.850936722621631,
          7.3390598399298534,
          5.889839840507634,
          7.069124317190387,
          8.24911999934288,
          9.878857425945368,
          9.895201854869049,
          10.921436920216918,
          10.434900859398876,
          12.954759978781729,
          15.068824205061519,
          12.917570433952939,
          9.978904524879152,
          9.30101989049229,
          9.991041983258851,
          9.461681190847777,
          9.910347976996079,
          8.659541442806297,
          9.554274123979818,
          12.164531261564198,
          14.454357044462572,
          10.141136413577652,
          8.7247718387514,
          8.79309252528118,
          9.469391650634137,
          9.301737387809442,
          9.748032519347014,
          8.818063212689868,
          8.871880138861753,
          7.120777171801199,
          6.250448727097022,
          6.059334201911615,
          8.841003866047037,
          9.221486070172622,
          8.341325082213396,
          9.027573416563838,
          6.359308098327801,
          4.583325088685854,
          5.767037790125516,
          8.100891782881222,
          9.748713455073888,
          9.581430511822983,
          8.700368918462328,
          10.168616546561184,
          9.21804329112021,
          10.264699702397682,
          11.42083194153874,
          10.50773195895776,
          10.42475677328693,
          8.880414351042326,
          9.752516448403737,
          12.179500963186245,
          13.614072485955695,
          13.973722151762793,
          13.52576187236889,
          13.155930533093425,
          15.938453731423929,
          18.796960936106938,
          17.549225058832665,
          11.59351723829277,
          10.080484810134068,
          10.975565245316755,
          13.73803972938268,
          16.477172420829845,
          15.503011670847103,
          15.8284894744405,
          18.252061334786465,
          19.89689027990196,
          19.275968974317475,
          19.601652284634493,
          18.13161343567647,
          14.720238322599286,
          14.977364952704042,
          17.970094046656396,
          18.039310306893128,
          13.668372845398299,
          13.72813320901333,
          14.695890526131684,
          12.242231990716212,
          13.466033976794115,
          16.955631758639814,
          15.796087751124098,
          18.160234305378943,
          17.449484077144813,
          14.013162940897118,
          15.329324624169388,
          19.606389012148487,
          17.971068043387866,
          15.52602419343263,
          18.448973220327627,
          21.103332387063045,
          22.843958480158037,
          24.32767939867016,
          25.470076142118977,
          19.75459845151293,
          16.07327376795674,
          17.468943699653902,
          18.026038408937403,
          18.7509956782438,
          17.18255163184907,
          15.78693785487671,
          14.837244886287197,
          14.581668863625731,
          14.915964340686932,
          15.577594214568174,
          15.553007376024697,
          17.52515075980926,
          20.88336498866884,
          23.36255853660864,
          20.902345901758444,
          19.371180878411547,
          19.594230020312807,
          16.823751648517415,
          16.877957892333338,
          16.874668420790982,
          17.01137304492482,
          15.409651222146348,
          16.625339655998562,
          18.308346543542847,
          20.000189543075116,
          23.44250209889604,
          21.19072573852539,
          16.27908768162222,
          16.30100842661644,
          15.011719190882943,
          14.902709092881944,
          15.146080182863296,
          16.557066717887132,
          16.340066992681372,
          16.417746205360633,
          17.077770713912987,
          19.43722351043696,
          17.79777528212107,
          16.44880306947982,
          16.825492479473034,
          18.129865917871008,
          18.60405162643358,
          17.39224874006556,
          16.018461067817757,
          14.872657362152156,
          16.083374189126804,
          14.172492009264863,
          13.716970183425353,
          14.186646020028839,
          15.277731342237235,
          15.44028046047897,
          15.517324001213051,
          17.668391839924166,
          18.106157548432353,
          17.03602405391362,
          18.207709013885296,
          16.860037865030034,
          14.843088204372787,
          15.285146513455729,
          17.74110335870783,
          19.832636236678027,
          17.65594425606333,
          16.709818883905626,
          17.870134744815324,
          18.735038988774903,
          19.55632414678905,
          21.379267072788913,
          22.050188206786007,
          14.551074722429757,
          13.825248766347032,
          13.709462584458942,
          13.844721000724666,
          13.382298225670244,
          16.92789722957502,
          17.3150821972149,
          14.715105180775192,
          14.47032487906998,
          14.666201599817935,
          12.988263942107823,
          13.69101979709883,
          13.04944984405395,
          13.600210999260877,
          13.872682695628326,
          11.858732213231681,
          10.39927134869158,
          10.014956221563281,
          10.584010398963521,
          10.766588116317395,
          11.686002875856305,
          11.882376005435113,
          13.36463381043074,
          12.71829478115732,
          12.697528519718652,
          15.699611622485584,
          15.399330060716428,
          15.24626399427139,
          14.982666242824036,
          16.119032084135764,
          15.947786203025105,
          13.755943327590732,
          14.841009038289387,
          15.241795220056533,
          11.969144375640145,
          11.17040157800599,
          11.893149400768184,
          9.93749927750982,
          10.820435216303792,
          12.617272295730885,
          12.664239141446535,
          13.58139969432438,
          14.343052723021199,
          15.047986550503786,
          15.289909185643149,
          14.513443902010705,
          16.918409190593053,
          17.488207170115338,
          13.60394983064813,
          14.480263814773021,
          14.519905211325712,
          12.345652295722337,
          12.629869002528677,
          10.27141777190882,
          12.177821704206007,
          15.070552881951325,
          13.77838085762513,
          12.008472645645279,
          11.043429499870612,
          9.620368363778976,
          11.505399759437523,
          7.589329761427258,
          6.610642384047924,
          8.320825412320247,
          9.73809503414935,
          11.119526029684867,
          11.289079799341609,
          6.979788468608499,
          5.480447364504358,
          4.802116200060634,
          6.882867015476082,
          8.069074226729455,
          10.172835286340582,
          10.992401728876791,
          8.514321478335777,
          5.980933217220474,
          6.351956626051199,
          8.687006757052078,
          7.770931720651594,
          7.1499001710282775,
          6.352707607799697,
          7.107927479407831,
          8.402071400855874,
          10.058335882777884,
          11.061720744775894,
          11.514002835189453,
          8.105251021535405,
          4.647075453856005,
          4.598241284617195,
          7.402351952236813,
          5.206208050623557,
          3.297517302315387,
          2.6423836353401984,
          2.535330096152173,
          1.70970598682421,
          4.3306003030576665,
          6.5870661544648605,
          6.8021858216621,
          6.247477163131582,
          5.887653905058537,
          3.713219216240777,
          2.322130381266276,
          6.084409990008125,
          4.777675651987106,
          3.2168215251931365,
          7.1155174025896235,
          4.91304947783468,
          4.731989560088382,
          4.419558482321923,
          4.66498916873563,
          6.061623862491465,
          2.5240114573917216,
          6.76496514448014,
          8.918981302897135,
          8.817140709557881,
          8.587914276123048,
          8.181733975210962,
          6.240605247895291,
          5.983854862591167,
          4.3177461036939295,
          2.6162858249682364,
          5.7210169314331365,
          11.806699570841928,
          10.580848568349959,
          7.143853156311669,
          8.311598010898301,
          9.045014296299426,
          10.431762489912419,
          7.729025234964776,
          5.5398824841481,
          4.6195907350178365,
          4.310815169133357,
          5.462851003086661,
          6.650336499250867,
          4.817223025884808,
          4.4839742781153635,
          3.68846592204013,
          2.665361166302684,
          6.868723945087977,
          6.808004699134338,
          5.360092751039278,
          8.272201951851127,
          4.849153341409002,
          7.382547555749312,
          7.695274124917572,
          9.7819879823918,
          9.39851043295565,
          10.871580997224745,
          7.33453034591957,
          5.426368047820276,
          4.773288390625558,
          9.024628586784171,
          9.069958291322502,
          8.459447561166574,
          7.270781779645958,
          4.36016169843265,
          4.121424088703334,
          3.7521843209362125,
          2.6394809478875616,
          0.12048143134894178,
          0.7711064665659704,
          0.32465614633733897,
          0.6892879306660595,
          1.9086572915428945,
          2.833851069620211,
          4.933533223470052,
          2.3899201830567796,
          1.8279125315499234,
          2.5926128225026734,
          7.6771963240650445,
          4.303157014566228,
          4.653992884247391,
          4.713429419437815,
          6.287646321674972,
          6.272612581350482,
          2.798982501575299,
          1.1447111540927672,
          0.26629445042142746,
          0.8684167149251348,
          0.2282308812452352,
          -2.1729103309741378,
          -3.4900421998761884,
          -4.166762410413037,
          -1.656986109931553,
          2.8993626524954554,
          5.05509187271775,
          5.37790643951187,
          6.67082394764194,
          6.289905224984107,
          5.544710194607083,
          6.137660387151849,
          8.696503682347872,
          11.541520173700006,
          10.981193375363262,
          8.805318717269211,
          7.437768007421193,
          8.314586953859072,
          9.136196321850123,
          7.712289633192458,
          2.7556959770821234,
          0.7706932357594937,
          0.2244135684025571,
          2.7039417951300435,
          3.224724246560681,
          4.6539516635078515,
          5.970679398706248,
          7.730783249633262,
          7.818242880751724,
          7.533691855780982,
          7.979873395886261,
          7.19400056086023,
          5.490806775523833,
          5.721056494841704,
          5.804755767616066,
          7.034571761053962,
          9.864848631918816,
          10.044393278368828,
          9.530991632502468,
          7.499574034857047,
          10.911579644630347,
          12.343320033786533,
          11.546902558276992,
          11.034525830223938,
          10.562571127827933,
          10.56183685602095,
          9.587210924522426,
          10.268139230154611,
          10.103156348334418,
          10.731090761468558,
          10.4198612795196,
          12.99208803216091,
          16.197112702651463,
          17.45560608882434,
          17.439482177734376,
          17.944902746784837,
          16.107282005875543,
          11.007526139350949,
          12.019258978874197,
          10.986761419332508,
          9.718286905628329,
          10.796583837651896,
          10.428362248990123,
          8.234569172096474,
          5.454054249910689,
          8.01593042839898,
          8.68052871121692,
          9.09369580531217,
          10.092878426445855,
          13.240833006510272,
          16.382367377096262,
          17.71467839657542,
          15.175149009967672,
          12.353744045125804,
          10.636111063720662,
          12.708995706958,
          10.71319465961597,
          9.95705787211925,
          11.69491524579161,
          13.087041704761168,
          12.533529918743913,
          11.411600893704748,
          10.326359004820675,
          11.043883858551496,
          12.713198525625568,
          14.637687991333856,
          14.768937408086,
          13.395275688913546,
          14.794910410931516,
          14.808936077319432,
          18.308510471034694,
          18.921499221195102,
          18.315899683978106,
          16.568044223739218,
          17.66665408648622,
          17.13829465800459,
          15.457586911185237,
          15.70177974013595,
          17.754255898956004,
          16.47287362116456,
          14.497761329081332,
          14.51349785610268,
          17.311465554708963,
          17.481776800333236,
          17.067133444326895,
          17.333496576136593,
          16.562590744425318,
          14.91400608302106,
          14.038804919099155,
          14.269849888553107,
          14.527940362076384,
          14.663875547820464,
          14.964355275472006,
          16.263502696183565,
          17.18346232946063,
          18.42146685461264,
          14.433319342822783,
          13.630699201800688,
          14.730234669965943,
          16.15133624088502,
          17.53662324547834,
          18.628156753797235,
          18.931457944529722,
          19.33902362951081,
          19.872014059362407,
          21.077781023369706,
          22.44796577519941,
          21.171549905004,
          20.162784806033642,
          19.822217313594226,
          18.604594998299646,
          19.349423550526968,
          21.045940968277893,
          20.99304044801794,
          20.05156279760944,
          17.28574582363697,
          16.64932712973674,
          17.27407263378322,
          18.93151636045952,
          19.607395791744,
          19.949786715561807,
          19.769541424818442,
          18.09893318645024,
          18.987841484447042,
          20.065481153614734,
          17.21308783927633,
          17.286299771694768,
          18.756206478069043,
          20.420521069561676,
          20.954729729072408,
          21.280926696240982,
          23.733984934911817,
          21.40154282082064,
          18.604391365869137,
          18.462388353876143,
          20.348785805594943,
          18.94058261019675,
          18.55935273473081,
          20.12759346074356,
          22.675453948396438,
          21.680769656821624,
          20.885941785341732,
          22.5166316986084,
          21.591374325065882,
          18.279772995034957,
          14.637390930284896,
          15.452521493424586,
          17.3789176235379,
          18.61559521699727,
          17.26213947738881,
          17.65687472567491,
          17.93132160922937,
          17.59248528898808,
          16.042545057987613,
          15.801496480640612,
          18.204910179606657,
          19.198994700113932,
          18.885167048788045,
          18.59530413309733,
          17.59602757941352,
          14.754848279941877,
          13.374236706203884,
          14.826760599772136,
          16.142892834234235,
          16.876479327246038,
          15.454941584528099,
          14.824374623016157,
          15.52415018717448,
          15.860903634118454,
          15.468947075737848,
          16.214183217445164,
          16.1659868689643,
          16.515260435316296,
          16.09640956691082,
          14.581059865315755,
          14.573916868421767,
          16.804969636705188,
          16.288262439838746,
          17.296479031410904,
          16.519105944746517,
          14.169283547317773,
          12.640759976704915,
          13.647667891519111,
          14.950650437672932,
          17.95654944202356,
          18.461036314574056,
          17.822090313771426,
          18.532536912466085,
          14.193735507414035,
          13.329489598271875,
          14.034003521389431,
          10.271029908799669,
          10.09143077616106,
          11.52623508687605,
          14.66332079556222,
          13.458895991141336,
          10.659450867301539,
          10.162383654501806,
          10.686603879285496,
          12.610206538233264,
          14.416633068938602,
          13.935533865099357,
          14.255870987511102,
          13.044092281769684,
          11.33637017815551,
          10.12842655436198,
          13.202836896751428,
          16.402419578474667,
          15.928368882921006,
          16.71341989024347,
          18.823533616807726,
          17.346035683525933,
          16.337865346272785,
          14.580565369599073,
          12.994545845510961,
          13.410934380028605,
          11.429551887711009,
          10.160881861530727,
          10.604962723715264,
          10.929230608162566,
          9.812767412611404,
          12.62979292116667,
          10.573934693922077,
          9.266930537943033,
          5.0673225034747205,
          5.134828065571032,
          4.525756282137151,
          6.45349042624758,
          7.046565954308761,
          9.294510113565545,
          6.302865344599674,
          4.78652944396976,
          7.28750886749803,
          11.332649316285785,
          11.541744225485283,
          10.308377590374999,
          7.835667161207932,
          9.906113700018988,
          11.087391567283893,
          10.622767478138623,
          10.292799662788953,
          9.87038510883854,
          9.07539424715614,
          9.12899299231366,
          7.956564914971067,
          5.16657616297404,
          4.093779923623068,
          2.751700372863234,
          1.9770145851269103,
          1.3252530113401517,
          2.45982020081979,
          5.14954786080822,
          6.205286583249873,
          5.937053899597704,
          5.054953252097652,
          5.902309256706449,
          10.708293379534803,
          10.76148034118817,
          8.770822683432392,
          9.34550059204432,
          13.215412992006772,
          11.860197987369315,
          8.97928675488743,
          10.30211957743034,
          11.341994509282342,
          9.360814207334776,
          9.302940947227906,
          9.114746755489513,
          7.209825607645293,
          4.534864575608934,
          2.5228650529030916,
          0.840660547472767,
          -1.2650592091274495,
          0.3550630594228769,
          5.276105424716699,
          6.601045517869582,
          7.1896965153665455,
          7.467599054371034,
          7.794748555094664,
          11.86847096658856,
          10.136569997902685,
          11.037619791303303,
          8.014688842510779,
          3.3218373636187186,
          1.827168118237209,
          0.6534558828774985,
          2.92679949831158,
          6.256886459945084,
          8.19474584477386
         ],
         "yaxis": "y"
        },
        {
         "hovertemplate": "variable=hu<br>date=%{x}<br>value=%{y}<extra></extra>",
         "legendgroup": "hu",
         "line": {
          "color": "#EF553B",
          "dash": "solid"
         },
         "marker": {
          "symbol": "circle"
         },
         "mode": "lines",
         "name": "hu",
         "showlegend": true,
         "type": "scattergl",
         "x": [
          "2016-01-01T00:00:00",
          "2016-01-02T00:00:00",
          "2016-01-03T00:00:00",
          "2016-01-04T00:00:00",
          "2016-01-05T00:00:00",
          "2016-01-06T00:00:00",
          "2016-01-07T00:00:00",
          "2016-01-08T00:00:00",
          "2016-01-09T00:00:00",
          "2016-01-10T00:00:00",
          "2016-01-11T00:00:00",
          "2016-01-12T00:00:00",
          "2016-01-13T00:00:00",
          "2016-01-14T00:00:00",
          "2016-01-15T00:00:00",
          "2016-01-16T00:00:00",
          "2016-01-17T00:00:00",
          "2016-01-18T00:00:00",
          "2016-01-19T00:00:00",
          "2016-01-20T00:00:00",
          "2016-01-21T00:00:00",
          "2016-01-22T00:00:00",
          "2016-01-23T00:00:00",
          "2016-01-24T00:00:00",
          "2016-01-25T00:00:00",
          "2016-01-26T00:00:00",
          "2016-01-27T00:00:00",
          "2016-01-28T00:00:00",
          "2016-01-29T00:00:00",
          "2016-01-30T00:00:00",
          "2016-01-31T00:00:00",
          "2016-02-01T00:00:00",
          "2016-02-02T00:00:00",
          "2016-02-03T00:00:00",
          "2016-02-04T00:00:00",
          "2016-02-05T00:00:00",
          "2016-02-06T00:00:00",
          "2016-02-07T00:00:00",
          "2016-02-08T00:00:00",
          "2016-02-09T00:00:00",
          "2016-02-10T00:00:00",
          "2016-02-11T00:00:00",
          "2016-02-12T00:00:00",
          "2016-02-13T00:00:00",
          "2016-02-14T00:00:00",
          "2016-02-15T00:00:00",
          "2016-02-16T00:00:00",
          "2016-02-17T00:00:00",
          "2016-02-18T00:00:00",
          "2016-02-19T00:00:00",
          "2016-02-20T00:00:00",
          "2016-02-21T00:00:00",
          "2016-02-22T00:00:00",
          "2016-02-23T00:00:00",
          "2016-02-24T00:00:00",
          "2016-02-25T00:00:00",
          "2016-02-26T00:00:00",
          "2016-02-27T00:00:00",
          "2016-02-28T00:00:00",
          "2016-02-29T00:00:00",
          "2016-03-01T00:00:00",
          "2016-03-02T00:00:00",
          "2016-03-03T00:00:00",
          "2016-03-04T00:00:00",
          "2016-03-05T00:00:00",
          "2016-03-06T00:00:00",
          "2016-03-07T00:00:00",
          "2016-03-08T00:00:00",
          "2016-03-09T00:00:00",
          "2016-03-10T00:00:00",
          "2016-03-11T00:00:00",
          "2016-03-12T00:00:00",
          "2016-03-13T00:00:00",
          "2016-03-14T00:00:00",
          "2016-03-15T00:00:00",
          "2016-03-16T00:00:00",
          "2016-03-17T00:00:00",
          "2016-03-18T00:00:00",
          "2016-03-19T00:00:00",
          "2016-03-20T00:00:00",
          "2016-03-21T00:00:00",
          "2016-03-22T00:00:00",
          "2016-03-23T00:00:00",
          "2016-03-24T00:00:00",
          "2016-03-25T00:00:00",
          "2016-03-26T00:00:00",
          "2016-03-27T00:00:00",
          "2016-03-28T00:00:00",
          "2016-03-29T00:00:00",
          "2016-03-30T00:00:00",
          "2016-03-31T00:00:00",
          "2016-04-01T00:00:00",
          "2016-04-02T00:00:00",
          "2016-04-03T00:00:00",
          "2016-04-04T00:00:00",
          "2016-04-05T00:00:00",
          "2016-04-06T00:00:00",
          "2016-04-07T00:00:00",
          "2016-04-08T00:00:00",
          "2016-04-09T00:00:00",
          "2016-04-10T00:00:00",
          "2016-04-11T00:00:00",
          "2016-04-12T00:00:00",
          "2016-04-13T00:00:00",
          "2016-04-14T00:00:00",
          "2016-04-15T00:00:00",
          "2016-04-16T00:00:00",
          "2016-04-17T00:00:00",
          "2016-04-18T00:00:00",
          "2016-04-19T00:00:00",
          "2016-04-20T00:00:00",
          "2016-04-21T00:00:00",
          "2016-04-22T00:00:00",
          "2016-04-23T00:00:00",
          "2016-04-24T00:00:00",
          "2016-04-25T00:00:00",
          "2016-04-26T00:00:00",
          "2016-04-27T00:00:00",
          "2016-04-28T00:00:00",
          "2016-04-29T00:00:00",
          "2016-04-30T00:00:00",
          "2016-05-01T00:00:00",
          "2016-05-02T00:00:00",
          "2016-05-03T00:00:00",
          "2016-05-04T00:00:00",
          "2016-05-05T00:00:00",
          "2016-05-06T00:00:00",
          "2016-05-07T00:00:00",
          "2016-05-08T00:00:00",
          "2016-05-09T00:00:00",
          "2016-05-10T00:00:00",
          "2016-05-11T00:00:00",
          "2016-05-12T00:00:00",
          "2016-05-13T00:00:00",
          "2016-05-14T00:00:00",
          "2016-05-15T00:00:00",
          "2016-05-16T00:00:00",
          "2016-05-17T00:00:00",
          "2016-05-18T00:00:00",
          "2016-05-19T00:00:00",
          "2016-05-20T00:00:00",
          "2016-05-21T00:00:00",
          "2016-05-22T00:00:00",
          "2016-05-23T00:00:00",
          "2016-05-24T00:00:00",
          "2016-05-25T00:00:00",
          "2016-05-26T00:00:00",
          "2016-05-27T00:00:00",
          "2016-05-28T00:00:00",
          "2016-05-29T00:00:00",
          "2016-05-30T00:00:00",
          "2016-05-31T00:00:00",
          "2016-06-01T00:00:00",
          "2016-06-02T00:00:00",
          "2016-06-03T00:00:00",
          "2016-06-04T00:00:00",
          "2016-06-05T00:00:00",
          "2016-06-06T00:00:00",
          "2016-06-07T00:00:00",
          "2016-06-08T00:00:00",
          "2016-06-09T00:00:00",
          "2016-06-10T00:00:00",
          "2016-06-11T00:00:00",
          "2016-06-12T00:00:00",
          "2016-06-13T00:00:00",
          "2016-06-14T00:00:00",
          "2016-06-15T00:00:00",
          "2016-06-16T00:00:00",
          "2016-06-17T00:00:00",
          "2016-06-18T00:00:00",
          "2016-06-19T00:00:00",
          "2016-06-20T00:00:00",
          "2016-06-21T00:00:00",
          "2016-06-22T00:00:00",
          "2016-06-23T00:00:00",
          "2016-06-24T00:00:00",
          "2016-06-25T00:00:00",
          "2016-06-26T00:00:00",
          "2016-06-27T00:00:00",
          "2016-06-28T00:00:00",
          "2016-06-29T00:00:00",
          "2016-06-30T00:00:00",
          "2016-07-01T00:00:00",
          "2016-07-02T00:00:00",
          "2016-07-03T00:00:00",
          "2016-07-04T00:00:00",
          "2016-07-05T00:00:00",
          "2016-07-06T00:00:00",
          "2016-07-07T00:00:00",
          "2016-07-08T00:00:00",
          "2016-07-09T00:00:00",
          "2016-07-10T00:00:00",
          "2016-07-11T00:00:00",
          "2016-07-12T00:00:00",
          "2016-07-13T00:00:00",
          "2016-07-14T00:00:00",
          "2016-07-15T00:00:00",
          "2016-07-16T00:00:00",
          "2016-07-17T00:00:00",
          "2016-07-18T00:00:00",
          "2016-07-19T00:00:00",
          "2016-07-20T00:00:00",
          "2016-07-21T00:00:00",
          "2016-07-22T00:00:00",
          "2016-07-23T00:00:00",
          "2016-07-24T00:00:00",
          "2016-07-25T00:00:00",
          "2016-07-26T00:00:00",
          "2016-07-27T00:00:00",
          "2016-07-28T00:00:00",
          "2016-07-29T00:00:00",
          "2016-07-30T00:00:00",
          "2016-07-31T00:00:00",
          "2016-08-01T00:00:00",
          "2016-08-02T00:00:00",
          "2016-08-03T00:00:00",
          "2016-08-04T00:00:00",
          "2016-08-05T00:00:00",
          "2016-08-06T00:00:00",
          "2016-08-07T00:00:00",
          "2016-08-08T00:00:00",
          "2016-08-09T00:00:00",
          "2016-08-10T00:00:00",
          "2016-08-11T00:00:00",
          "2016-08-12T00:00:00",
          "2016-08-13T00:00:00",
          "2016-08-14T00:00:00",
          "2016-08-15T00:00:00",
          "2016-08-16T00:00:00",
          "2016-08-17T00:00:00",
          "2016-08-18T00:00:00",
          "2016-08-19T00:00:00",
          "2016-08-20T00:00:00",
          "2016-08-21T00:00:00",
          "2016-08-22T00:00:00",
          "2016-08-23T00:00:00",
          "2016-08-24T00:00:00",
          "2016-08-25T00:00:00",
          "2016-08-26T00:00:00",
          "2016-08-27T00:00:00",
          "2016-08-28T00:00:00",
          "2016-08-29T00:00:00",
          "2016-08-30T00:00:00",
          "2016-08-31T00:00:00",
          "2016-09-01T00:00:00",
          "2016-09-02T00:00:00",
          "2016-09-03T00:00:00",
          "2016-09-04T00:00:00",
          "2016-09-05T00:00:00",
          "2016-09-06T00:00:00",
          "2016-09-07T00:00:00",
          "2016-09-08T00:00:00",
          "2016-09-09T00:00:00",
          "2016-09-10T00:00:00",
          "2016-09-11T00:00:00",
          "2016-09-12T00:00:00",
          "2016-09-13T00:00:00",
          "2016-09-14T00:00:00",
          "2016-09-15T00:00:00",
          "2016-09-16T00:00:00",
          "2016-09-17T00:00:00",
          "2016-09-18T00:00:00",
          "2016-09-19T00:00:00",
          "2016-09-20T00:00:00",
          "2016-09-21T00:00:00",
          "2016-09-22T00:00:00",
          "2016-09-23T00:00:00",
          "2016-09-24T00:00:00",
          "2016-09-25T00:00:00",
          "2016-09-26T00:00:00",
          "2016-09-27T00:00:00",
          "2016-09-28T00:00:00",
          "2016-09-29T00:00:00",
          "2016-09-30T00:00:00",
          "2016-10-01T00:00:00",
          "2016-10-02T00:00:00",
          "2016-10-03T00:00:00",
          "2016-10-04T00:00:00",
          "2016-10-05T00:00:00",
          "2016-10-06T00:00:00",
          "2016-10-07T00:00:00",
          "2016-10-08T00:00:00",
          "2016-10-09T00:00:00",
          "2016-10-10T00:00:00",
          "2016-10-11T00:00:00",
          "2016-10-12T00:00:00",
          "2016-10-13T00:00:00",
          "2016-10-14T00:00:00",
          "2016-10-15T00:00:00",
          "2016-10-16T00:00:00",
          "2016-10-17T00:00:00",
          "2016-10-18T00:00:00",
          "2016-10-19T00:00:00",
          "2016-10-20T00:00:00",
          "2016-10-21T00:00:00",
          "2016-10-22T00:00:00",
          "2016-10-23T00:00:00",
          "2016-10-24T00:00:00",
          "2016-10-25T00:00:00",
          "2016-10-26T00:00:00",
          "2016-10-27T00:00:00",
          "2016-10-28T00:00:00",
          "2016-10-29T00:00:00",
          "2016-10-30T00:00:00",
          "2016-10-31T00:00:00",
          "2016-11-01T00:00:00",
          "2016-11-02T00:00:00",
          "2016-11-03T00:00:00",
          "2016-11-04T00:00:00",
          "2016-11-05T00:00:00",
          "2016-11-06T00:00:00",
          "2016-11-07T00:00:00",
          "2016-11-08T00:00:00",
          "2016-11-09T00:00:00",
          "2016-11-10T00:00:00",
          "2016-11-11T00:00:00",
          "2016-11-12T00:00:00",
          "2016-11-13T00:00:00",
          "2016-11-14T00:00:00",
          "2016-11-15T00:00:00",
          "2016-11-16T00:00:00",
          "2016-11-17T00:00:00",
          "2016-11-18T00:00:00",
          "2016-11-19T00:00:00",
          "2016-11-20T00:00:00",
          "2016-11-21T00:00:00",
          "2016-11-22T00:00:00",
          "2016-11-23T00:00:00",
          "2016-11-24T00:00:00",
          "2016-11-25T00:00:00",
          "2016-11-26T00:00:00",
          "2016-11-27T00:00:00",
          "2016-11-28T00:00:00",
          "2016-11-29T00:00:00",
          "2016-11-30T00:00:00",
          "2016-12-01T00:00:00",
          "2016-12-02T00:00:00",
          "2016-12-03T00:00:00",
          "2016-12-04T00:00:00",
          "2016-12-05T00:00:00",
          "2016-12-06T00:00:00",
          "2016-12-07T00:00:00",
          "2016-12-08T00:00:00",
          "2016-12-09T00:00:00",
          "2016-12-10T00:00:00",
          "2016-12-11T00:00:00",
          "2016-12-12T00:00:00",
          "2016-12-13T00:00:00",
          "2016-12-14T00:00:00",
          "2016-12-15T00:00:00",
          "2016-12-16T00:00:00",
          "2016-12-17T00:00:00",
          "2016-12-18T00:00:00",
          "2016-12-19T00:00:00",
          "2016-12-20T00:00:00",
          "2016-12-21T00:00:00",
          "2016-12-22T00:00:00",
          "2016-12-23T00:00:00",
          "2016-12-24T00:00:00",
          "2016-12-25T00:00:00",
          "2016-12-26T00:00:00",
          "2016-12-27T00:00:00",
          "2016-12-28T00:00:00",
          "2016-12-29T00:00:00",
          "2016-12-30T00:00:00",
          "2016-12-31T00:00:00",
          "2017-01-01T00:00:00",
          "2017-01-02T00:00:00",
          "2017-01-03T00:00:00",
          "2017-01-04T00:00:00",
          "2017-01-05T00:00:00",
          "2017-01-06T00:00:00",
          "2017-01-07T00:00:00",
          "2017-01-08T00:00:00",
          "2017-01-09T00:00:00",
          "2017-01-10T00:00:00",
          "2017-01-11T00:00:00",
          "2017-01-12T00:00:00",
          "2017-01-13T00:00:00",
          "2017-01-14T00:00:00",
          "2017-01-15T00:00:00",
          "2017-01-16T00:00:00",
          "2017-01-17T00:00:00",
          "2017-01-18T00:00:00",
          "2017-01-19T00:00:00",
          "2017-01-20T00:00:00",
          "2017-01-21T00:00:00",
          "2017-01-22T00:00:00",
          "2017-01-23T00:00:00",
          "2017-01-24T00:00:00",
          "2017-01-25T00:00:00",
          "2017-01-26T00:00:00",
          "2017-01-27T00:00:00",
          "2017-01-28T00:00:00",
          "2017-01-29T00:00:00",
          "2017-01-30T00:00:00",
          "2017-01-31T00:00:00",
          "2017-02-01T00:00:00",
          "2017-02-02T00:00:00",
          "2017-02-03T00:00:00",
          "2017-02-04T00:00:00",
          "2017-02-05T00:00:00",
          "2017-02-06T00:00:00",
          "2017-02-07T00:00:00",
          "2017-02-08T00:00:00",
          "2017-02-09T00:00:00",
          "2017-02-10T00:00:00",
          "2017-02-11T00:00:00",
          "2017-02-12T00:00:00",
          "2017-02-13T00:00:00",
          "2017-02-14T00:00:00",
          "2017-02-15T00:00:00",
          "2017-02-16T00:00:00",
          "2017-02-17T00:00:00",
          "2017-02-18T00:00:00",
          "2017-02-19T00:00:00",
          "2017-02-20T00:00:00",
          "2017-02-21T00:00:00",
          "2017-02-22T00:00:00",
          "2017-02-23T00:00:00",
          "2017-02-24T00:00:00",
          "2017-02-25T00:00:00",
          "2017-02-26T00:00:00",
          "2017-02-27T00:00:00",
          "2017-02-28T00:00:00",
          "2017-03-01T00:00:00",
          "2017-03-02T00:00:00",
          "2017-03-03T00:00:00",
          "2017-03-04T00:00:00",
          "2017-03-05T00:00:00",
          "2017-03-06T00:00:00",
          "2017-03-07T00:00:00",
          "2017-03-08T00:00:00",
          "2017-03-09T00:00:00",
          "2017-03-10T00:00:00",
          "2017-03-11T00:00:00",
          "2017-03-12T00:00:00",
          "2017-03-13T00:00:00",
          "2017-03-14T00:00:00",
          "2017-03-15T00:00:00",
          "2017-03-16T00:00:00",
          "2017-03-17T00:00:00",
          "2017-03-18T00:00:00",
          "2017-03-19T00:00:00",
          "2017-03-20T00:00:00",
          "2017-03-21T00:00:00",
          "2017-03-22T00:00:00",
          "2017-03-23T00:00:00",
          "2017-03-24T00:00:00",
          "2017-03-25T00:00:00",
          "2017-03-26T00:00:00",
          "2017-03-27T00:00:00",
          "2017-03-28T00:00:00",
          "2017-03-29T00:00:00",
          "2017-03-30T00:00:00",
          "2017-03-31T00:00:00",
          "2017-04-01T00:00:00",
          "2017-04-02T00:00:00",
          "2017-04-03T00:00:00",
          "2017-04-04T00:00:00",
          "2017-04-05T00:00:00",
          "2017-04-06T00:00:00",
          "2017-04-07T00:00:00",
          "2017-04-08T00:00:00",
          "2017-04-09T00:00:00",
          "2017-04-10T00:00:00",
          "2017-04-11T00:00:00",
          "2017-04-12T00:00:00",
          "2017-04-13T00:00:00",
          "2017-04-14T00:00:00",
          "2017-04-15T00:00:00",
          "2017-04-16T00:00:00",
          "2017-04-17T00:00:00",
          "2017-04-18T00:00:00",
          "2017-04-19T00:00:00",
          "2017-04-20T00:00:00",
          "2017-04-21T00:00:00",
          "2017-04-22T00:00:00",
          "2017-04-23T00:00:00",
          "2017-04-24T00:00:00",
          "2017-04-25T00:00:00",
          "2017-04-26T00:00:00",
          "2017-04-27T00:00:00",
          "2017-04-28T00:00:00",
          "2017-04-29T00:00:00",
          "2017-04-30T00:00:00",
          "2017-05-01T00:00:00",
          "2017-05-02T00:00:00",
          "2017-05-03T00:00:00",
          "2017-05-04T00:00:00",
          "2017-05-05T00:00:00",
          "2017-05-06T00:00:00",
          "2017-05-07T00:00:00",
          "2017-05-08T00:00:00",
          "2017-05-09T00:00:00",
          "2017-05-10T00:00:00",
          "2017-05-11T00:00:00",
          "2017-05-12T00:00:00",
          "2017-05-13T00:00:00",
          "2017-05-14T00:00:00",
          "2017-05-15T00:00:00",
          "2017-05-16T00:00:00",
          "2017-05-17T00:00:00",
          "2017-05-18T00:00:00",
          "2017-05-19T00:00:00",
          "2017-05-20T00:00:00",
          "2017-05-21T00:00:00",
          "2017-05-22T00:00:00",
          "2017-05-23T00:00:00",
          "2017-05-24T00:00:00",
          "2017-05-25T00:00:00",
          "2017-05-26T00:00:00",
          "2017-05-27T00:00:00",
          "2017-05-28T00:00:00",
          "2017-05-29T00:00:00",
          "2017-05-30T00:00:00",
          "2017-05-31T00:00:00",
          "2017-06-01T00:00:00",
          "2017-06-02T00:00:00",
          "2017-06-03T00:00:00",
          "2017-06-04T00:00:00",
          "2017-06-05T00:00:00",
          "2017-06-06T00:00:00",
          "2017-06-07T00:00:00",
          "2017-06-08T00:00:00",
          "2017-06-09T00:00:00",
          "2017-06-10T00:00:00",
          "2017-06-11T00:00:00",
          "2017-06-12T00:00:00",
          "2017-06-13T00:00:00",
          "2017-06-14T00:00:00",
          "2017-06-15T00:00:00",
          "2017-06-16T00:00:00",
          "2017-06-17T00:00:00",
          "2017-06-18T00:00:00",
          "2017-06-19T00:00:00",
          "2017-06-20T00:00:00",
          "2017-06-21T00:00:00",
          "2017-06-22T00:00:00",
          "2017-06-23T00:00:00",
          "2017-06-24T00:00:00",
          "2017-06-25T00:00:00",
          "2017-06-26T00:00:00",
          "2017-06-27T00:00:00",
          "2017-06-28T00:00:00",
          "2017-06-29T00:00:00",
          "2017-06-30T00:00:00",
          "2017-07-01T00:00:00",
          "2017-07-02T00:00:00",
          "2017-07-03T00:00:00",
          "2017-07-04T00:00:00",
          "2017-07-05T00:00:00",
          "2017-07-06T00:00:00",
          "2017-07-07T00:00:00",
          "2017-07-08T00:00:00",
          "2017-07-09T00:00:00",
          "2017-07-10T00:00:00",
          "2017-07-11T00:00:00",
          "2017-07-12T00:00:00",
          "2017-07-13T00:00:00",
          "2017-07-14T00:00:00",
          "2017-07-15T00:00:00",
          "2017-07-16T00:00:00",
          "2017-07-17T00:00:00",
          "2017-07-18T00:00:00",
          "2017-07-19T00:00:00",
          "2017-07-20T00:00:00",
          "2017-07-21T00:00:00",
          "2017-07-22T00:00:00",
          "2017-07-23T00:00:00",
          "2017-07-24T00:00:00",
          "2017-07-25T00:00:00",
          "2017-07-26T00:00:00",
          "2017-07-27T00:00:00",
          "2017-07-28T00:00:00",
          "2017-07-29T00:00:00",
          "2017-07-30T00:00:00",
          "2017-07-31T00:00:00",
          "2017-08-01T00:00:00",
          "2017-08-02T00:00:00",
          "2017-08-03T00:00:00",
          "2017-08-04T00:00:00",
          "2017-08-05T00:00:00",
          "2017-08-06T00:00:00",
          "2017-08-07T00:00:00",
          "2017-08-08T00:00:00",
          "2017-08-09T00:00:00",
          "2017-08-10T00:00:00",
          "2017-08-11T00:00:00",
          "2017-08-12T00:00:00",
          "2017-08-13T00:00:00",
          "2017-08-14T00:00:00",
          "2017-08-15T00:00:00",
          "2017-08-16T00:00:00",
          "2017-08-17T00:00:00",
          "2017-08-18T00:00:00",
          "2017-08-19T00:00:00",
          "2017-08-20T00:00:00",
          "2017-08-21T00:00:00",
          "2017-08-22T00:00:00",
          "2017-08-23T00:00:00",
          "2017-08-24T00:00:00",
          "2017-08-25T00:00:00",
          "2017-08-26T00:00:00",
          "2017-08-27T00:00:00",
          "2017-08-28T00:00:00",
          "2017-08-29T00:00:00",
          "2017-08-30T00:00:00",
          "2017-08-31T00:00:00",
          "2017-09-01T00:00:00",
          "2017-09-02T00:00:00",
          "2017-09-03T00:00:00",
          "2017-09-04T00:00:00",
          "2017-09-05T00:00:00",
          "2017-09-06T00:00:00",
          "2017-09-07T00:00:00",
          "2017-09-08T00:00:00",
          "2017-09-09T00:00:00",
          "2017-09-10T00:00:00",
          "2017-09-11T00:00:00",
          "2017-09-12T00:00:00",
          "2017-09-13T00:00:00",
          "2017-09-14T00:00:00",
          "2017-09-15T00:00:00",
          "2017-09-16T00:00:00",
          "2017-09-17T00:00:00",
          "2017-09-18T00:00:00",
          "2017-09-19T00:00:00",
          "2017-09-20T00:00:00",
          "2017-09-21T00:00:00",
          "2017-09-22T00:00:00",
          "2017-09-23T00:00:00",
          "2017-09-24T00:00:00",
          "2017-09-25T00:00:00",
          "2017-09-26T00:00:00",
          "2017-09-27T00:00:00",
          "2017-09-28T00:00:00",
          "2017-09-29T00:00:00",
          "2017-09-30T00:00:00",
          "2017-10-01T00:00:00",
          "2017-10-02T00:00:00",
          "2017-10-03T00:00:00",
          "2017-10-04T00:00:00",
          "2017-10-05T00:00:00",
          "2017-10-06T00:00:00",
          "2017-10-07T00:00:00",
          "2017-10-08T00:00:00",
          "2017-10-09T00:00:00",
          "2017-10-10T00:00:00",
          "2017-10-11T00:00:00",
          "2017-10-12T00:00:00",
          "2017-10-13T00:00:00",
          "2017-10-14T00:00:00",
          "2017-10-15T00:00:00",
          "2017-10-16T00:00:00",
          "2017-10-17T00:00:00",
          "2017-10-18T00:00:00",
          "2017-10-19T00:00:00",
          "2017-10-20T00:00:00",
          "2017-10-21T00:00:00",
          "2017-10-22T00:00:00",
          "2017-10-23T00:00:00",
          "2017-10-24T00:00:00",
          "2017-10-25T00:00:00",
          "2017-10-26T00:00:00",
          "2017-10-27T00:00:00",
          "2017-10-28T00:00:00",
          "2017-10-29T00:00:00",
          "2017-10-30T00:00:00",
          "2017-10-31T00:00:00",
          "2017-11-01T00:00:00",
          "2017-11-02T00:00:00",
          "2017-11-03T00:00:00",
          "2017-11-04T00:00:00",
          "2017-11-05T00:00:00",
          "2017-11-06T00:00:00",
          "2017-11-07T00:00:00",
          "2017-11-08T00:00:00",
          "2017-11-09T00:00:00",
          "2017-11-10T00:00:00",
          "2017-11-11T00:00:00",
          "2017-11-12T00:00:00",
          "2017-11-13T00:00:00",
          "2017-11-14T00:00:00",
          "2017-11-15T00:00:00",
          "2017-11-16T00:00:00",
          "2017-11-17T00:00:00",
          "2017-11-18T00:00:00",
          "2017-11-19T00:00:00",
          "2017-11-20T00:00:00",
          "2017-11-21T00:00:00",
          "2017-11-22T00:00:00",
          "2017-11-23T00:00:00",
          "2017-11-24T00:00:00",
          "2017-11-25T00:00:00",
          "2017-11-26T00:00:00",
          "2017-11-27T00:00:00",
          "2017-11-28T00:00:00",
          "2017-11-29T00:00:00",
          "2017-11-30T00:00:00",
          "2017-12-01T00:00:00",
          "2017-12-02T00:00:00",
          "2017-12-03T00:00:00",
          "2017-12-04T00:00:00",
          "2017-12-05T00:00:00",
          "2017-12-06T00:00:00",
          "2017-12-07T00:00:00",
          "2017-12-08T00:00:00",
          "2017-12-09T00:00:00",
          "2017-12-10T00:00:00",
          "2017-12-11T00:00:00",
          "2017-12-12T00:00:00",
          "2017-12-13T00:00:00",
          "2017-12-14T00:00:00",
          "2017-12-15T00:00:00",
          "2017-12-16T00:00:00",
          "2017-12-17T00:00:00",
          "2017-12-18T00:00:00",
          "2017-12-19T00:00:00",
          "2017-12-20T00:00:00",
          "2017-12-21T00:00:00",
          "2017-12-22T00:00:00",
          "2017-12-23T00:00:00",
          "2017-12-24T00:00:00",
          "2017-12-25T00:00:00",
          "2017-12-26T00:00:00",
          "2017-12-27T00:00:00",
          "2017-12-28T00:00:00",
          "2017-12-29T00:00:00",
          "2017-12-30T00:00:00",
          "2017-12-31T00:00:00",
          "2018-01-01T00:00:00",
          "2018-01-02T00:00:00",
          "2018-01-03T00:00:00",
          "2018-01-04T00:00:00",
          "2018-01-05T00:00:00",
          "2018-01-06T00:00:00",
          "2018-01-07T00:00:00",
          "2018-01-08T00:00:00",
          "2018-01-09T00:00:00",
          "2018-01-10T00:00:00",
          "2018-01-11T00:00:00",
          "2018-01-12T00:00:00",
          "2018-01-13T00:00:00",
          "2018-01-14T00:00:00",
          "2018-01-15T00:00:00",
          "2018-01-16T00:00:00",
          "2018-01-17T00:00:00",
          "2018-01-18T00:00:00",
          "2018-01-19T00:00:00",
          "2018-01-20T00:00:00",
          "2018-01-21T00:00:00",
          "2018-01-22T00:00:00",
          "2018-01-23T00:00:00",
          "2018-01-24T00:00:00",
          "2018-01-25T00:00:00",
          "2018-01-26T00:00:00",
          "2018-01-27T00:00:00",
          "2018-01-28T00:00:00",
          "2018-01-29T00:00:00",
          "2018-01-30T00:00:00",
          "2018-01-31T00:00:00",
          "2018-02-01T00:00:00",
          "2018-02-02T00:00:00",
          "2018-02-03T00:00:00",
          "2018-02-04T00:00:00",
          "2018-02-05T00:00:00",
          "2018-02-06T00:00:00",
          "2018-02-07T00:00:00",
          "2018-02-08T00:00:00",
          "2018-02-09T00:00:00",
          "2018-02-10T00:00:00",
          "2018-02-11T00:00:00",
          "2018-02-12T00:00:00",
          "2018-02-13T00:00:00",
          "2018-02-14T00:00:00",
          "2018-02-15T00:00:00",
          "2018-02-16T00:00:00",
          "2018-02-17T00:00:00",
          "2018-02-18T00:00:00",
          "2018-02-19T00:00:00",
          "2018-02-20T00:00:00",
          "2018-02-21T00:00:00",
          "2018-02-22T00:00:00",
          "2018-02-23T00:00:00",
          "2018-02-24T00:00:00",
          "2018-02-25T00:00:00",
          "2018-02-26T00:00:00",
          "2018-02-27T00:00:00",
          "2018-02-28T00:00:00",
          "2018-03-01T00:00:00",
          "2018-03-02T00:00:00",
          "2018-03-03T00:00:00",
          "2018-03-04T00:00:00",
          "2018-03-05T00:00:00",
          "2018-03-06T00:00:00",
          "2018-03-07T00:00:00",
          "2018-03-08T00:00:00",
          "2018-03-09T00:00:00",
          "2018-03-10T00:00:00",
          "2018-03-11T00:00:00",
          "2018-03-12T00:00:00",
          "2018-03-13T00:00:00",
          "2018-03-14T00:00:00",
          "2018-03-15T00:00:00",
          "2018-03-16T00:00:00",
          "2018-03-17T00:00:00",
          "2018-03-18T00:00:00",
          "2018-03-19T00:00:00",
          "2018-03-20T00:00:00",
          "2018-03-21T00:00:00",
          "2018-03-22T00:00:00",
          "2018-03-23T00:00:00",
          "2018-03-24T00:00:00",
          "2018-03-25T00:00:00",
          "2018-03-26T00:00:00",
          "2018-03-27T00:00:00",
          "2018-03-28T00:00:00",
          "2018-03-29T00:00:00",
          "2018-03-30T00:00:00",
          "2018-03-31T00:00:00",
          "2018-04-01T00:00:00",
          "2018-04-02T00:00:00",
          "2018-04-03T00:00:00",
          "2018-04-04T00:00:00",
          "2018-04-05T00:00:00",
          "2018-04-06T00:00:00",
          "2018-04-07T00:00:00",
          "2018-04-08T00:00:00",
          "2018-04-09T00:00:00",
          "2018-04-10T00:00:00",
          "2018-04-11T00:00:00",
          "2018-04-12T00:00:00",
          "2018-04-13T00:00:00",
          "2018-04-14T00:00:00",
          "2018-04-15T00:00:00",
          "2018-04-16T00:00:00",
          "2018-04-17T00:00:00",
          "2018-04-18T00:00:00",
          "2018-04-19T00:00:00",
          "2018-04-20T00:00:00",
          "2018-04-21T00:00:00",
          "2018-04-22T00:00:00",
          "2018-04-23T00:00:00",
          "2018-04-24T00:00:00",
          "2018-04-25T00:00:00",
          "2018-04-26T00:00:00",
          "2018-04-27T00:00:00",
          "2018-04-28T00:00:00",
          "2018-04-29T00:00:00",
          "2018-04-30T00:00:00",
          "2018-05-01T00:00:00",
          "2018-05-02T00:00:00",
          "2018-05-03T00:00:00",
          "2018-05-04T00:00:00",
          "2018-05-05T00:00:00",
          "2018-05-06T00:00:00",
          "2018-05-07T00:00:00",
          "2018-05-08T00:00:00",
          "2018-05-09T00:00:00",
          "2018-05-10T00:00:00",
          "2018-05-11T00:00:00",
          "2018-05-12T00:00:00",
          "2018-05-13T00:00:00",
          "2018-05-14T00:00:00",
          "2018-05-15T00:00:00",
          "2018-05-16T00:00:00",
          "2018-05-17T00:00:00",
          "2018-05-18T00:00:00",
          "2018-05-19T00:00:00",
          "2018-05-20T00:00:00",
          "2018-05-21T00:00:00",
          "2018-05-22T00:00:00",
          "2018-05-23T00:00:00",
          "2018-05-24T00:00:00",
          "2018-05-25T00:00:00",
          "2018-05-26T00:00:00",
          "2018-05-27T00:00:00",
          "2018-05-28T00:00:00",
          "2018-05-29T00:00:00",
          "2018-05-30T00:00:00",
          "2018-05-31T00:00:00",
          "2018-06-01T00:00:00",
          "2018-06-02T00:00:00",
          "2018-06-03T00:00:00",
          "2018-06-04T00:00:00",
          "2018-06-05T00:00:00",
          "2018-06-06T00:00:00",
          "2018-06-07T00:00:00",
          "2018-06-08T00:00:00",
          "2018-06-09T00:00:00",
          "2018-06-10T00:00:00",
          "2018-06-11T00:00:00",
          "2018-06-12T00:00:00",
          "2018-06-13T00:00:00",
          "2018-06-14T00:00:00",
          "2018-06-15T00:00:00",
          "2018-06-16T00:00:00",
          "2018-06-17T00:00:00",
          "2018-06-18T00:00:00",
          "2018-06-19T00:00:00",
          "2018-06-20T00:00:00",
          "2018-06-21T00:00:00",
          "2018-06-22T00:00:00",
          "2018-06-23T00:00:00",
          "2018-06-24T00:00:00",
          "2018-06-25T00:00:00",
          "2018-06-26T00:00:00",
          "2018-06-27T00:00:00",
          "2018-06-28T00:00:00",
          "2018-06-29T00:00:00",
          "2018-06-30T00:00:00",
          "2018-07-01T00:00:00",
          "2018-07-02T00:00:00",
          "2018-07-03T00:00:00",
          "2018-07-04T00:00:00",
          "2018-07-05T00:00:00",
          "2018-07-06T00:00:00",
          "2018-07-07T00:00:00",
          "2018-07-08T00:00:00",
          "2018-07-09T00:00:00",
          "2018-07-10T00:00:00",
          "2018-07-11T00:00:00",
          "2018-07-12T00:00:00",
          "2018-07-13T00:00:00",
          "2018-07-14T00:00:00",
          "2018-07-15T00:00:00",
          "2018-07-16T00:00:00",
          "2018-07-17T00:00:00",
          "2018-07-18T00:00:00",
          "2018-07-19T00:00:00",
          "2018-07-20T00:00:00",
          "2018-07-21T00:00:00",
          "2018-07-22T00:00:00",
          "2018-07-23T00:00:00",
          "2018-07-24T00:00:00",
          "2018-07-25T00:00:00",
          "2018-07-26T00:00:00",
          "2018-07-27T00:00:00",
          "2018-07-28T00:00:00",
          "2018-07-29T00:00:00",
          "2018-07-30T00:00:00",
          "2018-07-31T00:00:00",
          "2018-08-01T00:00:00",
          "2018-08-02T00:00:00",
          "2018-08-03T00:00:00",
          "2018-08-04T00:00:00",
          "2018-08-05T00:00:00",
          "2018-08-06T00:00:00",
          "2018-08-07T00:00:00",
          "2018-08-08T00:00:00",
          "2018-08-09T00:00:00",
          "2018-08-10T00:00:00",
          "2018-08-11T00:00:00",
          "2018-08-12T00:00:00",
          "2018-08-13T00:00:00",
          "2018-08-14T00:00:00",
          "2018-08-15T00:00:00",
          "2018-08-16T00:00:00",
          "2018-08-17T00:00:00",
          "2018-08-18T00:00:00",
          "2018-08-19T00:00:00",
          "2018-08-20T00:00:00",
          "2018-08-21T00:00:00",
          "2018-08-22T00:00:00",
          "2018-08-23T00:00:00",
          "2018-08-24T00:00:00",
          "2018-08-25T00:00:00",
          "2018-08-26T00:00:00",
          "2018-08-27T00:00:00",
          "2018-08-28T00:00:00",
          "2018-08-29T00:00:00",
          "2018-08-30T00:00:00",
          "2018-08-31T00:00:00",
          "2018-09-01T00:00:00",
          "2018-09-02T00:00:00",
          "2018-09-03T00:00:00",
          "2018-09-04T00:00:00",
          "2018-09-05T00:00:00",
          "2018-09-06T00:00:00",
          "2018-09-07T00:00:00",
          "2018-09-08T00:00:00",
          "2018-09-09T00:00:00",
          "2018-09-10T00:00:00",
          "2018-09-11T00:00:00",
          "2018-09-12T00:00:00",
          "2018-09-13T00:00:00",
          "2018-09-14T00:00:00",
          "2018-09-15T00:00:00",
          "2018-09-16T00:00:00",
          "2018-09-17T00:00:00",
          "2018-09-18T00:00:00",
          "2018-09-19T00:00:00",
          "2018-09-20T00:00:00",
          "2018-09-21T00:00:00",
          "2018-09-22T00:00:00",
          "2018-09-23T00:00:00",
          "2018-09-24T00:00:00",
          "2018-09-25T00:00:00",
          "2018-09-26T00:00:00",
          "2018-09-27T00:00:00",
          "2018-09-28T00:00:00",
          "2018-09-29T00:00:00",
          "2018-09-30T00:00:00",
          "2018-10-01T00:00:00",
          "2018-10-02T00:00:00",
          "2018-10-03T00:00:00",
          "2018-10-04T00:00:00",
          "2018-10-05T00:00:00",
          "2018-10-06T00:00:00",
          "2018-10-07T00:00:00",
          "2018-10-08T00:00:00",
          "2018-10-09T00:00:00",
          "2018-10-10T00:00:00",
          "2018-10-11T00:00:00",
          "2018-10-12T00:00:00",
          "2018-10-13T00:00:00",
          "2018-10-14T00:00:00",
          "2018-10-15T00:00:00",
          "2018-10-16T00:00:00",
          "2018-10-17T00:00:00",
          "2018-10-18T00:00:00",
          "2018-10-19T00:00:00",
          "2018-10-20T00:00:00",
          "2018-10-21T00:00:00",
          "2018-10-22T00:00:00",
          "2018-10-23T00:00:00",
          "2018-10-24T00:00:00",
          "2018-10-25T00:00:00",
          "2018-10-26T00:00:00",
          "2018-10-27T00:00:00",
          "2018-10-28T00:00:00",
          "2018-10-29T00:00:00",
          "2018-10-30T00:00:00",
          "2018-10-31T00:00:00",
          "2018-11-01T00:00:00",
          "2018-11-02T00:00:00",
          "2018-11-03T00:00:00",
          "2018-11-04T00:00:00",
          "2018-11-05T00:00:00",
          "2018-11-06T00:00:00",
          "2018-11-07T00:00:00",
          "2018-11-08T00:00:00",
          "2018-11-09T00:00:00",
          "2018-11-10T00:00:00",
          "2018-11-11T00:00:00",
          "2018-11-12T00:00:00",
          "2018-11-13T00:00:00",
          "2018-11-14T00:00:00",
          "2018-11-15T00:00:00",
          "2018-11-16T00:00:00",
          "2018-11-17T00:00:00",
          "2018-11-18T00:00:00",
          "2018-11-19T00:00:00",
          "2018-11-20T00:00:00",
          "2018-11-21T00:00:00",
          "2018-11-22T00:00:00",
          "2018-11-23T00:00:00",
          "2018-11-24T00:00:00",
          "2018-11-25T00:00:00",
          "2018-11-26T00:00:00",
          "2018-11-27T00:00:00",
          "2018-11-28T00:00:00",
          "2018-11-29T00:00:00",
          "2018-11-30T00:00:00",
          "2018-12-01T00:00:00",
          "2018-12-02T00:00:00",
          "2018-12-03T00:00:00",
          "2018-12-04T00:00:00",
          "2018-12-05T00:00:00",
          "2018-12-06T00:00:00",
          "2018-12-07T00:00:00",
          "2018-12-08T00:00:00",
          "2018-12-09T00:00:00",
          "2018-12-10T00:00:00",
          "2018-12-11T00:00:00",
          "2018-12-12T00:00:00",
          "2018-12-13T00:00:00",
          "2018-12-14T00:00:00",
          "2018-12-15T00:00:00",
          "2018-12-16T00:00:00",
          "2018-12-17T00:00:00",
          "2018-12-18T00:00:00",
          "2018-12-19T00:00:00",
          "2018-12-20T00:00:00",
          "2018-12-21T00:00:00",
          "2018-12-22T00:00:00",
          "2018-12-23T00:00:00",
          "2018-12-24T00:00:00",
          "2018-12-25T00:00:00",
          "2018-12-26T00:00:00",
          "2018-12-27T00:00:00",
          "2018-12-28T00:00:00",
          "2018-12-29T00:00:00",
          "2018-12-30T00:00:00"
         ],
         "xaxis": "x",
         "y": [
          87.3104019165039,
          83.44029235839844,
          86.1068344116211,
          83.0840072631836,
          84.50440216064453,
          86.31970977783203,
          82.07288360595703,
          86.33186340332031,
          85.44783782958984,
          83.60012817382812,
          85.3177490234375,
          80.93959045410156,
          81.3282699584961,
          81.17098236083984,
          78.93526458740234,
          81.67689514160156,
          85.17168426513672,
          81.71371459960938,
          84.68587493896484,
          84.47599029541016,
          83.49414825439453,
          88.0266342163086,
          89.49765014648438,
          89.25466918945312,
          81.57479858398438,
          83.77032470703125,
          84.93777465820312,
          81.9246826171875,
          83.48633575439453,
          85.84601593017578,
          88.31856536865234,
          83.30941009521484,
          85.83174896240234,
          80.0215072631836,
          87.91053009033203,
          87.1515884399414,
          78.90959930419922,
          79.82909393310547,
          79.16806030273438,
          85.50067138671875,
          82.60682678222656,
          84.85319519042969,
          88.26152801513672,
          88.24662780761719,
          84.82755279541016,
          80.53555297851562,
          79.75304412841797,
          79.0711898803711,
          84.73809814453125,
          81.17440032958984,
          87.41873931884766,
          86.54828643798828,
          86.63297271728516,
          81.58402252197266,
          83.62630462646484,
          78.7789535522461,
          73.77685546875,
          72.48473358154297,
          71.81913757324219,
          74.81999969482422,
          86.53312683105469,
          79.02957916259766,
          78.33935546875,
          83.14579010009766,
          83.76753234863281,
          81.11002349853516,
          78.45259094238281,
          78.86212921142578,
          85.37914276123047,
          83.93415069580078,
          81.68388366699219,
          81.88581848144531,
          79.58537292480469,
          78.23019409179688,
          76.47089385986328,
          75.97695922851562,
          73.88837432861328,
          82.736083984375,
          80.83072662353516,
          78.20230102539062,
          80.29698944091797,
          77.89739990234375,
          80.57427978515625,
          81.31886291503906,
          84.42560577392578,
          85.05228424072266,
          79.65267181396484,
          79.73068237304688,
          79.0125503540039,
          82.41792297363281,
          83.91630554199219,
          77.52983856201172,
          83.52654266357422,
          78.99603271484375,
          80.20054626464844,
          82.58151245117188,
          82.28509521484375,
          79.6739273071289,
          82.20697021484375,
          83.32013702392578,
          78.68138122558594,
          83.96859741210938,
          79.41883087158203,
          78.61298370361328,
          83.52298736572266,
          79.6882095336914,
          80.8987808227539,
          76.43408203125,
          74.84465026855469,
          76.94552612304688,
          70.07158660888672,
          72.46783447265625,
          85.08055114746094,
          79.91072082519531,
          78.9913101196289,
          81.65713500976562,
          76.9345474243164,
          77.4545669555664,
          75.27166748046875,
          82.47430419921875,
          78.59121704101562,
          74.47686004638672,
          79.17745208740234,
          76.24335479736328,
          72.42286682128906,
          67.06568145751953,
          70.4112319946289,
          72.1865463256836,
          67.04247283935547,
          77.90258026123047,
          87.01543426513672,
          87.63949584960938,
          88.6679916381836,
          84.4676742553711,
          77.6462173461914,
          74.92401123046875,
          80.11524200439453,
          80.38074493408203,
          83.19902038574219,
          81.63265991210938,
          81.62239837646484,
          79.9657974243164,
          87.33936309814453,
          81.93472290039062,
          81.17927551269531,
          78.44956970214844,
          80.30583190917969,
          82.06442260742188,
          85.52967834472656,
          86.56568145751953,
          85.92922973632812,
          88.18524932861328,
          89.99798583984375,
          88.71683502197266,
          87.41448211669922,
          87.02884674072266,
          86.95577239990234,
          83.9958724975586,
          84.13337707519531,
          83.39838409423828,
          80.04450988769531,
          80.11627197265625,
          83.84227752685547,
          86.78754425048828,
          84.97075653076172,
          83.68767547607422,
          81.74114990234375,
          83.31944274902344,
          83.77454376220703,
          83.69491577148438,
          80.3182373046875,
          89.05782318115234,
          86.95845794677734,
          83.27191925048828,
          83.68720245361328,
          79.22440338134766,
          79.55741119384766,
          80.48299407958984,
          83.46627044677734,
          79.64066314697266,
          80.19002532958984,
          84.4197998046875,
          83.75077819824219,
          77.612548828125,
          84.92998504638672,
          81.07589721679688,
          80.89588928222656,
          78.5980224609375,
          75.76566314697266,
          78.66970825195312,
          78.91244506835938,
          79.46913146972656,
          77.19355010986328,
          78.20018005371094,
          77.93910217285156,
          77.49971008300781,
          76.00318908691406,
          76.79052734375,
          76.1952133178711,
          73.83912658691406,
          65.6033935546875,
          74.34046173095703,
          78.17557525634766,
          76.6597671508789,
          78.2783203125,
          77.86956787109375,
          79.489501953125,
          78.81784057617188,
          81.93477630615234,
          80.58191680908203,
          80.30886840820312,
          80.65970611572266,
          76.78845977783203,
          76.12152862548828,
          85.36246490478516,
          84.16911315917969,
          80.6098861694336,
          78.53460693359375,
          78.18419647216797,
          77.6429214477539,
          75.70337677001953,
          73.51180267333984,
          75.89429473876953,
          77.79537963867188,
          77.59549713134766,
          78.39625549316406,
          77.86322784423828,
          73.7125244140625,
          73.56763458251953,
          72.92932891845703,
          82.88240051269531,
          84.19284057617188,
          76.93215942382812,
          77.35710144042969,
          73.89783477783203,
          68.5023193359375,
          71.32515716552734,
          74.66749572753906,
          77.68181610107422,
          73.18327331542969,
          74.558837890625,
          81.9075698852539,
          76.81189727783203,
          75.97429656982422,
          77.77033996582031,
          77.89222717285156,
          75.18083190917969,
          82.6156997680664,
          86.92414093017578,
          84.49373626708984,
          73.563720703125,
          75.68701171875,
          73.66195678710938,
          77.13899230957031,
          79.33692932128906,
          74.89779663085938,
          68.9103775024414,
          75.0433349609375,
          85.86051177978516,
          84.82890319824219,
          84.21221923828125,
          85.41439819335938,
          83.95323181152344,
          85.07342529296875,
          80.5858154296875,
          80.0631103515625,
          80.17898559570312,
          72.87169647216797,
          75.74202728271484,
          76.74036407470703,
          77.9892349243164,
          80.7553939819336,
          83.50444030761719,
          81.01055145263672,
          81.11460876464844,
          79.45952606201172,
          77.51731872558594,
          77.03132629394531,
          73.23646545410156,
          72.49453735351562,
          80.09912109375,
          79.82743835449219,
          80.44256591796875,
          81.93340301513672,
          81.71150207519531,
          80.28721618652344,
          82.92088317871094,
          85.06927490234375,
          83.48638916015625,
          84.1689224243164,
          84.21076202392578,
          84.36859893798828,
          81.7270736694336,
          84.32731628417969,
          85.03385925292969,
          85.68579864501953,
          87.85707092285156,
          89.6861572265625,
          89.75959014892578,
          90.50009155273438,
          87.07172393798828,
          84.977783203125,
          86.06130981445312,
          83.0898666381836,
          80.96571350097656,
          87.01628112792969,
          82.1169662475586,
          81.22354125976562,
          86.24400329589844,
          82.5756607055664,
          81.48387908935547,
          85.38859558105469,
          83.58246612548828,
          83.59928131103516,
          84.59200286865234,
          80.54756927490234,
          87.70073699951172,
          85.92737579345703,
          88.0735092163086,
          91.09573364257812,
          88.48206329345703,
          84.08654022216797,
          80.7872314453125,
          82.21086883544922,
          82.32733917236328,
          82.24313354492188,
          81.74095916748047,
          88.98555755615234,
          85.0212173461914,
          85.0022964477539,
          86.05508422851562,
          82.95105743408203,
          74.20987701416016,
          75.96250915527344,
          79.7046890258789,
          84.68461608886719,
          87.84063720703125,
          82.09638214111328,
          81.16410064697266,
          83.66838073730469,
          85.47122192382812,
          80.73216247558594,
          80.96781921386719,
          86.30921173095703,
          87.39572143554688,
          89.3858413696289,
          91.03681182861328,
          89.39270782470703,
          82.67926025390625,
          86.12789154052734,
          87.22883605957031,
          90.44225311279297,
          91.93561553955078,
          89.93407440185547,
          85.51548767089844,
          87.08660125732422,
          89.660400390625,
          89.30236053466797,
          85.93181610107422,
          86.63468933105469,
          83.50630187988281,
          85.00540924072266,
          81.40738677978516,
          84.47858428955078,
          88.08011627197266,
          89.85026550292969,
          90.67527770996094,
          88.66664123535156,
          87.92229461669922,
          85.11612701416016,
          85.24689483642578,
          83.26596069335938,
          87.7123031616211,
          91.88143157958984,
          90.02960205078125,
          85.60173034667969,
          84.26602935791016,
          84.0355453491211,
          78.59709167480469,
          81.00182342529297,
          88.88896179199219,
          88.47808837890625,
          83.4140625,
          76.99116516113281,
          76.06707000732422,
          78.64567565917969,
          81.85458374023438,
          79.032470703125,
          81.50537872314453,
          86.04967498779297,
          87.43268585205078,
          78.68341827392578,
          80.35548400878906,
          81.63457489013672,
          86.94459533691406,
          90.28179931640625,
          90.78033447265625,
          89.1316146850586,
          84.31431579589844,
          83.85853576660156,
          86.18721771240234,
          87.69577026367188,
          83.96063995361328,
          85.38694763183594,
          85.70664978027344,
          84.37934112548828,
          82.83082580566406,
          85.5313720703125,
          84.3431625366211,
          76.15850067138672,
          81.49307250976562,
          84.0287857055664,
          89.01892852783203,
          87.78128814697266,
          84.94290924072266,
          86.17231750488281,
          90.05731964111328,
          88.9950942993164,
          83.80183410644531,
          79.08690643310547,
          77.47415161132812,
          78.5228271484375,
          81.18278503417969,
          81.0340347290039,
          81.08622741699219,
          84.35528564453125,
          75.10982513427734,
          79.12138366699219,
          83.98881530761719,
          81.74331665039062,
          83.75709533691406,
          80.61092376708984,
          89.36969757080078,
          89.76365661621094,
          87.74900817871094,
          79.2854995727539,
          85.63412475585938,
          84.25716400146484,
          86.94744110107422,
          85.25830841064453,
          83.32875061035156,
          80.39322662353516,
          87.72312927246094,
          82.6978759765625,
          81.11417388916016,
          76.36006164550781,
          83.5416030883789,
          85.93558502197266,
          85.11139678955078,
          73.3828353881836,
          72.44774627685547,
          74.74501037597656,
          79.22374725341797,
          74.0732192993164,
          69.10951232910156,
          73.58588409423828,
          81.0017318725586,
          84.54085540771484,
          80.36088562011719,
          84.9203872680664,
          79.65280151367188,
          77.18096160888672,
          77.79312133789062,
          75.89635467529297,
          72.40396881103516,
          79.08343505859375,
          76.68846893310547,
          78.64250183105469,
          81.9175033569336,
          79.28221893310547,
          82.73451232910156,
          78.01800537109375,
          79.21886444091797,
          74.39693450927734,
          69.61458587646484,
          67.18992614746094,
          72.94718170166016,
          80.01508331298828,
          73.5368423461914,
          75.24602508544922,
          69.66336822509766,
          77.83341217041016,
          74.5387191772461,
          80.5192642211914,
          73.32218933105469,
          76.07766723632812,
          80.35841369628906,
          80.23371887207031,
          84.8493881225586,
          84.61790466308594,
          79.91531372070312,
          86.7004165649414,
          83.51924133300781,
          83.22684478759766,
          75.48483276367188,
          72.3186264038086,
          82.30958557128906,
          82.43936920166016,
          77.88973999023438,
          76.74174499511719,
          74.40251159667969,
          73.40370178222656,
          80.35255432128906,
          88.82752227783203,
          82.47781372070312,
          79.92539978027344,
          75.87162780761719,
          73.62195587158203,
          80.91991424560547,
          83.60334014892578,
          74.6872329711914,
          69.93502044677734,
          76.94822692871094,
          79.49647521972656,
          82.90018463134766,
          81.71161651611328,
          80.25408172607422,
          75.24764251708984,
          78.43460083007812,
          81.20368957519531,
          75.20626068115234,
          75.90697479248047,
          78.48622131347656,
          75.7454833984375,
          75.80304718017578,
          76.89459228515625,
          72.39361572265625,
          77.72254180908203,
          77.53578186035156,
          77.00336456298828,
          72.9879379272461,
          76.06751251220703,
          76.61962890625,
          75.6297836303711,
          73.53530883789062,
          70.30074310302734,
          69.41987609863281,
          68.35575103759766,
          78.85676574707031,
          77.39501190185547,
          76.33830261230469,
          77.1147689819336,
          76.04576110839844,
          83.97833251953125,
          84.32398986816406,
          80.78612518310547,
          84.7640151977539,
          83.5067138671875,
          82.33567810058594,
          80.20293426513672,
          77.99653625488281,
          73.26663970947266,
          70.556640625,
          71.74971771240234,
          75.79484558105469,
          76.53214263916016,
          80.98049926757812,
          77.31708526611328,
          81.86365509033203,
          73.35722351074219,
          77.36317443847656,
          75.75128936767578,
          81.07481384277344,
          78.83894348144531,
          69.0403060913086,
          75.2996597290039,
          77.05801391601562,
          71.95308685302734,
          79.11517333984375,
          80.59510040283203,
          84.30418395996094,
          79.4645004272461,
          85.40912628173828,
          77.51915740966797,
          75.92196655273438,
          77.54074096679688,
          74.70521545410156,
          75.97315216064453,
          75.28575134277344,
          73.5298080444336,
          74.97653198242188,
          79.15239715576172,
          77.63561248779297,
          74.62763977050781,
          72.6882553100586,
          82.80431365966797,
          82.22560119628906,
          84.53910827636719,
          79.94219207763672,
          84.67137908935547,
          77.89268493652344,
          74.85051727294922,
          79.51200103759766,
          78.08744812011719,
          83.5360336303711,
          79.68170928955078,
          77.47042083740234,
          75.3963623046875,
          83.0120620727539,
          80.13642883300781,
          81.29369354248047,
          78.96903228759766,
          78.8377914428711,
          79.33747100830078,
          76.70552062988281,
          75.34049224853516,
          75.4579086303711,
          87.6037826538086,
          80.92323303222656,
          82.21912384033203,
          79.27459716796875,
          81.77503204345703,
          85.30364990234375,
          83.5994644165039,
          78.91866302490234,
          80.9120101928711,
          86.27080535888672,
          83.41676330566406,
          82.4871597290039,
          81.42798614501953,
          79.69500732421875,
          83.63462829589844,
          80.90453338623047,
          82.72283172607422,
          84.49923706054688,
          84.38032531738281,
          84.7982406616211,
          81.97969818115234,
          81.67518615722656,
          79.32563018798828,
          79.32353973388672,
          78.55423736572266,
          77.64176177978516,
          84.38285827636719,
          84.45125579833984,
          83.59590911865234,
          85.84345245361328,
          85.32670593261719,
          79.58419799804688,
          86.71087646484375,
          83.16131591796875,
          79.58938598632812,
          80.48433685302734,
          84.53302001953125,
          79.14192199707031,
          82.94754028320312,
          84.93470001220703,
          86.52924346923828,
          84.49984741210938,
          80.70367431640625,
          83.4759750366211,
          84.34766387939453,
          84.64189147949219,
          79.6248550415039,
          78.4305191040039,
          83.60755157470703,
          86.49400329589844,
          83.1485595703125,
          79.26678466796875,
          78.52334594726562,
          80.480224609375,
          88.19144439697266,
          88.01434326171875,
          85.99214935302734,
          89.97672271728516,
          84.84779357910156,
          83.99789428710938,
          84.4030990600586,
          81.54194641113281,
          83.76988983154297,
          79.44620513916016,
          86.2483139038086,
          86.14842987060547,
          85.67035675048828,
          81.07488250732422,
          80.7336654663086,
          81.0705795288086,
          85.53746032714844,
          86.32459259033203,
          83.23571014404297,
          89.23507690429688,
          81.53569030761719,
          80.1972885131836,
          84.30171203613281,
          85.49635314941406,
          87.42969512939453,
          87.63880920410156,
          86.57474517822266,
          83.52210235595703,
          86.66132354736328,
          84.57747650146484,
          75.90496063232422,
          80.33585357666016,
          87.26002502441406,
          82.4177017211914,
          82.1476058959961,
          86.28125762939453,
          84.19303894042969,
          85.31080627441406,
          81.80747985839844,
          85.02178192138672,
          88.22085571289062,
          90.12661743164062,
          86.5403060913086,
          86.99461364746094,
          81.92321014404297,
          86.30197143554688,
          78.64781951904297,
          83.66715240478516,
          84.26377868652344,
          86.42566680908203,
          83.95793151855469,
          86.44527435302734,
          82.46968078613281,
          84.02000427246094,
          81.79056549072266,
          87.65096282958984,
          85.58667755126953,
          90.0994644165039,
          90.9757080078125,
          91.6343765258789,
          91.02503204345703,
          90.64231872558594,
          89.55294799804688,
          87.46855926513672,
          85.04380798339844,
          82.42707824707031,
          82.8353500366211,
          84.37464141845703,
          86.82315063476562,
          82.25603485107422,
          82.0215072631836,
          85.49214935302734,
          80.08760070800781,
          86.1828384399414,
          83.6244125366211,
          87.7879638671875,
          84.75598907470703,
          86.1427001953125,
          89.35723114013672,
          87.93937683105469,
          90.96797943115234,
          89.07868957519531,
          86.38268280029297,
          88.05477142333984,
          87.26390075683594,
          82.28941345214844,
          78.23937225341797,
          83.42697143554688,
          82.03992462158203,
          87.83184051513672,
          88.97974395751953,
          85.97401428222656,
          87.3404769897461,
          85.31448364257812,
          85.9938735961914,
          86.46294403076172,
          87.99545288085938,
          89.87626647949219,
          86.20964813232422,
          89.55432891845703,
          85.51541900634766,
          80.42453002929688,
          82.08253479003906,
          87.71935272216797,
          79.74317932128906,
          81.75279998779297,
          81.62673950195312,
          80.72685241699219,
          82.75434112548828,
          82.23201751708984,
          83.10018920898438,
          80.44168853759766,
          79.41300964355469,
          84.33019256591797,
          87.25503540039062,
          86.55093383789062,
          81.44063568115234,
          80.69035339355469,
          84.97618103027344,
          90.57722473144531,
          88.42019653320312,
          79.4967041015625,
          76.71697235107422,
          73.50257873535156,
          69.73847961425781,
          65.08533477783203,
          65.60104370117188,
          67.36810302734375,
          63.21989822387695,
          78.60800170898438,
          80.09257507324219,
          80.94425201416016,
          87.1219253540039,
          83.91162872314453,
          84.94485473632812,
          84.32334899902344,
          83.86253356933594,
          85.9910888671875,
          82.79885864257812,
          79.64737701416016,
          83.5583724975586,
          82.17244720458984,
          75.56085205078125,
          81.64771270751953,
          82.38255310058594,
          86.30398559570312,
          82.35294342041016,
          80.76445007324219,
          74.73470306396484,
          78.02452087402344,
          79.59403991699219,
          83.08842468261719,
          82.46969604492188,
          82.446533203125,
          79.86518096923828,
          85.9359130859375,
          84.67536926269531,
          82.65438079833984,
          83.8563461303711,
          82.93991088867188,
          79.30573272705078,
          79.19186401367188,
          82.9250259399414,
          80.97785949707031,
          75.29544830322266,
          72.69482421875,
          80.39350891113281,
          85.25862884521484,
          86.62055969238281,
          82.05493927001953,
          78.36508178710938,
          85.49382019042969,
          83.70470428466797,
          85.33393096923828,
          82.821044921875,
          76.98257446289062,
          72.13356018066406,
          69.99859619140625,
          70.09835815429688,
          73.52214813232422,
          71.70616149902344,
          75.26856994628906,
          79.54996490478516,
          79.73037719726562,
          78.99942779541016,
          75.5821304321289,
          75.93031311035156,
          79.94131469726562,
          87.87348175048828,
          86.32791137695312,
          75.47042846679688,
          81.51718139648438,
          78.35104370117188,
          77.27999114990234,
          75.92570495605469,
          75.97575378417969,
          74.32322692871094,
          78.62413024902344,
          79.92899322509766,
          77.3131332397461,
          73.64826965332031,
          85.7780990600586,
          80.71270751953125,
          78.38199615478516,
          79.0255126953125,
          80.9336929321289,
          76.00048828125,
          76.5866470336914,
          77.9257583618164,
          79.5746078491211,
          79.62693786621094,
          79.23925018310547,
          83.8270034790039,
          83.92229461669922,
          85.39484405517578,
          79.38917541503906,
          77.71275329589844,
          80.95933532714844,
          85.99390411376953,
          81.32231903076172,
          84.09932708740234,
          84.99491882324219,
          80.48902893066406,
          76.99091339111328,
          85.15177154541016,
          87.85011291503906,
          87.29696655273438,
          84.03218841552734,
          84.2186050415039,
          85.66000366210938,
          85.39256286621094,
          86.19873046875,
          83.66851043701172,
          78.25375366210938,
          82.82754516601562,
          78.9208984375,
          77.36412811279297,
          77.3603744506836,
          81.6298828125,
          83.1848373413086,
          81.316162109375,
          73.83966827392578,
          72.43836212158203,
          69.73326873779297,
          70.39352416992188,
          72.70751190185547,
          71.6055679321289,
          74.79876708984375,
          72.95674896240234,
          72.86215209960938,
          74.16316986083984,
          73.59619140625,
          70.34485626220703,
          77.08206176757812,
          78.00360870361328,
          78.3614730834961,
          76.23772430419922,
          72.2745590209961,
          71.15007019042969,
          69.88632202148438,
          72.29138946533203,
          76.06293487548828,
          76.87120819091797,
          75.80421447753906,
          73.66207885742188,
          71.54042053222656,
          69.7991943359375,
          72.70995330810547,
          69.82862854003906,
          70.3860855102539,
          83.10672760009766,
          81.03775787353516,
          77.09613800048828,
          74.3039321899414,
          73.88333129882812,
          73.95708465576172,
          69.76345825195312,
          75.81611633300781,
          70.93632507324219,
          77.2694320678711,
          77.44831848144531,
          74.63814544677734,
          73.43794250488281,
          71.71925354003906,
          69.23661804199219,
          73.38558197021484,
          71.55231475830078,
          68.3672866821289,
          73.00249481201172,
          72.89327239990234,
          82.15390014648438,
          76.61395263671875,
          75.92475128173828,
          74.38236999511719,
          81.94252014160156,
          79.44297790527344,
          78.7247085571289,
          81.16731262207031,
          77.05772399902344,
          80.12718200683594,
          80.16521453857422,
          82.45975494384766,
          83.2308349609375,
          81.63261413574219,
          81.79032135009766,
          75.30839538574219,
          75.11437225341797,
          76.69608306884766,
          78.65715789794922,
          75.95292663574219,
          83.93553161621094,
          82.17691802978516,
          77.83967590332031,
          71.35974884033203,
          71.48225402832031,
          76.86235046386719,
          83.24505615234375,
          86.63713836669922,
          79.63513946533203,
          75.2262954711914,
          75.8993148803711,
          75.43660736083984,
          78.79881286621094,
          77.4503173828125,
          82.39556884765625,
          81.42345428466797,
          77.668212890625,
          77.68511199951172,
          73.18742370605469,
          66.93350219726562,
          75.5065689086914,
          77.4472427368164,
          76.03777313232422,
          72.97330474853516,
          81.02183532714844,
          84.97077941894531,
          75.16437530517578,
          73.37816619873047,
          72.82633972167969,
          72.73567962646484,
          78.11292266845703,
          72.031494140625,
          76.62738800048828,
          72.00896453857422,
          84.00668334960938,
          81.06470489501953,
          80.01045227050781,
          75.1402816772461,
          82.76296997070312,
          82.27176666259766,
          79.21154022216797,
          79.43131256103516,
          76.18376159667969,
          80.48802947998047,
          78.26116943359375,
          76.41722106933594,
          78.93329620361328,
          78.485595703125,
          78.38109588623047,
          82.85374450683594,
          80.6784439086914,
          82.16580963134766,
          80.28292083740234,
          80.09174346923828,
          81.78828430175781,
          80.14390563964844,
          85.23262786865234,
          83.42638397216797,
          78.53570556640625,
          81.37422180175781,
          77.00607299804688,
          79.64740753173828,
          79.82208251953125,
          83.04291534423828,
          83.79521942138672,
          79.01161193847656,
          79.61756134033203,
          82.18940734863281,
          81.24978637695312,
          82.35284423828125,
          83.2125015258789,
          82.6598892211914,
          82.17232513427734,
          85.57528686523438,
          85.23155212402344,
          85.36863708496094,
          82.4735336303711,
          86.2553482055664,
          88.87565612792969,
          89.91484832763672,
          84.16885375976562,
          76.36222076416016,
          77.39834594726562,
          84.27433776855469,
          84.37013244628906,
          88.59239959716797,
          88.2925796508789,
          87.82479095458984,
          88.21379852294922,
          85.89517211914062,
          87.50067901611328,
          84.54971313476562,
          79.20394134521484,
          82.78099822998047,
          87.50691986083984,
          87.42748260498047,
          84.34810638427734,
          81.62286376953125,
          86.47588348388672,
          86.36962890625,
          82.55462646484375,
          81.80267333984375,
          79.80196380615234,
          81.52796173095703,
          85.79144287109375,
          82.8046875,
          80.83123016357422,
          80.35011291503906,
          84.31944274902344,
          88.70341491699219,
          85.88306427001953,
          82.41039276123047,
          84.87322235107422,
          83.3335952758789,
          85.03421783447266,
          83.62694549560547,
          88.4228744506836,
          86.36723327636719,
          83.79345703125,
          83.04386138916016,
          86.17142486572266,
          89.1943588256836,
          88.08993530273438,
          89.25828552246094
         ],
         "yaxis": "y"
        }
       ],
       "layout": {
        "legend": {
         "title": {
          "text": "variable"
         },
         "tracegroupgap": 0
        },
        "template": {
         "data": {
          "bar": [
           {
            "error_x": {
             "color": "#2a3f5f"
            },
            "error_y": {
             "color": "#2a3f5f"
            },
            "marker": {
             "line": {
              "color": "#E5ECF6",
              "width": 0.5
             },
             "pattern": {
              "fillmode": "overlay",
              "size": 10,
              "solidity": 0.2
             }
            },
            "type": "bar"
           }
          ],
          "barpolar": [
           {
            "marker": {
             "line": {
              "color": "#E5ECF6",
              "width": 0.5
             },
             "pattern": {
              "fillmode": "overlay",
              "size": 10,
              "solidity": 0.2
             }
            },
            "type": "barpolar"
           }
          ],
          "carpet": [
           {
            "aaxis": {
             "endlinecolor": "#2a3f5f",
             "gridcolor": "white",
             "linecolor": "white",
             "minorgridcolor": "white",
             "startlinecolor": "#2a3f5f"
            },
            "baxis": {
             "endlinecolor": "#2a3f5f",
             "gridcolor": "white",
             "linecolor": "white",
             "minorgridcolor": "white",
             "startlinecolor": "#2a3f5f"
            },
            "type": "carpet"
           }
          ],
          "choropleth": [
           {
            "colorbar": {
             "outlinewidth": 0,
             "ticks": ""
            },
            "type": "choropleth"
           }
          ],
          "contour": [
           {
            "colorbar": {
             "outlinewidth": 0,
             "ticks": ""
            },
            "colorscale": [
             [
              0,
              "#0d0887"
             ],
             [
              0.1111111111111111,
              "#46039f"
             ],
             [
              0.2222222222222222,
              "#7201a8"
             ],
             [
              0.3333333333333333,
              "#9c179e"
             ],
             [
              0.4444444444444444,
              "#bd3786"
             ],
             [
              0.5555555555555556,
              "#d8576b"
             ],
             [
              0.6666666666666666,
              "#ed7953"
             ],
             [
              0.7777777777777778,
              "#fb9f3a"
             ],
             [
              0.8888888888888888,
              "#fdca26"
             ],
             [
              1,
              "#f0f921"
             ]
            ],
            "type": "contour"
           }
          ],
          "contourcarpet": [
           {
            "colorbar": {
             "outlinewidth": 0,
             "ticks": ""
            },
            "type": "contourcarpet"
           }
          ],
          "heatmap": [
           {
            "colorbar": {
             "outlinewidth": 0,
             "ticks": ""
            },
            "colorscale": [
             [
              0,
              "#0d0887"
             ],
             [
              0.1111111111111111,
              "#46039f"
             ],
             [
              0.2222222222222222,
              "#7201a8"
             ],
             [
              0.3333333333333333,
              "#9c179e"
             ],
             [
              0.4444444444444444,
              "#bd3786"
             ],
             [
              0.5555555555555556,
              "#d8576b"
             ],
             [
              0.6666666666666666,
              "#ed7953"
             ],
             [
              0.7777777777777778,
              "#fb9f3a"
             ],
             [
              0.8888888888888888,
              "#fdca26"
             ],
             [
              1,
              "#f0f921"
             ]
            ],
            "type": "heatmap"
           }
          ],
          "heatmapgl": [
           {
            "colorbar": {
             "outlinewidth": 0,
             "ticks": ""
            },
            "colorscale": [
             [
              0,
              "#0d0887"
             ],
             [
              0.1111111111111111,
              "#46039f"
             ],
             [
              0.2222222222222222,
              "#7201a8"
             ],
             [
              0.3333333333333333,
              "#9c179e"
             ],
             [
              0.4444444444444444,
              "#bd3786"
             ],
             [
              0.5555555555555556,
              "#d8576b"
             ],
             [
              0.6666666666666666,
              "#ed7953"
             ],
             [
              0.7777777777777778,
              "#fb9f3a"
             ],
             [
              0.8888888888888888,
              "#fdca26"
             ],
             [
              1,
              "#f0f921"
             ]
            ],
            "type": "heatmapgl"
           }
          ],
          "histogram": [
           {
            "marker": {
             "pattern": {
              "fillmode": "overlay",
              "size": 10,
              "solidity": 0.2
             }
            },
            "type": "histogram"
           }
          ],
          "histogram2d": [
           {
            "colorbar": {
             "outlinewidth": 0,
             "ticks": ""
            },
            "colorscale": [
             [
              0,
              "#0d0887"
             ],
             [
              0.1111111111111111,
              "#46039f"
             ],
             [
              0.2222222222222222,
              "#7201a8"
             ],
             [
              0.3333333333333333,
              "#9c179e"
             ],
             [
              0.4444444444444444,
              "#bd3786"
             ],
             [
              0.5555555555555556,
              "#d8576b"
             ],
             [
              0.6666666666666666,
              "#ed7953"
             ],
             [
              0.7777777777777778,
              "#fb9f3a"
             ],
             [
              0.8888888888888888,
              "#fdca26"
             ],
             [
              1,
              "#f0f921"
             ]
            ],
            "type": "histogram2d"
           }
          ],
          "histogram2dcontour": [
           {
            "colorbar": {
             "outlinewidth": 0,
             "ticks": ""
            },
            "colorscale": [
             [
              0,
              "#0d0887"
             ],
             [
              0.1111111111111111,
              "#46039f"
             ],
             [
              0.2222222222222222,
              "#7201a8"
             ],
             [
              0.3333333333333333,
              "#9c179e"
             ],
             [
              0.4444444444444444,
              "#bd3786"
             ],
             [
              0.5555555555555556,
              "#d8576b"
             ],
             [
              0.6666666666666666,
              "#ed7953"
             ],
             [
              0.7777777777777778,
              "#fb9f3a"
             ],
             [
              0.8888888888888888,
              "#fdca26"
             ],
             [
              1,
              "#f0f921"
             ]
            ],
            "type": "histogram2dcontour"
           }
          ],
          "mesh3d": [
           {
            "colorbar": {
             "outlinewidth": 0,
             "ticks": ""
            },
            "type": "mesh3d"
           }
          ],
          "parcoords": [
           {
            "line": {
             "colorbar": {
              "outlinewidth": 0,
              "ticks": ""
             }
            },
            "type": "parcoords"
           }
          ],
          "pie": [
           {
            "automargin": true,
            "type": "pie"
           }
          ],
          "scatter": [
           {
            "fillpattern": {
             "fillmode": "overlay",
             "size": 10,
             "solidity": 0.2
            },
            "type": "scatter"
           }
          ],
          "scatter3d": [
           {
            "line": {
             "colorbar": {
              "outlinewidth": 0,
              "ticks": ""
             }
            },
            "marker": {
             "colorbar": {
              "outlinewidth": 0,
              "ticks": ""
             }
            },
            "type": "scatter3d"
           }
          ],
          "scattercarpet": [
           {
            "marker": {
             "colorbar": {
              "outlinewidth": 0,
              "ticks": ""
             }
            },
            "type": "scattercarpet"
           }
          ],
          "scattergeo": [
           {
            "marker": {
             "colorbar": {
              "outlinewidth": 0,
              "ticks": ""
             }
            },
            "type": "scattergeo"
           }
          ],
          "scattergl": [
           {
            "marker": {
             "colorbar": {
              "outlinewidth": 0,
              "ticks": ""
             }
            },
            "type": "scattergl"
           }
          ],
          "scattermapbox": [
           {
            "marker": {
             "colorbar": {
              "outlinewidth": 0,
              "ticks": ""
             }
            },
            "type": "scattermapbox"
           }
          ],
          "scatterpolar": [
           {
            "marker": {
             "colorbar": {
              "outlinewidth": 0,
              "ticks": ""
             }
            },
            "type": "scatterpolar"
           }
          ],
          "scatterpolargl": [
           {
            "marker": {
             "colorbar": {
              "outlinewidth": 0,
              "ticks": ""
             }
            },
            "type": "scatterpolargl"
           }
          ],
          "scatterternary": [
           {
            "marker": {
             "colorbar": {
              "outlinewidth": 0,
              "ticks": ""
             }
            },
            "type": "scatterternary"
           }
          ],
          "surface": [
           {
            "colorbar": {
             "outlinewidth": 0,
             "ticks": ""
            },
            "colorscale": [
             [
              0,
              "#0d0887"
             ],
             [
              0.1111111111111111,
              "#46039f"
             ],
             [
              0.2222222222222222,
              "#7201a8"
             ],
             [
              0.3333333333333333,
              "#9c179e"
             ],
             [
              0.4444444444444444,
              "#bd3786"
             ],
             [
              0.5555555555555556,
              "#d8576b"
             ],
             [
              0.6666666666666666,
              "#ed7953"
             ],
             [
              0.7777777777777778,
              "#fb9f3a"
             ],
             [
              0.8888888888888888,
              "#fdca26"
             ],
             [
              1,
              "#f0f921"
             ]
            ],
            "type": "surface"
           }
          ],
          "table": [
           {
            "cells": {
             "fill": {
              "color": "#EBF0F8"
             },
             "line": {
              "color": "white"
             }
            },
            "header": {
             "fill": {
              "color": "#C8D4E3"
             },
             "line": {
              "color": "white"
             }
            },
            "type": "table"
           }
          ]
         },
         "layout": {
          "annotationdefaults": {
           "arrowcolor": "#2a3f5f",
           "arrowhead": 0,
           "arrowwidth": 1
          },
          "autotypenumbers": "strict",
          "coloraxis": {
           "colorbar": {
            "outlinewidth": 0,
            "ticks": ""
           }
          },
          "colorscale": {
           "diverging": [
            [
             0,
             "#8e0152"
            ],
            [
             0.1,
             "#c51b7d"
            ],
            [
             0.2,
             "#de77ae"
            ],
            [
             0.3,
             "#f1b6da"
            ],
            [
             0.4,
             "#fde0ef"
            ],
            [
             0.5,
             "#f7f7f7"
            ],
            [
             0.6,
             "#e6f5d0"
            ],
            [
             0.7,
             "#b8e186"
            ],
            [
             0.8,
             "#7fbc41"
            ],
            [
             0.9,
             "#4d9221"
            ],
            [
             1,
             "#276419"
            ]
           ],
           "sequential": [
            [
             0,
             "#0d0887"
            ],
            [
             0.1111111111111111,
             "#46039f"
            ],
            [
             0.2222222222222222,
             "#7201a8"
            ],
            [
             0.3333333333333333,
             "#9c179e"
            ],
            [
             0.4444444444444444,
             "#bd3786"
            ],
            [
             0.5555555555555556,
             "#d8576b"
            ],
            [
             0.6666666666666666,
             "#ed7953"
            ],
            [
             0.7777777777777778,
             "#fb9f3a"
            ],
            [
             0.8888888888888888,
             "#fdca26"
            ],
            [
             1,
             "#f0f921"
            ]
           ],
           "sequentialminus": [
            [
             0,
             "#0d0887"
            ],
            [
             0.1111111111111111,
             "#46039f"
            ],
            [
             0.2222222222222222,
             "#7201a8"
            ],
            [
             0.3333333333333333,
             "#9c179e"
            ],
            [
             0.4444444444444444,
             "#bd3786"
            ],
            [
             0.5555555555555556,
             "#d8576b"
            ],
            [
             0.6666666666666666,
             "#ed7953"
            ],
            [
             0.7777777777777778,
             "#fb9f3a"
            ],
            [
             0.8888888888888888,
             "#fdca26"
            ],
            [
             1,
             "#f0f921"
            ]
           ]
          },
          "colorway": [
           "#636efa",
           "#EF553B",
           "#00cc96",
           "#ab63fa",
           "#FFA15A",
           "#19d3f3",
           "#FF6692",
           "#B6E880",
           "#FF97FF",
           "#FECB52"
          ],
          "font": {
           "color": "#2a3f5f"
          },
          "geo": {
           "bgcolor": "white",
           "lakecolor": "white",
           "landcolor": "#E5ECF6",
           "showlakes": true,
           "showland": true,
           "subunitcolor": "white"
          },
          "hoverlabel": {
           "align": "left"
          },
          "hovermode": "closest",
          "mapbox": {
           "style": "light"
          },
          "paper_bgcolor": "white",
          "plot_bgcolor": "#E5ECF6",
          "polar": {
           "angularaxis": {
            "gridcolor": "white",
            "linecolor": "white",
            "ticks": ""
           },
           "bgcolor": "#E5ECF6",
           "radialaxis": {
            "gridcolor": "white",
            "linecolor": "white",
            "ticks": ""
           }
          },
          "scene": {
           "xaxis": {
            "backgroundcolor": "#E5ECF6",
            "gridcolor": "white",
            "gridwidth": 2,
            "linecolor": "white",
            "showbackground": true,
            "ticks": "",
            "zerolinecolor": "white"
           },
           "yaxis": {
            "backgroundcolor": "#E5ECF6",
            "gridcolor": "white",
            "gridwidth": 2,
            "linecolor": "white",
            "showbackground": true,
            "ticks": "",
            "zerolinecolor": "white"
           },
           "zaxis": {
            "backgroundcolor": "#E5ECF6",
            "gridcolor": "white",
            "gridwidth": 2,
            "linecolor": "white",
            "showbackground": true,
            "ticks": "",
            "zerolinecolor": "white"
           }
          },
          "shapedefaults": {
           "line": {
            "color": "#2a3f5f"
           }
          },
          "ternary": {
           "aaxis": {
            "gridcolor": "white",
            "linecolor": "white",
            "ticks": ""
           },
           "baxis": {
            "gridcolor": "white",
            "linecolor": "white",
            "ticks": ""
           },
           "bgcolor": "#E5ECF6",
           "caxis": {
            "gridcolor": "white",
            "linecolor": "white",
            "ticks": ""
           }
          },
          "title": {
           "x": 0.05
          },
          "xaxis": {
           "automargin": true,
           "gridcolor": "white",
           "linecolor": "white",
           "ticks": "",
           "title": {
            "standoff": 15
           },
           "zerolinecolor": "white",
           "zerolinewidth": 2
          },
          "yaxis": {
           "automargin": true,
           "gridcolor": "white",
           "linecolor": "white",
           "ticks": "",
           "title": {
            "standoff": 15
           },
           "zerolinecolor": "white",
           "zerolinewidth": 2
          }
         }
        },
        "title": {
         "text": "Temperature (°C) - Humidity ratio"
        },
        "xaxis": {
         "anchor": "y",
         "domain": [
          0,
          1
         ],
         "rangeselector": {
          "buttons": [
           {
            "count": 1,
            "label": "1m",
            "step": "month",
            "stepmode": "backward"
           },
           {
            "count": 6,
            "label": "6m",
            "step": "month",
            "stepmode": "backward"
           },
           {
            "count": 1,
            "label": "YTD",
            "step": "year",
            "stepmode": "todate"
           },
           {
            "count": 1,
            "label": "1y",
            "step": "year",
            "stepmode": "backward"
           },
           {
            "step": "all"
           }
          ]
         },
         "rangeslider": {
          "visible": true
         },
         "title": {
          "text": "date"
         }
        },
        "yaxis": {
         "anchor": "x",
         "domain": [
          0,
          1
         ],
         "title": {
          "text": "value"
         }
        }
       }
      },
      "text/html": [
       "<div>                            <div id=\"136f590b-01e0-45e5-af3e-3c4fb07ae5b4\" class=\"plotly-graph-div\" style=\"height:525px; width:100%;\"></div>            <script type=\"text/javascript\">                require([\"plotly\"], function(Plotly) {                    window.PLOTLYENV=window.PLOTLYENV || {};                                    if (document.getElementById(\"136f590b-01e0-45e5-af3e-3c4fb07ae5b4\")) {                    Plotly.newPlot(                        \"136f590b-01e0-45e5-af3e-3c4fb07ae5b4\",                        [{\"hovertemplate\":\"variable=t<br>date=%{x}<br>value=%{y}<extra></extra>\",\"legendgroup\":\"t\",\"line\":{\"color\":\"#636efa\",\"dash\":\"solid\"},\"marker\":{\"symbol\":\"circle\"},\"mode\":\"lines\",\"name\":\"t\",\"showlegend\":true,\"x\":[\"2016-01-01T00:00:00\",\"2016-01-02T00:00:00\",\"2016-01-03T00:00:00\",\"2016-01-04T00:00:00\",\"2016-01-05T00:00:00\",\"2016-01-06T00:00:00\",\"2016-01-07T00:00:00\",\"2016-01-08T00:00:00\",\"2016-01-09T00:00:00\",\"2016-01-10T00:00:00\",\"2016-01-11T00:00:00\",\"2016-01-12T00:00:00\",\"2016-01-13T00:00:00\",\"2016-01-14T00:00:00\",\"2016-01-15T00:00:00\",\"2016-01-16T00:00:00\",\"2016-01-17T00:00:00\",\"2016-01-18T00:00:00\",\"2016-01-19T00:00:00\",\"2016-01-20T00:00:00\",\"2016-01-21T00:00:00\",\"2016-01-22T00:00:00\",\"2016-01-23T00:00:00\",\"2016-01-24T00:00:00\",\"2016-01-25T00:00:00\",\"2016-01-26T00:00:00\",\"2016-01-27T00:00:00\",\"2016-01-28T00:00:00\",\"2016-01-29T00:00:00\",\"2016-01-30T00:00:00\",\"2016-01-31T00:00:00\",\"2016-02-01T00:00:00\",\"2016-02-02T00:00:00\",\"2016-02-03T00:00:00\",\"2016-02-04T00:00:00\",\"2016-02-05T00:00:00\",\"2016-02-06T00:00:00\",\"2016-02-07T00:00:00\",\"2016-02-08T00:00:00\",\"2016-02-09T00:00:00\",\"2016-02-10T00:00:00\",\"2016-02-11T00:00:00\",\"2016-02-12T00:00:00\",\"2016-02-13T00:00:00\",\"2016-02-14T00:00:00\",\"2016-02-15T00:00:00\",\"2016-02-16T00:00:00\",\"2016-02-17T00:00:00\",\"2016-02-18T00:00:00\",\"2016-02-19T00:00:00\",\"2016-02-20T00:00:00\",\"2016-02-21T00:00:00\",\"2016-02-22T00:00:00\",\"2016-02-23T00:00:00\",\"2016-02-24T00:00:00\",\"2016-02-25T00:00:00\",\"2016-02-26T00:00:00\",\"2016-02-27T00:00:00\",\"2016-02-28T00:00:00\",\"2016-02-29T00:00:00\",\"2016-03-01T00:00:00\",\"2016-03-02T00:00:00\",\"2016-03-03T00:00:00\",\"2016-03-04T00:00:00\",\"2016-03-05T00:00:00\",\"2016-03-06T00:00:00\",\"2016-03-07T00:00:00\",\"2016-03-08T00:00:00\",\"2016-03-09T00:00:00\",\"2016-03-10T00:00:00\",\"2016-03-11T00:00:00\",\"2016-03-12T00:00:00\",\"2016-03-13T00:00:00\",\"2016-03-14T00:00:00\",\"2016-03-15T00:00:00\",\"2016-03-16T00:00:00\",\"2016-03-17T00:00:00\",\"2016-03-18T00:00:00\",\"2016-03-19T00:00:00\",\"2016-03-20T00:00:00\",\"2016-03-21T00:00:00\",\"2016-03-22T00:00:00\",\"2016-03-23T00:00:00\",\"2016-03-24T00:00:00\",\"2016-03-25T00:00:00\",\"2016-03-26T00:00:00\",\"2016-03-27T00:00:00\",\"2016-03-28T00:00:00\",\"2016-03-29T00:00:00\",\"2016-03-30T00:00:00\",\"2016-03-31T00:00:00\",\"2016-04-01T00:00:00\",\"2016-04-02T00:00:00\",\"2016-04-03T00:00:00\",\"2016-04-04T00:00:00\",\"2016-04-05T00:00:00\",\"2016-04-06T00:00:00\",\"2016-04-07T00:00:00\",\"2016-04-08T00:00:00\",\"2016-04-09T00:00:00\",\"2016-04-10T00:00:00\",\"2016-04-11T00:00:00\",\"2016-04-12T00:00:00\",\"2016-04-13T00:00:00\",\"2016-04-14T00:00:00\",\"2016-04-15T00:00:00\",\"2016-04-16T00:00:00\",\"2016-04-17T00:00:00\",\"2016-04-18T00:00:00\",\"2016-04-19T00:00:00\",\"2016-04-20T00:00:00\",\"2016-04-21T00:00:00\",\"2016-04-22T00:00:00\",\"2016-04-23T00:00:00\",\"2016-04-24T00:00:00\",\"2016-04-25T00:00:00\",\"2016-04-26T00:00:00\",\"2016-04-27T00:00:00\",\"2016-04-28T00:00:00\",\"2016-04-29T00:00:00\",\"2016-04-30T00:00:00\",\"2016-05-01T00:00:00\",\"2016-05-02T00:00:00\",\"2016-05-03T00:00:00\",\"2016-05-04T00:00:00\",\"2016-05-05T00:00:00\",\"2016-05-06T00:00:00\",\"2016-05-07T00:00:00\",\"2016-05-08T00:00:00\",\"2016-05-09T00:00:00\",\"2016-05-10T00:00:00\",\"2016-05-11T00:00:00\",\"2016-05-12T00:00:00\",\"2016-05-13T00:00:00\",\"2016-05-14T00:00:00\",\"2016-05-15T00:00:00\",\"2016-05-16T00:00:00\",\"2016-05-17T00:00:00\",\"2016-05-18T00:00:00\",\"2016-05-19T00:00:00\",\"2016-05-20T00:00:00\",\"2016-05-21T00:00:00\",\"2016-05-22T00:00:00\",\"2016-05-23T00:00:00\",\"2016-05-24T00:00:00\",\"2016-05-25T00:00:00\",\"2016-05-26T00:00:00\",\"2016-05-27T00:00:00\",\"2016-05-28T00:00:00\",\"2016-05-29T00:00:00\",\"2016-05-30T00:00:00\",\"2016-05-31T00:00:00\",\"2016-06-01T00:00:00\",\"2016-06-02T00:00:00\",\"2016-06-03T00:00:00\",\"2016-06-04T00:00:00\",\"2016-06-05T00:00:00\",\"2016-06-06T00:00:00\",\"2016-06-07T00:00:00\",\"2016-06-08T00:00:00\",\"2016-06-09T00:00:00\",\"2016-06-10T00:00:00\",\"2016-06-11T00:00:00\",\"2016-06-12T00:00:00\",\"2016-06-13T00:00:00\",\"2016-06-14T00:00:00\",\"2016-06-15T00:00:00\",\"2016-06-16T00:00:00\",\"2016-06-17T00:00:00\",\"2016-06-18T00:00:00\",\"2016-06-19T00:00:00\",\"2016-06-20T00:00:00\",\"2016-06-21T00:00:00\",\"2016-06-22T00:00:00\",\"2016-06-23T00:00:00\",\"2016-06-24T00:00:00\",\"2016-06-25T00:00:00\",\"2016-06-26T00:00:00\",\"2016-06-27T00:00:00\",\"2016-06-28T00:00:00\",\"2016-06-29T00:00:00\",\"2016-06-30T00:00:00\",\"2016-07-01T00:00:00\",\"2016-07-02T00:00:00\",\"2016-07-03T00:00:00\",\"2016-07-04T00:00:00\",\"2016-07-05T00:00:00\",\"2016-07-06T00:00:00\",\"2016-07-07T00:00:00\",\"2016-07-08T00:00:00\",\"2016-07-09T00:00:00\",\"2016-07-10T00:00:00\",\"2016-07-11T00:00:00\",\"2016-07-12T00:00:00\",\"2016-07-13T00:00:00\",\"2016-07-14T00:00:00\",\"2016-07-15T00:00:00\",\"2016-07-16T00:00:00\",\"2016-07-17T00:00:00\",\"2016-07-18T00:00:00\",\"2016-07-19T00:00:00\",\"2016-07-20T00:00:00\",\"2016-07-21T00:00:00\",\"2016-07-22T00:00:00\",\"2016-07-23T00:00:00\",\"2016-07-24T00:00:00\",\"2016-07-25T00:00:00\",\"2016-07-26T00:00:00\",\"2016-07-27T00:00:00\",\"2016-07-28T00:00:00\",\"2016-07-29T00:00:00\",\"2016-07-30T00:00:00\",\"2016-07-31T00:00:00\",\"2016-08-01T00:00:00\",\"2016-08-02T00:00:00\",\"2016-08-03T00:00:00\",\"2016-08-04T00:00:00\",\"2016-08-05T00:00:00\",\"2016-08-06T00:00:00\",\"2016-08-07T00:00:00\",\"2016-08-08T00:00:00\",\"2016-08-09T00:00:00\",\"2016-08-10T00:00:00\",\"2016-08-11T00:00:00\",\"2016-08-12T00:00:00\",\"2016-08-13T00:00:00\",\"2016-08-14T00:00:00\",\"2016-08-15T00:00:00\",\"2016-08-16T00:00:00\",\"2016-08-17T00:00:00\",\"2016-08-18T00:00:00\",\"2016-08-19T00:00:00\",\"2016-08-20T00:00:00\",\"2016-08-21T00:00:00\",\"2016-08-22T00:00:00\",\"2016-08-23T00:00:00\",\"2016-08-24T00:00:00\",\"2016-08-25T00:00:00\",\"2016-08-26T00:00:00\",\"2016-08-27T00:00:00\",\"2016-08-28T00:00:00\",\"2016-08-29T00:00:00\",\"2016-08-30T00:00:00\",\"2016-08-31T00:00:00\",\"2016-09-01T00:00:00\",\"2016-09-02T00:00:00\",\"2016-09-03T00:00:00\",\"2016-09-04T00:00:00\",\"2016-09-05T00:00:00\",\"2016-09-06T00:00:00\",\"2016-09-07T00:00:00\",\"2016-09-08T00:00:00\",\"2016-09-09T00:00:00\",\"2016-09-10T00:00:00\",\"2016-09-11T00:00:00\",\"2016-09-12T00:00:00\",\"2016-09-13T00:00:00\",\"2016-09-14T00:00:00\",\"2016-09-15T00:00:00\",\"2016-09-16T00:00:00\",\"2016-09-17T00:00:00\",\"2016-09-18T00:00:00\",\"2016-09-19T00:00:00\",\"2016-09-20T00:00:00\",\"2016-09-21T00:00:00\",\"2016-09-22T00:00:00\",\"2016-09-23T00:00:00\",\"2016-09-24T00:00:00\",\"2016-09-25T00:00:00\",\"2016-09-26T00:00:00\",\"2016-09-27T00:00:00\",\"2016-09-28T00:00:00\",\"2016-09-29T00:00:00\",\"2016-09-30T00:00:00\",\"2016-10-01T00:00:00\",\"2016-10-02T00:00:00\",\"2016-10-03T00:00:00\",\"2016-10-04T00:00:00\",\"2016-10-05T00:00:00\",\"2016-10-06T00:00:00\",\"2016-10-07T00:00:00\",\"2016-10-08T00:00:00\",\"2016-10-09T00:00:00\",\"2016-10-10T00:00:00\",\"2016-10-11T00:00:00\",\"2016-10-12T00:00:00\",\"2016-10-13T00:00:00\",\"2016-10-14T00:00:00\",\"2016-10-15T00:00:00\",\"2016-10-16T00:00:00\",\"2016-10-17T00:00:00\",\"2016-10-18T00:00:00\",\"2016-10-19T00:00:00\",\"2016-10-20T00:00:00\",\"2016-10-21T00:00:00\",\"2016-10-22T00:00:00\",\"2016-10-23T00:00:00\",\"2016-10-24T00:00:00\",\"2016-10-25T00:00:00\",\"2016-10-26T00:00:00\",\"2016-10-27T00:00:00\",\"2016-10-28T00:00:00\",\"2016-10-29T00:00:00\",\"2016-10-30T00:00:00\",\"2016-10-31T00:00:00\",\"2016-11-01T00:00:00\",\"2016-11-02T00:00:00\",\"2016-11-03T00:00:00\",\"2016-11-04T00:00:00\",\"2016-11-05T00:00:00\",\"2016-11-06T00:00:00\",\"2016-11-07T00:00:00\",\"2016-11-08T00:00:00\",\"2016-11-09T00:00:00\",\"2016-11-10T00:00:00\",\"2016-11-11T00:00:00\",\"2016-11-12T00:00:00\",\"2016-11-13T00:00:00\",\"2016-11-14T00:00:00\",\"2016-11-15T00:00:00\",\"2016-11-16T00:00:00\",\"2016-11-17T00:00:00\",\"2016-11-18T00:00:00\",\"2016-11-19T00:00:00\",\"2016-11-20T00:00:00\",\"2016-11-21T00:00:00\",\"2016-11-22T00:00:00\",\"2016-11-23T00:00:00\",\"2016-11-24T00:00:00\",\"2016-11-25T00:00:00\",\"2016-11-26T00:00:00\",\"2016-11-27T00:00:00\",\"2016-11-28T00:00:00\",\"2016-11-29T00:00:00\",\"2016-11-30T00:00:00\",\"2016-12-01T00:00:00\",\"2016-12-02T00:00:00\",\"2016-12-03T00:00:00\",\"2016-12-04T00:00:00\",\"2016-12-05T00:00:00\",\"2016-12-06T00:00:00\",\"2016-12-07T00:00:00\",\"2016-12-08T00:00:00\",\"2016-12-09T00:00:00\",\"2016-12-10T00:00:00\",\"2016-12-11T00:00:00\",\"2016-12-12T00:00:00\",\"2016-12-13T00:00:00\",\"2016-12-14T00:00:00\",\"2016-12-15T00:00:00\",\"2016-12-16T00:00:00\",\"2016-12-17T00:00:00\",\"2016-12-18T00:00:00\",\"2016-12-19T00:00:00\",\"2016-12-20T00:00:00\",\"2016-12-21T00:00:00\",\"2016-12-22T00:00:00\",\"2016-12-23T00:00:00\",\"2016-12-24T00:00:00\",\"2016-12-25T00:00:00\",\"2016-12-26T00:00:00\",\"2016-12-27T00:00:00\",\"2016-12-28T00:00:00\",\"2016-12-29T00:00:00\",\"2016-12-30T00:00:00\",\"2016-12-31T00:00:00\",\"2017-01-01T00:00:00\",\"2017-01-02T00:00:00\",\"2017-01-03T00:00:00\",\"2017-01-04T00:00:00\",\"2017-01-05T00:00:00\",\"2017-01-06T00:00:00\",\"2017-01-07T00:00:00\",\"2017-01-08T00:00:00\",\"2017-01-09T00:00:00\",\"2017-01-10T00:00:00\",\"2017-01-11T00:00:00\",\"2017-01-12T00:00:00\",\"2017-01-13T00:00:00\",\"2017-01-14T00:00:00\",\"2017-01-15T00:00:00\",\"2017-01-16T00:00:00\",\"2017-01-17T00:00:00\",\"2017-01-18T00:00:00\",\"2017-01-19T00:00:00\",\"2017-01-20T00:00:00\",\"2017-01-21T00:00:00\",\"2017-01-22T00:00:00\",\"2017-01-23T00:00:00\",\"2017-01-24T00:00:00\",\"2017-01-25T00:00:00\",\"2017-01-26T00:00:00\",\"2017-01-27T00:00:00\",\"2017-01-28T00:00:00\",\"2017-01-29T00:00:00\",\"2017-01-30T00:00:00\",\"2017-01-31T00:00:00\",\"2017-02-01T00:00:00\",\"2017-02-02T00:00:00\",\"2017-02-03T00:00:00\",\"2017-02-04T00:00:00\",\"2017-02-05T00:00:00\",\"2017-02-06T00:00:00\",\"2017-02-07T00:00:00\",\"2017-02-08T00:00:00\",\"2017-02-09T00:00:00\",\"2017-02-10T00:00:00\",\"2017-02-11T00:00:00\",\"2017-02-12T00:00:00\",\"2017-02-13T00:00:00\",\"2017-02-14T00:00:00\",\"2017-02-15T00:00:00\",\"2017-02-16T00:00:00\",\"2017-02-17T00:00:00\",\"2017-02-18T00:00:00\",\"2017-02-19T00:00:00\",\"2017-02-20T00:00:00\",\"2017-02-21T00:00:00\",\"2017-02-22T00:00:00\",\"2017-02-23T00:00:00\",\"2017-02-24T00:00:00\",\"2017-02-25T00:00:00\",\"2017-02-26T00:00:00\",\"2017-02-27T00:00:00\",\"2017-02-28T00:00:00\",\"2017-03-01T00:00:00\",\"2017-03-02T00:00:00\",\"2017-03-03T00:00:00\",\"2017-03-04T00:00:00\",\"2017-03-05T00:00:00\",\"2017-03-06T00:00:00\",\"2017-03-07T00:00:00\",\"2017-03-08T00:00:00\",\"2017-03-09T00:00:00\",\"2017-03-10T00:00:00\",\"2017-03-11T00:00:00\",\"2017-03-12T00:00:00\",\"2017-03-13T00:00:00\",\"2017-03-14T00:00:00\",\"2017-03-15T00:00:00\",\"2017-03-16T00:00:00\",\"2017-03-17T00:00:00\",\"2017-03-18T00:00:00\",\"2017-03-19T00:00:00\",\"2017-03-20T00:00:00\",\"2017-03-21T00:00:00\",\"2017-03-22T00:00:00\",\"2017-03-23T00:00:00\",\"2017-03-24T00:00:00\",\"2017-03-25T00:00:00\",\"2017-03-26T00:00:00\",\"2017-03-27T00:00:00\",\"2017-03-28T00:00:00\",\"2017-03-29T00:00:00\",\"2017-03-30T00:00:00\",\"2017-03-31T00:00:00\",\"2017-04-01T00:00:00\",\"2017-04-02T00:00:00\",\"2017-04-03T00:00:00\",\"2017-04-04T00:00:00\",\"2017-04-05T00:00:00\",\"2017-04-06T00:00:00\",\"2017-04-07T00:00:00\",\"2017-04-08T00:00:00\",\"2017-04-09T00:00:00\",\"2017-04-10T00:00:00\",\"2017-04-11T00:00:00\",\"2017-04-12T00:00:00\",\"2017-04-13T00:00:00\",\"2017-04-14T00:00:00\",\"2017-04-15T00:00:00\",\"2017-04-16T00:00:00\",\"2017-04-17T00:00:00\",\"2017-04-18T00:00:00\",\"2017-04-19T00:00:00\",\"2017-04-20T00:00:00\",\"2017-04-21T00:00:00\",\"2017-04-22T00:00:00\",\"2017-04-23T00:00:00\",\"2017-04-24T00:00:00\",\"2017-04-25T00:00:00\",\"2017-04-26T00:00:00\",\"2017-04-27T00:00:00\",\"2017-04-28T00:00:00\",\"2017-04-29T00:00:00\",\"2017-04-30T00:00:00\",\"2017-05-01T00:00:00\",\"2017-05-02T00:00:00\",\"2017-05-03T00:00:00\",\"2017-05-04T00:00:00\",\"2017-05-05T00:00:00\",\"2017-05-06T00:00:00\",\"2017-05-07T00:00:00\",\"2017-05-08T00:00:00\",\"2017-05-09T00:00:00\",\"2017-05-10T00:00:00\",\"2017-05-11T00:00:00\",\"2017-05-12T00:00:00\",\"2017-05-13T00:00:00\",\"2017-05-14T00:00:00\",\"2017-05-15T00:00:00\",\"2017-05-16T00:00:00\",\"2017-05-17T00:00:00\",\"2017-05-18T00:00:00\",\"2017-05-19T00:00:00\",\"2017-05-20T00:00:00\",\"2017-05-21T00:00:00\",\"2017-05-22T00:00:00\",\"2017-05-23T00:00:00\",\"2017-05-24T00:00:00\",\"2017-05-25T00:00:00\",\"2017-05-26T00:00:00\",\"2017-05-27T00:00:00\",\"2017-05-28T00:00:00\",\"2017-05-29T00:00:00\",\"2017-05-30T00:00:00\",\"2017-05-31T00:00:00\",\"2017-06-01T00:00:00\",\"2017-06-02T00:00:00\",\"2017-06-03T00:00:00\",\"2017-06-04T00:00:00\",\"2017-06-05T00:00:00\",\"2017-06-06T00:00:00\",\"2017-06-07T00:00:00\",\"2017-06-08T00:00:00\",\"2017-06-09T00:00:00\",\"2017-06-10T00:00:00\",\"2017-06-11T00:00:00\",\"2017-06-12T00:00:00\",\"2017-06-13T00:00:00\",\"2017-06-14T00:00:00\",\"2017-06-15T00:00:00\",\"2017-06-16T00:00:00\",\"2017-06-17T00:00:00\",\"2017-06-18T00:00:00\",\"2017-06-19T00:00:00\",\"2017-06-20T00:00:00\",\"2017-06-21T00:00:00\",\"2017-06-22T00:00:00\",\"2017-06-23T00:00:00\",\"2017-06-24T00:00:00\",\"2017-06-25T00:00:00\",\"2017-06-26T00:00:00\",\"2017-06-27T00:00:00\",\"2017-06-28T00:00:00\",\"2017-06-29T00:00:00\",\"2017-06-30T00:00:00\",\"2017-07-01T00:00:00\",\"2017-07-02T00:00:00\",\"2017-07-03T00:00:00\",\"2017-07-04T00:00:00\",\"2017-07-05T00:00:00\",\"2017-07-06T00:00:00\",\"2017-07-07T00:00:00\",\"2017-07-08T00:00:00\",\"2017-07-09T00:00:00\",\"2017-07-10T00:00:00\",\"2017-07-11T00:00:00\",\"2017-07-12T00:00:00\",\"2017-07-13T00:00:00\",\"2017-07-14T00:00:00\",\"2017-07-15T00:00:00\",\"2017-07-16T00:00:00\",\"2017-07-17T00:00:00\",\"2017-07-18T00:00:00\",\"2017-07-19T00:00:00\",\"2017-07-20T00:00:00\",\"2017-07-21T00:00:00\",\"2017-07-22T00:00:00\",\"2017-07-23T00:00:00\",\"2017-07-24T00:00:00\",\"2017-07-25T00:00:00\",\"2017-07-26T00:00:00\",\"2017-07-27T00:00:00\",\"2017-07-28T00:00:00\",\"2017-07-29T00:00:00\",\"2017-07-30T00:00:00\",\"2017-07-31T00:00:00\",\"2017-08-01T00:00:00\",\"2017-08-02T00:00:00\",\"2017-08-03T00:00:00\",\"2017-08-04T00:00:00\",\"2017-08-05T00:00:00\",\"2017-08-06T00:00:00\",\"2017-08-07T00:00:00\",\"2017-08-08T00:00:00\",\"2017-08-09T00:00:00\",\"2017-08-10T00:00:00\",\"2017-08-11T00:00:00\",\"2017-08-12T00:00:00\",\"2017-08-13T00:00:00\",\"2017-08-14T00:00:00\",\"2017-08-15T00:00:00\",\"2017-08-16T00:00:00\",\"2017-08-17T00:00:00\",\"2017-08-18T00:00:00\",\"2017-08-19T00:00:00\",\"2017-08-20T00:00:00\",\"2017-08-21T00:00:00\",\"2017-08-22T00:00:00\",\"2017-08-23T00:00:00\",\"2017-08-24T00:00:00\",\"2017-08-25T00:00:00\",\"2017-08-26T00:00:00\",\"2017-08-27T00:00:00\",\"2017-08-28T00:00:00\",\"2017-08-29T00:00:00\",\"2017-08-30T00:00:00\",\"2017-08-31T00:00:00\",\"2017-09-01T00:00:00\",\"2017-09-02T00:00:00\",\"2017-09-03T00:00:00\",\"2017-09-04T00:00:00\",\"2017-09-05T00:00:00\",\"2017-09-06T00:00:00\",\"2017-09-07T00:00:00\",\"2017-09-08T00:00:00\",\"2017-09-09T00:00:00\",\"2017-09-10T00:00:00\",\"2017-09-11T00:00:00\",\"2017-09-12T00:00:00\",\"2017-09-13T00:00:00\",\"2017-09-14T00:00:00\",\"2017-09-15T00:00:00\",\"2017-09-16T00:00:00\",\"2017-09-17T00:00:00\",\"2017-09-18T00:00:00\",\"2017-09-19T00:00:00\",\"2017-09-20T00:00:00\",\"2017-09-21T00:00:00\",\"2017-09-22T00:00:00\",\"2017-09-23T00:00:00\",\"2017-09-24T00:00:00\",\"2017-09-25T00:00:00\",\"2017-09-26T00:00:00\",\"2017-09-27T00:00:00\",\"2017-09-28T00:00:00\",\"2017-09-29T00:00:00\",\"2017-09-30T00:00:00\",\"2017-10-01T00:00:00\",\"2017-10-02T00:00:00\",\"2017-10-03T00:00:00\",\"2017-10-04T00:00:00\",\"2017-10-05T00:00:00\",\"2017-10-06T00:00:00\",\"2017-10-07T00:00:00\",\"2017-10-08T00:00:00\",\"2017-10-09T00:00:00\",\"2017-10-10T00:00:00\",\"2017-10-11T00:00:00\",\"2017-10-12T00:00:00\",\"2017-10-13T00:00:00\",\"2017-10-14T00:00:00\",\"2017-10-15T00:00:00\",\"2017-10-16T00:00:00\",\"2017-10-17T00:00:00\",\"2017-10-18T00:00:00\",\"2017-10-19T00:00:00\",\"2017-10-20T00:00:00\",\"2017-10-21T00:00:00\",\"2017-10-22T00:00:00\",\"2017-10-23T00:00:00\",\"2017-10-24T00:00:00\",\"2017-10-25T00:00:00\",\"2017-10-26T00:00:00\",\"2017-10-27T00:00:00\",\"2017-10-28T00:00:00\",\"2017-10-29T00:00:00\",\"2017-10-30T00:00:00\",\"2017-10-31T00:00:00\",\"2017-11-01T00:00:00\",\"2017-11-02T00:00:00\",\"2017-11-03T00:00:00\",\"2017-11-04T00:00:00\",\"2017-11-05T00:00:00\",\"2017-11-06T00:00:00\",\"2017-11-07T00:00:00\",\"2017-11-08T00:00:00\",\"2017-11-09T00:00:00\",\"2017-11-10T00:00:00\",\"2017-11-11T00:00:00\",\"2017-11-12T00:00:00\",\"2017-11-13T00:00:00\",\"2017-11-14T00:00:00\",\"2017-11-15T00:00:00\",\"2017-11-16T00:00:00\",\"2017-11-17T00:00:00\",\"2017-11-18T00:00:00\",\"2017-11-19T00:00:00\",\"2017-11-20T00:00:00\",\"2017-11-21T00:00:00\",\"2017-11-22T00:00:00\",\"2017-11-23T00:00:00\",\"2017-11-24T00:00:00\",\"2017-11-25T00:00:00\",\"2017-11-26T00:00:00\",\"2017-11-27T00:00:00\",\"2017-11-28T00:00:00\",\"2017-11-29T00:00:00\",\"2017-11-30T00:00:00\",\"2017-12-01T00:00:00\",\"2017-12-02T00:00:00\",\"2017-12-03T00:00:00\",\"2017-12-04T00:00:00\",\"2017-12-05T00:00:00\",\"2017-12-06T00:00:00\",\"2017-12-07T00:00:00\",\"2017-12-08T00:00:00\",\"2017-12-09T00:00:00\",\"2017-12-10T00:00:00\",\"2017-12-11T00:00:00\",\"2017-12-12T00:00:00\",\"2017-12-13T00:00:00\",\"2017-12-14T00:00:00\",\"2017-12-15T00:00:00\",\"2017-12-16T00:00:00\",\"2017-12-17T00:00:00\",\"2017-12-18T00:00:00\",\"2017-12-19T00:00:00\",\"2017-12-20T00:00:00\",\"2017-12-21T00:00:00\",\"2017-12-22T00:00:00\",\"2017-12-23T00:00:00\",\"2017-12-24T00:00:00\",\"2017-12-25T00:00:00\",\"2017-12-26T00:00:00\",\"2017-12-27T00:00:00\",\"2017-12-28T00:00:00\",\"2017-12-29T00:00:00\",\"2017-12-30T00:00:00\",\"2017-12-31T00:00:00\",\"2018-01-01T00:00:00\",\"2018-01-02T00:00:00\",\"2018-01-03T00:00:00\",\"2018-01-04T00:00:00\",\"2018-01-05T00:00:00\",\"2018-01-06T00:00:00\",\"2018-01-07T00:00:00\",\"2018-01-08T00:00:00\",\"2018-01-09T00:00:00\",\"2018-01-10T00:00:00\",\"2018-01-11T00:00:00\",\"2018-01-12T00:00:00\",\"2018-01-13T00:00:00\",\"2018-01-14T00:00:00\",\"2018-01-15T00:00:00\",\"2018-01-16T00:00:00\",\"2018-01-17T00:00:00\",\"2018-01-18T00:00:00\",\"2018-01-19T00:00:00\",\"2018-01-20T00:00:00\",\"2018-01-21T00:00:00\",\"2018-01-22T00:00:00\",\"2018-01-23T00:00:00\",\"2018-01-24T00:00:00\",\"2018-01-25T00:00:00\",\"2018-01-26T00:00:00\",\"2018-01-27T00:00:00\",\"2018-01-28T00:00:00\",\"2018-01-29T00:00:00\",\"2018-01-30T00:00:00\",\"2018-01-31T00:00:00\",\"2018-02-01T00:00:00\",\"2018-02-02T00:00:00\",\"2018-02-03T00:00:00\",\"2018-02-04T00:00:00\",\"2018-02-05T00:00:00\",\"2018-02-06T00:00:00\",\"2018-02-07T00:00:00\",\"2018-02-08T00:00:00\",\"2018-02-09T00:00:00\",\"2018-02-10T00:00:00\",\"2018-02-11T00:00:00\",\"2018-02-12T00:00:00\",\"2018-02-13T00:00:00\",\"2018-02-14T00:00:00\",\"2018-02-15T00:00:00\",\"2018-02-16T00:00:00\",\"2018-02-17T00:00:00\",\"2018-02-18T00:00:00\",\"2018-02-19T00:00:00\",\"2018-02-20T00:00:00\",\"2018-02-21T00:00:00\",\"2018-02-22T00:00:00\",\"2018-02-23T00:00:00\",\"2018-02-24T00:00:00\",\"2018-02-25T00:00:00\",\"2018-02-26T00:00:00\",\"2018-02-27T00:00:00\",\"2018-02-28T00:00:00\",\"2018-03-01T00:00:00\",\"2018-03-02T00:00:00\",\"2018-03-03T00:00:00\",\"2018-03-04T00:00:00\",\"2018-03-05T00:00:00\",\"2018-03-06T00:00:00\",\"2018-03-07T00:00:00\",\"2018-03-08T00:00:00\",\"2018-03-09T00:00:00\",\"2018-03-10T00:00:00\",\"2018-03-11T00:00:00\",\"2018-03-12T00:00:00\",\"2018-03-13T00:00:00\",\"2018-03-14T00:00:00\",\"2018-03-15T00:00:00\",\"2018-03-16T00:00:00\",\"2018-03-17T00:00:00\",\"2018-03-18T00:00:00\",\"2018-03-19T00:00:00\",\"2018-03-20T00:00:00\",\"2018-03-21T00:00:00\",\"2018-03-22T00:00:00\",\"2018-03-23T00:00:00\",\"2018-03-24T00:00:00\",\"2018-03-25T00:00:00\",\"2018-03-26T00:00:00\",\"2018-03-27T00:00:00\",\"2018-03-28T00:00:00\",\"2018-03-29T00:00:00\",\"2018-03-30T00:00:00\",\"2018-03-31T00:00:00\",\"2018-04-01T00:00:00\",\"2018-04-02T00:00:00\",\"2018-04-03T00:00:00\",\"2018-04-04T00:00:00\",\"2018-04-05T00:00:00\",\"2018-04-06T00:00:00\",\"2018-04-07T00:00:00\",\"2018-04-08T00:00:00\",\"2018-04-09T00:00:00\",\"2018-04-10T00:00:00\",\"2018-04-11T00:00:00\",\"2018-04-12T00:00:00\",\"2018-04-13T00:00:00\",\"2018-04-14T00:00:00\",\"2018-04-15T00:00:00\",\"2018-04-16T00:00:00\",\"2018-04-17T00:00:00\",\"2018-04-18T00:00:00\",\"2018-04-19T00:00:00\",\"2018-04-20T00:00:00\",\"2018-04-21T00:00:00\",\"2018-04-22T00:00:00\",\"2018-04-23T00:00:00\",\"2018-04-24T00:00:00\",\"2018-04-25T00:00:00\",\"2018-04-26T00:00:00\",\"2018-04-27T00:00:00\",\"2018-04-28T00:00:00\",\"2018-04-29T00:00:00\",\"2018-04-30T00:00:00\",\"2018-05-01T00:00:00\",\"2018-05-02T00:00:00\",\"2018-05-03T00:00:00\",\"2018-05-04T00:00:00\",\"2018-05-05T00:00:00\",\"2018-05-06T00:00:00\",\"2018-05-07T00:00:00\",\"2018-05-08T00:00:00\",\"2018-05-09T00:00:00\",\"2018-05-10T00:00:00\",\"2018-05-11T00:00:00\",\"2018-05-12T00:00:00\",\"2018-05-13T00:00:00\",\"2018-05-14T00:00:00\",\"2018-05-15T00:00:00\",\"2018-05-16T00:00:00\",\"2018-05-17T00:00:00\",\"2018-05-18T00:00:00\",\"2018-05-19T00:00:00\",\"2018-05-20T00:00:00\",\"2018-05-21T00:00:00\",\"2018-05-22T00:00:00\",\"2018-05-23T00:00:00\",\"2018-05-24T00:00:00\",\"2018-05-25T00:00:00\",\"2018-05-26T00:00:00\",\"2018-05-27T00:00:00\",\"2018-05-28T00:00:00\",\"2018-05-29T00:00:00\",\"2018-05-30T00:00:00\",\"2018-05-31T00:00:00\",\"2018-06-01T00:00:00\",\"2018-06-02T00:00:00\",\"2018-06-03T00:00:00\",\"2018-06-04T00:00:00\",\"2018-06-05T00:00:00\",\"2018-06-06T00:00:00\",\"2018-06-07T00:00:00\",\"2018-06-08T00:00:00\",\"2018-06-09T00:00:00\",\"2018-06-10T00:00:00\",\"2018-06-11T00:00:00\",\"2018-06-12T00:00:00\",\"2018-06-13T00:00:00\",\"2018-06-14T00:00:00\",\"2018-06-15T00:00:00\",\"2018-06-16T00:00:00\",\"2018-06-17T00:00:00\",\"2018-06-18T00:00:00\",\"2018-06-19T00:00:00\",\"2018-06-20T00:00:00\",\"2018-06-21T00:00:00\",\"2018-06-22T00:00:00\",\"2018-06-23T00:00:00\",\"2018-06-24T00:00:00\",\"2018-06-25T00:00:00\",\"2018-06-26T00:00:00\",\"2018-06-27T00:00:00\",\"2018-06-28T00:00:00\",\"2018-06-29T00:00:00\",\"2018-06-30T00:00:00\",\"2018-07-01T00:00:00\",\"2018-07-02T00:00:00\",\"2018-07-03T00:00:00\",\"2018-07-04T00:00:00\",\"2018-07-05T00:00:00\",\"2018-07-06T00:00:00\",\"2018-07-07T00:00:00\",\"2018-07-08T00:00:00\",\"2018-07-09T00:00:00\",\"2018-07-10T00:00:00\",\"2018-07-11T00:00:00\",\"2018-07-12T00:00:00\",\"2018-07-13T00:00:00\",\"2018-07-14T00:00:00\",\"2018-07-15T00:00:00\",\"2018-07-16T00:00:00\",\"2018-07-17T00:00:00\",\"2018-07-18T00:00:00\",\"2018-07-19T00:00:00\",\"2018-07-20T00:00:00\",\"2018-07-21T00:00:00\",\"2018-07-22T00:00:00\",\"2018-07-23T00:00:00\",\"2018-07-24T00:00:00\",\"2018-07-25T00:00:00\",\"2018-07-26T00:00:00\",\"2018-07-27T00:00:00\",\"2018-07-28T00:00:00\",\"2018-07-29T00:00:00\",\"2018-07-30T00:00:00\",\"2018-07-31T00:00:00\",\"2018-08-01T00:00:00\",\"2018-08-02T00:00:00\",\"2018-08-03T00:00:00\",\"2018-08-04T00:00:00\",\"2018-08-05T00:00:00\",\"2018-08-06T00:00:00\",\"2018-08-07T00:00:00\",\"2018-08-08T00:00:00\",\"2018-08-09T00:00:00\",\"2018-08-10T00:00:00\",\"2018-08-11T00:00:00\",\"2018-08-12T00:00:00\",\"2018-08-13T00:00:00\",\"2018-08-14T00:00:00\",\"2018-08-15T00:00:00\",\"2018-08-16T00:00:00\",\"2018-08-17T00:00:00\",\"2018-08-18T00:00:00\",\"2018-08-19T00:00:00\",\"2018-08-20T00:00:00\",\"2018-08-21T00:00:00\",\"2018-08-22T00:00:00\",\"2018-08-23T00:00:00\",\"2018-08-24T00:00:00\",\"2018-08-25T00:00:00\",\"2018-08-26T00:00:00\",\"2018-08-27T00:00:00\",\"2018-08-28T00:00:00\",\"2018-08-29T00:00:00\",\"2018-08-30T00:00:00\",\"2018-08-31T00:00:00\",\"2018-09-01T00:00:00\",\"2018-09-02T00:00:00\",\"2018-09-03T00:00:00\",\"2018-09-04T00:00:00\",\"2018-09-05T00:00:00\",\"2018-09-06T00:00:00\",\"2018-09-07T00:00:00\",\"2018-09-08T00:00:00\",\"2018-09-09T00:00:00\",\"2018-09-10T00:00:00\",\"2018-09-11T00:00:00\",\"2018-09-12T00:00:00\",\"2018-09-13T00:00:00\",\"2018-09-14T00:00:00\",\"2018-09-15T00:00:00\",\"2018-09-16T00:00:00\",\"2018-09-17T00:00:00\",\"2018-09-18T00:00:00\",\"2018-09-19T00:00:00\",\"2018-09-20T00:00:00\",\"2018-09-21T00:00:00\",\"2018-09-22T00:00:00\",\"2018-09-23T00:00:00\",\"2018-09-24T00:00:00\",\"2018-09-25T00:00:00\",\"2018-09-26T00:00:00\",\"2018-09-27T00:00:00\",\"2018-09-28T00:00:00\",\"2018-09-29T00:00:00\",\"2018-09-30T00:00:00\",\"2018-10-01T00:00:00\",\"2018-10-02T00:00:00\",\"2018-10-03T00:00:00\",\"2018-10-04T00:00:00\",\"2018-10-05T00:00:00\",\"2018-10-06T00:00:00\",\"2018-10-07T00:00:00\",\"2018-10-08T00:00:00\",\"2018-10-09T00:00:00\",\"2018-10-10T00:00:00\",\"2018-10-11T00:00:00\",\"2018-10-12T00:00:00\",\"2018-10-13T00:00:00\",\"2018-10-14T00:00:00\",\"2018-10-15T00:00:00\",\"2018-10-16T00:00:00\",\"2018-10-17T00:00:00\",\"2018-10-18T00:00:00\",\"2018-10-19T00:00:00\",\"2018-10-20T00:00:00\",\"2018-10-21T00:00:00\",\"2018-10-22T00:00:00\",\"2018-10-23T00:00:00\",\"2018-10-24T00:00:00\",\"2018-10-25T00:00:00\",\"2018-10-26T00:00:00\",\"2018-10-27T00:00:00\",\"2018-10-28T00:00:00\",\"2018-10-29T00:00:00\",\"2018-10-30T00:00:00\",\"2018-10-31T00:00:00\",\"2018-11-01T00:00:00\",\"2018-11-02T00:00:00\",\"2018-11-03T00:00:00\",\"2018-11-04T00:00:00\",\"2018-11-05T00:00:00\",\"2018-11-06T00:00:00\",\"2018-11-07T00:00:00\",\"2018-11-08T00:00:00\",\"2018-11-09T00:00:00\",\"2018-11-10T00:00:00\",\"2018-11-11T00:00:00\",\"2018-11-12T00:00:00\",\"2018-11-13T00:00:00\",\"2018-11-14T00:00:00\",\"2018-11-15T00:00:00\",\"2018-11-16T00:00:00\",\"2018-11-17T00:00:00\",\"2018-11-18T00:00:00\",\"2018-11-19T00:00:00\",\"2018-11-20T00:00:00\",\"2018-11-21T00:00:00\",\"2018-11-22T00:00:00\",\"2018-11-23T00:00:00\",\"2018-11-24T00:00:00\",\"2018-11-25T00:00:00\",\"2018-11-26T00:00:00\",\"2018-11-27T00:00:00\",\"2018-11-28T00:00:00\",\"2018-11-29T00:00:00\",\"2018-11-30T00:00:00\",\"2018-12-01T00:00:00\",\"2018-12-02T00:00:00\",\"2018-12-03T00:00:00\",\"2018-12-04T00:00:00\",\"2018-12-05T00:00:00\",\"2018-12-06T00:00:00\",\"2018-12-07T00:00:00\",\"2018-12-08T00:00:00\",\"2018-12-09T00:00:00\",\"2018-12-10T00:00:00\",\"2018-12-11T00:00:00\",\"2018-12-12T00:00:00\",\"2018-12-13T00:00:00\",\"2018-12-14T00:00:00\",\"2018-12-15T00:00:00\",\"2018-12-16T00:00:00\",\"2018-12-17T00:00:00\",\"2018-12-18T00:00:00\",\"2018-12-19T00:00:00\",\"2018-12-20T00:00:00\",\"2018-12-21T00:00:00\",\"2018-12-22T00:00:00\",\"2018-12-23T00:00:00\",\"2018-12-24T00:00:00\",\"2018-12-25T00:00:00\",\"2018-12-26T00:00:00\",\"2018-12-27T00:00:00\",\"2018-12-28T00:00:00\",\"2018-12-29T00:00:00\",\"2018-12-30T00:00:00\"],\"xaxis\":\"x\",\"y\":[6.417787092340142,8.4776579324187,7.037626574362702,7.00769665069884,7.160065879367999,7.095649219002064,7.137384181236824,5.189991401371795,7.928216381809975,5.986984926296898,6.270107049561635,5.971374640691848,4.659181237576104,4.742167549106304,2.9393687590113227,2.6723127742354222,2.319118840249413,0.6820081514434329,-1.1230229383757253,-0.8334768397234905,0.047892135231169426,4.515657051007327,6.340152860516721,9.130941251340357,9.074569454023104,9.109354002738113,10.289824026910432,6.081732816838249,7.403031826963746,7.867186892458091,9.479017159150349,10.611550877595565,8.715908046234393,5.851001103494338,7.661869493101589,8.881239648118646,9.635203346466907,7.392976495470057,8.174335245785173,5.469343401194401,4.5053070449806505,3.774362778500941,3.8259781811682245,5.829309770238001,4.995441560199463,3.392515236913694,2.2888228555822137,0.778120332457023,2.5674973338124834,4.833744843640378,9.71248198657146,9.989603569306306,9.240952443603977,5.577684240172084,3.66875090293882,3.2282363625692847,3.5461491943623438,3.238126582360507,3.526998123146137,3.6646098145056816,6.132988030812241,6.637586055494509,6.3815956024330776,5.1295176870380335,3.584257568768394,3.813882666018545,3.1693974033126175,4.277777265477692,5.9812483412137185,5.905579604135407,5.664528935264357,4.834906203084271,4.904590671253828,5.092565448937907,5.80026420662367,5.670443657279184,5.9594362047490055,4.561247040502507,5.329718797671999,5.520869759242764,6.3369581612278445,6.618625639276555,5.9516758506926335,6.782701600648239,8.33082950637232,9.351342185710351,8.395805966828423,8.274966612460014,8.497082658074417,7.593569843563822,6.608091778402969,6.744324771214205,6.458580237054442,11.4336481122324,9.953098965570703,8.885220698980774,8.130924792826592,6.943191156725296,7.565869781584163,6.367103996035861,8.531705718484645,9.610127272083146,10.051641051313847,10.53361272305403,9.629312354915054,10.739341046574214,8.064949840205509,5.586345543365314,6.645560347376396,8.860492126593106,11.054534910282303,13.0486208610845,11.065786401766124,7.1672737580219295,5.240872969269393,7.177236924613938,5.626296962719958,5.285221787779305,6.250141156623231,7.267507984169014,7.061713031397254,8.142948213970602,10.218459341254952,9.310086837232847,10.350332234534322,12.656044203479285,14.722097514610184,15.998786747595187,17.462942873355768,15.682338152647159,14.843908927378065,13.70066744330691,13.346612053176376,13.094523808751875,8.952498014966693,9.908168608713732,10.410554446746213,11.268908852214,10.951414143985282,11.734683482653406,14.397315462850365,15.966008957339005,12.06398937258449,11.340550967015423,10.206138538663392,11.726200913744933,14.25247971264019,15.298824740830554,14.523041583564401,13.408410480854432,12.505222606896265,11.723472162529275,12.334469176019862,11.38077627214406,11.016169877291311,12.669669317022228,14.273501979654586,16.829597620265393,16.63083681336637,15.899374721668385,15.806535256350482,16.254314959490742,15.724944796369849,14.627852664170442,13.946811879682071,13.314048118962747,13.328619510156138,13.57299746937222,13.880769335782086,13.614050448382342,14.942195032261036,14.92479985675708,16.53329840279354,20.062179549535117,19.730935135812334,16.250184779443956,14.508168602885215,14.518444578860286,15.381927346656026,15.51910009585088,14.750467523894276,16.266164385256197,15.347024804149331,14.004999596984298,13.897030579242072,15.91810734713519,15.318432557964497,14.846893328603546,17.11149323815572,17.40936433326555,18.838662581824362,18.37755382830729,16.68788230505849,14.91769480195991,13.58090661398056,13.798415389996718,15.114547574726783,17.767548346790544,19.2220306105633,21.54389775908451,25.49651656586477,21.507808550290783,17.19905797957708,17.67142079338596,17.529732303739706,18.135827276441788,17.820732903967606,15.589464771812034,16.665458335165816,17.752967314459422,17.519307776008993,16.49707910083589,16.673235806056432,15.49583975009951,17.048244689838313,17.59299597615162,15.891661714345839,15.672749156683263,16.691094231045863,18.585738210668584,16.327716754842573,14.530819282168604,13.252962484941795,14.92007551362693,16.99599714338793,17.17876515583905,17.753405676236326,18.450801349319555,18.975789783619067,19.90864857920894,17.942119183742847,16.061812378572647,16.337005020070958,15.745639228820801,18.714997219207337,22.471991480343924,23.01220655477669,22.486615780269712,20.728096437168126,22.63113014587229,19.072716661735818,16.973100721658394,17.2407744722766,17.46077181008037,16.760433528839876,17.024711864539213,18.666565162164193,17.423647453252066,17.656690652156737,18.851516619278048,19.863094703789244,16.74958580560469,16.858618417270517,17.76172147150393,17.492157736574654,20.29582223896629,22.66968051319702,18.762076897147974,16.3314741640034,14.601619301411906,13.653226477747397,15.217271260861997,15.141837247212727,14.754426154383907,14.637324438780102,14.76302874151916,14.775567605649405,16.14860640564089,14.497841457318208,13.434089647802669,15.594775094406717,16.42098052693998,14.99219999697366,13.274549732502637,12.05095041368443,11.373534830315503,10.996889238400554,12.626291355699415,11.689991375626137,9.204081569366098,10.18359709993711,11.445562212870001,10.028062156781758,8.059672998995214,7.164928537586181,7.908003008889361,8.200311829702882,9.645305097048686,11.123445825262385,12.751942974664313,12.227632386834173,9.993600159650967,9.360634427036329,9.880916760055863,9.339019223052189,8.14526186629842,7.386124587942053,10.514936384064507,10.816191736413282,9.974661683850375,10.395503467241651,10.3178233377238,10.757344593838502,10.773918630025106,11.469570377186953,9.562744497411131,8.028662013924713,5.220875320846389,6.769054700773026,7.000039395026949,4.699715747739073,5.4017361966668505,4.862046412621853,7.878925365925327,8.50271316873921,6.259283446217391,5.785086232824872,8.679928733438876,8.110051731238894,11.556716394160633,11.41060599478098,10.496608806154958,6.862085118082954,6.235258335842584,10.24669909304035,11.094306453256369,8.35250988639217,8.425382023498928,9.47104822556867,6.764077529013655,7.194802512052776,6.724762833798835,4.087012432214114,0.29111488182702805,0.7203601340328765,2.1463440169365193,4.072147825782234,4.383041395399306,1.4117748311360676,4.473788928699207,6.167067254548144,7.60549853131547,6.875286810980903,6.9294812554253475,6.9258696866522085,6.170044306165116,5.438492255316841,7.96112008327908,5.898036955091689,5.474567484969576,6.164094237872783,4.166701395876773,3.2963748515619535,3.827973280261392,3.026514714387211,4.985921525004668,6.765164772028172,4.737815806261162,7.590642178005642,9.302256436392733,7.827751529284476,2.3949910767311433,2.9363848855448653,0.37584411345384405,-1.307191264704082,-2.804364546887068,-0.8254738257018579,1.974719948741573,0.299560866186801,3.613583783061418,1.91504371962124,-0.2985354085566799,1.954820218487073,6.463057384914822,6.956770452633653,6.02496726820204,7.876410558814803,5.675041202563693,3.3208929677277665,3.277251890309157,3.976474583301466,3.0905384791246218,-0.7200193057032306,-1.4718706154024408,-1.4161903894653671,-2.5182109302703233,-2.7384507497151693,-0.320690492246042,-0.20413870619218025,0.5476162383390207,-1.0003726137986304,-0.9616545899846681,3.6088557269403845,6.305773235028356,5.421944254557292,9.052441993296366,9.854762143991078,9.222406814656246,9.332100044696034,6.985605454032928,5.540063906884258,5.837305055189837,5.419022793635747,6.793587492575266,4.7593540288579455,2.821856480339099,1.6266438721804097,0.6549667246643927,2.336790949575624,6.8651281812517375,8.035911326405449,9.00821314902944,6.315566404554579,5.512823020454935,5.164799544106246,5.702364439222547,8.964552951297843,9.370266644545005,9.57134024926469,8.478080418622069,4.942300814524639,5.703609674287971,9.051231539425604,7.394475128489632,5.182120986680543,7.635118021968206,7.227457706594051,9.256644624042156,7.666936476124056,6.489914615207248,5.933433913757392,6.609438401957909,9.97028902496599,10.778421663770489,9.757452793420189,9.77057119764032,8.964812045363379,8.830541309233977,7.659994377039139,9.671674248229499,9.810766576479088,8.439841405542188,9.613450713712794,10.253964645385743,9.850936722621631,7.3390598399298534,5.889839840507634,7.069124317190387,8.24911999934288,9.878857425945368,9.895201854869049,10.921436920216918,10.434900859398876,12.954759978781729,15.068824205061519,12.917570433952939,9.978904524879152,9.30101989049229,9.991041983258851,9.461681190847777,9.910347976996079,8.659541442806297,9.554274123979818,12.164531261564198,14.454357044462572,10.141136413577652,8.7247718387514,8.79309252528118,9.469391650634137,9.301737387809442,9.748032519347014,8.818063212689868,8.871880138861753,7.120777171801199,6.250448727097022,6.059334201911615,8.841003866047037,9.221486070172622,8.341325082213396,9.027573416563838,6.359308098327801,4.583325088685854,5.767037790125516,8.100891782881222,9.748713455073888,9.581430511822983,8.700368918462328,10.168616546561184,9.21804329112021,10.264699702397682,11.42083194153874,10.50773195895776,10.42475677328693,8.880414351042326,9.752516448403737,12.179500963186245,13.614072485955695,13.973722151762793,13.52576187236889,13.155930533093425,15.938453731423929,18.796960936106938,17.549225058832665,11.59351723829277,10.080484810134068,10.975565245316755,13.73803972938268,16.477172420829845,15.503011670847103,15.8284894744405,18.252061334786465,19.89689027990196,19.275968974317475,19.601652284634493,18.13161343567647,14.720238322599286,14.977364952704042,17.970094046656396,18.039310306893128,13.668372845398299,13.72813320901333,14.695890526131684,12.242231990716212,13.466033976794115,16.955631758639814,15.796087751124098,18.160234305378943,17.449484077144813,14.013162940897118,15.329324624169388,19.606389012148487,17.971068043387866,15.52602419343263,18.448973220327627,21.103332387063045,22.843958480158037,24.32767939867016,25.470076142118977,19.75459845151293,16.07327376795674,17.468943699653902,18.026038408937403,18.7509956782438,17.18255163184907,15.78693785487671,14.837244886287197,14.581668863625731,14.915964340686932,15.577594214568174,15.553007376024697,17.52515075980926,20.88336498866884,23.36255853660864,20.902345901758444,19.371180878411547,19.594230020312807,16.823751648517415,16.877957892333338,16.874668420790982,17.01137304492482,15.409651222146348,16.625339655998562,18.308346543542847,20.000189543075116,23.44250209889604,21.19072573852539,16.27908768162222,16.30100842661644,15.011719190882943,14.902709092881944,15.146080182863296,16.557066717887132,16.340066992681372,16.417746205360633,17.077770713912987,19.43722351043696,17.79777528212107,16.44880306947982,16.825492479473034,18.129865917871008,18.60405162643358,17.39224874006556,16.018461067817757,14.872657362152156,16.083374189126804,14.172492009264863,13.716970183425353,14.186646020028839,15.277731342237235,15.44028046047897,15.517324001213051,17.668391839924166,18.106157548432353,17.03602405391362,18.207709013885296,16.860037865030034,14.843088204372787,15.285146513455729,17.74110335870783,19.832636236678027,17.65594425606333,16.709818883905626,17.870134744815324,18.735038988774903,19.55632414678905,21.379267072788913,22.050188206786007,14.551074722429757,13.825248766347032,13.709462584458942,13.844721000724666,13.382298225670244,16.92789722957502,17.3150821972149,14.715105180775192,14.47032487906998,14.666201599817935,12.988263942107823,13.69101979709883,13.04944984405395,13.600210999260877,13.872682695628326,11.858732213231681,10.39927134869158,10.014956221563281,10.584010398963521,10.766588116317395,11.686002875856305,11.882376005435113,13.36463381043074,12.71829478115732,12.697528519718652,15.699611622485584,15.399330060716428,15.24626399427139,14.982666242824036,16.119032084135764,15.947786203025105,13.755943327590732,14.841009038289387,15.241795220056533,11.969144375640145,11.17040157800599,11.893149400768184,9.93749927750982,10.820435216303792,12.617272295730885,12.664239141446535,13.58139969432438,14.343052723021199,15.047986550503786,15.289909185643149,14.513443902010705,16.918409190593053,17.488207170115338,13.60394983064813,14.480263814773021,14.519905211325712,12.345652295722337,12.629869002528677,10.27141777190882,12.177821704206007,15.070552881951325,13.77838085762513,12.008472645645279,11.043429499870612,9.620368363778976,11.505399759437523,7.589329761427258,6.610642384047924,8.320825412320247,9.73809503414935,11.119526029684867,11.289079799341609,6.979788468608499,5.480447364504358,4.802116200060634,6.882867015476082,8.069074226729455,10.172835286340582,10.992401728876791,8.514321478335777,5.980933217220474,6.351956626051199,8.687006757052078,7.770931720651594,7.1499001710282775,6.352707607799697,7.107927479407831,8.402071400855874,10.058335882777884,11.061720744775894,11.514002835189453,8.105251021535405,4.647075453856005,4.598241284617195,7.402351952236813,5.206208050623557,3.297517302315387,2.6423836353401984,2.535330096152173,1.70970598682421,4.3306003030576665,6.5870661544648605,6.8021858216621,6.247477163131582,5.887653905058537,3.713219216240777,2.322130381266276,6.084409990008125,4.777675651987106,3.2168215251931365,7.1155174025896235,4.91304947783468,4.731989560088382,4.419558482321923,4.66498916873563,6.061623862491465,2.5240114573917216,6.76496514448014,8.918981302897135,8.817140709557881,8.587914276123048,8.181733975210962,6.240605247895291,5.983854862591167,4.3177461036939295,2.6162858249682364,5.7210169314331365,11.806699570841928,10.580848568349959,7.143853156311669,8.311598010898301,9.045014296299426,10.431762489912419,7.729025234964776,5.5398824841481,4.6195907350178365,4.310815169133357,5.462851003086661,6.650336499250867,4.817223025884808,4.4839742781153635,3.68846592204013,2.665361166302684,6.868723945087977,6.808004699134338,5.360092751039278,8.272201951851127,4.849153341409002,7.382547555749312,7.695274124917572,9.7819879823918,9.39851043295565,10.871580997224745,7.33453034591957,5.426368047820276,4.773288390625558,9.024628586784171,9.069958291322502,8.459447561166574,7.270781779645958,4.36016169843265,4.121424088703334,3.7521843209362125,2.6394809478875616,0.12048143134894178,0.7711064665659704,0.32465614633733897,0.6892879306660595,1.9086572915428945,2.833851069620211,4.933533223470052,2.3899201830567796,1.8279125315499234,2.5926128225026734,7.6771963240650445,4.303157014566228,4.653992884247391,4.713429419437815,6.287646321674972,6.272612581350482,2.798982501575299,1.1447111540927672,0.26629445042142746,0.8684167149251348,0.2282308812452352,-2.1729103309741378,-3.4900421998761884,-4.166762410413037,-1.656986109931553,2.8993626524954554,5.05509187271775,5.37790643951187,6.67082394764194,6.289905224984107,5.544710194607083,6.137660387151849,8.696503682347872,11.541520173700006,10.981193375363262,8.805318717269211,7.437768007421193,8.314586953859072,9.136196321850123,7.712289633192458,2.7556959770821234,0.7706932357594937,0.2244135684025571,2.7039417951300435,3.224724246560681,4.6539516635078515,5.970679398706248,7.730783249633262,7.818242880751724,7.533691855780982,7.979873395886261,7.19400056086023,5.490806775523833,5.721056494841704,5.804755767616066,7.034571761053962,9.864848631918816,10.044393278368828,9.530991632502468,7.499574034857047,10.911579644630347,12.343320033786533,11.546902558276992,11.034525830223938,10.562571127827933,10.56183685602095,9.587210924522426,10.268139230154611,10.103156348334418,10.731090761468558,10.4198612795196,12.99208803216091,16.197112702651463,17.45560608882434,17.439482177734376,17.944902746784837,16.107282005875543,11.007526139350949,12.019258978874197,10.986761419332508,9.718286905628329,10.796583837651896,10.428362248990123,8.234569172096474,5.454054249910689,8.01593042839898,8.68052871121692,9.09369580531217,10.092878426445855,13.240833006510272,16.382367377096262,17.71467839657542,15.175149009967672,12.353744045125804,10.636111063720662,12.708995706958,10.71319465961597,9.95705787211925,11.69491524579161,13.087041704761168,12.533529918743913,11.411600893704748,10.326359004820675,11.043883858551496,12.713198525625568,14.637687991333856,14.768937408086,13.395275688913546,14.794910410931516,14.808936077319432,18.308510471034694,18.921499221195102,18.315899683978106,16.568044223739218,17.66665408648622,17.13829465800459,15.457586911185237,15.70177974013595,17.754255898956004,16.47287362116456,14.497761329081332,14.51349785610268,17.311465554708963,17.481776800333236,17.067133444326895,17.333496576136593,16.562590744425318,14.91400608302106,14.038804919099155,14.269849888553107,14.527940362076384,14.663875547820464,14.964355275472006,16.263502696183565,17.18346232946063,18.42146685461264,14.433319342822783,13.630699201800688,14.730234669965943,16.15133624088502,17.53662324547834,18.628156753797235,18.931457944529722,19.33902362951081,19.872014059362407,21.077781023369706,22.44796577519941,21.171549905004,20.162784806033642,19.822217313594226,18.604594998299646,19.349423550526968,21.045940968277893,20.99304044801794,20.05156279760944,17.28574582363697,16.64932712973674,17.27407263378322,18.93151636045952,19.607395791744,19.949786715561807,19.769541424818442,18.09893318645024,18.987841484447042,20.065481153614734,17.21308783927633,17.286299771694768,18.756206478069043,20.420521069561676,20.954729729072408,21.280926696240982,23.733984934911817,21.40154282082064,18.604391365869137,18.462388353876143,20.348785805594943,18.94058261019675,18.55935273473081,20.12759346074356,22.675453948396438,21.680769656821624,20.885941785341732,22.5166316986084,21.591374325065882,18.279772995034957,14.637390930284896,15.452521493424586,17.3789176235379,18.61559521699727,17.26213947738881,17.65687472567491,17.93132160922937,17.59248528898808,16.042545057987613,15.801496480640612,18.204910179606657,19.198994700113932,18.885167048788045,18.59530413309733,17.59602757941352,14.754848279941877,13.374236706203884,14.826760599772136,16.142892834234235,16.876479327246038,15.454941584528099,14.824374623016157,15.52415018717448,15.860903634118454,15.468947075737848,16.214183217445164,16.1659868689643,16.515260435316296,16.09640956691082,14.581059865315755,14.573916868421767,16.804969636705188,16.288262439838746,17.296479031410904,16.519105944746517,14.169283547317773,12.640759976704915,13.647667891519111,14.950650437672932,17.95654944202356,18.461036314574056,17.822090313771426,18.532536912466085,14.193735507414035,13.329489598271875,14.034003521389431,10.271029908799669,10.09143077616106,11.52623508687605,14.66332079556222,13.458895991141336,10.659450867301539,10.162383654501806,10.686603879285496,12.610206538233264,14.416633068938602,13.935533865099357,14.255870987511102,13.044092281769684,11.33637017815551,10.12842655436198,13.202836896751428,16.402419578474667,15.928368882921006,16.71341989024347,18.823533616807726,17.346035683525933,16.337865346272785,14.580565369599073,12.994545845510961,13.410934380028605,11.429551887711009,10.160881861530727,10.604962723715264,10.929230608162566,9.812767412611404,12.62979292116667,10.573934693922077,9.266930537943033,5.0673225034747205,5.134828065571032,4.525756282137151,6.45349042624758,7.046565954308761,9.294510113565545,6.302865344599674,4.78652944396976,7.28750886749803,11.332649316285785,11.541744225485283,10.308377590374999,7.835667161207932,9.906113700018988,11.087391567283893,10.622767478138623,10.292799662788953,9.87038510883854,9.07539424715614,9.12899299231366,7.956564914971067,5.16657616297404,4.093779923623068,2.751700372863234,1.9770145851269103,1.3252530113401517,2.45982020081979,5.14954786080822,6.205286583249873,5.937053899597704,5.054953252097652,5.902309256706449,10.708293379534803,10.76148034118817,8.770822683432392,9.34550059204432,13.215412992006772,11.860197987369315,8.97928675488743,10.30211957743034,11.341994509282342,9.360814207334776,9.302940947227906,9.114746755489513,7.209825607645293,4.534864575608934,2.5228650529030916,0.840660547472767,-1.2650592091274495,0.3550630594228769,5.276105424716699,6.601045517869582,7.1896965153665455,7.467599054371034,7.794748555094664,11.86847096658856,10.136569997902685,11.037619791303303,8.014688842510779,3.3218373636187186,1.827168118237209,0.6534558828774985,2.92679949831158,6.256886459945084,8.19474584477386],\"yaxis\":\"y\",\"type\":\"scattergl\"},{\"hovertemplate\":\"variable=hu<br>date=%{x}<br>value=%{y}<extra></extra>\",\"legendgroup\":\"hu\",\"line\":{\"color\":\"#EF553B\",\"dash\":\"solid\"},\"marker\":{\"symbol\":\"circle\"},\"mode\":\"lines\",\"name\":\"hu\",\"showlegend\":true,\"x\":[\"2016-01-01T00:00:00\",\"2016-01-02T00:00:00\",\"2016-01-03T00:00:00\",\"2016-01-04T00:00:00\",\"2016-01-05T00:00:00\",\"2016-01-06T00:00:00\",\"2016-01-07T00:00:00\",\"2016-01-08T00:00:00\",\"2016-01-09T00:00:00\",\"2016-01-10T00:00:00\",\"2016-01-11T00:00:00\",\"2016-01-12T00:00:00\",\"2016-01-13T00:00:00\",\"2016-01-14T00:00:00\",\"2016-01-15T00:00:00\",\"2016-01-16T00:00:00\",\"2016-01-17T00:00:00\",\"2016-01-18T00:00:00\",\"2016-01-19T00:00:00\",\"2016-01-20T00:00:00\",\"2016-01-21T00:00:00\",\"2016-01-22T00:00:00\",\"2016-01-23T00:00:00\",\"2016-01-24T00:00:00\",\"2016-01-25T00:00:00\",\"2016-01-26T00:00:00\",\"2016-01-27T00:00:00\",\"2016-01-28T00:00:00\",\"2016-01-29T00:00:00\",\"2016-01-30T00:00:00\",\"2016-01-31T00:00:00\",\"2016-02-01T00:00:00\",\"2016-02-02T00:00:00\",\"2016-02-03T00:00:00\",\"2016-02-04T00:00:00\",\"2016-02-05T00:00:00\",\"2016-02-06T00:00:00\",\"2016-02-07T00:00:00\",\"2016-02-08T00:00:00\",\"2016-02-09T00:00:00\",\"2016-02-10T00:00:00\",\"2016-02-11T00:00:00\",\"2016-02-12T00:00:00\",\"2016-02-13T00:00:00\",\"2016-02-14T00:00:00\",\"2016-02-15T00:00:00\",\"2016-02-16T00:00:00\",\"2016-02-17T00:00:00\",\"2016-02-18T00:00:00\",\"2016-02-19T00:00:00\",\"2016-02-20T00:00:00\",\"2016-02-21T00:00:00\",\"2016-02-22T00:00:00\",\"2016-02-23T00:00:00\",\"2016-02-24T00:00:00\",\"2016-02-25T00:00:00\",\"2016-02-26T00:00:00\",\"2016-02-27T00:00:00\",\"2016-02-28T00:00:00\",\"2016-02-29T00:00:00\",\"2016-03-01T00:00:00\",\"2016-03-02T00:00:00\",\"2016-03-03T00:00:00\",\"2016-03-04T00:00:00\",\"2016-03-05T00:00:00\",\"2016-03-06T00:00:00\",\"2016-03-07T00:00:00\",\"2016-03-08T00:00:00\",\"2016-03-09T00:00:00\",\"2016-03-10T00:00:00\",\"2016-03-11T00:00:00\",\"2016-03-12T00:00:00\",\"2016-03-13T00:00:00\",\"2016-03-14T00:00:00\",\"2016-03-15T00:00:00\",\"2016-03-16T00:00:00\",\"2016-03-17T00:00:00\",\"2016-03-18T00:00:00\",\"2016-03-19T00:00:00\",\"2016-03-20T00:00:00\",\"2016-03-21T00:00:00\",\"2016-03-22T00:00:00\",\"2016-03-23T00:00:00\",\"2016-03-24T00:00:00\",\"2016-03-25T00:00:00\",\"2016-03-26T00:00:00\",\"2016-03-27T00:00:00\",\"2016-03-28T00:00:00\",\"2016-03-29T00:00:00\",\"2016-03-30T00:00:00\",\"2016-03-31T00:00:00\",\"2016-04-01T00:00:00\",\"2016-04-02T00:00:00\",\"2016-04-03T00:00:00\",\"2016-04-04T00:00:00\",\"2016-04-05T00:00:00\",\"2016-04-06T00:00:00\",\"2016-04-07T00:00:00\",\"2016-04-08T00:00:00\",\"2016-04-09T00:00:00\",\"2016-04-10T00:00:00\",\"2016-04-11T00:00:00\",\"2016-04-12T00:00:00\",\"2016-04-13T00:00:00\",\"2016-04-14T00:00:00\",\"2016-04-15T00:00:00\",\"2016-04-16T00:00:00\",\"2016-04-17T00:00:00\",\"2016-04-18T00:00:00\",\"2016-04-19T00:00:00\",\"2016-04-20T00:00:00\",\"2016-04-21T00:00:00\",\"2016-04-22T00:00:00\",\"2016-04-23T00:00:00\",\"2016-04-24T00:00:00\",\"2016-04-25T00:00:00\",\"2016-04-26T00:00:00\",\"2016-04-27T00:00:00\",\"2016-04-28T00:00:00\",\"2016-04-29T00:00:00\",\"2016-04-30T00:00:00\",\"2016-05-01T00:00:00\",\"2016-05-02T00:00:00\",\"2016-05-03T00:00:00\",\"2016-05-04T00:00:00\",\"2016-05-05T00:00:00\",\"2016-05-06T00:00:00\",\"2016-05-07T00:00:00\",\"2016-05-08T00:00:00\",\"2016-05-09T00:00:00\",\"2016-05-10T00:00:00\",\"2016-05-11T00:00:00\",\"2016-05-12T00:00:00\",\"2016-05-13T00:00:00\",\"2016-05-14T00:00:00\",\"2016-05-15T00:00:00\",\"2016-05-16T00:00:00\",\"2016-05-17T00:00:00\",\"2016-05-18T00:00:00\",\"2016-05-19T00:00:00\",\"2016-05-20T00:00:00\",\"2016-05-21T00:00:00\",\"2016-05-22T00:00:00\",\"2016-05-23T00:00:00\",\"2016-05-24T00:00:00\",\"2016-05-25T00:00:00\",\"2016-05-26T00:00:00\",\"2016-05-27T00:00:00\",\"2016-05-28T00:00:00\",\"2016-05-29T00:00:00\",\"2016-05-30T00:00:00\",\"2016-05-31T00:00:00\",\"2016-06-01T00:00:00\",\"2016-06-02T00:00:00\",\"2016-06-03T00:00:00\",\"2016-06-04T00:00:00\",\"2016-06-05T00:00:00\",\"2016-06-06T00:00:00\",\"2016-06-07T00:00:00\",\"2016-06-08T00:00:00\",\"2016-06-09T00:00:00\",\"2016-06-10T00:00:00\",\"2016-06-11T00:00:00\",\"2016-06-12T00:00:00\",\"2016-06-13T00:00:00\",\"2016-06-14T00:00:00\",\"2016-06-15T00:00:00\",\"2016-06-16T00:00:00\",\"2016-06-17T00:00:00\",\"2016-06-18T00:00:00\",\"2016-06-19T00:00:00\",\"2016-06-20T00:00:00\",\"2016-06-21T00:00:00\",\"2016-06-22T00:00:00\",\"2016-06-23T00:00:00\",\"2016-06-24T00:00:00\",\"2016-06-25T00:00:00\",\"2016-06-26T00:00:00\",\"2016-06-27T00:00:00\",\"2016-06-28T00:00:00\",\"2016-06-29T00:00:00\",\"2016-06-30T00:00:00\",\"2016-07-01T00:00:00\",\"2016-07-02T00:00:00\",\"2016-07-03T00:00:00\",\"2016-07-04T00:00:00\",\"2016-07-05T00:00:00\",\"2016-07-06T00:00:00\",\"2016-07-07T00:00:00\",\"2016-07-08T00:00:00\",\"2016-07-09T00:00:00\",\"2016-07-10T00:00:00\",\"2016-07-11T00:00:00\",\"2016-07-12T00:00:00\",\"2016-07-13T00:00:00\",\"2016-07-14T00:00:00\",\"2016-07-15T00:00:00\",\"2016-07-16T00:00:00\",\"2016-07-17T00:00:00\",\"2016-07-18T00:00:00\",\"2016-07-19T00:00:00\",\"2016-07-20T00:00:00\",\"2016-07-21T00:00:00\",\"2016-07-22T00:00:00\",\"2016-07-23T00:00:00\",\"2016-07-24T00:00:00\",\"2016-07-25T00:00:00\",\"2016-07-26T00:00:00\",\"2016-07-27T00:00:00\",\"2016-07-28T00:00:00\",\"2016-07-29T00:00:00\",\"2016-07-30T00:00:00\",\"2016-07-31T00:00:00\",\"2016-08-01T00:00:00\",\"2016-08-02T00:00:00\",\"2016-08-03T00:00:00\",\"2016-08-04T00:00:00\",\"2016-08-05T00:00:00\",\"2016-08-06T00:00:00\",\"2016-08-07T00:00:00\",\"2016-08-08T00:00:00\",\"2016-08-09T00:00:00\",\"2016-08-10T00:00:00\",\"2016-08-11T00:00:00\",\"2016-08-12T00:00:00\",\"2016-08-13T00:00:00\",\"2016-08-14T00:00:00\",\"2016-08-15T00:00:00\",\"2016-08-16T00:00:00\",\"2016-08-17T00:00:00\",\"2016-08-18T00:00:00\",\"2016-08-19T00:00:00\",\"2016-08-20T00:00:00\",\"2016-08-21T00:00:00\",\"2016-08-22T00:00:00\",\"2016-08-23T00:00:00\",\"2016-08-24T00:00:00\",\"2016-08-25T00:00:00\",\"2016-08-26T00:00:00\",\"2016-08-27T00:00:00\",\"2016-08-28T00:00:00\",\"2016-08-29T00:00:00\",\"2016-08-30T00:00:00\",\"2016-08-31T00:00:00\",\"2016-09-01T00:00:00\",\"2016-09-02T00:00:00\",\"2016-09-03T00:00:00\",\"2016-09-04T00:00:00\",\"2016-09-05T00:00:00\",\"2016-09-06T00:00:00\",\"2016-09-07T00:00:00\",\"2016-09-08T00:00:00\",\"2016-09-09T00:00:00\",\"2016-09-10T00:00:00\",\"2016-09-11T00:00:00\",\"2016-09-12T00:00:00\",\"2016-09-13T00:00:00\",\"2016-09-14T00:00:00\",\"2016-09-15T00:00:00\",\"2016-09-16T00:00:00\",\"2016-09-17T00:00:00\",\"2016-09-18T00:00:00\",\"2016-09-19T00:00:00\",\"2016-09-20T00:00:00\",\"2016-09-21T00:00:00\",\"2016-09-22T00:00:00\",\"2016-09-23T00:00:00\",\"2016-09-24T00:00:00\",\"2016-09-25T00:00:00\",\"2016-09-26T00:00:00\",\"2016-09-27T00:00:00\",\"2016-09-28T00:00:00\",\"2016-09-29T00:00:00\",\"2016-09-30T00:00:00\",\"2016-10-01T00:00:00\",\"2016-10-02T00:00:00\",\"2016-10-03T00:00:00\",\"2016-10-04T00:00:00\",\"2016-10-05T00:00:00\",\"2016-10-06T00:00:00\",\"2016-10-07T00:00:00\",\"2016-10-08T00:00:00\",\"2016-10-09T00:00:00\",\"2016-10-10T00:00:00\",\"2016-10-11T00:00:00\",\"2016-10-12T00:00:00\",\"2016-10-13T00:00:00\",\"2016-10-14T00:00:00\",\"2016-10-15T00:00:00\",\"2016-10-16T00:00:00\",\"2016-10-17T00:00:00\",\"2016-10-18T00:00:00\",\"2016-10-19T00:00:00\",\"2016-10-20T00:00:00\",\"2016-10-21T00:00:00\",\"2016-10-22T00:00:00\",\"2016-10-23T00:00:00\",\"2016-10-24T00:00:00\",\"2016-10-25T00:00:00\",\"2016-10-26T00:00:00\",\"2016-10-27T00:00:00\",\"2016-10-28T00:00:00\",\"2016-10-29T00:00:00\",\"2016-10-30T00:00:00\",\"2016-10-31T00:00:00\",\"2016-11-01T00:00:00\",\"2016-11-02T00:00:00\",\"2016-11-03T00:00:00\",\"2016-11-04T00:00:00\",\"2016-11-05T00:00:00\",\"2016-11-06T00:00:00\",\"2016-11-07T00:00:00\",\"2016-11-08T00:00:00\",\"2016-11-09T00:00:00\",\"2016-11-10T00:00:00\",\"2016-11-11T00:00:00\",\"2016-11-12T00:00:00\",\"2016-11-13T00:00:00\",\"2016-11-14T00:00:00\",\"2016-11-15T00:00:00\",\"2016-11-16T00:00:00\",\"2016-11-17T00:00:00\",\"2016-11-18T00:00:00\",\"2016-11-19T00:00:00\",\"2016-11-20T00:00:00\",\"2016-11-21T00:00:00\",\"2016-11-22T00:00:00\",\"2016-11-23T00:00:00\",\"2016-11-24T00:00:00\",\"2016-11-25T00:00:00\",\"2016-11-26T00:00:00\",\"2016-11-27T00:00:00\",\"2016-11-28T00:00:00\",\"2016-11-29T00:00:00\",\"2016-11-30T00:00:00\",\"2016-12-01T00:00:00\",\"2016-12-02T00:00:00\",\"2016-12-03T00:00:00\",\"2016-12-04T00:00:00\",\"2016-12-05T00:00:00\",\"2016-12-06T00:00:00\",\"2016-12-07T00:00:00\",\"2016-12-08T00:00:00\",\"2016-12-09T00:00:00\",\"2016-12-10T00:00:00\",\"2016-12-11T00:00:00\",\"2016-12-12T00:00:00\",\"2016-12-13T00:00:00\",\"2016-12-14T00:00:00\",\"2016-12-15T00:00:00\",\"2016-12-16T00:00:00\",\"2016-12-17T00:00:00\",\"2016-12-18T00:00:00\",\"2016-12-19T00:00:00\",\"2016-12-20T00:00:00\",\"2016-12-21T00:00:00\",\"2016-12-22T00:00:00\",\"2016-12-23T00:00:00\",\"2016-12-24T00:00:00\",\"2016-12-25T00:00:00\",\"2016-12-26T00:00:00\",\"2016-12-27T00:00:00\",\"2016-12-28T00:00:00\",\"2016-12-29T00:00:00\",\"2016-12-30T00:00:00\",\"2016-12-31T00:00:00\",\"2017-01-01T00:00:00\",\"2017-01-02T00:00:00\",\"2017-01-03T00:00:00\",\"2017-01-04T00:00:00\",\"2017-01-05T00:00:00\",\"2017-01-06T00:00:00\",\"2017-01-07T00:00:00\",\"2017-01-08T00:00:00\",\"2017-01-09T00:00:00\",\"2017-01-10T00:00:00\",\"2017-01-11T00:00:00\",\"2017-01-12T00:00:00\",\"2017-01-13T00:00:00\",\"2017-01-14T00:00:00\",\"2017-01-15T00:00:00\",\"2017-01-16T00:00:00\",\"2017-01-17T00:00:00\",\"2017-01-18T00:00:00\",\"2017-01-19T00:00:00\",\"2017-01-20T00:00:00\",\"2017-01-21T00:00:00\",\"2017-01-22T00:00:00\",\"2017-01-23T00:00:00\",\"2017-01-24T00:00:00\",\"2017-01-25T00:00:00\",\"2017-01-26T00:00:00\",\"2017-01-27T00:00:00\",\"2017-01-28T00:00:00\",\"2017-01-29T00:00:00\",\"2017-01-30T00:00:00\",\"2017-01-31T00:00:00\",\"2017-02-01T00:00:00\",\"2017-02-02T00:00:00\",\"2017-02-03T00:00:00\",\"2017-02-04T00:00:00\",\"2017-02-05T00:00:00\",\"2017-02-06T00:00:00\",\"2017-02-07T00:00:00\",\"2017-02-08T00:00:00\",\"2017-02-09T00:00:00\",\"2017-02-10T00:00:00\",\"2017-02-11T00:00:00\",\"2017-02-12T00:00:00\",\"2017-02-13T00:00:00\",\"2017-02-14T00:00:00\",\"2017-02-15T00:00:00\",\"2017-02-16T00:00:00\",\"2017-02-17T00:00:00\",\"2017-02-18T00:00:00\",\"2017-02-19T00:00:00\",\"2017-02-20T00:00:00\",\"2017-02-21T00:00:00\",\"2017-02-22T00:00:00\",\"2017-02-23T00:00:00\",\"2017-02-24T00:00:00\",\"2017-02-25T00:00:00\",\"2017-02-26T00:00:00\",\"2017-02-27T00:00:00\",\"2017-02-28T00:00:00\",\"2017-03-01T00:00:00\",\"2017-03-02T00:00:00\",\"2017-03-03T00:00:00\",\"2017-03-04T00:00:00\",\"2017-03-05T00:00:00\",\"2017-03-06T00:00:00\",\"2017-03-07T00:00:00\",\"2017-03-08T00:00:00\",\"2017-03-09T00:00:00\",\"2017-03-10T00:00:00\",\"2017-03-11T00:00:00\",\"2017-03-12T00:00:00\",\"2017-03-13T00:00:00\",\"2017-03-14T00:00:00\",\"2017-03-15T00:00:00\",\"2017-03-16T00:00:00\",\"2017-03-17T00:00:00\",\"2017-03-18T00:00:00\",\"2017-03-19T00:00:00\",\"2017-03-20T00:00:00\",\"2017-03-21T00:00:00\",\"2017-03-22T00:00:00\",\"2017-03-23T00:00:00\",\"2017-03-24T00:00:00\",\"2017-03-25T00:00:00\",\"2017-03-26T00:00:00\",\"2017-03-27T00:00:00\",\"2017-03-28T00:00:00\",\"2017-03-29T00:00:00\",\"2017-03-30T00:00:00\",\"2017-03-31T00:00:00\",\"2017-04-01T00:00:00\",\"2017-04-02T00:00:00\",\"2017-04-03T00:00:00\",\"2017-04-04T00:00:00\",\"2017-04-05T00:00:00\",\"2017-04-06T00:00:00\",\"2017-04-07T00:00:00\",\"2017-04-08T00:00:00\",\"2017-04-09T00:00:00\",\"2017-04-10T00:00:00\",\"2017-04-11T00:00:00\",\"2017-04-12T00:00:00\",\"2017-04-13T00:00:00\",\"2017-04-14T00:00:00\",\"2017-04-15T00:00:00\",\"2017-04-16T00:00:00\",\"2017-04-17T00:00:00\",\"2017-04-18T00:00:00\",\"2017-04-19T00:00:00\",\"2017-04-20T00:00:00\",\"2017-04-21T00:00:00\",\"2017-04-22T00:00:00\",\"2017-04-23T00:00:00\",\"2017-04-24T00:00:00\",\"2017-04-25T00:00:00\",\"2017-04-26T00:00:00\",\"2017-04-27T00:00:00\",\"2017-04-28T00:00:00\",\"2017-04-29T00:00:00\",\"2017-04-30T00:00:00\",\"2017-05-01T00:00:00\",\"2017-05-02T00:00:00\",\"2017-05-03T00:00:00\",\"2017-05-04T00:00:00\",\"2017-05-05T00:00:00\",\"2017-05-06T00:00:00\",\"2017-05-07T00:00:00\",\"2017-05-08T00:00:00\",\"2017-05-09T00:00:00\",\"2017-05-10T00:00:00\",\"2017-05-11T00:00:00\",\"2017-05-12T00:00:00\",\"2017-05-13T00:00:00\",\"2017-05-14T00:00:00\",\"2017-05-15T00:00:00\",\"2017-05-16T00:00:00\",\"2017-05-17T00:00:00\",\"2017-05-18T00:00:00\",\"2017-05-19T00:00:00\",\"2017-05-20T00:00:00\",\"2017-05-21T00:00:00\",\"2017-05-22T00:00:00\",\"2017-05-23T00:00:00\",\"2017-05-24T00:00:00\",\"2017-05-25T00:00:00\",\"2017-05-26T00:00:00\",\"2017-05-27T00:00:00\",\"2017-05-28T00:00:00\",\"2017-05-29T00:00:00\",\"2017-05-30T00:00:00\",\"2017-05-31T00:00:00\",\"2017-06-01T00:00:00\",\"2017-06-02T00:00:00\",\"2017-06-03T00:00:00\",\"2017-06-04T00:00:00\",\"2017-06-05T00:00:00\",\"2017-06-06T00:00:00\",\"2017-06-07T00:00:00\",\"2017-06-08T00:00:00\",\"2017-06-09T00:00:00\",\"2017-06-10T00:00:00\",\"2017-06-11T00:00:00\",\"2017-06-12T00:00:00\",\"2017-06-13T00:00:00\",\"2017-06-14T00:00:00\",\"2017-06-15T00:00:00\",\"2017-06-16T00:00:00\",\"2017-06-17T00:00:00\",\"2017-06-18T00:00:00\",\"2017-06-19T00:00:00\",\"2017-06-20T00:00:00\",\"2017-06-21T00:00:00\",\"2017-06-22T00:00:00\",\"2017-06-23T00:00:00\",\"2017-06-24T00:00:00\",\"2017-06-25T00:00:00\",\"2017-06-26T00:00:00\",\"2017-06-27T00:00:00\",\"2017-06-28T00:00:00\",\"2017-06-29T00:00:00\",\"2017-06-30T00:00:00\",\"2017-07-01T00:00:00\",\"2017-07-02T00:00:00\",\"2017-07-03T00:00:00\",\"2017-07-04T00:00:00\",\"2017-07-05T00:00:00\",\"2017-07-06T00:00:00\",\"2017-07-07T00:00:00\",\"2017-07-08T00:00:00\",\"2017-07-09T00:00:00\",\"2017-07-10T00:00:00\",\"2017-07-11T00:00:00\",\"2017-07-12T00:00:00\",\"2017-07-13T00:00:00\",\"2017-07-14T00:00:00\",\"2017-07-15T00:00:00\",\"2017-07-16T00:00:00\",\"2017-07-17T00:00:00\",\"2017-07-18T00:00:00\",\"2017-07-19T00:00:00\",\"2017-07-20T00:00:00\",\"2017-07-21T00:00:00\",\"2017-07-22T00:00:00\",\"2017-07-23T00:00:00\",\"2017-07-24T00:00:00\",\"2017-07-25T00:00:00\",\"2017-07-26T00:00:00\",\"2017-07-27T00:00:00\",\"2017-07-28T00:00:00\",\"2017-07-29T00:00:00\",\"2017-07-30T00:00:00\",\"2017-07-31T00:00:00\",\"2017-08-01T00:00:00\",\"2017-08-02T00:00:00\",\"2017-08-03T00:00:00\",\"2017-08-04T00:00:00\",\"2017-08-05T00:00:00\",\"2017-08-06T00:00:00\",\"2017-08-07T00:00:00\",\"2017-08-08T00:00:00\",\"2017-08-09T00:00:00\",\"2017-08-10T00:00:00\",\"2017-08-11T00:00:00\",\"2017-08-12T00:00:00\",\"2017-08-13T00:00:00\",\"2017-08-14T00:00:00\",\"2017-08-15T00:00:00\",\"2017-08-16T00:00:00\",\"2017-08-17T00:00:00\",\"2017-08-18T00:00:00\",\"2017-08-19T00:00:00\",\"2017-08-20T00:00:00\",\"2017-08-21T00:00:00\",\"2017-08-22T00:00:00\",\"2017-08-23T00:00:00\",\"2017-08-24T00:00:00\",\"2017-08-25T00:00:00\",\"2017-08-26T00:00:00\",\"2017-08-27T00:00:00\",\"2017-08-28T00:00:00\",\"2017-08-29T00:00:00\",\"2017-08-30T00:00:00\",\"2017-08-31T00:00:00\",\"2017-09-01T00:00:00\",\"2017-09-02T00:00:00\",\"2017-09-03T00:00:00\",\"2017-09-04T00:00:00\",\"2017-09-05T00:00:00\",\"2017-09-06T00:00:00\",\"2017-09-07T00:00:00\",\"2017-09-08T00:00:00\",\"2017-09-09T00:00:00\",\"2017-09-10T00:00:00\",\"2017-09-11T00:00:00\",\"2017-09-12T00:00:00\",\"2017-09-13T00:00:00\",\"2017-09-14T00:00:00\",\"2017-09-15T00:00:00\",\"2017-09-16T00:00:00\",\"2017-09-17T00:00:00\",\"2017-09-18T00:00:00\",\"2017-09-19T00:00:00\",\"2017-09-20T00:00:00\",\"2017-09-21T00:00:00\",\"2017-09-22T00:00:00\",\"2017-09-23T00:00:00\",\"2017-09-24T00:00:00\",\"2017-09-25T00:00:00\",\"2017-09-26T00:00:00\",\"2017-09-27T00:00:00\",\"2017-09-28T00:00:00\",\"2017-09-29T00:00:00\",\"2017-09-30T00:00:00\",\"2017-10-01T00:00:00\",\"2017-10-02T00:00:00\",\"2017-10-03T00:00:00\",\"2017-10-04T00:00:00\",\"2017-10-05T00:00:00\",\"2017-10-06T00:00:00\",\"2017-10-07T00:00:00\",\"2017-10-08T00:00:00\",\"2017-10-09T00:00:00\",\"2017-10-10T00:00:00\",\"2017-10-11T00:00:00\",\"2017-10-12T00:00:00\",\"2017-10-13T00:00:00\",\"2017-10-14T00:00:00\",\"2017-10-15T00:00:00\",\"2017-10-16T00:00:00\",\"2017-10-17T00:00:00\",\"2017-10-18T00:00:00\",\"2017-10-19T00:00:00\",\"2017-10-20T00:00:00\",\"2017-10-21T00:00:00\",\"2017-10-22T00:00:00\",\"2017-10-23T00:00:00\",\"2017-10-24T00:00:00\",\"2017-10-25T00:00:00\",\"2017-10-26T00:00:00\",\"2017-10-27T00:00:00\",\"2017-10-28T00:00:00\",\"2017-10-29T00:00:00\",\"2017-10-30T00:00:00\",\"2017-10-31T00:00:00\",\"2017-11-01T00:00:00\",\"2017-11-02T00:00:00\",\"2017-11-03T00:00:00\",\"2017-11-04T00:00:00\",\"2017-11-05T00:00:00\",\"2017-11-06T00:00:00\",\"2017-11-07T00:00:00\",\"2017-11-08T00:00:00\",\"2017-11-09T00:00:00\",\"2017-11-10T00:00:00\",\"2017-11-11T00:00:00\",\"2017-11-12T00:00:00\",\"2017-11-13T00:00:00\",\"2017-11-14T00:00:00\",\"2017-11-15T00:00:00\",\"2017-11-16T00:00:00\",\"2017-11-17T00:00:00\",\"2017-11-18T00:00:00\",\"2017-11-19T00:00:00\",\"2017-11-20T00:00:00\",\"2017-11-21T00:00:00\",\"2017-11-22T00:00:00\",\"2017-11-23T00:00:00\",\"2017-11-24T00:00:00\",\"2017-11-25T00:00:00\",\"2017-11-26T00:00:00\",\"2017-11-27T00:00:00\",\"2017-11-28T00:00:00\",\"2017-11-29T00:00:00\",\"2017-11-30T00:00:00\",\"2017-12-01T00:00:00\",\"2017-12-02T00:00:00\",\"2017-12-03T00:00:00\",\"2017-12-04T00:00:00\",\"2017-12-05T00:00:00\",\"2017-12-06T00:00:00\",\"2017-12-07T00:00:00\",\"2017-12-08T00:00:00\",\"2017-12-09T00:00:00\",\"2017-12-10T00:00:00\",\"2017-12-11T00:00:00\",\"2017-12-12T00:00:00\",\"2017-12-13T00:00:00\",\"2017-12-14T00:00:00\",\"2017-12-15T00:00:00\",\"2017-12-16T00:00:00\",\"2017-12-17T00:00:00\",\"2017-12-18T00:00:00\",\"2017-12-19T00:00:00\",\"2017-12-20T00:00:00\",\"2017-12-21T00:00:00\",\"2017-12-22T00:00:00\",\"2017-12-23T00:00:00\",\"2017-12-24T00:00:00\",\"2017-12-25T00:00:00\",\"2017-12-26T00:00:00\",\"2017-12-27T00:00:00\",\"2017-12-28T00:00:00\",\"2017-12-29T00:00:00\",\"2017-12-30T00:00:00\",\"2017-12-31T00:00:00\",\"2018-01-01T00:00:00\",\"2018-01-02T00:00:00\",\"2018-01-03T00:00:00\",\"2018-01-04T00:00:00\",\"2018-01-05T00:00:00\",\"2018-01-06T00:00:00\",\"2018-01-07T00:00:00\",\"2018-01-08T00:00:00\",\"2018-01-09T00:00:00\",\"2018-01-10T00:00:00\",\"2018-01-11T00:00:00\",\"2018-01-12T00:00:00\",\"2018-01-13T00:00:00\",\"2018-01-14T00:00:00\",\"2018-01-15T00:00:00\",\"2018-01-16T00:00:00\",\"2018-01-17T00:00:00\",\"2018-01-18T00:00:00\",\"2018-01-19T00:00:00\",\"2018-01-20T00:00:00\",\"2018-01-21T00:00:00\",\"2018-01-22T00:00:00\",\"2018-01-23T00:00:00\",\"2018-01-24T00:00:00\",\"2018-01-25T00:00:00\",\"2018-01-26T00:00:00\",\"2018-01-27T00:00:00\",\"2018-01-28T00:00:00\",\"2018-01-29T00:00:00\",\"2018-01-30T00:00:00\",\"2018-01-31T00:00:00\",\"2018-02-01T00:00:00\",\"2018-02-02T00:00:00\",\"2018-02-03T00:00:00\",\"2018-02-04T00:00:00\",\"2018-02-05T00:00:00\",\"2018-02-06T00:00:00\",\"2018-02-07T00:00:00\",\"2018-02-08T00:00:00\",\"2018-02-09T00:00:00\",\"2018-02-10T00:00:00\",\"2018-02-11T00:00:00\",\"2018-02-12T00:00:00\",\"2018-02-13T00:00:00\",\"2018-02-14T00:00:00\",\"2018-02-15T00:00:00\",\"2018-02-16T00:00:00\",\"2018-02-17T00:00:00\",\"2018-02-18T00:00:00\",\"2018-02-19T00:00:00\",\"2018-02-20T00:00:00\",\"2018-02-21T00:00:00\",\"2018-02-22T00:00:00\",\"2018-02-23T00:00:00\",\"2018-02-24T00:00:00\",\"2018-02-25T00:00:00\",\"2018-02-26T00:00:00\",\"2018-02-27T00:00:00\",\"2018-02-28T00:00:00\",\"2018-03-01T00:00:00\",\"2018-03-02T00:00:00\",\"2018-03-03T00:00:00\",\"2018-03-04T00:00:00\",\"2018-03-05T00:00:00\",\"2018-03-06T00:00:00\",\"2018-03-07T00:00:00\",\"2018-03-08T00:00:00\",\"2018-03-09T00:00:00\",\"2018-03-10T00:00:00\",\"2018-03-11T00:00:00\",\"2018-03-12T00:00:00\",\"2018-03-13T00:00:00\",\"2018-03-14T00:00:00\",\"2018-03-15T00:00:00\",\"2018-03-16T00:00:00\",\"2018-03-17T00:00:00\",\"2018-03-18T00:00:00\",\"2018-03-19T00:00:00\",\"2018-03-20T00:00:00\",\"2018-03-21T00:00:00\",\"2018-03-22T00:00:00\",\"2018-03-23T00:00:00\",\"2018-03-24T00:00:00\",\"2018-03-25T00:00:00\",\"2018-03-26T00:00:00\",\"2018-03-27T00:00:00\",\"2018-03-28T00:00:00\",\"2018-03-29T00:00:00\",\"2018-03-30T00:00:00\",\"2018-03-31T00:00:00\",\"2018-04-01T00:00:00\",\"2018-04-02T00:00:00\",\"2018-04-03T00:00:00\",\"2018-04-04T00:00:00\",\"2018-04-05T00:00:00\",\"2018-04-06T00:00:00\",\"2018-04-07T00:00:00\",\"2018-04-08T00:00:00\",\"2018-04-09T00:00:00\",\"2018-04-10T00:00:00\",\"2018-04-11T00:00:00\",\"2018-04-12T00:00:00\",\"2018-04-13T00:00:00\",\"2018-04-14T00:00:00\",\"2018-04-15T00:00:00\",\"2018-04-16T00:00:00\",\"2018-04-17T00:00:00\",\"2018-04-18T00:00:00\",\"2018-04-19T00:00:00\",\"2018-04-20T00:00:00\",\"2018-04-21T00:00:00\",\"2018-04-22T00:00:00\",\"2018-04-23T00:00:00\",\"2018-04-24T00:00:00\",\"2018-04-25T00:00:00\",\"2018-04-26T00:00:00\",\"2018-04-27T00:00:00\",\"2018-04-28T00:00:00\",\"2018-04-29T00:00:00\",\"2018-04-30T00:00:00\",\"2018-05-01T00:00:00\",\"2018-05-02T00:00:00\",\"2018-05-03T00:00:00\",\"2018-05-04T00:00:00\",\"2018-05-05T00:00:00\",\"2018-05-06T00:00:00\",\"2018-05-07T00:00:00\",\"2018-05-08T00:00:00\",\"2018-05-09T00:00:00\",\"2018-05-10T00:00:00\",\"2018-05-11T00:00:00\",\"2018-05-12T00:00:00\",\"2018-05-13T00:00:00\",\"2018-05-14T00:00:00\",\"2018-05-15T00:00:00\",\"2018-05-16T00:00:00\",\"2018-05-17T00:00:00\",\"2018-05-18T00:00:00\",\"2018-05-19T00:00:00\",\"2018-05-20T00:00:00\",\"2018-05-21T00:00:00\",\"2018-05-22T00:00:00\",\"2018-05-23T00:00:00\",\"2018-05-24T00:00:00\",\"2018-05-25T00:00:00\",\"2018-05-26T00:00:00\",\"2018-05-27T00:00:00\",\"2018-05-28T00:00:00\",\"2018-05-29T00:00:00\",\"2018-05-30T00:00:00\",\"2018-05-31T00:00:00\",\"2018-06-01T00:00:00\",\"2018-06-02T00:00:00\",\"2018-06-03T00:00:00\",\"2018-06-04T00:00:00\",\"2018-06-05T00:00:00\",\"2018-06-06T00:00:00\",\"2018-06-07T00:00:00\",\"2018-06-08T00:00:00\",\"2018-06-09T00:00:00\",\"2018-06-10T00:00:00\",\"2018-06-11T00:00:00\",\"2018-06-12T00:00:00\",\"2018-06-13T00:00:00\",\"2018-06-14T00:00:00\",\"2018-06-15T00:00:00\",\"2018-06-16T00:00:00\",\"2018-06-17T00:00:00\",\"2018-06-18T00:00:00\",\"2018-06-19T00:00:00\",\"2018-06-20T00:00:00\",\"2018-06-21T00:00:00\",\"2018-06-22T00:00:00\",\"2018-06-23T00:00:00\",\"2018-06-24T00:00:00\",\"2018-06-25T00:00:00\",\"2018-06-26T00:00:00\",\"2018-06-27T00:00:00\",\"2018-06-28T00:00:00\",\"2018-06-29T00:00:00\",\"2018-06-30T00:00:00\",\"2018-07-01T00:00:00\",\"2018-07-02T00:00:00\",\"2018-07-03T00:00:00\",\"2018-07-04T00:00:00\",\"2018-07-05T00:00:00\",\"2018-07-06T00:00:00\",\"2018-07-07T00:00:00\",\"2018-07-08T00:00:00\",\"2018-07-09T00:00:00\",\"2018-07-10T00:00:00\",\"2018-07-11T00:00:00\",\"2018-07-12T00:00:00\",\"2018-07-13T00:00:00\",\"2018-07-14T00:00:00\",\"2018-07-15T00:00:00\",\"2018-07-16T00:00:00\",\"2018-07-17T00:00:00\",\"2018-07-18T00:00:00\",\"2018-07-19T00:00:00\",\"2018-07-20T00:00:00\",\"2018-07-21T00:00:00\",\"2018-07-22T00:00:00\",\"2018-07-23T00:00:00\",\"2018-07-24T00:00:00\",\"2018-07-25T00:00:00\",\"2018-07-26T00:00:00\",\"2018-07-27T00:00:00\",\"2018-07-28T00:00:00\",\"2018-07-29T00:00:00\",\"2018-07-30T00:00:00\",\"2018-07-31T00:00:00\",\"2018-08-01T00:00:00\",\"2018-08-02T00:00:00\",\"2018-08-03T00:00:00\",\"2018-08-04T00:00:00\",\"2018-08-05T00:00:00\",\"2018-08-06T00:00:00\",\"2018-08-07T00:00:00\",\"2018-08-08T00:00:00\",\"2018-08-09T00:00:00\",\"2018-08-10T00:00:00\",\"2018-08-11T00:00:00\",\"2018-08-12T00:00:00\",\"2018-08-13T00:00:00\",\"2018-08-14T00:00:00\",\"2018-08-15T00:00:00\",\"2018-08-16T00:00:00\",\"2018-08-17T00:00:00\",\"2018-08-18T00:00:00\",\"2018-08-19T00:00:00\",\"2018-08-20T00:00:00\",\"2018-08-21T00:00:00\",\"2018-08-22T00:00:00\",\"2018-08-23T00:00:00\",\"2018-08-24T00:00:00\",\"2018-08-25T00:00:00\",\"2018-08-26T00:00:00\",\"2018-08-27T00:00:00\",\"2018-08-28T00:00:00\",\"2018-08-29T00:00:00\",\"2018-08-30T00:00:00\",\"2018-08-31T00:00:00\",\"2018-09-01T00:00:00\",\"2018-09-02T00:00:00\",\"2018-09-03T00:00:00\",\"2018-09-04T00:00:00\",\"2018-09-05T00:00:00\",\"2018-09-06T00:00:00\",\"2018-09-07T00:00:00\",\"2018-09-08T00:00:00\",\"2018-09-09T00:00:00\",\"2018-09-10T00:00:00\",\"2018-09-11T00:00:00\",\"2018-09-12T00:00:00\",\"2018-09-13T00:00:00\",\"2018-09-14T00:00:00\",\"2018-09-15T00:00:00\",\"2018-09-16T00:00:00\",\"2018-09-17T00:00:00\",\"2018-09-18T00:00:00\",\"2018-09-19T00:00:00\",\"2018-09-20T00:00:00\",\"2018-09-21T00:00:00\",\"2018-09-22T00:00:00\",\"2018-09-23T00:00:00\",\"2018-09-24T00:00:00\",\"2018-09-25T00:00:00\",\"2018-09-26T00:00:00\",\"2018-09-27T00:00:00\",\"2018-09-28T00:00:00\",\"2018-09-29T00:00:00\",\"2018-09-30T00:00:00\",\"2018-10-01T00:00:00\",\"2018-10-02T00:00:00\",\"2018-10-03T00:00:00\",\"2018-10-04T00:00:00\",\"2018-10-05T00:00:00\",\"2018-10-06T00:00:00\",\"2018-10-07T00:00:00\",\"2018-10-08T00:00:00\",\"2018-10-09T00:00:00\",\"2018-10-10T00:00:00\",\"2018-10-11T00:00:00\",\"2018-10-12T00:00:00\",\"2018-10-13T00:00:00\",\"2018-10-14T00:00:00\",\"2018-10-15T00:00:00\",\"2018-10-16T00:00:00\",\"2018-10-17T00:00:00\",\"2018-10-18T00:00:00\",\"2018-10-19T00:00:00\",\"2018-10-20T00:00:00\",\"2018-10-21T00:00:00\",\"2018-10-22T00:00:00\",\"2018-10-23T00:00:00\",\"2018-10-24T00:00:00\",\"2018-10-25T00:00:00\",\"2018-10-26T00:00:00\",\"2018-10-27T00:00:00\",\"2018-10-28T00:00:00\",\"2018-10-29T00:00:00\",\"2018-10-30T00:00:00\",\"2018-10-31T00:00:00\",\"2018-11-01T00:00:00\",\"2018-11-02T00:00:00\",\"2018-11-03T00:00:00\",\"2018-11-04T00:00:00\",\"2018-11-05T00:00:00\",\"2018-11-06T00:00:00\",\"2018-11-07T00:00:00\",\"2018-11-08T00:00:00\",\"2018-11-09T00:00:00\",\"2018-11-10T00:00:00\",\"2018-11-11T00:00:00\",\"2018-11-12T00:00:00\",\"2018-11-13T00:00:00\",\"2018-11-14T00:00:00\",\"2018-11-15T00:00:00\",\"2018-11-16T00:00:00\",\"2018-11-17T00:00:00\",\"2018-11-18T00:00:00\",\"2018-11-19T00:00:00\",\"2018-11-20T00:00:00\",\"2018-11-21T00:00:00\",\"2018-11-22T00:00:00\",\"2018-11-23T00:00:00\",\"2018-11-24T00:00:00\",\"2018-11-25T00:00:00\",\"2018-11-26T00:00:00\",\"2018-11-27T00:00:00\",\"2018-11-28T00:00:00\",\"2018-11-29T00:00:00\",\"2018-11-30T00:00:00\",\"2018-12-01T00:00:00\",\"2018-12-02T00:00:00\",\"2018-12-03T00:00:00\",\"2018-12-04T00:00:00\",\"2018-12-05T00:00:00\",\"2018-12-06T00:00:00\",\"2018-12-07T00:00:00\",\"2018-12-08T00:00:00\",\"2018-12-09T00:00:00\",\"2018-12-10T00:00:00\",\"2018-12-11T00:00:00\",\"2018-12-12T00:00:00\",\"2018-12-13T00:00:00\",\"2018-12-14T00:00:00\",\"2018-12-15T00:00:00\",\"2018-12-16T00:00:00\",\"2018-12-17T00:00:00\",\"2018-12-18T00:00:00\",\"2018-12-19T00:00:00\",\"2018-12-20T00:00:00\",\"2018-12-21T00:00:00\",\"2018-12-22T00:00:00\",\"2018-12-23T00:00:00\",\"2018-12-24T00:00:00\",\"2018-12-25T00:00:00\",\"2018-12-26T00:00:00\",\"2018-12-27T00:00:00\",\"2018-12-28T00:00:00\",\"2018-12-29T00:00:00\",\"2018-12-30T00:00:00\"],\"xaxis\":\"x\",\"y\":[87.3104019165039,83.44029235839844,86.1068344116211,83.0840072631836,84.50440216064453,86.31970977783203,82.07288360595703,86.33186340332031,85.44783782958984,83.60012817382812,85.3177490234375,80.93959045410156,81.3282699584961,81.17098236083984,78.93526458740234,81.67689514160156,85.17168426513672,81.71371459960938,84.68587493896484,84.47599029541016,83.49414825439453,88.0266342163086,89.49765014648438,89.25466918945312,81.57479858398438,83.77032470703125,84.93777465820312,81.9246826171875,83.48633575439453,85.84601593017578,88.31856536865234,83.30941009521484,85.83174896240234,80.0215072631836,87.91053009033203,87.1515884399414,78.90959930419922,79.82909393310547,79.16806030273438,85.50067138671875,82.60682678222656,84.85319519042969,88.26152801513672,88.24662780761719,84.82755279541016,80.53555297851562,79.75304412841797,79.0711898803711,84.73809814453125,81.17440032958984,87.41873931884766,86.54828643798828,86.63297271728516,81.58402252197266,83.62630462646484,78.7789535522461,73.77685546875,72.48473358154297,71.81913757324219,74.81999969482422,86.53312683105469,79.02957916259766,78.33935546875,83.14579010009766,83.76753234863281,81.11002349853516,78.45259094238281,78.86212921142578,85.37914276123047,83.93415069580078,81.68388366699219,81.88581848144531,79.58537292480469,78.23019409179688,76.47089385986328,75.97695922851562,73.88837432861328,82.736083984375,80.83072662353516,78.20230102539062,80.29698944091797,77.89739990234375,80.57427978515625,81.31886291503906,84.42560577392578,85.05228424072266,79.65267181396484,79.73068237304688,79.0125503540039,82.41792297363281,83.91630554199219,77.52983856201172,83.52654266357422,78.99603271484375,80.20054626464844,82.58151245117188,82.28509521484375,79.6739273071289,82.20697021484375,83.32013702392578,78.68138122558594,83.96859741210938,79.41883087158203,78.61298370361328,83.52298736572266,79.6882095336914,80.8987808227539,76.43408203125,74.84465026855469,76.94552612304688,70.07158660888672,72.46783447265625,85.08055114746094,79.91072082519531,78.9913101196289,81.65713500976562,76.9345474243164,77.4545669555664,75.27166748046875,82.47430419921875,78.59121704101562,74.47686004638672,79.17745208740234,76.24335479736328,72.42286682128906,67.06568145751953,70.4112319946289,72.1865463256836,67.04247283935547,77.90258026123047,87.01543426513672,87.63949584960938,88.6679916381836,84.4676742553711,77.6462173461914,74.92401123046875,80.11524200439453,80.38074493408203,83.19902038574219,81.63265991210938,81.62239837646484,79.9657974243164,87.33936309814453,81.93472290039062,81.17927551269531,78.44956970214844,80.30583190917969,82.06442260742188,85.52967834472656,86.56568145751953,85.92922973632812,88.18524932861328,89.99798583984375,88.71683502197266,87.41448211669922,87.02884674072266,86.95577239990234,83.9958724975586,84.13337707519531,83.39838409423828,80.04450988769531,80.11627197265625,83.84227752685547,86.78754425048828,84.97075653076172,83.68767547607422,81.74114990234375,83.31944274902344,83.77454376220703,83.69491577148438,80.3182373046875,89.05782318115234,86.95845794677734,83.27191925048828,83.68720245361328,79.22440338134766,79.55741119384766,80.48299407958984,83.46627044677734,79.64066314697266,80.19002532958984,84.4197998046875,83.75077819824219,77.612548828125,84.92998504638672,81.07589721679688,80.89588928222656,78.5980224609375,75.76566314697266,78.66970825195312,78.91244506835938,79.46913146972656,77.19355010986328,78.20018005371094,77.93910217285156,77.49971008300781,76.00318908691406,76.79052734375,76.1952133178711,73.83912658691406,65.6033935546875,74.34046173095703,78.17557525634766,76.6597671508789,78.2783203125,77.86956787109375,79.489501953125,78.81784057617188,81.93477630615234,80.58191680908203,80.30886840820312,80.65970611572266,76.78845977783203,76.12152862548828,85.36246490478516,84.16911315917969,80.6098861694336,78.53460693359375,78.18419647216797,77.6429214477539,75.70337677001953,73.51180267333984,75.89429473876953,77.79537963867188,77.59549713134766,78.39625549316406,77.86322784423828,73.7125244140625,73.56763458251953,72.92932891845703,82.88240051269531,84.19284057617188,76.93215942382812,77.35710144042969,73.89783477783203,68.5023193359375,71.32515716552734,74.66749572753906,77.68181610107422,73.18327331542969,74.558837890625,81.9075698852539,76.81189727783203,75.97429656982422,77.77033996582031,77.89222717285156,75.18083190917969,82.6156997680664,86.92414093017578,84.49373626708984,73.563720703125,75.68701171875,73.66195678710938,77.13899230957031,79.33692932128906,74.89779663085938,68.9103775024414,75.0433349609375,85.86051177978516,84.82890319824219,84.21221923828125,85.41439819335938,83.95323181152344,85.07342529296875,80.5858154296875,80.0631103515625,80.17898559570312,72.87169647216797,75.74202728271484,76.74036407470703,77.9892349243164,80.7553939819336,83.50444030761719,81.01055145263672,81.11460876464844,79.45952606201172,77.51731872558594,77.03132629394531,73.23646545410156,72.49453735351562,80.09912109375,79.82743835449219,80.44256591796875,81.93340301513672,81.71150207519531,80.28721618652344,82.92088317871094,85.06927490234375,83.48638916015625,84.1689224243164,84.21076202392578,84.36859893798828,81.7270736694336,84.32731628417969,85.03385925292969,85.68579864501953,87.85707092285156,89.6861572265625,89.75959014892578,90.50009155273438,87.07172393798828,84.977783203125,86.06130981445312,83.0898666381836,80.96571350097656,87.01628112792969,82.1169662475586,81.22354125976562,86.24400329589844,82.5756607055664,81.48387908935547,85.38859558105469,83.58246612548828,83.59928131103516,84.59200286865234,80.54756927490234,87.70073699951172,85.92737579345703,88.0735092163086,91.09573364257812,88.48206329345703,84.08654022216797,80.7872314453125,82.21086883544922,82.32733917236328,82.24313354492188,81.74095916748047,88.98555755615234,85.0212173461914,85.0022964477539,86.05508422851562,82.95105743408203,74.20987701416016,75.96250915527344,79.7046890258789,84.68461608886719,87.84063720703125,82.09638214111328,81.16410064697266,83.66838073730469,85.47122192382812,80.73216247558594,80.96781921386719,86.30921173095703,87.39572143554688,89.3858413696289,91.03681182861328,89.39270782470703,82.67926025390625,86.12789154052734,87.22883605957031,90.44225311279297,91.93561553955078,89.93407440185547,85.51548767089844,87.08660125732422,89.660400390625,89.30236053466797,85.93181610107422,86.63468933105469,83.50630187988281,85.00540924072266,81.40738677978516,84.47858428955078,88.08011627197266,89.85026550292969,90.67527770996094,88.66664123535156,87.92229461669922,85.11612701416016,85.24689483642578,83.26596069335938,87.7123031616211,91.88143157958984,90.02960205078125,85.60173034667969,84.26602935791016,84.0355453491211,78.59709167480469,81.00182342529297,88.88896179199219,88.47808837890625,83.4140625,76.99116516113281,76.06707000732422,78.64567565917969,81.85458374023438,79.032470703125,81.50537872314453,86.04967498779297,87.43268585205078,78.68341827392578,80.35548400878906,81.63457489013672,86.94459533691406,90.28179931640625,90.78033447265625,89.1316146850586,84.31431579589844,83.85853576660156,86.18721771240234,87.69577026367188,83.96063995361328,85.38694763183594,85.70664978027344,84.37934112548828,82.83082580566406,85.5313720703125,84.3431625366211,76.15850067138672,81.49307250976562,84.0287857055664,89.01892852783203,87.78128814697266,84.94290924072266,86.17231750488281,90.05731964111328,88.9950942993164,83.80183410644531,79.08690643310547,77.47415161132812,78.5228271484375,81.18278503417969,81.0340347290039,81.08622741699219,84.35528564453125,75.10982513427734,79.12138366699219,83.98881530761719,81.74331665039062,83.75709533691406,80.61092376708984,89.36969757080078,89.76365661621094,87.74900817871094,79.2854995727539,85.63412475585938,84.25716400146484,86.94744110107422,85.25830841064453,83.32875061035156,80.39322662353516,87.72312927246094,82.6978759765625,81.11417388916016,76.36006164550781,83.5416030883789,85.93558502197266,85.11139678955078,73.3828353881836,72.44774627685547,74.74501037597656,79.22374725341797,74.0732192993164,69.10951232910156,73.58588409423828,81.0017318725586,84.54085540771484,80.36088562011719,84.9203872680664,79.65280151367188,77.18096160888672,77.79312133789062,75.89635467529297,72.40396881103516,79.08343505859375,76.68846893310547,78.64250183105469,81.9175033569336,79.28221893310547,82.73451232910156,78.01800537109375,79.21886444091797,74.39693450927734,69.61458587646484,67.18992614746094,72.94718170166016,80.01508331298828,73.5368423461914,75.24602508544922,69.66336822509766,77.83341217041016,74.5387191772461,80.5192642211914,73.32218933105469,76.07766723632812,80.35841369628906,80.23371887207031,84.8493881225586,84.61790466308594,79.91531372070312,86.7004165649414,83.51924133300781,83.22684478759766,75.48483276367188,72.3186264038086,82.30958557128906,82.43936920166016,77.88973999023438,76.74174499511719,74.40251159667969,73.40370178222656,80.35255432128906,88.82752227783203,82.47781372070312,79.92539978027344,75.87162780761719,73.62195587158203,80.91991424560547,83.60334014892578,74.6872329711914,69.93502044677734,76.94822692871094,79.49647521972656,82.90018463134766,81.71161651611328,80.25408172607422,75.24764251708984,78.43460083007812,81.20368957519531,75.20626068115234,75.90697479248047,78.48622131347656,75.7454833984375,75.80304718017578,76.89459228515625,72.39361572265625,77.72254180908203,77.53578186035156,77.00336456298828,72.9879379272461,76.06751251220703,76.61962890625,75.6297836303711,73.53530883789062,70.30074310302734,69.41987609863281,68.35575103759766,78.85676574707031,77.39501190185547,76.33830261230469,77.1147689819336,76.04576110839844,83.97833251953125,84.32398986816406,80.78612518310547,84.7640151977539,83.5067138671875,82.33567810058594,80.20293426513672,77.99653625488281,73.26663970947266,70.556640625,71.74971771240234,75.79484558105469,76.53214263916016,80.98049926757812,77.31708526611328,81.86365509033203,73.35722351074219,77.36317443847656,75.75128936767578,81.07481384277344,78.83894348144531,69.0403060913086,75.2996597290039,77.05801391601562,71.95308685302734,79.11517333984375,80.59510040283203,84.30418395996094,79.4645004272461,85.40912628173828,77.51915740966797,75.92196655273438,77.54074096679688,74.70521545410156,75.97315216064453,75.28575134277344,73.5298080444336,74.97653198242188,79.15239715576172,77.63561248779297,74.62763977050781,72.6882553100586,82.80431365966797,82.22560119628906,84.53910827636719,79.94219207763672,84.67137908935547,77.89268493652344,74.85051727294922,79.51200103759766,78.08744812011719,83.5360336303711,79.68170928955078,77.47042083740234,75.3963623046875,83.0120620727539,80.13642883300781,81.29369354248047,78.96903228759766,78.8377914428711,79.33747100830078,76.70552062988281,75.34049224853516,75.4579086303711,87.6037826538086,80.92323303222656,82.21912384033203,79.27459716796875,81.77503204345703,85.30364990234375,83.5994644165039,78.91866302490234,80.9120101928711,86.27080535888672,83.41676330566406,82.4871597290039,81.42798614501953,79.69500732421875,83.63462829589844,80.90453338623047,82.72283172607422,84.49923706054688,84.38032531738281,84.7982406616211,81.97969818115234,81.67518615722656,79.32563018798828,79.32353973388672,78.55423736572266,77.64176177978516,84.38285827636719,84.45125579833984,83.59590911865234,85.84345245361328,85.32670593261719,79.58419799804688,86.71087646484375,83.16131591796875,79.58938598632812,80.48433685302734,84.53302001953125,79.14192199707031,82.94754028320312,84.93470001220703,86.52924346923828,84.49984741210938,80.70367431640625,83.4759750366211,84.34766387939453,84.64189147949219,79.6248550415039,78.4305191040039,83.60755157470703,86.49400329589844,83.1485595703125,79.26678466796875,78.52334594726562,80.480224609375,88.19144439697266,88.01434326171875,85.99214935302734,89.97672271728516,84.84779357910156,83.99789428710938,84.4030990600586,81.54194641113281,83.76988983154297,79.44620513916016,86.2483139038086,86.14842987060547,85.67035675048828,81.07488250732422,80.7336654663086,81.0705795288086,85.53746032714844,86.32459259033203,83.23571014404297,89.23507690429688,81.53569030761719,80.1972885131836,84.30171203613281,85.49635314941406,87.42969512939453,87.63880920410156,86.57474517822266,83.52210235595703,86.66132354736328,84.57747650146484,75.90496063232422,80.33585357666016,87.26002502441406,82.4177017211914,82.1476058959961,86.28125762939453,84.19303894042969,85.31080627441406,81.80747985839844,85.02178192138672,88.22085571289062,90.12661743164062,86.5403060913086,86.99461364746094,81.92321014404297,86.30197143554688,78.64781951904297,83.66715240478516,84.26377868652344,86.42566680908203,83.95793151855469,86.44527435302734,82.46968078613281,84.02000427246094,81.79056549072266,87.65096282958984,85.58667755126953,90.0994644165039,90.9757080078125,91.6343765258789,91.02503204345703,90.64231872558594,89.55294799804688,87.46855926513672,85.04380798339844,82.42707824707031,82.8353500366211,84.37464141845703,86.82315063476562,82.25603485107422,82.0215072631836,85.49214935302734,80.08760070800781,86.1828384399414,83.6244125366211,87.7879638671875,84.75598907470703,86.1427001953125,89.35723114013672,87.93937683105469,90.96797943115234,89.07868957519531,86.38268280029297,88.05477142333984,87.26390075683594,82.28941345214844,78.23937225341797,83.42697143554688,82.03992462158203,87.83184051513672,88.97974395751953,85.97401428222656,87.3404769897461,85.31448364257812,85.9938735961914,86.46294403076172,87.99545288085938,89.87626647949219,86.20964813232422,89.55432891845703,85.51541900634766,80.42453002929688,82.08253479003906,87.71935272216797,79.74317932128906,81.75279998779297,81.62673950195312,80.72685241699219,82.75434112548828,82.23201751708984,83.10018920898438,80.44168853759766,79.41300964355469,84.33019256591797,87.25503540039062,86.55093383789062,81.44063568115234,80.69035339355469,84.97618103027344,90.57722473144531,88.42019653320312,79.4967041015625,76.71697235107422,73.50257873535156,69.73847961425781,65.08533477783203,65.60104370117188,67.36810302734375,63.21989822387695,78.60800170898438,80.09257507324219,80.94425201416016,87.1219253540039,83.91162872314453,84.94485473632812,84.32334899902344,83.86253356933594,85.9910888671875,82.79885864257812,79.64737701416016,83.5583724975586,82.17244720458984,75.56085205078125,81.64771270751953,82.38255310058594,86.30398559570312,82.35294342041016,80.76445007324219,74.73470306396484,78.02452087402344,79.59403991699219,83.08842468261719,82.46969604492188,82.446533203125,79.86518096923828,85.9359130859375,84.67536926269531,82.65438079833984,83.8563461303711,82.93991088867188,79.30573272705078,79.19186401367188,82.9250259399414,80.97785949707031,75.29544830322266,72.69482421875,80.39350891113281,85.25862884521484,86.62055969238281,82.05493927001953,78.36508178710938,85.49382019042969,83.70470428466797,85.33393096923828,82.821044921875,76.98257446289062,72.13356018066406,69.99859619140625,70.09835815429688,73.52214813232422,71.70616149902344,75.26856994628906,79.54996490478516,79.73037719726562,78.99942779541016,75.5821304321289,75.93031311035156,79.94131469726562,87.87348175048828,86.32791137695312,75.47042846679688,81.51718139648438,78.35104370117188,77.27999114990234,75.92570495605469,75.97575378417969,74.32322692871094,78.62413024902344,79.92899322509766,77.3131332397461,73.64826965332031,85.7780990600586,80.71270751953125,78.38199615478516,79.0255126953125,80.9336929321289,76.00048828125,76.5866470336914,77.9257583618164,79.5746078491211,79.62693786621094,79.23925018310547,83.8270034790039,83.92229461669922,85.39484405517578,79.38917541503906,77.71275329589844,80.95933532714844,85.99390411376953,81.32231903076172,84.09932708740234,84.99491882324219,80.48902893066406,76.99091339111328,85.15177154541016,87.85011291503906,87.29696655273438,84.03218841552734,84.2186050415039,85.66000366210938,85.39256286621094,86.19873046875,83.66851043701172,78.25375366210938,82.82754516601562,78.9208984375,77.36412811279297,77.3603744506836,81.6298828125,83.1848373413086,81.316162109375,73.83966827392578,72.43836212158203,69.73326873779297,70.39352416992188,72.70751190185547,71.6055679321289,74.79876708984375,72.95674896240234,72.86215209960938,74.16316986083984,73.59619140625,70.34485626220703,77.08206176757812,78.00360870361328,78.3614730834961,76.23772430419922,72.2745590209961,71.15007019042969,69.88632202148438,72.29138946533203,76.06293487548828,76.87120819091797,75.80421447753906,73.66207885742188,71.54042053222656,69.7991943359375,72.70995330810547,69.82862854003906,70.3860855102539,83.10672760009766,81.03775787353516,77.09613800048828,74.3039321899414,73.88333129882812,73.95708465576172,69.76345825195312,75.81611633300781,70.93632507324219,77.2694320678711,77.44831848144531,74.63814544677734,73.43794250488281,71.71925354003906,69.23661804199219,73.38558197021484,71.55231475830078,68.3672866821289,73.00249481201172,72.89327239990234,82.15390014648438,76.61395263671875,75.92475128173828,74.38236999511719,81.94252014160156,79.44297790527344,78.7247085571289,81.16731262207031,77.05772399902344,80.12718200683594,80.16521453857422,82.45975494384766,83.2308349609375,81.63261413574219,81.79032135009766,75.30839538574219,75.11437225341797,76.69608306884766,78.65715789794922,75.95292663574219,83.93553161621094,82.17691802978516,77.83967590332031,71.35974884033203,71.48225402832031,76.86235046386719,83.24505615234375,86.63713836669922,79.63513946533203,75.2262954711914,75.8993148803711,75.43660736083984,78.79881286621094,77.4503173828125,82.39556884765625,81.42345428466797,77.668212890625,77.68511199951172,73.18742370605469,66.93350219726562,75.5065689086914,77.4472427368164,76.03777313232422,72.97330474853516,81.02183532714844,84.97077941894531,75.16437530517578,73.37816619873047,72.82633972167969,72.73567962646484,78.11292266845703,72.031494140625,76.62738800048828,72.00896453857422,84.00668334960938,81.06470489501953,80.01045227050781,75.1402816772461,82.76296997070312,82.27176666259766,79.21154022216797,79.43131256103516,76.18376159667969,80.48802947998047,78.26116943359375,76.41722106933594,78.93329620361328,78.485595703125,78.38109588623047,82.85374450683594,80.6784439086914,82.16580963134766,80.28292083740234,80.09174346923828,81.78828430175781,80.14390563964844,85.23262786865234,83.42638397216797,78.53570556640625,81.37422180175781,77.00607299804688,79.64740753173828,79.82208251953125,83.04291534423828,83.79521942138672,79.01161193847656,79.61756134033203,82.18940734863281,81.24978637695312,82.35284423828125,83.2125015258789,82.6598892211914,82.17232513427734,85.57528686523438,85.23155212402344,85.36863708496094,82.4735336303711,86.2553482055664,88.87565612792969,89.91484832763672,84.16885375976562,76.36222076416016,77.39834594726562,84.27433776855469,84.37013244628906,88.59239959716797,88.2925796508789,87.82479095458984,88.21379852294922,85.89517211914062,87.50067901611328,84.54971313476562,79.20394134521484,82.78099822998047,87.50691986083984,87.42748260498047,84.34810638427734,81.62286376953125,86.47588348388672,86.36962890625,82.55462646484375,81.80267333984375,79.80196380615234,81.52796173095703,85.79144287109375,82.8046875,80.83123016357422,80.35011291503906,84.31944274902344,88.70341491699219,85.88306427001953,82.41039276123047,84.87322235107422,83.3335952758789,85.03421783447266,83.62694549560547,88.4228744506836,86.36723327636719,83.79345703125,83.04386138916016,86.17142486572266,89.1943588256836,88.08993530273438,89.25828552246094],\"yaxis\":\"y\",\"type\":\"scattergl\"}],                        {\"template\":{\"data\":{\"histogram2dcontour\":[{\"type\":\"histogram2dcontour\",\"colorbar\":{\"outlinewidth\":0,\"ticks\":\"\"},\"colorscale\":[[0.0,\"#0d0887\"],[0.1111111111111111,\"#46039f\"],[0.2222222222222222,\"#7201a8\"],[0.3333333333333333,\"#9c179e\"],[0.4444444444444444,\"#bd3786\"],[0.5555555555555556,\"#d8576b\"],[0.6666666666666666,\"#ed7953\"],[0.7777777777777778,\"#fb9f3a\"],[0.8888888888888888,\"#fdca26\"],[1.0,\"#f0f921\"]]}],\"choropleth\":[{\"type\":\"choropleth\",\"colorbar\":{\"outlinewidth\":0,\"ticks\":\"\"}}],\"histogram2d\":[{\"type\":\"histogram2d\",\"colorbar\":{\"outlinewidth\":0,\"ticks\":\"\"},\"colorscale\":[[0.0,\"#0d0887\"],[0.1111111111111111,\"#46039f\"],[0.2222222222222222,\"#7201a8\"],[0.3333333333333333,\"#9c179e\"],[0.4444444444444444,\"#bd3786\"],[0.5555555555555556,\"#d8576b\"],[0.6666666666666666,\"#ed7953\"],[0.7777777777777778,\"#fb9f3a\"],[0.8888888888888888,\"#fdca26\"],[1.0,\"#f0f921\"]]}],\"heatmap\":[{\"type\":\"heatmap\",\"colorbar\":{\"outlinewidth\":0,\"ticks\":\"\"},\"colorscale\":[[0.0,\"#0d0887\"],[0.1111111111111111,\"#46039f\"],[0.2222222222222222,\"#7201a8\"],[0.3333333333333333,\"#9c179e\"],[0.4444444444444444,\"#bd3786\"],[0.5555555555555556,\"#d8576b\"],[0.6666666666666666,\"#ed7953\"],[0.7777777777777778,\"#fb9f3a\"],[0.8888888888888888,\"#fdca26\"],[1.0,\"#f0f921\"]]}],\"heatmapgl\":[{\"type\":\"heatmapgl\",\"colorbar\":{\"outlinewidth\":0,\"ticks\":\"\"},\"colorscale\":[[0.0,\"#0d0887\"],[0.1111111111111111,\"#46039f\"],[0.2222222222222222,\"#7201a8\"],[0.3333333333333333,\"#9c179e\"],[0.4444444444444444,\"#bd3786\"],[0.5555555555555556,\"#d8576b\"],[0.6666666666666666,\"#ed7953\"],[0.7777777777777778,\"#fb9f3a\"],[0.8888888888888888,\"#fdca26\"],[1.0,\"#f0f921\"]]}],\"contourcarpet\":[{\"type\":\"contourcarpet\",\"colorbar\":{\"outlinewidth\":0,\"ticks\":\"\"}}],\"contour\":[{\"type\":\"contour\",\"colorbar\":{\"outlinewidth\":0,\"ticks\":\"\"},\"colorscale\":[[0.0,\"#0d0887\"],[0.1111111111111111,\"#46039f\"],[0.2222222222222222,\"#7201a8\"],[0.3333333333333333,\"#9c179e\"],[0.4444444444444444,\"#bd3786\"],[0.5555555555555556,\"#d8576b\"],[0.6666666666666666,\"#ed7953\"],[0.7777777777777778,\"#fb9f3a\"],[0.8888888888888888,\"#fdca26\"],[1.0,\"#f0f921\"]]}],\"surface\":[{\"type\":\"surface\",\"colorbar\":{\"outlinewidth\":0,\"ticks\":\"\"},\"colorscale\":[[0.0,\"#0d0887\"],[0.1111111111111111,\"#46039f\"],[0.2222222222222222,\"#7201a8\"],[0.3333333333333333,\"#9c179e\"],[0.4444444444444444,\"#bd3786\"],[0.5555555555555556,\"#d8576b\"],[0.6666666666666666,\"#ed7953\"],[0.7777777777777778,\"#fb9f3a\"],[0.8888888888888888,\"#fdca26\"],[1.0,\"#f0f921\"]]}],\"mesh3d\":[{\"type\":\"mesh3d\",\"colorbar\":{\"outlinewidth\":0,\"ticks\":\"\"}}],\"scatter\":[{\"fillpattern\":{\"fillmode\":\"overlay\",\"size\":10,\"solidity\":0.2},\"type\":\"scatter\"}],\"parcoords\":[{\"type\":\"parcoords\",\"line\":{\"colorbar\":{\"outlinewidth\":0,\"ticks\":\"\"}}}],\"scatterpolargl\":[{\"type\":\"scatterpolargl\",\"marker\":{\"colorbar\":{\"outlinewidth\":0,\"ticks\":\"\"}}}],\"bar\":[{\"error_x\":{\"color\":\"#2a3f5f\"},\"error_y\":{\"color\":\"#2a3f5f\"},\"marker\":{\"line\":{\"color\":\"#E5ECF6\",\"width\":0.5},\"pattern\":{\"fillmode\":\"overlay\",\"size\":10,\"solidity\":0.2}},\"type\":\"bar\"}],\"scattergeo\":[{\"type\":\"scattergeo\",\"marker\":{\"colorbar\":{\"outlinewidth\":0,\"ticks\":\"\"}}}],\"scatterpolar\":[{\"type\":\"scatterpolar\",\"marker\":{\"colorbar\":{\"outlinewidth\":0,\"ticks\":\"\"}}}],\"histogram\":[{\"marker\":{\"pattern\":{\"fillmode\":\"overlay\",\"size\":10,\"solidity\":0.2}},\"type\":\"histogram\"}],\"scattergl\":[{\"type\":\"scattergl\",\"marker\":{\"colorbar\":{\"outlinewidth\":0,\"ticks\":\"\"}}}],\"scatter3d\":[{\"type\":\"scatter3d\",\"line\":{\"colorbar\":{\"outlinewidth\":0,\"ticks\":\"\"}},\"marker\":{\"colorbar\":{\"outlinewidth\":0,\"ticks\":\"\"}}}],\"scattermapbox\":[{\"type\":\"scattermapbox\",\"marker\":{\"colorbar\":{\"outlinewidth\":0,\"ticks\":\"\"}}}],\"scatterternary\":[{\"type\":\"scatterternary\",\"marker\":{\"colorbar\":{\"outlinewidth\":0,\"ticks\":\"\"}}}],\"scattercarpet\":[{\"type\":\"scattercarpet\",\"marker\":{\"colorbar\":{\"outlinewidth\":0,\"ticks\":\"\"}}}],\"carpet\":[{\"aaxis\":{\"endlinecolor\":\"#2a3f5f\",\"gridcolor\":\"white\",\"linecolor\":\"white\",\"minorgridcolor\":\"white\",\"startlinecolor\":\"#2a3f5f\"},\"baxis\":{\"endlinecolor\":\"#2a3f5f\",\"gridcolor\":\"white\",\"linecolor\":\"white\",\"minorgridcolor\":\"white\",\"startlinecolor\":\"#2a3f5f\"},\"type\":\"carpet\"}],\"table\":[{\"cells\":{\"fill\":{\"color\":\"#EBF0F8\"},\"line\":{\"color\":\"white\"}},\"header\":{\"fill\":{\"color\":\"#C8D4E3\"},\"line\":{\"color\":\"white\"}},\"type\":\"table\"}],\"barpolar\":[{\"marker\":{\"line\":{\"color\":\"#E5ECF6\",\"width\":0.5},\"pattern\":{\"fillmode\":\"overlay\",\"size\":10,\"solidity\":0.2}},\"type\":\"barpolar\"}],\"pie\":[{\"automargin\":true,\"type\":\"pie\"}]},\"layout\":{\"autotypenumbers\":\"strict\",\"colorway\":[\"#636efa\",\"#EF553B\",\"#00cc96\",\"#ab63fa\",\"#FFA15A\",\"#19d3f3\",\"#FF6692\",\"#B6E880\",\"#FF97FF\",\"#FECB52\"],\"font\":{\"color\":\"#2a3f5f\"},\"hovermode\":\"closest\",\"hoverlabel\":{\"align\":\"left\"},\"paper_bgcolor\":\"white\",\"plot_bgcolor\":\"#E5ECF6\",\"polar\":{\"bgcolor\":\"#E5ECF6\",\"angularaxis\":{\"gridcolor\":\"white\",\"linecolor\":\"white\",\"ticks\":\"\"},\"radialaxis\":{\"gridcolor\":\"white\",\"linecolor\":\"white\",\"ticks\":\"\"}},\"ternary\":{\"bgcolor\":\"#E5ECF6\",\"aaxis\":{\"gridcolor\":\"white\",\"linecolor\":\"white\",\"ticks\":\"\"},\"baxis\":{\"gridcolor\":\"white\",\"linecolor\":\"white\",\"ticks\":\"\"},\"caxis\":{\"gridcolor\":\"white\",\"linecolor\":\"white\",\"ticks\":\"\"}},\"coloraxis\":{\"colorbar\":{\"outlinewidth\":0,\"ticks\":\"\"}},\"colorscale\":{\"sequential\":[[0.0,\"#0d0887\"],[0.1111111111111111,\"#46039f\"],[0.2222222222222222,\"#7201a8\"],[0.3333333333333333,\"#9c179e\"],[0.4444444444444444,\"#bd3786\"],[0.5555555555555556,\"#d8576b\"],[0.6666666666666666,\"#ed7953\"],[0.7777777777777778,\"#fb9f3a\"],[0.8888888888888888,\"#fdca26\"],[1.0,\"#f0f921\"]],\"sequentialminus\":[[0.0,\"#0d0887\"],[0.1111111111111111,\"#46039f\"],[0.2222222222222222,\"#7201a8\"],[0.3333333333333333,\"#9c179e\"],[0.4444444444444444,\"#bd3786\"],[0.5555555555555556,\"#d8576b\"],[0.6666666666666666,\"#ed7953\"],[0.7777777777777778,\"#fb9f3a\"],[0.8888888888888888,\"#fdca26\"],[1.0,\"#f0f921\"]],\"diverging\":[[0,\"#8e0152\"],[0.1,\"#c51b7d\"],[0.2,\"#de77ae\"],[0.3,\"#f1b6da\"],[0.4,\"#fde0ef\"],[0.5,\"#f7f7f7\"],[0.6,\"#e6f5d0\"],[0.7,\"#b8e186\"],[0.8,\"#7fbc41\"],[0.9,\"#4d9221\"],[1,\"#276419\"]]},\"xaxis\":{\"gridcolor\":\"white\",\"linecolor\":\"white\",\"ticks\":\"\",\"title\":{\"standoff\":15},\"zerolinecolor\":\"white\",\"automargin\":true,\"zerolinewidth\":2},\"yaxis\":{\"gridcolor\":\"white\",\"linecolor\":\"white\",\"ticks\":\"\",\"title\":{\"standoff\":15},\"zerolinecolor\":\"white\",\"automargin\":true,\"zerolinewidth\":2},\"scene\":{\"xaxis\":{\"backgroundcolor\":\"#E5ECF6\",\"gridcolor\":\"white\",\"linecolor\":\"white\",\"showbackground\":true,\"ticks\":\"\",\"zerolinecolor\":\"white\",\"gridwidth\":2},\"yaxis\":{\"backgroundcolor\":\"#E5ECF6\",\"gridcolor\":\"white\",\"linecolor\":\"white\",\"showbackground\":true,\"ticks\":\"\",\"zerolinecolor\":\"white\",\"gridwidth\":2},\"zaxis\":{\"backgroundcolor\":\"#E5ECF6\",\"gridcolor\":\"white\",\"linecolor\":\"white\",\"showbackground\":true,\"ticks\":\"\",\"zerolinecolor\":\"white\",\"gridwidth\":2}},\"shapedefaults\":{\"line\":{\"color\":\"#2a3f5f\"}},\"annotationdefaults\":{\"arrowcolor\":\"#2a3f5f\",\"arrowhead\":0,\"arrowwidth\":1},\"geo\":{\"bgcolor\":\"white\",\"landcolor\":\"#E5ECF6\",\"subunitcolor\":\"white\",\"showland\":true,\"showlakes\":true,\"lakecolor\":\"white\"},\"title\":{\"x\":0.05},\"mapbox\":{\"style\":\"light\"}}},\"xaxis\":{\"anchor\":\"y\",\"domain\":[0.0,1.0],\"title\":{\"text\":\"date\"},\"rangeslider\":{\"visible\":true},\"rangeselector\":{\"buttons\":[{\"count\":1,\"label\":\"1m\",\"step\":\"month\",\"stepmode\":\"backward\"},{\"count\":6,\"label\":\"6m\",\"step\":\"month\",\"stepmode\":\"backward\"},{\"count\":1,\"label\":\"YTD\",\"step\":\"year\",\"stepmode\":\"todate\"},{\"count\":1,\"label\":\"1y\",\"step\":\"year\",\"stepmode\":\"backward\"},{\"step\":\"all\"}]}},\"yaxis\":{\"anchor\":\"x\",\"domain\":[0.0,1.0],\"title\":{\"text\":\"value\"}},\"legend\":{\"title\":{\"text\":\"variable\"},\"tracegroupgap\":0},\"title\":{\"text\":\"Temperature (\\u00b0C) - Humidity ratio\"}},                        {\"responsive\": true}                    ).then(function(){\n",
       "                            \n",
       "var gd = document.getElementById('136f590b-01e0-45e5-af3e-3c4fb07ae5b4');\n",
       "var x = new MutationObserver(function (mutations, observer) {{\n",
       "        var display = window.getComputedStyle(gd).display;\n",
       "        if (!display || display === 'none') {{\n",
       "            console.log([gd, 'removed!']);\n",
       "            Plotly.purge(gd);\n",
       "            observer.disconnect();\n",
       "        }}\n",
       "}});\n",
       "\n",
       "// Listen for the removal of the full notebook cells\n",
       "var notebookContainer = gd.closest('#notebook-container');\n",
       "if (notebookContainer) {{\n",
       "    x.observe(notebookContainer, {childList: true});\n",
       "}}\n",
       "\n",
       "// Listen for the clearing of the current output cell\n",
       "var outputEl = gd.closest('.output');\n",
       "if (outputEl) {{\n",
       "    x.observe(outputEl, {childList: true});\n",
       "}}\n",
       "\n",
       "                        })                };                });            </script>        </div>"
      ]
     },
     "metadata": {},
     "output_type": "display_data"
    }
   ],
   "source": [
    "fig = px.line(df['2016-01-01':'2018-12-30'][['t','hu']].resample('D').mean(),\n",
    "             title = 'Temperature (°C) - Humidity ratio')\n",
    "fig.update_xaxes(\n",
    "    rangeslider_visible=True,\n",
    "    rangeselector=dict(\n",
    "        buttons=list([\n",
    "            dict(count=1, label=\"1m\", step=\"month\", stepmode=\"backward\"),\n",
    "            dict(count=6, label=\"6m\", step=\"month\", stepmode=\"backward\"),\n",
    "            dict(count=1, label=\"YTD\", step=\"year\", stepmode=\"todate\"),\n",
    "            dict(count=1, label=\"1y\", step=\"year\", stepmode=\"backward\"),\n",
    "            dict(step=\"all\")\n",
    "        ])\n",
    "    )\n",
    ")\n",
    "fig.show()"
   ]
  },
  {
   "cell_type": "code",
   "execution_count": 23,
   "id": "0b78fe8b",
   "metadata": {},
   "outputs": [
    {
     "data": {
      "application/vnd.plotly.v1+json": {
       "config": {
        "plotlyServerURL": "https://plot.ly"
       },
       "data": [
        {
         "hovertemplate": "variable=precip<br>date=%{x}<br>value=%{y}<extra></extra>",
         "legendgroup": "precip",
         "line": {
          "color": "#636efa",
          "dash": "solid"
         },
         "marker": {
          "symbol": "circle"
         },
         "mode": "lines",
         "name": "precip",
         "orientation": "v",
         "showlegend": true,
         "type": "scatter",
         "x": [
          "2016-01-01T00:00:00",
          "2016-01-08T00:00:00",
          "2016-01-15T00:00:00",
          "2016-01-22T00:00:00",
          "2016-01-29T00:00:00",
          "2016-02-05T00:00:00",
          "2016-02-12T00:00:00",
          "2016-02-19T00:00:00",
          "2016-02-26T00:00:00",
          "2016-03-04T00:00:00",
          "2016-03-11T00:00:00",
          "2016-03-18T00:00:00",
          "2016-03-25T00:00:00",
          "2016-04-01T00:00:00",
          "2016-04-08T00:00:00",
          "2016-04-15T00:00:00",
          "2016-04-22T00:00:00",
          "2016-04-29T00:00:00",
          "2016-05-06T00:00:00",
          "2016-05-13T00:00:00",
          "2016-05-20T00:00:00",
          "2016-05-27T00:00:00",
          "2016-06-03T00:00:00",
          "2016-06-10T00:00:00",
          "2016-06-17T00:00:00",
          "2016-06-24T00:00:00",
          "2016-07-01T00:00:00",
          "2016-07-08T00:00:00",
          "2016-07-15T00:00:00",
          "2016-07-22T00:00:00",
          "2016-07-29T00:00:00",
          "2016-08-05T00:00:00",
          "2016-08-12T00:00:00",
          "2016-08-19T00:00:00",
          "2016-08-26T00:00:00",
          "2016-09-02T00:00:00",
          "2016-09-09T00:00:00",
          "2016-09-16T00:00:00",
          "2016-09-23T00:00:00",
          "2016-09-30T00:00:00",
          "2016-10-07T00:00:00",
          "2016-10-14T00:00:00",
          "2016-10-21T00:00:00",
          "2016-10-28T00:00:00",
          "2016-11-04T00:00:00",
          "2016-11-11T00:00:00",
          "2016-11-18T00:00:00",
          "2016-11-25T00:00:00",
          "2016-12-02T00:00:00",
          "2016-12-09T00:00:00",
          "2016-12-16T00:00:00",
          "2016-12-23T00:00:00",
          "2016-12-30T00:00:00",
          "2017-01-06T00:00:00",
          "2017-01-13T00:00:00",
          "2017-01-20T00:00:00",
          "2017-01-27T00:00:00",
          "2017-02-03T00:00:00",
          "2017-02-10T00:00:00",
          "2017-02-17T00:00:00",
          "2017-02-24T00:00:00",
          "2017-03-03T00:00:00",
          "2017-03-10T00:00:00",
          "2017-03-17T00:00:00",
          "2017-03-24T00:00:00",
          "2017-03-31T00:00:00",
          "2017-04-07T00:00:00",
          "2017-04-14T00:00:00",
          "2017-04-21T00:00:00",
          "2017-04-28T00:00:00",
          "2017-05-05T00:00:00",
          "2017-05-12T00:00:00",
          "2017-05-19T00:00:00",
          "2017-05-26T00:00:00",
          "2017-06-02T00:00:00",
          "2017-06-09T00:00:00",
          "2017-06-16T00:00:00",
          "2017-06-23T00:00:00",
          "2017-06-30T00:00:00",
          "2017-07-07T00:00:00",
          "2017-07-14T00:00:00",
          "2017-07-21T00:00:00",
          "2017-07-28T00:00:00",
          "2017-08-04T00:00:00",
          "2017-08-11T00:00:00",
          "2017-08-18T00:00:00",
          "2017-08-25T00:00:00",
          "2017-09-01T00:00:00",
          "2017-09-08T00:00:00",
          "2017-09-15T00:00:00",
          "2017-09-22T00:00:00",
          "2017-09-29T00:00:00",
          "2017-10-06T00:00:00",
          "2017-10-13T00:00:00",
          "2017-10-20T00:00:00",
          "2017-10-27T00:00:00",
          "2017-11-03T00:00:00",
          "2017-11-10T00:00:00",
          "2017-11-17T00:00:00",
          "2017-11-24T00:00:00",
          "2017-12-01T00:00:00",
          "2017-12-08T00:00:00",
          "2017-12-15T00:00:00",
          "2017-12-22T00:00:00",
          "2017-12-29T00:00:00",
          "2018-01-05T00:00:00",
          "2018-01-12T00:00:00",
          "2018-01-19T00:00:00",
          "2018-01-26T00:00:00",
          "2018-02-02T00:00:00",
          "2018-02-09T00:00:00",
          "2018-02-16T00:00:00",
          "2018-02-23T00:00:00",
          "2018-03-02T00:00:00",
          "2018-03-09T00:00:00",
          "2018-03-16T00:00:00",
          "2018-03-23T00:00:00",
          "2018-03-30T00:00:00",
          "2018-04-06T00:00:00",
          "2018-04-13T00:00:00",
          "2018-04-20T00:00:00",
          "2018-04-27T00:00:00",
          "2018-05-04T00:00:00",
          "2018-05-11T00:00:00",
          "2018-05-18T00:00:00",
          "2018-05-25T00:00:00",
          "2018-06-01T00:00:00",
          "2018-06-08T00:00:00",
          "2018-06-15T00:00:00",
          "2018-06-22T00:00:00",
          "2018-06-29T00:00:00",
          "2018-07-06T00:00:00",
          "2018-07-13T00:00:00",
          "2018-07-20T00:00:00",
          "2018-07-27T00:00:00",
          "2018-08-03T00:00:00",
          "2018-08-10T00:00:00",
          "2018-08-17T00:00:00",
          "2018-08-24T00:00:00",
          "2018-08-31T00:00:00",
          "2018-09-07T00:00:00",
          "2018-09-14T00:00:00",
          "2018-09-21T00:00:00",
          "2018-09-28T00:00:00",
          "2018-10-05T00:00:00",
          "2018-10-12T00:00:00",
          "2018-10-19T00:00:00",
          "2018-10-26T00:00:00",
          "2018-11-02T00:00:00",
          "2018-11-09T00:00:00",
          "2018-11-16T00:00:00",
          "2018-11-23T00:00:00",
          "2018-11-30T00:00:00",
          "2018-12-07T00:00:00",
          "2018-12-14T00:00:00",
          "2018-12-21T00:00:00",
          "2018-12-28T00:00:00"
         ],
         "xaxis": "x",
         "y": [
          2250.4150390625,
          2029.3345947265625,
          343.60528564453125,
          1140.7197265625,
          1665.06396484375,
          2707.504638671875,
          1537.8150634765625,
          811.0177001953125,
          815.5987548828125,
          2157.75244140625,
          76.62117004394531,
          115.08719635009766,
          2695.332275390625,
          503.1649475097656,
          1923.1708984375,
          297.3366394042969,
          870.9537353515625,
          672.2929077148438,
          1434.1534423828125,
          1049.8446044921875,
          1894.204345703125,
          2260.544677734375,
          239.81045532226562,
          1696.050537109375,
          2370.9365234375,
          526.7450561523438,
          501.91595458984375,
          603.7275390625,
          101.28579711914062,
          310.5910949707031,
          1197.2161865234375,
          133.6707305908203,
          316.17071533203125,
          392.81085205078125,
          195.3766326904297,
          602.4680786132812,
          1078.82470703125,
          1366.8424072265625,
          206.41615295410156,
          492.161376953125,
          307.6878356933594,
          1109.517578125,
          1067.9512939453125,
          130.13421630859375,
          3022.260009765625,
          1307.6170654296875,
          1797.5,
          97.3211898803711,
          91.9527587890625,
          317.24725341796875,
          975.12890625,
          260.21710205078125,
          186.63502502441406,
          1347.2427978515625,
          1111.04833984375,
          79.32566833496094,
          1011.185546875,
          2225.18994140625,
          199.5702362060547,
          234.43421936035156,
          1905.642822265625,
          2478.78173828125,
          233.68289184570312,
          1178.79150390625,
          172.4171142578125,
          425.2342224121094,
          86.01690673828125,
          164.11216735839844,
          333.7292785644531,
          1827.464111328125,
          936.5816650390625,
          2539.8388671875,
          387.8171081542969,
          527.3276977539062,
          1573.4500732421875,
          147.57351684570312,
          74.94480895996094,
          1575.5797119140625,
          740.9652099609375,
          950.7164916992188,
          261.5447998046875,
          1111.75341796875,
          614.2999877929688,
          2002.77197265625,
          974.271484375,
          424.2861328125,
          1386.688232421875,
          850.7941284179688,
          3713.751220703125,
          1518.625732421875,
          773.6360473632812,
          879.2047119140625,
          407.0743408203125,
          649.14501953125,
          1162.7047119140625,
          216.92567443847656,
          1253.8382568359375,
          1655.7171630859375,
          795.30859375,
          2476.32568359375,
          864.5256958007812,
          4209.3583984375,
          1004.6434326171875,
          1350.4698486328125,
          4154.38330078125,
          551.4684448242188,
          2106.33837890625,
          2692.717529296875,
          1180.0555419921875,
          552.3112182617188,
          1358.156005859375,
          539.5914306640625,
          107.31160736083984,
          1658.4210205078125,
          1935.8802490234375,
          400.394287109375,
          1318.72802734375,
          1523.0631103515625,
          1252.494140625,
          475.4085693359375,
          304.92303466796875,
          2975.765869140625,
          87.2598648071289,
          652.5757446289062,
          320.32952880859375,
          3394.486328125,
          1463.0023193359375,
          2276.451904296875,
          137.43421936035156,
          75.44012451171875,
          588.3321533203125,
          104.45986938476562,
          300.41162109375,
          425.9996032714844,
          687.2971801757812,
          1385.485595703125,
          1021.5684204101562,
          185.22686767578125,
          1808.1910400390625,
          316.38555908203125,
          285.3631286621094,
          93.98920440673828,
          1572.92626953125,
          155.0604705810547,
          2054.2490234375,
          275.19854736328125,
          154.6059112548828,
          1551.7257080078125,
          704.9572143554688,
          1722.4130859375,
          265.5374755859375,
          1891.2427978515625,
          2371.868408203125,
          1590.9283447265625,
          1132.3775634765625,
          1695.061767578125,
          82.0526351928711
         ],
         "yaxis": "y"
        }
       ],
       "layout": {
        "legend": {
         "title": {
          "text": "variable"
         },
         "tracegroupgap": 0
        },
        "template": {
         "data": {
          "bar": [
           {
            "error_x": {
             "color": "#2a3f5f"
            },
            "error_y": {
             "color": "#2a3f5f"
            },
            "marker": {
             "line": {
              "color": "#E5ECF6",
              "width": 0.5
             },
             "pattern": {
              "fillmode": "overlay",
              "size": 10,
              "solidity": 0.2
             }
            },
            "type": "bar"
           }
          ],
          "barpolar": [
           {
            "marker": {
             "line": {
              "color": "#E5ECF6",
              "width": 0.5
             },
             "pattern": {
              "fillmode": "overlay",
              "size": 10,
              "solidity": 0.2
             }
            },
            "type": "barpolar"
           }
          ],
          "carpet": [
           {
            "aaxis": {
             "endlinecolor": "#2a3f5f",
             "gridcolor": "white",
             "linecolor": "white",
             "minorgridcolor": "white",
             "startlinecolor": "#2a3f5f"
            },
            "baxis": {
             "endlinecolor": "#2a3f5f",
             "gridcolor": "white",
             "linecolor": "white",
             "minorgridcolor": "white",
             "startlinecolor": "#2a3f5f"
            },
            "type": "carpet"
           }
          ],
          "choropleth": [
           {
            "colorbar": {
             "outlinewidth": 0,
             "ticks": ""
            },
            "type": "choropleth"
           }
          ],
          "contour": [
           {
            "colorbar": {
             "outlinewidth": 0,
             "ticks": ""
            },
            "colorscale": [
             [
              0,
              "#0d0887"
             ],
             [
              0.1111111111111111,
              "#46039f"
             ],
             [
              0.2222222222222222,
              "#7201a8"
             ],
             [
              0.3333333333333333,
              "#9c179e"
             ],
             [
              0.4444444444444444,
              "#bd3786"
             ],
             [
              0.5555555555555556,
              "#d8576b"
             ],
             [
              0.6666666666666666,
              "#ed7953"
             ],
             [
              0.7777777777777778,
              "#fb9f3a"
             ],
             [
              0.8888888888888888,
              "#fdca26"
             ],
             [
              1,
              "#f0f921"
             ]
            ],
            "type": "contour"
           }
          ],
          "contourcarpet": [
           {
            "colorbar": {
             "outlinewidth": 0,
             "ticks": ""
            },
            "type": "contourcarpet"
           }
          ],
          "heatmap": [
           {
            "colorbar": {
             "outlinewidth": 0,
             "ticks": ""
            },
            "colorscale": [
             [
              0,
              "#0d0887"
             ],
             [
              0.1111111111111111,
              "#46039f"
             ],
             [
              0.2222222222222222,
              "#7201a8"
             ],
             [
              0.3333333333333333,
              "#9c179e"
             ],
             [
              0.4444444444444444,
              "#bd3786"
             ],
             [
              0.5555555555555556,
              "#d8576b"
             ],
             [
              0.6666666666666666,
              "#ed7953"
             ],
             [
              0.7777777777777778,
              "#fb9f3a"
             ],
             [
              0.8888888888888888,
              "#fdca26"
             ],
             [
              1,
              "#f0f921"
             ]
            ],
            "type": "heatmap"
           }
          ],
          "heatmapgl": [
           {
            "colorbar": {
             "outlinewidth": 0,
             "ticks": ""
            },
            "colorscale": [
             [
              0,
              "#0d0887"
             ],
             [
              0.1111111111111111,
              "#46039f"
             ],
             [
              0.2222222222222222,
              "#7201a8"
             ],
             [
              0.3333333333333333,
              "#9c179e"
             ],
             [
              0.4444444444444444,
              "#bd3786"
             ],
             [
              0.5555555555555556,
              "#d8576b"
             ],
             [
              0.6666666666666666,
              "#ed7953"
             ],
             [
              0.7777777777777778,
              "#fb9f3a"
             ],
             [
              0.8888888888888888,
              "#fdca26"
             ],
             [
              1,
              "#f0f921"
             ]
            ],
            "type": "heatmapgl"
           }
          ],
          "histogram": [
           {
            "marker": {
             "pattern": {
              "fillmode": "overlay",
              "size": 10,
              "solidity": 0.2
             }
            },
            "type": "histogram"
           }
          ],
          "histogram2d": [
           {
            "colorbar": {
             "outlinewidth": 0,
             "ticks": ""
            },
            "colorscale": [
             [
              0,
              "#0d0887"
             ],
             [
              0.1111111111111111,
              "#46039f"
             ],
             [
              0.2222222222222222,
              "#7201a8"
             ],
             [
              0.3333333333333333,
              "#9c179e"
             ],
             [
              0.4444444444444444,
              "#bd3786"
             ],
             [
              0.5555555555555556,
              "#d8576b"
             ],
             [
              0.6666666666666666,
              "#ed7953"
             ],
             [
              0.7777777777777778,
              "#fb9f3a"
             ],
             [
              0.8888888888888888,
              "#fdca26"
             ],
             [
              1,
              "#f0f921"
             ]
            ],
            "type": "histogram2d"
           }
          ],
          "histogram2dcontour": [
           {
            "colorbar": {
             "outlinewidth": 0,
             "ticks": ""
            },
            "colorscale": [
             [
              0,
              "#0d0887"
             ],
             [
              0.1111111111111111,
              "#46039f"
             ],
             [
              0.2222222222222222,
              "#7201a8"
             ],
             [
              0.3333333333333333,
              "#9c179e"
             ],
             [
              0.4444444444444444,
              "#bd3786"
             ],
             [
              0.5555555555555556,
              "#d8576b"
             ],
             [
              0.6666666666666666,
              "#ed7953"
             ],
             [
              0.7777777777777778,
              "#fb9f3a"
             ],
             [
              0.8888888888888888,
              "#fdca26"
             ],
             [
              1,
              "#f0f921"
             ]
            ],
            "type": "histogram2dcontour"
           }
          ],
          "mesh3d": [
           {
            "colorbar": {
             "outlinewidth": 0,
             "ticks": ""
            },
            "type": "mesh3d"
           }
          ],
          "parcoords": [
           {
            "line": {
             "colorbar": {
              "outlinewidth": 0,
              "ticks": ""
             }
            },
            "type": "parcoords"
           }
          ],
          "pie": [
           {
            "automargin": true,
            "type": "pie"
           }
          ],
          "scatter": [
           {
            "fillpattern": {
             "fillmode": "overlay",
             "size": 10,
             "solidity": 0.2
            },
            "type": "scatter"
           }
          ],
          "scatter3d": [
           {
            "line": {
             "colorbar": {
              "outlinewidth": 0,
              "ticks": ""
             }
            },
            "marker": {
             "colorbar": {
              "outlinewidth": 0,
              "ticks": ""
             }
            },
            "type": "scatter3d"
           }
          ],
          "scattercarpet": [
           {
            "marker": {
             "colorbar": {
              "outlinewidth": 0,
              "ticks": ""
             }
            },
            "type": "scattercarpet"
           }
          ],
          "scattergeo": [
           {
            "marker": {
             "colorbar": {
              "outlinewidth": 0,
              "ticks": ""
             }
            },
            "type": "scattergeo"
           }
          ],
          "scattergl": [
           {
            "marker": {
             "colorbar": {
              "outlinewidth": 0,
              "ticks": ""
             }
            },
            "type": "scattergl"
           }
          ],
          "scattermapbox": [
           {
            "marker": {
             "colorbar": {
              "outlinewidth": 0,
              "ticks": ""
             }
            },
            "type": "scattermapbox"
           }
          ],
          "scatterpolar": [
           {
            "marker": {
             "colorbar": {
              "outlinewidth": 0,
              "ticks": ""
             }
            },
            "type": "scatterpolar"
           }
          ],
          "scatterpolargl": [
           {
            "marker": {
             "colorbar": {
              "outlinewidth": 0,
              "ticks": ""
             }
            },
            "type": "scatterpolargl"
           }
          ],
          "scatterternary": [
           {
            "marker": {
             "colorbar": {
              "outlinewidth": 0,
              "ticks": ""
             }
            },
            "type": "scatterternary"
           }
          ],
          "surface": [
           {
            "colorbar": {
             "outlinewidth": 0,
             "ticks": ""
            },
            "colorscale": [
             [
              0,
              "#0d0887"
             ],
             [
              0.1111111111111111,
              "#46039f"
             ],
             [
              0.2222222222222222,
              "#7201a8"
             ],
             [
              0.3333333333333333,
              "#9c179e"
             ],
             [
              0.4444444444444444,
              "#bd3786"
             ],
             [
              0.5555555555555556,
              "#d8576b"
             ],
             [
              0.6666666666666666,
              "#ed7953"
             ],
             [
              0.7777777777777778,
              "#fb9f3a"
             ],
             [
              0.8888888888888888,
              "#fdca26"
             ],
             [
              1,
              "#f0f921"
             ]
            ],
            "type": "surface"
           }
          ],
          "table": [
           {
            "cells": {
             "fill": {
              "color": "#EBF0F8"
             },
             "line": {
              "color": "white"
             }
            },
            "header": {
             "fill": {
              "color": "#C8D4E3"
             },
             "line": {
              "color": "white"
             }
            },
            "type": "table"
           }
          ]
         },
         "layout": {
          "annotationdefaults": {
           "arrowcolor": "#2a3f5f",
           "arrowhead": 0,
           "arrowwidth": 1
          },
          "autotypenumbers": "strict",
          "coloraxis": {
           "colorbar": {
            "outlinewidth": 0,
            "ticks": ""
           }
          },
          "colorscale": {
           "diverging": [
            [
             0,
             "#8e0152"
            ],
            [
             0.1,
             "#c51b7d"
            ],
            [
             0.2,
             "#de77ae"
            ],
            [
             0.3,
             "#f1b6da"
            ],
            [
             0.4,
             "#fde0ef"
            ],
            [
             0.5,
             "#f7f7f7"
            ],
            [
             0.6,
             "#e6f5d0"
            ],
            [
             0.7,
             "#b8e186"
            ],
            [
             0.8,
             "#7fbc41"
            ],
            [
             0.9,
             "#4d9221"
            ],
            [
             1,
             "#276419"
            ]
           ],
           "sequential": [
            [
             0,
             "#0d0887"
            ],
            [
             0.1111111111111111,
             "#46039f"
            ],
            [
             0.2222222222222222,
             "#7201a8"
            ],
            [
             0.3333333333333333,
             "#9c179e"
            ],
            [
             0.4444444444444444,
             "#bd3786"
            ],
            [
             0.5555555555555556,
             "#d8576b"
            ],
            [
             0.6666666666666666,
             "#ed7953"
            ],
            [
             0.7777777777777778,
             "#fb9f3a"
            ],
            [
             0.8888888888888888,
             "#fdca26"
            ],
            [
             1,
             "#f0f921"
            ]
           ],
           "sequentialminus": [
            [
             0,
             "#0d0887"
            ],
            [
             0.1111111111111111,
             "#46039f"
            ],
            [
             0.2222222222222222,
             "#7201a8"
            ],
            [
             0.3333333333333333,
             "#9c179e"
            ],
            [
             0.4444444444444444,
             "#bd3786"
            ],
            [
             0.5555555555555556,
             "#d8576b"
            ],
            [
             0.6666666666666666,
             "#ed7953"
            ],
            [
             0.7777777777777778,
             "#fb9f3a"
            ],
            [
             0.8888888888888888,
             "#fdca26"
            ],
            [
             1,
             "#f0f921"
            ]
           ]
          },
          "colorway": [
           "#636efa",
           "#EF553B",
           "#00cc96",
           "#ab63fa",
           "#FFA15A",
           "#19d3f3",
           "#FF6692",
           "#B6E880",
           "#FF97FF",
           "#FECB52"
          ],
          "font": {
           "color": "#2a3f5f"
          },
          "geo": {
           "bgcolor": "white",
           "lakecolor": "white",
           "landcolor": "#E5ECF6",
           "showlakes": true,
           "showland": true,
           "subunitcolor": "white"
          },
          "hoverlabel": {
           "align": "left"
          },
          "hovermode": "closest",
          "mapbox": {
           "style": "light"
          },
          "paper_bgcolor": "white",
          "plot_bgcolor": "#E5ECF6",
          "polar": {
           "angularaxis": {
            "gridcolor": "white",
            "linecolor": "white",
            "ticks": ""
           },
           "bgcolor": "#E5ECF6",
           "radialaxis": {
            "gridcolor": "white",
            "linecolor": "white",
            "ticks": ""
           }
          },
          "scene": {
           "xaxis": {
            "backgroundcolor": "#E5ECF6",
            "gridcolor": "white",
            "gridwidth": 2,
            "linecolor": "white",
            "showbackground": true,
            "ticks": "",
            "zerolinecolor": "white"
           },
           "yaxis": {
            "backgroundcolor": "#E5ECF6",
            "gridcolor": "white",
            "gridwidth": 2,
            "linecolor": "white",
            "showbackground": true,
            "ticks": "",
            "zerolinecolor": "white"
           },
           "zaxis": {
            "backgroundcolor": "#E5ECF6",
            "gridcolor": "white",
            "gridwidth": 2,
            "linecolor": "white",
            "showbackground": true,
            "ticks": "",
            "zerolinecolor": "white"
           }
          },
          "shapedefaults": {
           "line": {
            "color": "#2a3f5f"
           }
          },
          "ternary": {
           "aaxis": {
            "gridcolor": "white",
            "linecolor": "white",
            "ticks": ""
           },
           "baxis": {
            "gridcolor": "white",
            "linecolor": "white",
            "ticks": ""
           },
           "bgcolor": "#E5ECF6",
           "caxis": {
            "gridcolor": "white",
            "linecolor": "white",
            "ticks": ""
           }
          },
          "title": {
           "x": 0.05
          },
          "xaxis": {
           "automargin": true,
           "gridcolor": "white",
           "linecolor": "white",
           "ticks": "",
           "title": {
            "standoff": 15
           },
           "zerolinecolor": "white",
           "zerolinewidth": 2
          },
          "yaxis": {
           "automargin": true,
           "gridcolor": "white",
           "linecolor": "white",
           "ticks": "",
           "title": {
            "standoff": 15
           },
           "zerolinecolor": "white",
           "zerolinewidth": 2
          }
         }
        },
        "title": {
         "text": "Overall weekly precipitation"
        },
        "xaxis": {
         "anchor": "y",
         "domain": [
          0,
          1
         ],
         "rangeslider": {
          "visible": true
         },
         "title": {
          "text": "date"
         }
        },
        "yaxis": {
         "anchor": "x",
         "domain": [
          0,
          1
         ],
         "title": {
          "text": "value"
         }
        }
       }
      },
      "text/html": [
       "<div>                            <div id=\"0d53d848-1322-4f6c-b294-597cbdc8729c\" class=\"plotly-graph-div\" style=\"height:525px; width:100%;\"></div>            <script type=\"text/javascript\">                require([\"plotly\"], function(Plotly) {                    window.PLOTLYENV=window.PLOTLYENV || {};                                    if (document.getElementById(\"0d53d848-1322-4f6c-b294-597cbdc8729c\")) {                    Plotly.newPlot(                        \"0d53d848-1322-4f6c-b294-597cbdc8729c\",                        [{\"hovertemplate\":\"variable=precip<br>date=%{x}<br>value=%{y}<extra></extra>\",\"legendgroup\":\"precip\",\"line\":{\"color\":\"#636efa\",\"dash\":\"solid\"},\"marker\":{\"symbol\":\"circle\"},\"mode\":\"lines\",\"name\":\"precip\",\"orientation\":\"v\",\"showlegend\":true,\"x\":[\"2016-01-01T00:00:00\",\"2016-01-08T00:00:00\",\"2016-01-15T00:00:00\",\"2016-01-22T00:00:00\",\"2016-01-29T00:00:00\",\"2016-02-05T00:00:00\",\"2016-02-12T00:00:00\",\"2016-02-19T00:00:00\",\"2016-02-26T00:00:00\",\"2016-03-04T00:00:00\",\"2016-03-11T00:00:00\",\"2016-03-18T00:00:00\",\"2016-03-25T00:00:00\",\"2016-04-01T00:00:00\",\"2016-04-08T00:00:00\",\"2016-04-15T00:00:00\",\"2016-04-22T00:00:00\",\"2016-04-29T00:00:00\",\"2016-05-06T00:00:00\",\"2016-05-13T00:00:00\",\"2016-05-20T00:00:00\",\"2016-05-27T00:00:00\",\"2016-06-03T00:00:00\",\"2016-06-10T00:00:00\",\"2016-06-17T00:00:00\",\"2016-06-24T00:00:00\",\"2016-07-01T00:00:00\",\"2016-07-08T00:00:00\",\"2016-07-15T00:00:00\",\"2016-07-22T00:00:00\",\"2016-07-29T00:00:00\",\"2016-08-05T00:00:00\",\"2016-08-12T00:00:00\",\"2016-08-19T00:00:00\",\"2016-08-26T00:00:00\",\"2016-09-02T00:00:00\",\"2016-09-09T00:00:00\",\"2016-09-16T00:00:00\",\"2016-09-23T00:00:00\",\"2016-09-30T00:00:00\",\"2016-10-07T00:00:00\",\"2016-10-14T00:00:00\",\"2016-10-21T00:00:00\",\"2016-10-28T00:00:00\",\"2016-11-04T00:00:00\",\"2016-11-11T00:00:00\",\"2016-11-18T00:00:00\",\"2016-11-25T00:00:00\",\"2016-12-02T00:00:00\",\"2016-12-09T00:00:00\",\"2016-12-16T00:00:00\",\"2016-12-23T00:00:00\",\"2016-12-30T00:00:00\",\"2017-01-06T00:00:00\",\"2017-01-13T00:00:00\",\"2017-01-20T00:00:00\",\"2017-01-27T00:00:00\",\"2017-02-03T00:00:00\",\"2017-02-10T00:00:00\",\"2017-02-17T00:00:00\",\"2017-02-24T00:00:00\",\"2017-03-03T00:00:00\",\"2017-03-10T00:00:00\",\"2017-03-17T00:00:00\",\"2017-03-24T00:00:00\",\"2017-03-31T00:00:00\",\"2017-04-07T00:00:00\",\"2017-04-14T00:00:00\",\"2017-04-21T00:00:00\",\"2017-04-28T00:00:00\",\"2017-05-05T00:00:00\",\"2017-05-12T00:00:00\",\"2017-05-19T00:00:00\",\"2017-05-26T00:00:00\",\"2017-06-02T00:00:00\",\"2017-06-09T00:00:00\",\"2017-06-16T00:00:00\",\"2017-06-23T00:00:00\",\"2017-06-30T00:00:00\",\"2017-07-07T00:00:00\",\"2017-07-14T00:00:00\",\"2017-07-21T00:00:00\",\"2017-07-28T00:00:00\",\"2017-08-04T00:00:00\",\"2017-08-11T00:00:00\",\"2017-08-18T00:00:00\",\"2017-08-25T00:00:00\",\"2017-09-01T00:00:00\",\"2017-09-08T00:00:00\",\"2017-09-15T00:00:00\",\"2017-09-22T00:00:00\",\"2017-09-29T00:00:00\",\"2017-10-06T00:00:00\",\"2017-10-13T00:00:00\",\"2017-10-20T00:00:00\",\"2017-10-27T00:00:00\",\"2017-11-03T00:00:00\",\"2017-11-10T00:00:00\",\"2017-11-17T00:00:00\",\"2017-11-24T00:00:00\",\"2017-12-01T00:00:00\",\"2017-12-08T00:00:00\",\"2017-12-15T00:00:00\",\"2017-12-22T00:00:00\",\"2017-12-29T00:00:00\",\"2018-01-05T00:00:00\",\"2018-01-12T00:00:00\",\"2018-01-19T00:00:00\",\"2018-01-26T00:00:00\",\"2018-02-02T00:00:00\",\"2018-02-09T00:00:00\",\"2018-02-16T00:00:00\",\"2018-02-23T00:00:00\",\"2018-03-02T00:00:00\",\"2018-03-09T00:00:00\",\"2018-03-16T00:00:00\",\"2018-03-23T00:00:00\",\"2018-03-30T00:00:00\",\"2018-04-06T00:00:00\",\"2018-04-13T00:00:00\",\"2018-04-20T00:00:00\",\"2018-04-27T00:00:00\",\"2018-05-04T00:00:00\",\"2018-05-11T00:00:00\",\"2018-05-18T00:00:00\",\"2018-05-25T00:00:00\",\"2018-06-01T00:00:00\",\"2018-06-08T00:00:00\",\"2018-06-15T00:00:00\",\"2018-06-22T00:00:00\",\"2018-06-29T00:00:00\",\"2018-07-06T00:00:00\",\"2018-07-13T00:00:00\",\"2018-07-20T00:00:00\",\"2018-07-27T00:00:00\",\"2018-08-03T00:00:00\",\"2018-08-10T00:00:00\",\"2018-08-17T00:00:00\",\"2018-08-24T00:00:00\",\"2018-08-31T00:00:00\",\"2018-09-07T00:00:00\",\"2018-09-14T00:00:00\",\"2018-09-21T00:00:00\",\"2018-09-28T00:00:00\",\"2018-10-05T00:00:00\",\"2018-10-12T00:00:00\",\"2018-10-19T00:00:00\",\"2018-10-26T00:00:00\",\"2018-11-02T00:00:00\",\"2018-11-09T00:00:00\",\"2018-11-16T00:00:00\",\"2018-11-23T00:00:00\",\"2018-11-30T00:00:00\",\"2018-12-07T00:00:00\",\"2018-12-14T00:00:00\",\"2018-12-21T00:00:00\",\"2018-12-28T00:00:00\"],\"xaxis\":\"x\",\"y\":[2250.4150390625,2029.3345947265625,343.60528564453125,1140.7197265625,1665.06396484375,2707.504638671875,1537.8150634765625,811.0177001953125,815.5987548828125,2157.75244140625,76.62117004394531,115.08719635009766,2695.332275390625,503.1649475097656,1923.1708984375,297.3366394042969,870.9537353515625,672.2929077148438,1434.1534423828125,1049.8446044921875,1894.204345703125,2260.544677734375,239.81045532226562,1696.050537109375,2370.9365234375,526.7450561523438,501.91595458984375,603.7275390625,101.28579711914062,310.5910949707031,1197.2161865234375,133.6707305908203,316.17071533203125,392.81085205078125,195.3766326904297,602.4680786132812,1078.82470703125,1366.8424072265625,206.41615295410156,492.161376953125,307.6878356933594,1109.517578125,1067.9512939453125,130.13421630859375,3022.260009765625,1307.6170654296875,1797.5,97.3211898803711,91.9527587890625,317.24725341796875,975.12890625,260.21710205078125,186.63502502441406,1347.2427978515625,1111.04833984375,79.32566833496094,1011.185546875,2225.18994140625,199.5702362060547,234.43421936035156,1905.642822265625,2478.78173828125,233.68289184570312,1178.79150390625,172.4171142578125,425.2342224121094,86.01690673828125,164.11216735839844,333.7292785644531,1827.464111328125,936.5816650390625,2539.8388671875,387.8171081542969,527.3276977539062,1573.4500732421875,147.57351684570312,74.94480895996094,1575.5797119140625,740.9652099609375,950.7164916992188,261.5447998046875,1111.75341796875,614.2999877929688,2002.77197265625,974.271484375,424.2861328125,1386.688232421875,850.7941284179688,3713.751220703125,1518.625732421875,773.6360473632812,879.2047119140625,407.0743408203125,649.14501953125,1162.7047119140625,216.92567443847656,1253.8382568359375,1655.7171630859375,795.30859375,2476.32568359375,864.5256958007812,4209.3583984375,1004.6434326171875,1350.4698486328125,4154.38330078125,551.4684448242188,2106.33837890625,2692.717529296875,1180.0555419921875,552.3112182617188,1358.156005859375,539.5914306640625,107.31160736083984,1658.4210205078125,1935.8802490234375,400.394287109375,1318.72802734375,1523.0631103515625,1252.494140625,475.4085693359375,304.92303466796875,2975.765869140625,87.2598648071289,652.5757446289062,320.32952880859375,3394.486328125,1463.0023193359375,2276.451904296875,137.43421936035156,75.44012451171875,588.3321533203125,104.45986938476562,300.41162109375,425.9996032714844,687.2971801757812,1385.485595703125,1021.5684204101562,185.22686767578125,1808.1910400390625,316.38555908203125,285.3631286621094,93.98920440673828,1572.92626953125,155.0604705810547,2054.2490234375,275.19854736328125,154.6059112548828,1551.7257080078125,704.9572143554688,1722.4130859375,265.5374755859375,1891.2427978515625,2371.868408203125,1590.9283447265625,1132.3775634765625,1695.061767578125,82.0526351928711],\"yaxis\":\"y\",\"type\":\"scatter\"}],                        {\"template\":{\"data\":{\"histogram2dcontour\":[{\"type\":\"histogram2dcontour\",\"colorbar\":{\"outlinewidth\":0,\"ticks\":\"\"},\"colorscale\":[[0.0,\"#0d0887\"],[0.1111111111111111,\"#46039f\"],[0.2222222222222222,\"#7201a8\"],[0.3333333333333333,\"#9c179e\"],[0.4444444444444444,\"#bd3786\"],[0.5555555555555556,\"#d8576b\"],[0.6666666666666666,\"#ed7953\"],[0.7777777777777778,\"#fb9f3a\"],[0.8888888888888888,\"#fdca26\"],[1.0,\"#f0f921\"]]}],\"choropleth\":[{\"type\":\"choropleth\",\"colorbar\":{\"outlinewidth\":0,\"ticks\":\"\"}}],\"histogram2d\":[{\"type\":\"histogram2d\",\"colorbar\":{\"outlinewidth\":0,\"ticks\":\"\"},\"colorscale\":[[0.0,\"#0d0887\"],[0.1111111111111111,\"#46039f\"],[0.2222222222222222,\"#7201a8\"],[0.3333333333333333,\"#9c179e\"],[0.4444444444444444,\"#bd3786\"],[0.5555555555555556,\"#d8576b\"],[0.6666666666666666,\"#ed7953\"],[0.7777777777777778,\"#fb9f3a\"],[0.8888888888888888,\"#fdca26\"],[1.0,\"#f0f921\"]]}],\"heatmap\":[{\"type\":\"heatmap\",\"colorbar\":{\"outlinewidth\":0,\"ticks\":\"\"},\"colorscale\":[[0.0,\"#0d0887\"],[0.1111111111111111,\"#46039f\"],[0.2222222222222222,\"#7201a8\"],[0.3333333333333333,\"#9c179e\"],[0.4444444444444444,\"#bd3786\"],[0.5555555555555556,\"#d8576b\"],[0.6666666666666666,\"#ed7953\"],[0.7777777777777778,\"#fb9f3a\"],[0.8888888888888888,\"#fdca26\"],[1.0,\"#f0f921\"]]}],\"heatmapgl\":[{\"type\":\"heatmapgl\",\"colorbar\":{\"outlinewidth\":0,\"ticks\":\"\"},\"colorscale\":[[0.0,\"#0d0887\"],[0.1111111111111111,\"#46039f\"],[0.2222222222222222,\"#7201a8\"],[0.3333333333333333,\"#9c179e\"],[0.4444444444444444,\"#bd3786\"],[0.5555555555555556,\"#d8576b\"],[0.6666666666666666,\"#ed7953\"],[0.7777777777777778,\"#fb9f3a\"],[0.8888888888888888,\"#fdca26\"],[1.0,\"#f0f921\"]]}],\"contourcarpet\":[{\"type\":\"contourcarpet\",\"colorbar\":{\"outlinewidth\":0,\"ticks\":\"\"}}],\"contour\":[{\"type\":\"contour\",\"colorbar\":{\"outlinewidth\":0,\"ticks\":\"\"},\"colorscale\":[[0.0,\"#0d0887\"],[0.1111111111111111,\"#46039f\"],[0.2222222222222222,\"#7201a8\"],[0.3333333333333333,\"#9c179e\"],[0.4444444444444444,\"#bd3786\"],[0.5555555555555556,\"#d8576b\"],[0.6666666666666666,\"#ed7953\"],[0.7777777777777778,\"#fb9f3a\"],[0.8888888888888888,\"#fdca26\"],[1.0,\"#f0f921\"]]}],\"surface\":[{\"type\":\"surface\",\"colorbar\":{\"outlinewidth\":0,\"ticks\":\"\"},\"colorscale\":[[0.0,\"#0d0887\"],[0.1111111111111111,\"#46039f\"],[0.2222222222222222,\"#7201a8\"],[0.3333333333333333,\"#9c179e\"],[0.4444444444444444,\"#bd3786\"],[0.5555555555555556,\"#d8576b\"],[0.6666666666666666,\"#ed7953\"],[0.7777777777777778,\"#fb9f3a\"],[0.8888888888888888,\"#fdca26\"],[1.0,\"#f0f921\"]]}],\"mesh3d\":[{\"type\":\"mesh3d\",\"colorbar\":{\"outlinewidth\":0,\"ticks\":\"\"}}],\"scatter\":[{\"fillpattern\":{\"fillmode\":\"overlay\",\"size\":10,\"solidity\":0.2},\"type\":\"scatter\"}],\"parcoords\":[{\"type\":\"parcoords\",\"line\":{\"colorbar\":{\"outlinewidth\":0,\"ticks\":\"\"}}}],\"scatterpolargl\":[{\"type\":\"scatterpolargl\",\"marker\":{\"colorbar\":{\"outlinewidth\":0,\"ticks\":\"\"}}}],\"bar\":[{\"error_x\":{\"color\":\"#2a3f5f\"},\"error_y\":{\"color\":\"#2a3f5f\"},\"marker\":{\"line\":{\"color\":\"#E5ECF6\",\"width\":0.5},\"pattern\":{\"fillmode\":\"overlay\",\"size\":10,\"solidity\":0.2}},\"type\":\"bar\"}],\"scattergeo\":[{\"type\":\"scattergeo\",\"marker\":{\"colorbar\":{\"outlinewidth\":0,\"ticks\":\"\"}}}],\"scatterpolar\":[{\"type\":\"scatterpolar\",\"marker\":{\"colorbar\":{\"outlinewidth\":0,\"ticks\":\"\"}}}],\"histogram\":[{\"marker\":{\"pattern\":{\"fillmode\":\"overlay\",\"size\":10,\"solidity\":0.2}},\"type\":\"histogram\"}],\"scattergl\":[{\"type\":\"scattergl\",\"marker\":{\"colorbar\":{\"outlinewidth\":0,\"ticks\":\"\"}}}],\"scatter3d\":[{\"type\":\"scatter3d\",\"line\":{\"colorbar\":{\"outlinewidth\":0,\"ticks\":\"\"}},\"marker\":{\"colorbar\":{\"outlinewidth\":0,\"ticks\":\"\"}}}],\"scattermapbox\":[{\"type\":\"scattermapbox\",\"marker\":{\"colorbar\":{\"outlinewidth\":0,\"ticks\":\"\"}}}],\"scatterternary\":[{\"type\":\"scatterternary\",\"marker\":{\"colorbar\":{\"outlinewidth\":0,\"ticks\":\"\"}}}],\"scattercarpet\":[{\"type\":\"scattercarpet\",\"marker\":{\"colorbar\":{\"outlinewidth\":0,\"ticks\":\"\"}}}],\"carpet\":[{\"aaxis\":{\"endlinecolor\":\"#2a3f5f\",\"gridcolor\":\"white\",\"linecolor\":\"white\",\"minorgridcolor\":\"white\",\"startlinecolor\":\"#2a3f5f\"},\"baxis\":{\"endlinecolor\":\"#2a3f5f\",\"gridcolor\":\"white\",\"linecolor\":\"white\",\"minorgridcolor\":\"white\",\"startlinecolor\":\"#2a3f5f\"},\"type\":\"carpet\"}],\"table\":[{\"cells\":{\"fill\":{\"color\":\"#EBF0F8\"},\"line\":{\"color\":\"white\"}},\"header\":{\"fill\":{\"color\":\"#C8D4E3\"},\"line\":{\"color\":\"white\"}},\"type\":\"table\"}],\"barpolar\":[{\"marker\":{\"line\":{\"color\":\"#E5ECF6\",\"width\":0.5},\"pattern\":{\"fillmode\":\"overlay\",\"size\":10,\"solidity\":0.2}},\"type\":\"barpolar\"}],\"pie\":[{\"automargin\":true,\"type\":\"pie\"}]},\"layout\":{\"autotypenumbers\":\"strict\",\"colorway\":[\"#636efa\",\"#EF553B\",\"#00cc96\",\"#ab63fa\",\"#FFA15A\",\"#19d3f3\",\"#FF6692\",\"#B6E880\",\"#FF97FF\",\"#FECB52\"],\"font\":{\"color\":\"#2a3f5f\"},\"hovermode\":\"closest\",\"hoverlabel\":{\"align\":\"left\"},\"paper_bgcolor\":\"white\",\"plot_bgcolor\":\"#E5ECF6\",\"polar\":{\"bgcolor\":\"#E5ECF6\",\"angularaxis\":{\"gridcolor\":\"white\",\"linecolor\":\"white\",\"ticks\":\"\"},\"radialaxis\":{\"gridcolor\":\"white\",\"linecolor\":\"white\",\"ticks\":\"\"}},\"ternary\":{\"bgcolor\":\"#E5ECF6\",\"aaxis\":{\"gridcolor\":\"white\",\"linecolor\":\"white\",\"ticks\":\"\"},\"baxis\":{\"gridcolor\":\"white\",\"linecolor\":\"white\",\"ticks\":\"\"},\"caxis\":{\"gridcolor\":\"white\",\"linecolor\":\"white\",\"ticks\":\"\"}},\"coloraxis\":{\"colorbar\":{\"outlinewidth\":0,\"ticks\":\"\"}},\"colorscale\":{\"sequential\":[[0.0,\"#0d0887\"],[0.1111111111111111,\"#46039f\"],[0.2222222222222222,\"#7201a8\"],[0.3333333333333333,\"#9c179e\"],[0.4444444444444444,\"#bd3786\"],[0.5555555555555556,\"#d8576b\"],[0.6666666666666666,\"#ed7953\"],[0.7777777777777778,\"#fb9f3a\"],[0.8888888888888888,\"#fdca26\"],[1.0,\"#f0f921\"]],\"sequentialminus\":[[0.0,\"#0d0887\"],[0.1111111111111111,\"#46039f\"],[0.2222222222222222,\"#7201a8\"],[0.3333333333333333,\"#9c179e\"],[0.4444444444444444,\"#bd3786\"],[0.5555555555555556,\"#d8576b\"],[0.6666666666666666,\"#ed7953\"],[0.7777777777777778,\"#fb9f3a\"],[0.8888888888888888,\"#fdca26\"],[1.0,\"#f0f921\"]],\"diverging\":[[0,\"#8e0152\"],[0.1,\"#c51b7d\"],[0.2,\"#de77ae\"],[0.3,\"#f1b6da\"],[0.4,\"#fde0ef\"],[0.5,\"#f7f7f7\"],[0.6,\"#e6f5d0\"],[0.7,\"#b8e186\"],[0.8,\"#7fbc41\"],[0.9,\"#4d9221\"],[1,\"#276419\"]]},\"xaxis\":{\"gridcolor\":\"white\",\"linecolor\":\"white\",\"ticks\":\"\",\"title\":{\"standoff\":15},\"zerolinecolor\":\"white\",\"automargin\":true,\"zerolinewidth\":2},\"yaxis\":{\"gridcolor\":\"white\",\"linecolor\":\"white\",\"ticks\":\"\",\"title\":{\"standoff\":15},\"zerolinecolor\":\"white\",\"automargin\":true,\"zerolinewidth\":2},\"scene\":{\"xaxis\":{\"backgroundcolor\":\"#E5ECF6\",\"gridcolor\":\"white\",\"linecolor\":\"white\",\"showbackground\":true,\"ticks\":\"\",\"zerolinecolor\":\"white\",\"gridwidth\":2},\"yaxis\":{\"backgroundcolor\":\"#E5ECF6\",\"gridcolor\":\"white\",\"linecolor\":\"white\",\"showbackground\":true,\"ticks\":\"\",\"zerolinecolor\":\"white\",\"gridwidth\":2},\"zaxis\":{\"backgroundcolor\":\"#E5ECF6\",\"gridcolor\":\"white\",\"linecolor\":\"white\",\"showbackground\":true,\"ticks\":\"\",\"zerolinecolor\":\"white\",\"gridwidth\":2}},\"shapedefaults\":{\"line\":{\"color\":\"#2a3f5f\"}},\"annotationdefaults\":{\"arrowcolor\":\"#2a3f5f\",\"arrowhead\":0,\"arrowwidth\":1},\"geo\":{\"bgcolor\":\"white\",\"landcolor\":\"#E5ECF6\",\"subunitcolor\":\"white\",\"showland\":true,\"showlakes\":true,\"lakecolor\":\"white\"},\"title\":{\"x\":0.05},\"mapbox\":{\"style\":\"light\"}}},\"xaxis\":{\"anchor\":\"y\",\"domain\":[0.0,1.0],\"title\":{\"text\":\"date\"},\"rangeslider\":{\"visible\":true}},\"yaxis\":{\"anchor\":\"x\",\"domain\":[0.0,1.0],\"title\":{\"text\":\"value\"}},\"legend\":{\"title\":{\"text\":\"variable\"},\"tracegroupgap\":0},\"title\":{\"text\":\"Overall weekly precipitation\"}},                        {\"responsive\": true}                    ).then(function(){\n",
       "                            \n",
       "var gd = document.getElementById('0d53d848-1322-4f6c-b294-597cbdc8729c');\n",
       "var x = new MutationObserver(function (mutations, observer) {{\n",
       "        var display = window.getComputedStyle(gd).display;\n",
       "        if (!display || display === 'none') {{\n",
       "            console.log([gd, 'removed!']);\n",
       "            Plotly.purge(gd);\n",
       "            observer.disconnect();\n",
       "        }}\n",
       "}});\n",
       "\n",
       "// Listen for the removal of the full notebook cells\n",
       "var notebookContainer = gd.closest('#notebook-container');\n",
       "if (notebookContainer) {{\n",
       "    x.observe(notebookContainer, {childList: true});\n",
       "}}\n",
       "\n",
       "// Listen for the clearing of the current output cell\n",
       "var outputEl = gd.closest('.output');\n",
       "if (outputEl) {{\n",
       "    x.observe(outputEl, {childList: true});\n",
       "}}\n",
       "\n",
       "                        })                };                });            </script>        </div>"
      ]
     },
     "metadata": {},
     "output_type": "display_data"
    }
   ],
   "source": [
    "fig = px.line(df['2016-01-01':'2018-12-30']['precip'].resample('7D').sum(),\n",
    "             title = 'Overall weekly precipitation')\n",
    "fig.update_xaxes(\n",
    "    rangeslider_visible=True\n",
    ")\n",
    "fig.show()"
   ]
  },
  {
   "cell_type": "code",
   "execution_count": 24,
   "id": "6bf35879",
   "metadata": {},
   "outputs": [],
   "source": [
    "jan_2018 = df['2018-01-03':'2018-01-03'].reset_index()\n",
    "jan_2018['ff'] = jan_2018['ff'] * 3.6\n",
    "jan_2017 = df['2017-01-03':'2017-01-03'].reset_index()\n",
    "jan_2016 = df['2016-01-03':'2016-01-03'].reset_index()"
   ]
  },
  {
   "cell_type": "code",
   "execution_count": 25,
   "id": "79b59908",
   "metadata": {},
   "outputs": [
    {
     "data": {
      "text/plain": [
       "<Axes: title={'center': 'Avg Rainfall per station 2018/01/03'}, xlabel='Hour of the day', ylabel='Precipitation in mm'>"
      ]
     },
     "execution_count": 25,
     "metadata": {},
     "output_type": "execute_result"
    },
    {
     "data": {
      "image/png": "[encoded data removed]",
      "text/plain": [
       "<Figure size 1200x600 with 2 Axes>"
      ]
     },
     "metadata": {},
     "output_type": "display_data"
    }
   ],
   "source": [
    "fig,axs = plt.subplots(1,2, figsize = (12,6))\n",
    "jan_2018.groupby(jan_2018['date'].dt.hour)[\"ff\"].max().plot(kind = 'bar', rot=0, title = \"Max windspeed recorded 2018/01/03\", xlabel = 'Hour of the day', ylabel = 'Windspeed in km/h', ax = axs[0])\n",
    "jan_2018.groupby(jan_2018['date'].dt.hour)[\"precip\"].mean().plot(kind = 'bar', rot=0, title = \"Avg Rainfall per station 2018/01/03\", xlabel = 'Hour of the day', ylabel = 'Precipitation in mm', ax = axs[1])"
   ]
  },
  {
   "cell_type": "code",
   "execution_count": 26,
   "id": "45fa0f6a",
   "metadata": {},
   "outputs": [
    {
     "data": {
      "image/png": "[encoded data removed]",
      "text/plain": [
       "<Figure size 1000x1000 with 3 Axes>"
      ]
     },
     "metadata": {},
     "output_type": "display_data"
    }
   ],
   "source": [
    "df = [jan_2018,jan_2017,jan_2016]\n",
    "title = [\"2018-01-03\",\"2017-01-03\",\"2016-01-03\"]\n",
    "fig, axs = plt.subplots(2,2, sharey = True, figsize = [10,10])\n",
    "fig.suptitle(\"Cumulative hourly precipitation\")\n",
    "for ax,i,df,title in zip(axs.flatten(),features,df,title) :\n",
    "    df.groupby(df['date'].dt.hour)[\"precip\"].sum().cumsum().plot(kind = 'line',\n",
    "                             title = title,\n",
    "                             ylabel = 'Rainfall in mm',\n",
    "                             xlabel = 'Hours of the day',\n",
    "                             xticks = np.arange(0,26,2),\n",
    "                             ax =  ax\n",
    "                        )\n",
    "plt.delaxes(axs[1,1])"
   ]
  },
  {
   "cell_type": "code",
   "execution_count": 27,
   "id": "852cdbac",
   "metadata": {},
   "outputs": [
    {
     "data": {
      "text/plain": [
       "3135"
      ]
     },
     "execution_count": 27,
     "metadata": {},
     "output_type": "execute_result"
    }
   ],
   "source": [
    "gc.collect()\n"
   ]
  },
  {
   "cell_type": "code",
   "execution_count": 28,
   "id": "63531e53",
   "metadata": {},
   "outputs": [],
   "source": [
    "#Daily forcast"
   ]
  },
  {
   "cell_type": "code",
   "execution_count": 29,
   "id": "4637ae61",
   "metadata": {},
   "outputs": [],
   "source": [
    "date_range = pd.date_range(start= '2016-01-01', end = '2018-12-31',\n",
    "                          freq='D').strftime(\"%Y-%m-%d\")"
   ]
  },
  {
   "cell_type": "code",
   "execution_count": 30,
   "id": "3571233e",
   "metadata": {},
   "outputs": [],
   "source": [
    "init = time.time()\n"
   ]
  },
  {
   "cell_type": "code",
   "execution_count": 31,
   "id": "a1d93dc4",
   "metadata": {},
   "outputs": [],
   "source": [
    "def daily_forecast(loc) :\n",
    "    # We set the frequency of observations to 3 hours.\n",
    "    # And we ignore intra-hour variations as we keep the value at the top of the hour\n",
    "    \n",
    "    df = weather_data.loc[weather_data['number_sta'] == loc]\n",
    "    df = df.set_index('date')\n",
    "    df['hours'] = [_.hour for _ in df.index]\n",
    "    df['days'] = [_.dayofyear for _ in df.index]\n",
    "    df['years'] = [_.year for _ in df.index]\n",
    "    \n",
    "   \n",
    "    df['3'] = df['hours']%3\n",
    "    df = df.loc[df['3'] == 0.0]\n",
    "    df = pd.concat([\n",
    "        df[_:_].drop_duplicates(subset = 'hours').reset_index(drop = True) for\n",
    "        _ in date_range\n",
    "                   ]\n",
    "    )\n",
    "    df = df[[\"height_sta\",\"dd\",\"ff\",\"precip\",\"hu\",\"td\",\"t\",\"hours\",\"days\",\"years\"]]\n",
    "    \n",
    "    return df\n"
   ]
  },
  {
   "cell_type": "code",
   "execution_count": 32,
   "id": "4b89ba53",
   "metadata": {},
   "outputs": [
    {
     "data": {
      "text/plain": [
       "True"
      ]
     },
     "execution_count": 32,
     "metadata": {},
     "output_type": "execute_result"
    }
   ],
   "source": [
    "features = [\"height_sta\",\"dd\",\"ff\",\"precip\",\"hu\",\"td\",\"t\",\"days\"]\n",
    "days0 = np.arange(1,365,2)\n",
    "days1 = np.arange(2,365,2)\n",
    "len(days0) == len(days1)"
   ]
  },
  {
   "cell_type": "code",
   "execution_count": 33,
   "id": "8a13f605",
   "metadata": {},
   "outputs": [],
   "source": [
    "def _3h_windowing(df:pd.DataFrame) :\n",
    "    \"\"\" Generate inputs/targets couple then scale the data\"\"\"\n",
    "    s_scaler = MinMaxScaler()\n",
    "    \n",
    "    days0 = np.arange(1,365,2)\n",
    "    days1 = np.arange(2,365,2)\n",
    "    X,y = [],[]\n",
    "    \n",
    "    for d0,d1 in zip(days0,days1) :\n",
    "        x = df.loc[df['days'] == d0]\n",
    "        z = df.loc[df['days'] == d1]\n",
    "        \n",
    "        if len(x) == len(z) :\n",
    "            X.append(x)\n",
    "            y.append(z)\n",
    "            \n",
    "    X = pd.concat(X)[features]\n",
    "    y =  pd.concat(y)[features]\n",
    "    \n",
    "    X = pd.DataFrame(s_scaler.fit_transform(X))\n",
    "    y = pd.DataFrame(s_scaler.fit_transform(y))\n",
    "        \n",
    "    return X,y, s_scaler"
   ]
  },
  {
   "cell_type": "code",
   "execution_count": 34,
   "id": "d34a0067",
   "metadata": {},
   "outputs": [],
   "source": [
    "def split_dataset(X:pd.DataFrame, y:pd.DataFrame) :\n",
    "    \n",
    "    X_train, X_test, y_train, y_test = train_test_split(\n",
    "    X, y, test_size=0.2, shuffle = True, random_state=42)\n",
    "    \n",
    "    X_train, X_val, y_train, y_val = train_test_split(\n",
    "    X_train, y_train, test_size=0.1, shuffle = True, random_state=7)\n",
    "    \n",
    "    return {\n",
    "        'train_set': tf.data.Dataset.from_tensor_slices((X_train, y_train)).batch(64).prefetch(2),\n",
    "        'val_set' : tf.data.Dataset.from_tensor_slices((X_val, y_val)).batch(64).prefetch(2),\n",
    "        'test_set' : [X_test, y_test]\n",
    "           }"
   ]
  },
  {
   "cell_type": "code",
   "execution_count": 35,
   "id": "895c85da",
   "metadata": {},
   "outputs": [],
   "source": [
    "def model_history(model:'o', train_metrics:str, val_metrics:str, loss:str):\n",
    "    plt.figure()\n",
    "    plt.xlabel('Epoch')\n",
    "    plt.ylabel(loss)\n",
    "    plt.plot(model.epoch, np.array(model.history[train_metrics]),\n",
    "           label='Train')\n",
    "    plt.plot(model.epoch, np.array(model.history[val_metrics]),\n",
    "           label = 'Val')\n",
    "    plt.legend()"
   ]
  },
  {
   "cell_type": "code",
   "execution_count": 36,
   "id": "33d7a1d8",
   "metadata": {},
   "outputs": [],
   "source": [
    "df = daily_forecast(loc)\n"
   ]
  },
  {
   "cell_type": "code",
   "execution_count": 37,
   "id": "62f7e4bd",
   "metadata": {},
   "outputs": [
    {
     "data": {
      "text/html": [
       "<div>\n",
       "<style scoped>\n",
       "    .dataframe tbody tr th:only-of-type {\n",
       "        vertical-align: middle;\n",
       "    }\n",
       "\n",
       "    .dataframe tbody tr th {\n",
       "        vertical-align: top;\n",
       "    }\n",
       "\n",
       "    .dataframe thead th {\n",
       "        text-align: right;\n",
       "    }\n",
       "</style>\n",
       "<table border=\"1\" class=\"dataframe\">\n",
       "  <thead>\n",
       "    <tr style=\"text-align: right;\">\n",
       "      <th></th>\n",
       "      <th>height_sta</th>\n",
       "      <th>dd</th>\n",
       "      <th>ff</th>\n",
       "      <th>precip</th>\n",
       "      <th>hu</th>\n",
       "      <th>td</th>\n",
       "      <th>t</th>\n",
       "      <th>hours</th>\n",
       "      <th>days</th>\n",
       "      <th>years</th>\n",
       "    </tr>\n",
       "  </thead>\n",
       "  <tbody>\n",
       "    <tr>\n",
       "      <th>0</th>\n",
       "      <td>195.0</td>\n",
       "      <td>220.0</td>\n",
       "      <td>2.1</td>\n",
       "      <td>0.0</td>\n",
       "      <td>98.0</td>\n",
       "      <td>278.149994</td>\n",
       "      <td>278.450012</td>\n",
       "      <td>0</td>\n",
       "      <td>1</td>\n",
       "      <td>2016</td>\n",
       "    </tr>\n",
       "    <tr>\n",
       "      <th>1</th>\n",
       "      <td>195.0</td>\n",
       "      <td>180.0</td>\n",
       "      <td>1.5</td>\n",
       "      <td>0.0</td>\n",
       "      <td>95.0</td>\n",
       "      <td>278.549988</td>\n",
       "      <td>279.250000</td>\n",
       "      <td>3</td>\n",
       "      <td>1</td>\n",
       "      <td>2016</td>\n",
       "    </tr>\n",
       "    <tr>\n",
       "      <th>2</th>\n",
       "      <td>195.0</td>\n",
       "      <td>160.0</td>\n",
       "      <td>2.9</td>\n",
       "      <td>0.0</td>\n",
       "      <td>96.0</td>\n",
       "      <td>279.049988</td>\n",
       "      <td>279.649994</td>\n",
       "      <td>6</td>\n",
       "      <td>1</td>\n",
       "      <td>2016</td>\n",
       "    </tr>\n",
       "    <tr>\n",
       "      <th>3</th>\n",
       "      <td>195.0</td>\n",
       "      <td>160.0</td>\n",
       "      <td>4.6</td>\n",
       "      <td>0.0</td>\n",
       "      <td>97.0</td>\n",
       "      <td>280.049988</td>\n",
       "      <td>280.450012</td>\n",
       "      <td>9</td>\n",
       "      <td>1</td>\n",
       "      <td>2016</td>\n",
       "    </tr>\n",
       "    <tr>\n",
       "      <th>4</th>\n",
       "      <td>195.0</td>\n",
       "      <td>170.0</td>\n",
       "      <td>5.8</td>\n",
       "      <td>0.0</td>\n",
       "      <td>89.0</td>\n",
       "      <td>279.450012</td>\n",
       "      <td>281.149994</td>\n",
       "      <td>12</td>\n",
       "      <td>1</td>\n",
       "      <td>2016</td>\n",
       "    </tr>\n",
       "  </tbody>\n",
       "</table>\n",
       "</div>"
      ],
      "text/plain": [
       "   height_sta     dd   ff  precip    hu          td           t  hours  days  \\\n",
       "0       195.0  220.0  2.1     0.0  98.0  278.149994  278.450012      0     1   \n",
       "1       195.0  180.0  1.5     0.0  95.0  278.549988  279.250000      3     1   \n",
       "2       195.0  160.0  2.9     0.0  96.0  279.049988  279.649994      6     1   \n",
       "3       195.0  160.0  4.6     0.0  97.0  280.049988  280.450012      9     1   \n",
       "4       195.0  170.0  5.8     0.0  89.0  279.450012  281.149994     12     1   \n",
       "\n",
       "   years  \n",
       "0   2016  \n",
       "1   2016  \n",
       "2   2016  \n",
       "3   2016  \n",
       "4   2016  "
      ]
     },
     "execution_count": 37,
     "metadata": {},
     "output_type": "execute_result"
    }
   ],
   "source": [
    "df.head(5)\n"
   ]
  },
  {
   "cell_type": "code",
   "execution_count": 38,
   "id": "93bb9ca1",
   "metadata": {},
   "outputs": [],
   "source": [
    "X,y, s_scaler = _3h_windowing(df)\n"
   ]
  },
  {
   "cell_type": "code",
   "execution_count": 39,
   "id": "5291def9",
   "metadata": {},
   "outputs": [
    {
     "data": {
      "text/plain": [
       "((3998, 8), (3998, 8))"
      ]
     },
     "execution_count": 39,
     "metadata": {},
     "output_type": "execute_result"
    }
   ],
   "source": [
    "(X.shape,y.shape)\n"
   ]
  },
  {
   "cell_type": "code",
   "execution_count": 40,
   "id": "a71447f1",
   "metadata": {},
   "outputs": [],
   "source": [
    "train_set,val_set,test_set = split_dataset(X, y).values()"
   ]
  },
  {
   "cell_type": "code",
   "execution_count": 41,
   "id": "f6e3f4f8",
   "metadata": {},
   "outputs": [],
   "source": [
    "mlp_model = keras.Sequential([\n",
    "    keras.Input(shape=(None, None,8)),\n",
    "    layers.Dense(64, activation=\"relu\",),\n",
    "    layers.Dense(8)\n",
    "])"
   ]
  },
  {
   "cell_type": "code",
   "execution_count": 42,
   "id": "2301cae6",
   "metadata": {},
   "outputs": [
    {
     "name": "stderr",
     "output_type": "stream",
     "text": [
      "WARNING:absl:At this time, the v2.11+ optimizer `tf.keras.optimizers.Adam` runs slowly on M1/M2 Macs, please use the legacy Keras optimizer instead, located at `tf.keras.optimizers.legacy.Adam`.\n"
     ]
    }
   ],
   "source": [
    "callback = tf.keras.callbacks.EarlyStopping(monitor='val_loss', patience=3)\n",
    "optimizer = tf.keras.optimizers.Adam(learning_rate=1e-4)"
   ]
  },
  {
   "cell_type": "code",
   "execution_count": 43,
   "id": "08699d40",
   "metadata": {},
   "outputs": [],
   "source": [
    "def compile_fit(model:'o',\n",
    "                train_set:'tf.dataset',\n",
    "                val_set:'tf.dataset'\n",
    "               ) :\n",
    "     \n",
    "    summary = model.summary()\n",
    "    \n",
    "    model.compile(\n",
    "        optimizer = optimizer,\n",
    "        loss = 'mse',\n",
    "        metrics =[tf.keras.metrics.MeanAbsoluteError()]\n",
    "    )\n",
    "    \n",
    "    history = model.fit(train_set, epochs=100, validation_data=val_set, callbacks = [callback])\n",
    "    \n",
    "    return summary,history"
   ]
  },
  {
   "cell_type": "code",
   "execution_count": 44,
   "id": "42b8d87f",
   "metadata": {},
   "outputs": [
    {
     "name": "stdout",
     "output_type": "stream",
     "text": [
      "Model: \"sequential\"\n",
      "_________________________________________________________________\n",
      " Layer (type)                Output Shape              Param #   \n",
      "=================================================================\n",
      " dense (Dense)               (None, None, None, 64)    576       \n",
      "                                                                 \n",
      " dense_1 (Dense)             (None, None, None, 8)     520       \n",
      "                                                                 \n",
      "=================================================================\n",
      "Total params: 1096 (4.28 KB)\n",
      "Trainable params: 1096 (4.28 KB)\n",
      "Non-trainable params: 0 (0.00 Byte)\n",
      "_________________________________________________________________\n",
      "Epoch 1/100\n",
      "45/45 [==============================] - 0s 1ms/step - loss: 0.3342 - mean_absolute_error: 0.4706 - val_loss: 0.3022 - val_mean_absolute_error: 0.4426\n",
      "Epoch 2/100\n",
      "45/45 [==============================] - 0s 1ms/step - loss: 0.2851 - mean_absolute_error: 0.4241 - val_loss: 0.2575 - val_mean_absolute_error: 0.3990\n",
      "Epoch 3/100\n",
      "45/45 [==============================] - 0s 412us/step - loss: 0.2419 - mean_absolute_error: 0.3823 - val_loss: 0.2163 - val_mean_absolute_error: 0.3585\n",
      "Epoch 4/100\n",
      "45/45 [==============================] - 0s 464us/step - loss: 0.2013 - mean_absolute_error: 0.3425 - val_loss: 0.1772 - val_mean_absolute_error: 0.3192\n",
      "Epoch 5/100\n",
      "45/45 [==============================] - 0s 403us/step - loss: 0.1633 - mean_absolute_error: 0.3043 - val_loss: 0.1415 - val_mean_absolute_error: 0.2818\n",
      "Epoch 6/100\n",
      "45/45 [==============================] - 0s 395us/step - loss: 0.1291 - mean_absolute_error: 0.2679 - val_loss: 0.1101 - val_mean_absolute_error: 0.2464\n",
      "Epoch 7/100\n",
      "45/45 [==============================] - 0s 401us/step - loss: 0.0996 - mean_absolute_error: 0.2339 - val_loss: 0.0841 - val_mean_absolute_error: 0.2144\n",
      "Epoch 8/100\n",
      "45/45 [==============================] - 0s 429us/step - loss: 0.0758 - mean_absolute_error: 0.2035 - val_loss: 0.0639 - val_mean_absolute_error: 0.1870\n",
      "Epoch 9/100\n",
      "45/45 [==============================] - 0s 440us/step - loss: 0.0581 - mean_absolute_error: 0.1785 - val_loss: 0.0496 - val_mean_absolute_error: 0.1654\n",
      "Epoch 10/100\n",
      "45/45 [==============================] - 0s 444us/step - loss: 0.0459 - mean_absolute_error: 0.1596 - val_loss: 0.0402 - val_mean_absolute_error: 0.1495\n",
      "Epoch 11/100\n",
      "45/45 [==============================] - 0s 426us/step - loss: 0.0382 - mean_absolute_error: 0.1462 - val_loss: 0.0345 - val_mean_absolute_error: 0.1387\n",
      "Epoch 12/100\n",
      "45/45 [==============================] - 0s 430us/step - loss: 0.0337 - mean_absolute_error: 0.1370 - val_loss: 0.0314 - val_mean_absolute_error: 0.1317\n",
      "Epoch 13/100\n",
      "45/45 [==============================] - 0s 403us/step - loss: 0.0311 - mean_absolute_error: 0.1309 - val_loss: 0.0296 - val_mean_absolute_error: 0.1272\n",
      "Epoch 14/100\n",
      "45/45 [==============================] - 0s 426us/step - loss: 0.0296 - mean_absolute_error: 0.1266 - val_loss: 0.0285 - val_mean_absolute_error: 0.1240\n",
      "Epoch 15/100\n",
      "45/45 [==============================] - 0s 464us/step - loss: 0.0286 - mean_absolute_error: 0.1233 - val_loss: 0.0277 - val_mean_absolute_error: 0.1213\n",
      "Epoch 16/100\n",
      "45/45 [==============================] - 0s 538us/step - loss: 0.0277 - mean_absolute_error: 0.1206 - val_loss: 0.0270 - val_mean_absolute_error: 0.1190\n",
      "Epoch 17/100\n",
      "45/45 [==============================] - 0s 596us/step - loss: 0.0270 - mean_absolute_error: 0.1182 - val_loss: 0.0263 - val_mean_absolute_error: 0.1169\n",
      "Epoch 18/100\n",
      "45/45 [==============================] - 0s 493us/step - loss: 0.0263 - mean_absolute_error: 0.1161 - val_loss: 0.0256 - val_mean_absolute_error: 0.1148\n",
      "Epoch 19/100\n",
      "45/45 [==============================] - 0s 478us/step - loss: 0.0257 - mean_absolute_error: 0.1141 - val_loss: 0.0250 - val_mean_absolute_error: 0.1130\n",
      "Epoch 20/100\n",
      "45/45 [==============================] - 0s 497us/step - loss: 0.0251 - mean_absolute_error: 0.1122 - val_loss: 0.0245 - val_mean_absolute_error: 0.1112\n",
      "Epoch 21/100\n",
      "45/45 [==============================] - 0s 459us/step - loss: 0.0246 - mean_absolute_error: 0.1104 - val_loss: 0.0239 - val_mean_absolute_error: 0.1095\n",
      "Epoch 22/100\n",
      "45/45 [==============================] - 0s 449us/step - loss: 0.0240 - mean_absolute_error: 0.1087 - val_loss: 0.0234 - val_mean_absolute_error: 0.1079\n",
      "Epoch 23/100\n",
      "45/45 [==============================] - 0s 475us/step - loss: 0.0236 - mean_absolute_error: 0.1071 - val_loss: 0.0230 - val_mean_absolute_error: 0.1063\n",
      "Epoch 24/100\n",
      "45/45 [==============================] - 0s 487us/step - loss: 0.0231 - mean_absolute_error: 0.1055 - val_loss: 0.0225 - val_mean_absolute_error: 0.1047\n",
      "Epoch 25/100\n",
      "45/45 [==============================] - 0s 555us/step - loss: 0.0227 - mean_absolute_error: 0.1040 - val_loss: 0.0221 - val_mean_absolute_error: 0.1033\n",
      "Epoch 26/100\n",
      "45/45 [==============================] - 0s 518us/step - loss: 0.0223 - mean_absolute_error: 0.1025 - val_loss: 0.0217 - val_mean_absolute_error: 0.1018\n",
      "Epoch 27/100\n",
      "45/45 [==============================] - 0s 457us/step - loss: 0.0219 - mean_absolute_error: 0.1011 - val_loss: 0.0213 - val_mean_absolute_error: 0.1004\n",
      "Epoch 28/100\n",
      "45/45 [==============================] - 0s 452us/step - loss: 0.0215 - mean_absolute_error: 0.0997 - val_loss: 0.0210 - val_mean_absolute_error: 0.0991\n",
      "Epoch 29/100\n",
      "45/45 [==============================] - 0s 441us/step - loss: 0.0212 - mean_absolute_error: 0.0984 - val_loss: 0.0206 - val_mean_absolute_error: 0.0978\n",
      "Epoch 30/100\n",
      "45/45 [==============================] - 0s 409us/step - loss: 0.0209 - mean_absolute_error: 0.0971 - val_loss: 0.0203 - val_mean_absolute_error: 0.0965\n",
      "Epoch 31/100\n",
      "45/45 [==============================] - 0s 485us/step - loss: 0.0206 - mean_absolute_error: 0.0958 - val_loss: 0.0200 - val_mean_absolute_error: 0.0953\n",
      "Epoch 32/100\n",
      "45/45 [==============================] - 0s 442us/step - loss: 0.0203 - mean_absolute_error: 0.0947 - val_loss: 0.0198 - val_mean_absolute_error: 0.0942\n",
      "Epoch 33/100\n",
      "45/45 [==============================] - 0s 455us/step - loss: 0.0201 - mean_absolute_error: 0.0935 - val_loss: 0.0195 - val_mean_absolute_error: 0.0931\n",
      "Epoch 34/100\n",
      "45/45 [==============================] - 0s 440us/step - loss: 0.0198 - mean_absolute_error: 0.0924 - val_loss: 0.0193 - val_mean_absolute_error: 0.0920\n",
      "Epoch 35/100\n",
      "45/45 [==============================] - 0s 458us/step - loss: 0.0196 - mean_absolute_error: 0.0914 - val_loss: 0.0191 - val_mean_absolute_error: 0.0910\n",
      "Epoch 36/100\n",
      "45/45 [==============================] - 0s 444us/step - loss: 0.0194 - mean_absolute_error: 0.0904 - val_loss: 0.0189 - val_mean_absolute_error: 0.0900\n",
      "Epoch 37/100\n",
      "45/45 [==============================] - 0s 431us/step - loss: 0.0192 - mean_absolute_error: 0.0894 - val_loss: 0.0187 - val_mean_absolute_error: 0.0891\n",
      "Epoch 38/100\n",
      "45/45 [==============================] - 0s 455us/step - loss: 0.0190 - mean_absolute_error: 0.0885 - val_loss: 0.0185 - val_mean_absolute_error: 0.0882\n",
      "Epoch 39/100\n",
      "45/45 [==============================] - 0s 436us/step - loss: 0.0189 - mean_absolute_error: 0.0876 - val_loss: 0.0183 - val_mean_absolute_error: 0.0873\n",
      "Epoch 40/100\n",
      "45/45 [==============================] - 0s 435us/step - loss: 0.0187 - mean_absolute_error: 0.0867 - val_loss: 0.0182 - val_mean_absolute_error: 0.0865\n",
      "Epoch 41/100\n",
      "45/45 [==============================] - 0s 432us/step - loss: 0.0186 - mean_absolute_error: 0.0859 - val_loss: 0.0180 - val_mean_absolute_error: 0.0857\n",
      "Epoch 42/100\n",
      "45/45 [==============================] - 0s 429us/step - loss: 0.0184 - mean_absolute_error: 0.0852 - val_loss: 0.0179 - val_mean_absolute_error: 0.0849\n",
      "Epoch 43/100\n",
      "45/45 [==============================] - 0s 422us/step - loss: 0.0183 - mean_absolute_error: 0.0844 - val_loss: 0.0178 - val_mean_absolute_error: 0.0842\n",
      "Epoch 44/100\n",
      "45/45 [==============================] - 0s 428us/step - loss: 0.0182 - mean_absolute_error: 0.0837 - val_loss: 0.0177 - val_mean_absolute_error: 0.0835\n",
      "Epoch 45/100\n",
      "45/45 [==============================] - 0s 443us/step - loss: 0.0181 - mean_absolute_error: 0.0831 - val_loss: 0.0176 - val_mean_absolute_error: 0.0829\n",
      "Epoch 46/100\n"
     ]
    },
    {
     "name": "stdout",
     "output_type": "stream",
     "text": [
      "45/45 [==============================] - 0s 414us/step - loss: 0.0180 - mean_absolute_error: 0.0824 - val_loss: 0.0175 - val_mean_absolute_error: 0.0823\n",
      "Epoch 47/100\n",
      "45/45 [==============================] - 0s 436us/step - loss: 0.0179 - mean_absolute_error: 0.0819 - val_loss: 0.0174 - val_mean_absolute_error: 0.0817\n",
      "Epoch 48/100\n",
      "45/45 [==============================] - 0s 426us/step - loss: 0.0179 - mean_absolute_error: 0.0813 - val_loss: 0.0173 - val_mean_absolute_error: 0.0812\n",
      "Epoch 49/100\n",
      "45/45 [==============================] - 0s 444us/step - loss: 0.0178 - mean_absolute_error: 0.0808 - val_loss: 0.0173 - val_mean_absolute_error: 0.0807\n",
      "Epoch 50/100\n",
      "45/45 [==============================] - 0s 442us/step - loss: 0.0177 - mean_absolute_error: 0.0804 - val_loss: 0.0172 - val_mean_absolute_error: 0.0802\n",
      "Epoch 51/100\n",
      "45/45 [==============================] - 0s 403us/step - loss: 0.0177 - mean_absolute_error: 0.0799 - val_loss: 0.0171 - val_mean_absolute_error: 0.0798\n",
      "Epoch 52/100\n",
      "45/45 [==============================] - 0s 442us/step - loss: 0.0176 - mean_absolute_error: 0.0795 - val_loss: 0.0171 - val_mean_absolute_error: 0.0794\n",
      "Epoch 53/100\n",
      "45/45 [==============================] - 0s 425us/step - loss: 0.0176 - mean_absolute_error: 0.0791 - val_loss: 0.0170 - val_mean_absolute_error: 0.0790\n",
      "Epoch 54/100\n",
      "45/45 [==============================] - 0s 422us/step - loss: 0.0175 - mean_absolute_error: 0.0788 - val_loss: 0.0170 - val_mean_absolute_error: 0.0787\n",
      "Epoch 55/100\n",
      "45/45 [==============================] - 0s 453us/step - loss: 0.0175 - mean_absolute_error: 0.0784 - val_loss: 0.0170 - val_mean_absolute_error: 0.0783\n",
      "Epoch 56/100\n",
      "45/45 [==============================] - 0s 443us/step - loss: 0.0175 - mean_absolute_error: 0.0781 - val_loss: 0.0169 - val_mean_absolute_error: 0.0780\n",
      "Epoch 57/100\n",
      "45/45 [==============================] - 0s 436us/step - loss: 0.0174 - mean_absolute_error: 0.0779 - val_loss: 0.0169 - val_mean_absolute_error: 0.0778\n",
      "Epoch 58/100\n",
      "45/45 [==============================] - 0s 433us/step - loss: 0.0174 - mean_absolute_error: 0.0776 - val_loss: 0.0169 - val_mean_absolute_error: 0.0775\n",
      "Epoch 59/100\n",
      "45/45 [==============================] - 0s 438us/step - loss: 0.0174 - mean_absolute_error: 0.0773 - val_loss: 0.0168 - val_mean_absolute_error: 0.0773\n",
      "Epoch 60/100\n",
      "45/45 [==============================] - 0s 445us/step - loss: 0.0173 - mean_absolute_error: 0.0771 - val_loss: 0.0168 - val_mean_absolute_error: 0.0771\n",
      "Epoch 61/100\n",
      "45/45 [==============================] - 0s 421us/step - loss: 0.0173 - mean_absolute_error: 0.0769 - val_loss: 0.0168 - val_mean_absolute_error: 0.0769\n",
      "Epoch 62/100\n",
      "45/45 [==============================] - 0s 421us/step - loss: 0.0173 - mean_absolute_error: 0.0767 - val_loss: 0.0168 - val_mean_absolute_error: 0.0767\n",
      "Epoch 63/100\n",
      "45/45 [==============================] - 0s 427us/step - loss: 0.0173 - mean_absolute_error: 0.0766 - val_loss: 0.0167 - val_mean_absolute_error: 0.0766\n",
      "Epoch 64/100\n",
      "45/45 [==============================] - 0s 450us/step - loss: 0.0173 - mean_absolute_error: 0.0764 - val_loss: 0.0167 - val_mean_absolute_error: 0.0764\n",
      "Epoch 65/100\n",
      "45/45 [==============================] - 0s 426us/step - loss: 0.0172 - mean_absolute_error: 0.0763 - val_loss: 0.0167 - val_mean_absolute_error: 0.0763\n",
      "Epoch 66/100\n",
      "45/45 [==============================] - 0s 415us/step - loss: 0.0172 - mean_absolute_error: 0.0761 - val_loss: 0.0167 - val_mean_absolute_error: 0.0762\n",
      "Epoch 67/100\n",
      "45/45 [==============================] - 0s 404us/step - loss: 0.0172 - mean_absolute_error: 0.0760 - val_loss: 0.0167 - val_mean_absolute_error: 0.0761\n",
      "Epoch 68/100\n",
      "45/45 [==============================] - 0s 437us/step - loss: 0.0172 - mean_absolute_error: 0.0759 - val_loss: 0.0167 - val_mean_absolute_error: 0.0760\n",
      "Epoch 69/100\n",
      "45/45 [==============================] - 0s 434us/step - loss: 0.0172 - mean_absolute_error: 0.0758 - val_loss: 0.0166 - val_mean_absolute_error: 0.0759\n",
      "Epoch 70/100\n",
      "45/45 [==============================] - 0s 452us/step - loss: 0.0172 - mean_absolute_error: 0.0757 - val_loss: 0.0166 - val_mean_absolute_error: 0.0758\n",
      "Epoch 71/100\n",
      "45/45 [==============================] - 0s 435us/step - loss: 0.0172 - mean_absolute_error: 0.0756 - val_loss: 0.0166 - val_mean_absolute_error: 0.0757\n",
      "Epoch 72/100\n",
      "45/45 [==============================] - 0s 401us/step - loss: 0.0172 - mean_absolute_error: 0.0756 - val_loss: 0.0166 - val_mean_absolute_error: 0.0756\n",
      "Epoch 73/100\n",
      "45/45 [==============================] - 0s 566us/step - loss: 0.0172 - mean_absolute_error: 0.0755 - val_loss: 0.0166 - val_mean_absolute_error: 0.0756\n",
      "Epoch 74/100\n",
      "45/45 [==============================] - 0s 435us/step - loss: 0.0171 - mean_absolute_error: 0.0754 - val_loss: 0.0166 - val_mean_absolute_error: 0.0755\n",
      "Epoch 75/100\n",
      "45/45 [==============================] - 0s 429us/step - loss: 0.0171 - mean_absolute_error: 0.0754 - val_loss: 0.0166 - val_mean_absolute_error: 0.0754\n",
      "Epoch 76/100\n",
      "45/45 [==============================] - 0s 454us/step - loss: 0.0171 - mean_absolute_error: 0.0753 - val_loss: 0.0166 - val_mean_absolute_error: 0.0754\n",
      "Epoch 77/100\n",
      "45/45 [==============================] - 0s 446us/step - loss: 0.0171 - mean_absolute_error: 0.0753 - val_loss: 0.0166 - val_mean_absolute_error: 0.0753\n",
      "Epoch 78/100\n",
      "45/45 [==============================] - 0s 424us/step - loss: 0.0171 - mean_absolute_error: 0.0752 - val_loss: 0.0166 - val_mean_absolute_error: 0.0753\n",
      "Epoch 79/100\n",
      "45/45 [==============================] - 0s 429us/step - loss: 0.0171 - mean_absolute_error: 0.0752 - val_loss: 0.0165 - val_mean_absolute_error: 0.0753\n",
      "Epoch 80/100\n",
      "45/45 [==============================] - 0s 455us/step - loss: 0.0171 - mean_absolute_error: 0.0752 - val_loss: 0.0165 - val_mean_absolute_error: 0.0752\n",
      "Epoch 81/100\n",
      "45/45 [==============================] - 0s 426us/step - loss: 0.0171 - mean_absolute_error: 0.0751 - val_loss: 0.0165 - val_mean_absolute_error: 0.0752\n",
      "Epoch 82/100\n",
      "45/45 [==============================] - 0s 448us/step - loss: 0.0171 - mean_absolute_error: 0.0751 - val_loss: 0.0165 - val_mean_absolute_error: 0.0752\n",
      "Epoch 83/100\n",
      "45/45 [==============================] - 0s 584us/step - loss: 0.0171 - mean_absolute_error: 0.0751 - val_loss: 0.0165 - val_mean_absolute_error: 0.0751\n",
      "Epoch 84/100\n",
      "45/45 [==============================] - 0s 480us/step - loss: 0.0171 - mean_absolute_error: 0.0750 - val_loss: 0.0165 - val_mean_absolute_error: 0.0751\n",
      "Epoch 85/100\n",
      "45/45 [==============================] - 0s 467us/step - loss: 0.0171 - mean_absolute_error: 0.0750 - val_loss: 0.0165 - val_mean_absolute_error: 0.0751\n",
      "Epoch 86/100\n",
      "45/45 [==============================] - 0s 445us/step - loss: 0.0171 - mean_absolute_error: 0.0750 - val_loss: 0.0165 - val_mean_absolute_error: 0.0750\n",
      "Epoch 87/100\n",
      "45/45 [==============================] - 0s 410us/step - loss: 0.0171 - mean_absolute_error: 0.0749 - val_loss: 0.0165 - val_mean_absolute_error: 0.0750\n",
      "Epoch 88/100\n",
      "45/45 [==============================] - 0s 451us/step - loss: 0.0171 - mean_absolute_error: 0.0749 - val_loss: 0.0165 - val_mean_absolute_error: 0.0750\n",
      "Epoch 89/100\n",
      "45/45 [==============================] - 0s 452us/step - loss: 0.0171 - mean_absolute_error: 0.0749 - val_loss: 0.0165 - val_mean_absolute_error: 0.0750\n",
      "Epoch 90/100\n",
      "45/45 [==============================] - 0s 438us/step - loss: 0.0171 - mean_absolute_error: 0.0749 - val_loss: 0.0165 - val_mean_absolute_error: 0.0749\n",
      "Epoch 91/100\n",
      "45/45 [==============================] - 0s 443us/step - loss: 0.0171 - mean_absolute_error: 0.0748 - val_loss: 0.0165 - val_mean_absolute_error: 0.0749\n",
      "Epoch 92/100\n",
      "45/45 [==============================] - 0s 440us/step - loss: 0.0170 - mean_absolute_error: 0.0748 - val_loss: 0.0165 - val_mean_absolute_error: 0.0749\n",
      "Epoch 93/100\n",
      "45/45 [==============================] - 0s 429us/step - loss: 0.0170 - mean_absolute_error: 0.0748 - val_loss: 0.0165 - val_mean_absolute_error: 0.0749\n",
      "Epoch 94/100\n",
      "45/45 [==============================] - 0s 431us/step - loss: 0.0170 - mean_absolute_error: 0.0748 - val_loss: 0.0164 - val_mean_absolute_error: 0.0748\n",
      "Epoch 95/100\n"
     ]
    },
    {
     "name": "stdout",
     "output_type": "stream",
     "text": [
      "45/45 [==============================] - 0s 459us/step - loss: 0.0170 - mean_absolute_error: 0.0748 - val_loss: 0.0164 - val_mean_absolute_error: 0.0748\n",
      "Epoch 96/100\n",
      "45/45 [==============================] - 0s 436us/step - loss: 0.0170 - mean_absolute_error: 0.0747 - val_loss: 0.0164 - val_mean_absolute_error: 0.0748\n",
      "Epoch 97/100\n",
      "45/45 [==============================] - 0s 428us/step - loss: 0.0170 - mean_absolute_error: 0.0747 - val_loss: 0.0164 - val_mean_absolute_error: 0.0748\n",
      "Epoch 98/100\n",
      "45/45 [==============================] - 0s 414us/step - loss: 0.0170 - mean_absolute_error: 0.0747 - val_loss: 0.0164 - val_mean_absolute_error: 0.0748\n",
      "Epoch 99/100\n",
      "45/45 [==============================] - 0s 437us/step - loss: 0.0170 - mean_absolute_error: 0.0747 - val_loss: 0.0164 - val_mean_absolute_error: 0.0747\n",
      "Epoch 100/100\n",
      "45/45 [==============================] - 0s 413us/step - loss: 0.0170 - mean_absolute_error: 0.0747 - val_loss: 0.0164 - val_mean_absolute_error: 0.0747\n"
     ]
    }
   ],
   "source": [
    "mlp_history = compile_fit(mlp_model,\n",
    "                          train_set,\n",
    "                          val_set\n",
    "                         )"
   ]
  },
  {
   "cell_type": "code",
   "execution_count": 45,
   "id": "beb211bd",
   "metadata": {},
   "outputs": [
    {
     "data": {
      "image/png": "[encoded data removed]",
      "text/plain": [
       "<Figure size 640x480 with 1 Axes>"
      ]
     },
     "metadata": {},
     "output_type": "display_data"
    }
   ],
   "source": [
    "model_history(mlp_history[1],\n",
    "             train_metrics = 'mean_absolute_error',\n",
    "             val_metrics = 'val_mean_absolute_error',\n",
    "             loss = 'Mean Abs Error')"
   ]
  },
  {
   "cell_type": "code",
   "execution_count": 46,
   "id": "965ef522",
   "metadata": {},
   "outputs": [
    {
     "name": "stdout",
     "output_type": "stream",
     "text": [
      "25/25 [==============================] - 0s 357us/step\n"
     ]
    }
   ],
   "source": [
    "y_true = test_set[1]\n",
    "y_pred =  mlp_model.predict(test_set[0])"
   ]
  },
  {
   "cell_type": "code",
   "execution_count": 47,
   "id": "f23440b4",
   "metadata": {},
   "outputs": [
    {
     "data": {
      "text/plain": [
       "<sklearn.metrics._plot.regression.PredictionErrorDisplay at 0x15df62450>"
      ]
     },
     "execution_count": 47,
     "metadata": {},
     "output_type": "execute_result"
    },
    {
     "data": {
      "image/png": "[encoded data removed]",
      "text/plain": [
       "<Figure size 640x480 with 1 Axes>"
      ]
     },
     "metadata": {},
     "output_type": "display_data"
    }
   ],
   "source": [
    "from sklearn.metrics import PredictionErrorDisplay\n",
    "display = PredictionErrorDisplay(y_true=y_true, y_pred=y_pred)\n",
    "display.plot()"
   ]
  },
  {
   "cell_type": "code",
   "execution_count": 48,
   "id": "f101600f",
   "metadata": {},
   "outputs": [
    {
     "name": "stdout",
     "output_type": "stream",
     "text": [
      "25/25 - 0s - loss: 0.0178 - mean_absolute_error: 0.0766 - 18ms/epoch - 707us/step\n"
     ]
    }
   ],
   "source": [
    "test_scores = mlp_model.evaluate(test_set[0],test_set[1],verbose=2)"
   ]
  },
  {
   "cell_type": "code",
   "execution_count": 49,
   "id": "10fdc2e7",
   "metadata": {},
   "outputs": [
    {
     "name": "stdout",
     "output_type": "stream",
     "text": [
      "DailyForecastModel done in 0.07614799737930297 min\n"
     ]
    }
   ],
   "source": [
    "final = time.time()\n",
    "print(f\"DailyForecastModel done in {(final-init)/60} min\")\n"
   ]
  },
  {
   "cell_type": "code",
   "execution_count": 50,
   "id": "08287337",
   "metadata": {},
   "outputs": [
    {
     "data": {
      "text/plain": [
       "3962"
      ]
     },
     "execution_count": 50,
     "metadata": {},
     "output_type": "execute_result"
    }
   ],
   "source": [
    "gc.collect()\n"
   ]
  },
  {
   "cell_type": "code",
   "execution_count": 51,
   "id": "23645ae9",
   "metadata": {},
   "outputs": [],
   "source": [
    "\n",
    "init = time.time()\n"
   ]
  },
  {
   "cell_type": "code",
   "execution_count": 52,
   "id": "31280ea9",
   "metadata": {},
   "outputs": [],
   "source": [
    "def _10days_forecast(loc:int, scaler = False) :\n",
    "        \n",
    "    df = weather_data.loc[weather_data['number_sta'] == loc]\n",
    "    df = df.set_index('date')\n",
    "    res = df[['ff','hu']].resample('D').mean()\n",
    "    res['days'] = [_.dayofyear for _ in res.index]\n",
    "    res['precip'] = df['precip'].resample('D').sum()\n",
    "        \n",
    "    df = df['t'].resample('12H').mean().values\n",
    "    l = len(df)\n",
    "    day_temp = np.arange(0,l,2)\n",
    "    night_temp = np.arange(1,l,2)\n",
    "    res['day_temp'] = [df[i] for i in day_temp]\n",
    "    res['night_temp'] = [df[i] for i in night_temp]\n",
    "    \n",
    "    values = {_:np.mean(res[_]) for _ in res.columns}\n",
    "    res = res.fillna(value = values)\n",
    "    \n",
    "    if scaler :\n",
    "        res = pd.DataFrame(scaler.fit_transform(res),\n",
    "                       index = res.index,\n",
    "                       columns = res.columns)\n",
    "    \n",
    "    return res"
   ]
  },
  {
   "cell_type": "code",
   "execution_count": 53,
   "id": "9acfb67b",
   "metadata": {},
   "outputs": [],
   "source": [
    "df = _10days_forecast(loc,scaler = MinMaxScaler())\n"
   ]
  },
  {
   "cell_type": "code",
   "execution_count": 54,
   "id": "68f8d98c",
   "metadata": {},
   "outputs": [
    {
     "data": {
      "text/html": [
       "<div>\n",
       "<style scoped>\n",
       "    .dataframe tbody tr th:only-of-type {\n",
       "        vertical-align: middle;\n",
       "    }\n",
       "\n",
       "    .dataframe tbody tr th {\n",
       "        vertical-align: top;\n",
       "    }\n",
       "\n",
       "    .dataframe thead th {\n",
       "        text-align: right;\n",
       "    }\n",
       "</style>\n",
       "<table border=\"1\" class=\"dataframe\">\n",
       "  <thead>\n",
       "    <tr style=\"text-align: right;\">\n",
       "      <th></th>\n",
       "      <th>ff</th>\n",
       "      <th>hu</th>\n",
       "      <th>days</th>\n",
       "      <th>precip</th>\n",
       "      <th>day_temp</th>\n",
       "      <th>night_temp</th>\n",
       "    </tr>\n",
       "    <tr>\n",
       "      <th>date</th>\n",
       "      <th></th>\n",
       "      <th></th>\n",
       "      <th></th>\n",
       "      <th></th>\n",
       "      <th></th>\n",
       "      <th></th>\n",
       "    </tr>\n",
       "  </thead>\n",
       "  <tbody>\n",
       "    <tr>\n",
       "      <th>2016-01-01</th>\n",
       "      <td>0.569475</td>\n",
       "      <td>0.808241</td>\n",
       "      <td>0.000000</td>\n",
       "      <td>0.000000</td>\n",
       "      <td>0.478452</td>\n",
       "      <td>0.336389</td>\n",
       "    </tr>\n",
       "    <tr>\n",
       "      <th>2016-01-02</th>\n",
       "      <td>0.796850</td>\n",
       "      <td>0.690491</td>\n",
       "      <td>0.002740</td>\n",
       "      <td>0.217703</td>\n",
       "      <td>0.550770</td>\n",
       "      <td>0.312109</td>\n",
       "    </tr>\n",
       "    <tr>\n",
       "      <th>2016-01-03</th>\n",
       "      <td>0.668547</td>\n",
       "      <td>0.818389</td>\n",
       "      <td>0.005479</td>\n",
       "      <td>0.497608</td>\n",
       "      <td>0.468254</td>\n",
       "      <td>0.320267</td>\n",
       "    </tr>\n",
       "    <tr>\n",
       "      <th>2016-01-04</th>\n",
       "      <td>0.497662</td>\n",
       "      <td>0.681743</td>\n",
       "      <td>0.008219</td>\n",
       "      <td>0.000000</td>\n",
       "      <td>0.458610</td>\n",
       "      <td>0.304661</td>\n",
       "    </tr>\n",
       "    <tr>\n",
       "      <th>2016-01-05</th>\n",
       "      <td>0.516981</td>\n",
       "      <td>0.762226</td>\n",
       "      <td>0.010959</td>\n",
       "      <td>0.009569</td>\n",
       "      <td>0.469548</td>\n",
       "      <td>0.316556</td>\n",
       "    </tr>\n",
       "  </tbody>\n",
       "</table>\n",
       "</div>"
      ],
      "text/plain": [
       "                  ff        hu      days    precip  day_temp  night_temp\n",
       "date                                                                    \n",
       "2016-01-01  0.569475  0.808241  0.000000  0.000000  0.478452    0.336389\n",
       "2016-01-02  0.796850  0.690491  0.002740  0.217703  0.550770    0.312109\n",
       "2016-01-03  0.668547  0.818389  0.005479  0.497608  0.468254    0.320267\n",
       "2016-01-04  0.497662  0.681743  0.008219  0.000000  0.458610    0.304661\n",
       "2016-01-05  0.516981  0.762226  0.010959  0.009569  0.469548    0.316556"
      ]
     },
     "execution_count": 54,
     "metadata": {},
     "output_type": "execute_result"
    }
   ],
   "source": [
    "df.head()\n"
   ]
  },
  {
   "cell_type": "code",
   "execution_count": 55,
   "id": "7ef2a791",
   "metadata": {},
   "outputs": [],
   "source": [
    "df_train = df['2016-01-01':'2017-12-30']\n",
    "df_val = df['2018-01-01':'2018-03-30']\n",
    "df_test = df['2018-01-01':'2018-12-30']"
   ]
  },
  {
   "cell_type": "code",
   "execution_count": 56,
   "id": "861eca95",
   "metadata": {},
   "outputs": [],
   "source": [
    "def window_dataset(data, n_steps, batch_size, shuffle_buffer, multi_var=False, expand_dims=False):\n",
    "\n",
    "    #create a window with n steps back plus the size of the prediction length\n",
    "    window = n_steps + 10\n",
    "    \n",
    "    #expand dimensions to 3D to fit with LSTM inputs\n",
    "    if expand_dims:\n",
    "        ds = tf.expand_dims(data, axis=-1)\n",
    "        ds = tf.data.Dataset.from_tensor_slices(ds)\n",
    "    else:\n",
    "        ds = tf.data.Dataset.from_tensor_slices(data)\n",
    "    \n",
    "    #create the window function shifting the data by the prediction length\n",
    "    ds = ds.window(window, shift=10, drop_remainder=True)\n",
    "    \n",
    "    #flatten the dataset and batch into the window size\n",
    "    ds = ds.flat_map(lambda x : x.batch(window))\n",
    "    ds = ds.shuffle(shuffle_buffer)    \n",
    "    \n",
    "    #create the supervised learning problem x and y and batch\n",
    "    if multi_var:\n",
    "        ds = ds.map(lambda x : (x[:-10], x[-10:, :1]))\n",
    "    else:\n",
    "        ds = ds.map(lambda x : (x[:-10], x[-10:]))\n",
    "    \n",
    "    ds = ds.batch(batch_size).prefetch(1)\n",
    "    \n",
    "    return ds"
   ]
  },
  {
   "cell_type": "code",
   "execution_count": 57,
   "id": "577b5f58",
   "metadata": {},
   "outputs": [],
   "source": [
    "train_set = window_dataset(df_train,\n",
    "                           n_steps = 30,\n",
    "                           batch_size = 1,\n",
    "                           shuffle_buffer = 32,\n",
    "                           multi_var = False)"
   ]
  },
  {
   "cell_type": "code",
   "execution_count": 58,
   "id": "52db0f39",
   "metadata": {},
   "outputs": [],
   "source": [
    "val_set = window_dataset(df_val,\n",
    "                           n_steps = 30,\n",
    "                           batch_size = 1,\n",
    "                           shuffle_buffer = 32,\n",
    "                           multi_var = False)"
   ]
  },
  {
   "cell_type": "code",
   "execution_count": 59,
   "id": "df24e5d6",
   "metadata": {},
   "outputs": [],
   "source": [
    "TenDaysForecastModel = tf.keras.Sequential([\n",
    "    layers.LSTM(128,\n",
    "                activation='relu',\n",
    "                kernel_initializer=\"glorot_uniform\",\n",
    "                bias_initializer=\"zeros\",\n",
    "                return_sequences=True,\n",
    "                input_shape=(30, 6)\n",
    "               ),\n",
    "    layers.Flatten(),\n",
    "    layers.Dropout(0.2),\n",
    "    layers.Dense(64, activation='relu'),\n",
    "    tf.keras.layers.Dropout(0.2),\n",
    "    layers.Dense(6)\n",
    "])"
   ]
  },
  {
   "cell_type": "code",
   "execution_count": 60,
   "id": "e17f35cb",
   "metadata": {},
   "outputs": [],
   "source": [
    "TenDaysForecastModel.compile(optimizer = 'Adam',\n",
    "                             loss = 'mse',\n",
    "                             metrics = 'mae'\n",
    "                            )"
   ]
  },
  {
   "cell_type": "code",
   "execution_count": 61,
   "id": "d59a641c",
   "metadata": {},
   "outputs": [
    {
     "name": "stdout",
     "output_type": "stream",
     "text": [
      "Epoch 1/100\n",
      "70/70 [==============================] - 1s 8ms/step - loss: 0.0648 - mae: 0.1958 - val_loss: 0.0334 - val_mae: 0.1377\n",
      "Epoch 2/100\n",
      "70/70 [==============================] - 1s 7ms/step - loss: 0.0348 - mae: 0.1448 - val_loss: 0.0291 - val_mae: 0.1346\n",
      "Epoch 3/100\n",
      "70/70 [==============================] - 1s 8ms/step - loss: 0.0340 - mae: 0.1399 - val_loss: 0.0268 - val_mae: 0.1247\n",
      "Epoch 4/100\n",
      "70/70 [==============================] - 1s 8ms/step - loss: 0.0278 - mae: 0.1249 - val_loss: 0.0256 - val_mae: 0.1170\n",
      "Epoch 5/100\n",
      "70/70 [==============================] - 1s 8ms/step - loss: 0.0289 - mae: 0.1280 - val_loss: 0.0221 - val_mae: 0.1100\n",
      "Epoch 6/100\n",
      "70/70 [==============================] - 1s 8ms/step - loss: 0.0248 - mae: 0.1177 - val_loss: 0.0273 - val_mae: 0.1258\n",
      "Epoch 7/100\n",
      "70/70 [==============================] - 1s 8ms/step - loss: 0.0259 - mae: 0.1197 - val_loss: 0.0246 - val_mae: 0.1163\n",
      "Epoch 8/100\n",
      "70/70 [==============================] - 1s 8ms/step - loss: 0.0247 - mae: 0.1197 - val_loss: 0.0233 - val_mae: 0.1143\n",
      "Epoch 9/100\n",
      "70/70 [==============================] - 1s 8ms/step - loss: 0.0234 - mae: 0.1121 - val_loss: 0.0225 - val_mae: 0.1123\n",
      "Epoch 10/100\n",
      "70/70 [==============================] - 1s 8ms/step - loss: 0.0217 - mae: 0.1119 - val_loss: 0.0270 - val_mae: 0.1219\n",
      "Epoch 11/100\n",
      "70/70 [==============================] - 1s 8ms/step - loss: 0.0233 - mae: 0.1118 - val_loss: 0.0274 - val_mae: 0.1227\n",
      "Epoch 12/100\n",
      "70/70 [==============================] - 1s 7ms/step - loss: 0.0192 - mae: 0.1029 - val_loss: 0.0230 - val_mae: 0.1108\n",
      "Epoch 13/100\n",
      "70/70 [==============================] - 1s 8ms/step - loss: 0.0197 - mae: 0.1035 - val_loss: 0.0244 - val_mae: 0.1202\n",
      "Epoch 14/100\n",
      "70/70 [==============================] - 1s 8ms/step - loss: 0.0192 - mae: 0.1025 - val_loss: 0.0216 - val_mae: 0.1083\n",
      "Epoch 15/100\n",
      "70/70 [==============================] - 1s 8ms/step - loss: 0.0208 - mae: 0.1077 - val_loss: 0.0267 - val_mae: 0.1173\n",
      "Epoch 16/100\n",
      "70/70 [==============================] - 1s 8ms/step - loss: 0.0213 - mae: 0.1080 - val_loss: 0.0215 - val_mae: 0.1078\n",
      "Epoch 17/100\n",
      "70/70 [==============================] - 0s 7ms/step - loss: 0.0195 - mae: 0.1043 - val_loss: 0.0203 - val_mae: 0.1035\n",
      "Epoch 18/100\n",
      "70/70 [==============================] - 1s 8ms/step - loss: 0.0192 - mae: 0.1021 - val_loss: 0.0284 - val_mae: 0.1305\n",
      "Epoch 19/100\n",
      "70/70 [==============================] - 1s 7ms/step - loss: 0.0202 - mae: 0.1052 - val_loss: 0.0299 - val_mae: 0.1311\n",
      "Epoch 20/100\n",
      "70/70 [==============================] - 1s 7ms/step - loss: 0.0201 - mae: 0.1065 - val_loss: 0.0208 - val_mae: 0.1054\n",
      "Epoch 21/100\n",
      "70/70 [==============================] - 1s 7ms/step - loss: 0.0210 - mae: 0.1078 - val_loss: 0.0254 - val_mae: 0.1169\n",
      "Epoch 22/100\n",
      "70/70 [==============================] - 1s 7ms/step - loss: 0.0192 - mae: 0.1033 - val_loss: 0.0220 - val_mae: 0.1095\n",
      "Epoch 23/100\n",
      "70/70 [==============================] - 1s 7ms/step - loss: 0.0183 - mae: 0.0981 - val_loss: 0.0260 - val_mae: 0.1207\n",
      "Epoch 24/100\n",
      "70/70 [==============================] - 0s 7ms/step - loss: 0.0187 - mae: 0.0989 - val_loss: 0.0244 - val_mae: 0.1140\n",
      "Epoch 25/100\n",
      "70/70 [==============================] - 1s 7ms/step - loss: 0.0166 - mae: 0.0939 - val_loss: 0.0206 - val_mae: 0.1049\n",
      "Epoch 26/100\n",
      "70/70 [==============================] - 1s 7ms/step - loss: 0.0170 - mae: 0.0955 - val_loss: 0.0233 - val_mae: 0.1145\n",
      "Epoch 27/100\n",
      "70/70 [==============================] - 1s 8ms/step - loss: 0.0166 - mae: 0.0947 - val_loss: 0.0227 - val_mae: 0.1103\n",
      "Epoch 28/100\n",
      "70/70 [==============================] - 1s 7ms/step - loss: 0.0156 - mae: 0.0910 - val_loss: 0.0226 - val_mae: 0.1088\n",
      "Epoch 29/100\n",
      "70/70 [==============================] - 0s 7ms/step - loss: 0.0176 - mae: 0.0956 - val_loss: 0.0275 - val_mae: 0.1216\n",
      "Epoch 30/100\n",
      "70/70 [==============================] - 1s 8ms/step - loss: 0.0179 - mae: 0.0978 - val_loss: 0.0256 - val_mae: 0.1155\n",
      "Epoch 31/100\n",
      "70/70 [==============================] - 1s 7ms/step - loss: 0.0166 - mae: 0.0955 - val_loss: 0.0194 - val_mae: 0.0968\n",
      "Epoch 32/100\n",
      "70/70 [==============================] - 1s 7ms/step - loss: 0.0161 - mae: 0.0938 - val_loss: 0.0199 - val_mae: 0.0990\n",
      "Epoch 33/100\n",
      "70/70 [==============================] - 1s 8ms/step - loss: 0.0160 - mae: 0.0945 - val_loss: 0.0238 - val_mae: 0.1166\n",
      "Epoch 34/100\n",
      "70/70 [==============================] - 1s 7ms/step - loss: 0.0156 - mae: 0.0913 - val_loss: 0.0248 - val_mae: 0.1193\n",
      "Epoch 35/100\n",
      "70/70 [==============================] - 1s 7ms/step - loss: 0.0149 - mae: 0.0894 - val_loss: 0.0229 - val_mae: 0.1132\n",
      "Epoch 36/100\n",
      "70/70 [==============================] - 1s 7ms/step - loss: 0.0151 - mae: 0.0889 - val_loss: 0.0240 - val_mae: 0.1132\n",
      "Epoch 37/100\n",
      "70/70 [==============================] - 0s 6ms/step - loss: 0.0155 - mae: 0.0902 - val_loss: 0.0273 - val_mae: 0.1181\n",
      "Epoch 38/100\n",
      "70/70 [==============================] - 0s 6ms/step - loss: 0.0161 - mae: 0.0911 - val_loss: 0.0239 - val_mae: 0.1157\n",
      "Epoch 39/100\n",
      "70/70 [==============================] - 0s 7ms/step - loss: 0.0160 - mae: 0.0936 - val_loss: 0.0219 - val_mae: 0.1076\n",
      "Epoch 40/100\n",
      "70/70 [==============================] - 1s 8ms/step - loss: 0.0151 - mae: 0.0896 - val_loss: 0.0265 - val_mae: 0.1146\n",
      "Epoch 41/100\n",
      "70/70 [==============================] - 1s 11ms/step - loss: 0.0163 - mae: 0.0919 - val_loss: 0.0280 - val_mae: 0.1248\n",
      "Epoch 42/100\n",
      "70/70 [==============================] - 0s 6ms/step - loss: 0.0148 - mae: 0.0890 - val_loss: 0.0239 - val_mae: 0.1108\n",
      "Epoch 43/100\n",
      "70/70 [==============================] - 0s 7ms/step - loss: 0.0155 - mae: 0.0911 - val_loss: 0.0218 - val_mae: 0.1060\n",
      "Epoch 44/100\n",
      "70/70 [==============================] - 0s 7ms/step - loss: 0.0154 - mae: 0.0898 - val_loss: 0.0239 - val_mae: 0.1149\n",
      "Epoch 45/100\n",
      "70/70 [==============================] - 0s 7ms/step - loss: 0.0142 - mae: 0.0863 - val_loss: 0.0247 - val_mae: 0.1164\n",
      "Epoch 46/100\n",
      "70/70 [==============================] - 0s 7ms/step - loss: 0.0152 - mae: 0.0896 - val_loss: 0.0238 - val_mae: 0.1140\n",
      "Epoch 47/100\n",
      "70/70 [==============================] - 0s 7ms/step - loss: 0.0142 - mae: 0.0876 - val_loss: 0.0268 - val_mae: 0.1229\n",
      "Epoch 48/100\n",
      "70/70 [==============================] - 1s 7ms/step - loss: 0.0137 - mae: 0.0849 - val_loss: 0.0242 - val_mae: 0.1140\n",
      "Epoch 49/100\n",
      "70/70 [==============================] - 0s 7ms/step - loss: 0.0145 - mae: 0.0878 - val_loss: 0.0262 - val_mae: 0.1204\n",
      "Epoch 50/100\n",
      "70/70 [==============================] - 0s 7ms/step - loss: 0.0151 - mae: 0.0907 - val_loss: 0.0249 - val_mae: 0.1165\n",
      "Epoch 51/100\n",
      "70/70 [==============================] - 0s 7ms/step - loss: 0.0145 - mae: 0.0870 - val_loss: 0.0255 - val_mae: 0.1220\n",
      "Epoch 52/100\n",
      "70/70 [==============================] - 0s 7ms/step - loss: 0.0144 - mae: 0.0878 - val_loss: 0.0215 - val_mae: 0.1078\n",
      "Epoch 53/100\n",
      "70/70 [==============================] - 0s 7ms/step - loss: 0.0142 - mae: 0.0871 - val_loss: 0.0201 - val_mae: 0.1021\n",
      "Epoch 54/100\n",
      "70/70 [==============================] - 0s 7ms/step - loss: 0.0150 - mae: 0.0896 - val_loss: 0.0262 - val_mae: 0.1221\n",
      "Epoch 55/100\n",
      "70/70 [==============================] - 1s 7ms/step - loss: 0.0150 - mae: 0.0889 - val_loss: 0.0264 - val_mae: 0.1200\n",
      "Epoch 56/100\n",
      "70/70 [==============================] - 1s 7ms/step - loss: 0.0134 - mae: 0.0828 - val_loss: 0.0253 - val_mae: 0.1191\n",
      "Epoch 57/100\n",
      "70/70 [==============================] - 0s 7ms/step - loss: 0.0148 - mae: 0.0879 - val_loss: 0.0266 - val_mae: 0.1227\n",
      "Epoch 58/100\n",
      "70/70 [==============================] - 1s 7ms/step - loss: 0.0154 - mae: 0.0902 - val_loss: 0.0246 - val_mae: 0.1180\n",
      "Epoch 59/100\n",
      "70/70 [==============================] - 0s 7ms/step - loss: 0.0148 - mae: 0.0888 - val_loss: 0.0285 - val_mae: 0.1244\n",
      "Epoch 60/100\n",
      "70/70 [==============================] - 1s 7ms/step - loss: 0.0146 - mae: 0.0876 - val_loss: 0.0221 - val_mae: 0.1060\n",
      "Epoch 61/100\n",
      "70/70 [==============================] - 1s 7ms/step - loss: 0.0146 - mae: 0.0887 - val_loss: 0.0224 - val_mae: 0.1087\n",
      "Epoch 62/100\n",
      "70/70 [==============================] - 0s 7ms/step - loss: 0.0138 - mae: 0.0861 - val_loss: 0.0222 - val_mae: 0.1080\n",
      "Epoch 63/100\n"
     ]
    },
    {
     "name": "stdout",
     "output_type": "stream",
     "text": [
      "70/70 [==============================] - 1s 7ms/step - loss: 0.0155 - mae: 0.0901 - val_loss: 0.0225 - val_mae: 0.1096\n",
      "Epoch 64/100\n",
      "70/70 [==============================] - 1s 7ms/step - loss: 0.0143 - mae: 0.0862 - val_loss: 0.0203 - val_mae: 0.1030\n",
      "Epoch 65/100\n",
      "70/70 [==============================] - 1s 7ms/step - loss: 0.0148 - mae: 0.0899 - val_loss: 0.0219 - val_mae: 0.1090\n",
      "Epoch 66/100\n",
      "70/70 [==============================] - 1s 7ms/step - loss: 0.0145 - mae: 0.0873 - val_loss: 0.0237 - val_mae: 0.1137\n",
      "Epoch 67/100\n",
      "70/70 [==============================] - 0s 7ms/step - loss: 0.0138 - mae: 0.0846 - val_loss: 0.0254 - val_mae: 0.1221\n",
      "Epoch 68/100\n",
      "70/70 [==============================] - 1s 7ms/step - loss: 0.0146 - mae: 0.0882 - val_loss: 0.0235 - val_mae: 0.1137\n",
      "Epoch 69/100\n",
      "70/70 [==============================] - 1s 7ms/step - loss: 0.0137 - mae: 0.0841 - val_loss: 0.0229 - val_mae: 0.1137\n",
      "Epoch 70/100\n",
      "70/70 [==============================] - 1s 7ms/step - loss: 0.0133 - mae: 0.0846 - val_loss: 0.0272 - val_mae: 0.1229\n",
      "Epoch 71/100\n",
      "70/70 [==============================] - 1s 8ms/step - loss: 0.0138 - mae: 0.0857 - val_loss: 0.0259 - val_mae: 0.1241\n",
      "Epoch 72/100\n",
      "70/70 [==============================] - 1s 7ms/step - loss: 0.0143 - mae: 0.0867 - val_loss: 0.0235 - val_mae: 0.1085\n",
      "Epoch 73/100\n",
      "70/70 [==============================] - 1s 7ms/step - loss: 0.0138 - mae: 0.0866 - val_loss: 0.0266 - val_mae: 0.1226\n",
      "Epoch 74/100\n",
      "70/70 [==============================] - 1s 7ms/step - loss: 0.0138 - mae: 0.0859 - val_loss: 0.0233 - val_mae: 0.1149\n",
      "Epoch 75/100\n",
      "70/70 [==============================] - 0s 7ms/step - loss: 0.0132 - mae: 0.0835 - val_loss: 0.0242 - val_mae: 0.1112\n",
      "Epoch 76/100\n",
      "70/70 [==============================] - 0s 7ms/step - loss: 0.0126 - mae: 0.0814 - val_loss: 0.0265 - val_mae: 0.1224\n",
      "Epoch 77/100\n",
      "70/70 [==============================] - 0s 7ms/step - loss: 0.0138 - mae: 0.0864 - val_loss: 0.0190 - val_mae: 0.0952\n",
      "Epoch 78/100\n",
      "70/70 [==============================] - 1s 7ms/step - loss: 0.0132 - mae: 0.0840 - val_loss: 0.0244 - val_mae: 0.1149\n",
      "Epoch 79/100\n",
      "70/70 [==============================] - 0s 7ms/step - loss: 0.0139 - mae: 0.0851 - val_loss: 0.0262 - val_mae: 0.1206\n",
      "Epoch 80/100\n",
      "70/70 [==============================] - 1s 7ms/step - loss: 0.0130 - mae: 0.0832 - val_loss: 0.0230 - val_mae: 0.1106\n",
      "Epoch 81/100\n",
      "70/70 [==============================] - 0s 7ms/step - loss: 0.0127 - mae: 0.0810 - val_loss: 0.0323 - val_mae: 0.1381\n",
      "Epoch 82/100\n",
      "70/70 [==============================] - 0s 7ms/step - loss: 0.0132 - mae: 0.0831 - val_loss: 0.0254 - val_mae: 0.1177\n",
      "Epoch 83/100\n",
      "70/70 [==============================] - 0s 7ms/step - loss: 0.0136 - mae: 0.0862 - val_loss: 0.0264 - val_mae: 0.1207\n",
      "Epoch 84/100\n",
      "70/70 [==============================] - 0s 7ms/step - loss: 0.0133 - mae: 0.0841 - val_loss: 0.0268 - val_mae: 0.1238\n",
      "Epoch 85/100\n",
      "70/70 [==============================] - 1s 7ms/step - loss: 0.0128 - mae: 0.0816 - val_loss: 0.0237 - val_mae: 0.1119\n",
      "Epoch 86/100\n",
      "70/70 [==============================] - 0s 7ms/step - loss: 0.0135 - mae: 0.0841 - val_loss: 0.0227 - val_mae: 0.1119\n",
      "Epoch 87/100\n",
      "70/70 [==============================] - 0s 7ms/step - loss: 0.0132 - mae: 0.0833 - val_loss: 0.0225 - val_mae: 0.1118\n",
      "Epoch 88/100\n",
      "70/70 [==============================] - 1s 7ms/step - loss: 0.0131 - mae: 0.0824 - val_loss: 0.0265 - val_mae: 0.1251\n",
      "Epoch 89/100\n",
      "70/70 [==============================] - 1s 7ms/step - loss: 0.0129 - mae: 0.0817 - val_loss: 0.0251 - val_mae: 0.1171\n",
      "Epoch 90/100\n",
      "70/70 [==============================] - 1s 7ms/step - loss: 0.0132 - mae: 0.0821 - val_loss: 0.0253 - val_mae: 0.1223\n",
      "Epoch 91/100\n",
      "70/70 [==============================] - 1s 7ms/step - loss: 0.0129 - mae: 0.0824 - val_loss: 0.0240 - val_mae: 0.1143\n",
      "Epoch 92/100\n",
      "70/70 [==============================] - 1s 7ms/step - loss: 0.0131 - mae: 0.0821 - val_loss: 0.0265 - val_mae: 0.1172\n",
      "Epoch 93/100\n",
      "70/70 [==============================] - 1s 7ms/step - loss: 0.0129 - mae: 0.0818 - val_loss: 0.0299 - val_mae: 0.1347\n",
      "Epoch 94/100\n",
      "70/70 [==============================] - 0s 7ms/step - loss: 0.0134 - mae: 0.0846 - val_loss: 0.0220 - val_mae: 0.1088\n",
      "Epoch 95/100\n",
      "70/70 [==============================] - 1s 7ms/step - loss: 0.0129 - mae: 0.0828 - val_loss: 0.0262 - val_mae: 0.1235\n",
      "Epoch 96/100\n",
      "70/70 [==============================] - 0s 7ms/step - loss: 0.0130 - mae: 0.0817 - val_loss: 0.0259 - val_mae: 0.1228\n",
      "Epoch 97/100\n",
      "70/70 [==============================] - 0s 7ms/step - loss: 0.0129 - mae: 0.0824 - val_loss: 0.0222 - val_mae: 0.1098\n",
      "Epoch 98/100\n",
      "70/70 [==============================] - 1s 7ms/step - loss: 0.0132 - mae: 0.0828 - val_loss: 0.0207 - val_mae: 0.1031\n",
      "Epoch 99/100\n",
      "70/70 [==============================] - 0s 7ms/step - loss: 0.0131 - mae: 0.0838 - val_loss: 0.0233 - val_mae: 0.1121\n",
      "Epoch 100/100\n",
      "70/70 [==============================] - 1s 9ms/step - loss: 0.0131 - mae: 0.0832 - val_loss: 0.0242 - val_mae: 0.1180\n"
     ]
    }
   ],
   "source": [
    "TenDaysHistory = TenDaysForecastModel.fit(train_set,epochs = 100,\n",
    "                         validation_data = val_set\n",
    "                        )\n"
   ]
  },
  {
   "cell_type": "code",
   "execution_count": 62,
   "id": "d4d1a35e",
   "metadata": {},
   "outputs": [],
   "source": [
    "test_set =  window_dataset(df_test,\n",
    "                           n_steps = 30,\n",
    "                           batch_size = 1,\n",
    "                           shuffle_buffer = 32,\n",
    "                           multi_var = False)"
   ]
  },
  {
   "cell_type": "code",
   "execution_count": 63,
   "id": "ff5f7063",
   "metadata": {},
   "outputs": [
    {
     "name": "stdout",
     "output_type": "stream",
     "text": [
      "33/33 [==============================] - 0s 2ms/step - loss: 0.0169 - mae: 0.0941\n"
     ]
    }
   ],
   "source": [
    "test_mae = TenDaysForecastModel.evaluate(test_set)\n"
   ]
  },
  {
   "cell_type": "code",
   "execution_count": 64,
   "id": "7cb30089",
   "metadata": {},
   "outputs": [],
   "source": [
    "df = pd.Series([np.mean(TenDaysHistory.history['mae']),\n",
    "         np.mean(TenDaysHistory.history['val_mae']),\n",
    "         test_mae[1]\n",
    "        ])\n",
    "df.index = ['train set','val set','test set']"
   ]
  },
  {
   "cell_type": "code",
   "execution_count": 65,
   "id": "e5a17fc0",
   "metadata": {},
   "outputs": [
    {
     "data": {
      "text/plain": [
       "<Axes: ylabel='MAE'>"
      ]
     },
     "execution_count": 65,
     "metadata": {},
     "output_type": "execute_result"
    },
    {
     "data": {
      "image/png": "[encoded data removed]",
      "text/plain": [
       "<Figure size 400x200 with 1 Axes>"
      ]
     },
     "metadata": {},
     "output_type": "display_data"
    }
   ],
   "source": [
    "df.plot(kind = 'bar',ylabel = 'MAE', figsize = [4,2])\n"
   ]
  },
  {
   "cell_type": "code",
   "execution_count": 66,
   "id": "82eaf865",
   "metadata": {},
   "outputs": [],
   "source": [
    "final = time.time()\n"
   ]
  },
  {
   "cell_type": "code",
   "execution_count": 67,
   "id": "7a981662",
   "metadata": {},
   "outputs": [
    {
     "name": "stdout",
     "output_type": "stream",
     "text": [
      "TenDaysForecastModel done in 0.8754562497138977 min\n"
     ]
    }
   ],
   "source": [
    "print(f\"TenDaysForecastModel done in {(final-init)/60} min\")"
   ]
  },
  {
   "cell_type": "code",
   "execution_count": 68,
   "id": "d0486512",
   "metadata": {},
   "outputs": [
    {
     "data": {
      "text/plain": [
       "1070"
      ]
     },
     "execution_count": 68,
     "metadata": {},
     "output_type": "execute_result"
    }
   ],
   "source": [
    "gc.collect()\n"
   ]
  },
  {
   "cell_type": "code",
   "execution_count": null,
   "id": "5026d5a2",
   "metadata": {},
   "outputs": [],
   "source": []
  },
  {
   "cell_type": "code",
   "execution_count": null,
   "id": "a3c65170",
   "metadata": {},
   "outputs": [],
   "source": [
    "\n"
   ]
  },
  {
   "cell_type": "code",
   "execution_count": null,
   "id": "7b08b5be",
   "metadata": {},
   "outputs": [],
   "source": []
  },
  {
   "cell_type": "code",
   "execution_count": null,
   "id": "513eeff2",
   "metadata": {},
   "outputs": [],
   "source": []
  },
  {
   "cell_type": "code",
   "execution_count": null,
   "id": "e74dfba2",
   "metadata": {},
   "outputs": [],
   "source": []
  }
 ],
 "metadata": {
  "kernelspec": {
   "display_name": "Python 3 (ipykernel)",
   "language": "python",
   "name": "python3"
  },
  "language_info": {
   "codemirror_mode": {
    "name": "ipython",
    "version": 3
   },
   "file_extension": ".py",
   "mimetype": "text/x-python",
   "name": "python",
   "nbconvert_exporter": "python",
   "pygments_lexer": "ipython3",
   "version": "3.11.5"
  }
 },
 "nbformat": 4,
 "nbformat_minor": 5
}
